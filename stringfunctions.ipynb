{
 "cells": [
  {
   "cell_type": "code",
   "execution_count": 7,
   "id": "fdb22193-cf3f-4351-84b5-c2318a8680e6",
   "metadata": {
    "tags": []
   },
   "outputs": [
    {
     "name": "stdout",
     "output_type": "stream",
     "text": [
      "3\n",
      "1\n",
      "0\n"
     ]
    }
   ],
   "source": [
    "# count operation\n",
    "\n",
    "string = \"Celebrate\"\n",
    "print(string.count('e'))\n",
    "print(string.count('e',4)) # starting index to search\n",
    "print(string.count('e',4,7))"
   ]
  },
  {
   "cell_type": "code",
   "execution_count": 9,
   "id": "75413ff2-581f-422e-becf-59fc588cfcdb",
   "metadata": {
    "tags": []
   },
   "outputs": [
    {
     "name": "stdout",
     "output_type": "stream",
     "text": [
      "*******Python*******\n"
     ]
    }
   ],
   "source": [
    "# center operation\n",
    "\n",
    "s1 = \"Python\"\n",
    "print(s1.center(20,'*'))"
   ]
  },
  {
   "cell_type": "code",
   "execution_count": 13,
   "id": "eef26481-d8d9-46ca-96a8-a087b3432981",
   "metadata": {
    "tags": []
   },
   "outputs": [
    {
     "name": "stdout",
     "output_type": "stream",
     "text": [
      "b'My name is Sam'\n"
     ]
    }
   ],
   "source": [
    "# encode\n",
    "\n",
    "txt = \"My name is Sam\"\n",
    "x = txt.encode() # default: encoding ='UTF-8/UTF-16, UTF-32\n",
    "print(x)"
   ]
  },
  {
   "cell_type": "code",
   "execution_count": 15,
   "id": "6a5d9857-ff0f-4722-8e7d-83e466a551ed",
   "metadata": {
    "tags": []
   },
   "outputs": [
    {
     "name": "stdout",
     "output_type": "stream",
     "text": [
      "True\n",
      "False\n",
      "True\n"
     ]
    }
   ],
   "source": [
    "# endswith\n",
    "\n",
    "print(txt.endswith('m'))\n",
    "print(txt.endswith('m',1,4)) # includes spaces\n",
    "print(txt.endswith('m',1,6))"
   ]
  },
  {
   "cell_type": "code",
   "execution_count": 17,
   "id": "c9cfa2e9-cf30-4c1d-b5b3-af8170632c17",
   "metadata": {
    "tags": []
   },
   "outputs": [
    {
     "name": "stdout",
     "output_type": "stream",
     "text": [
      "True\n",
      "True\n"
     ]
    }
   ],
   "source": [
    "# startswith\n",
    "\n",
    "print(txt.startswith('M'))\n",
    "print(txt.startswith('S',11))"
   ]
  },
  {
   "cell_type": "code",
   "execution_count": 19,
   "id": "4b095d80-2112-478c-b108-1c8cc51108df",
   "metadata": {
    "tags": []
   },
   "outputs": [
    {
     "name": "stdout",
     "output_type": "stream",
     "text": [
      "wINDOwS\n"
     ]
    }
   ],
   "source": [
    "# swapcase\n",
    "\n",
    "print('WindoWs'.swapcase())"
   ]
  },
  {
   "cell_type": "code",
   "execution_count": 21,
   "id": "425ed8eb-c364-42f5-b152-41a114492d54",
   "metadata": {
    "tags": []
   },
   "outputs": [
    {
     "name": "stdout",
     "output_type": "stream",
     "text": [
      "hello world\n"
     ]
    }
   ],
   "source": [
    "# casefold\n",
    "\n",
    "print(\"HEllo World\".casefold())"
   ]
  },
  {
   "cell_type": "code",
   "execution_count": 23,
   "id": "98b2cb7d-d463-4315-a1fa-cb480c04cd39",
   "metadata": {},
   "outputs": [
    {
     "name": "stdout",
     "output_type": "stream",
     "text": [
      "How are you\n"
     ]
    }
   ],
   "source": [
    "# captalize\n",
    "\n",
    "print(\"how are you\".capitalize())"
   ]
  },
  {
   "cell_type": "code",
   "execution_count": 25,
   "id": "89a04b05-b4aa-4525-9507-ecc350b03565",
   "metadata": {
    "tags": []
   },
   "outputs": [
    {
     "name": "stdout",
     "output_type": "stream",
     "text": [
      "How Are You\n"
     ]
    }
   ],
   "source": [
    "# title\n",
    "\n",
    "print(\"how are you\".title())"
   ]
  },
  {
   "cell_type": "code",
   "execution_count": 27,
   "id": "f524fda7-f4ea-4c40-9e20-b50841e17f55",
   "metadata": {},
   "outputs": [
    {
     "name": "stdout",
     "output_type": "stream",
     "text": [
      "H E L L O\n",
      "H   e   l   l   o\n"
     ]
    }
   ],
   "source": [
    "# expandtab\n",
    "\n",
    "t = \"H\\te\\tl\\tl\\to\"\n",
    "T = \"H E L L O\"\n",
    "x = t.expandtabs(4)  # 4 represents the size of the tab in the o/p\n",
    "print(T)\n",
    "print(x)"
   ]
  },
  {
   "cell_type": "code",
   "execution_count": 29,
   "id": "8b026e8b-b784-46c4-a038-5174ef691485",
   "metadata": {},
   "outputs": [
    {
     "name": "stdout",
     "output_type": "stream",
     "text": [
      "The sum of  12  and  30  is: 42\n",
      "The sum of 12 and 30 is :  42\n",
      "The sum of 12 and 30 is :  42\n",
      "The product of 12 and 23 : 276\n"
     ]
    }
   ],
   "source": [
    "# .format() method\n",
    "\n",
    "a = 12\n",
    "b = 30\n",
    "c = a+b\n",
    "print(\"The sum of \",a,\" and \",b,\" is:\",c)\n",
    "print(\"The sum of {0} and {1} is :  {2}\".format(a,b,c))\n",
    "print(\"The sum of {} and {} is :  {}\".format(a,b,c))\n",
    "\n",
    "x = 12\n",
    "y = 23\n",
    "z = x*y\n",
    "print(\"The product of {0} and {1} : {2}\".format(x,y,z)) # returns the variables"
   ]
  },
  {
   "cell_type": "code",
   "execution_count": 33,
   "id": "e03a7304-2901-431f-a8c0-df504611c1ea",
   "metadata": {
    "tags": []
   },
   "outputs": [
    {
     "name": "stdout",
     "output_type": "stream",
     "text": [
      "Barry is an Engineer and he is 30 years old\n"
     ]
    }
   ],
   "source": [
    "# format_map\n",
    "\n",
    "professions = {'name':['Barry','Bruce'],'profession':['Engineer','Doctor'],'age':[30,32]}\n",
    "print(\"{name[0]} is an {profession[0]} and he is {age[0]} years old\".format_map(professions)) # returns dictionary name"
   ]
  },
  {
   "cell_type": "code",
   "execution_count": 37,
   "id": "c6fb51c9-00c0-4c5c-97ec-6faceae10416",
   "metadata": {
    "tags": []
   },
   "outputs": [
    {
     "name": "stdout",
     "output_type": "stream",
     "text": [
      "7\n",
      "-1\n",
      "10\n"
     ]
    }
   ],
   "source": [
    "# find()\n",
    "\n",
    "t1 = \"Hello, welcome to my world\"\n",
    "print(t1.find(\"welcome\")) # returns index positon\n",
    "print(t1.find(\"welcome\",3,6))\n",
    "print(t1.find(\"come\",8,15))"
   ]
  },
  {
   "cell_type": "code",
   "execution_count": 39,
   "id": "9ce230d0-70da-453b-86de-3f49467ff0c9",
   "metadata": {},
   "outputs": [
    {
     "name": "stdout",
     "output_type": "stream",
     "text": [
      "0\n",
      "22\n"
     ]
    }
   ],
   "source": [
    "# rfind\n",
    "\n",
    "t = \"the last occurence of the specified value\"\n",
    "print(t.find(\"the\"))\n",
    "print(t.rfind(\"the\"))"
   ]
  },
  {
   "cell_type": "code",
   "execution_count": 41,
   "id": "bfa3c309-0b7c-4814-b28f-9cba523d8640",
   "metadata": {},
   "outputs": [
    {
     "name": "stdout",
     "output_type": "stream",
     "text": [
      "0\n",
      "22\n"
     ]
    }
   ],
   "source": [
    "# index\n",
    "\n",
    "t = \"the last occurence of the specified value\"\n",
    "print(t.index(\"the\"))\n",
    "print(t.rindex(\"the\"))"
   ]
  },
  {
   "cell_type": "code",
   "execution_count": 51,
   "id": "4581166c-856c-449a-a2c1-df83ce9ddace",
   "metadata": {
    "tags": []
   },
   "outputs": [
    {
     "name": "stdout",
     "output_type": "stream",
     "text": [
      "True\n",
      "False\n"
     ]
    }
   ],
   "source": [
    "# isalnum() checks whether it is alphanumeric\n",
    "\n",
    "z = \"ram6\"\n",
    "print(z.isalnum())\n",
    "\n",
    "txt = \"Company 12\"\n",
    "print(txt.isalnum()) # return true or false"
   ]
  },
  {
   "cell_type": "code",
   "execution_count": 53,
   "id": "6905d46d-9d44-4cdc-ad9d-f827bcfdf763",
   "metadata": {
    "tags": []
   },
   "outputs": [
    {
     "name": "stdout",
     "output_type": "stream",
     "text": [
      "False\n"
     ]
    }
   ],
   "source": [
    "# isalpha() checks whether all are alphabets\n",
    "\n",
    "txt1 = \"Company12\"\n",
    "print(txt1.isalpha())"
   ]
  },
  {
   "cell_type": "code",
   "execution_count": 55,
   "id": "22bc56fa-7e92-4800-bfeb-6a00772339dd",
   "metadata": {},
   "outputs": [
    {
     "name": "stdout",
     "output_type": "stream",
     "text": [
      "True\n",
      "True\n",
      "False\n",
      "False\n"
     ]
    }
   ],
   "source": [
    "# isnumeric()\n",
    "\n",
    "a = \"\\u0030\" #unicode for 0\n",
    "b = \"\\u00B2\" #unicode for &sup2;\n",
    "c = \"10km2\"\n",
    "d = \"-1\"\n",
    "print(a.isnumeric())\n",
    "print(b.isnumeric())\n",
    "print(c.isnumeric()) # all not numeric\n",
    "print(d.isnumeric()) # negative"
   ]
  },
  {
   "cell_type": "code",
   "execution_count": 57,
   "id": "82ef23a5-b1d8-4c56-bbed-20bf515a3369",
   "metadata": {
    "tags": []
   },
   "outputs": [
    {
     "name": "stdout",
     "output_type": "stream",
     "text": [
      "True\n",
      "True\n"
     ]
    }
   ],
   "source": [
    "# isdigit()\n",
    "\n",
    "a = \"\\u0030\" # unicode for 0\n",
    "b = \"\\u00B2\" # unicode for ²\n",
    "print(a.isdigit())\n",
    "print(b.isdigit())"
   ]
  },
  {
   "cell_type": "code",
   "execution_count": 59,
   "id": "4c2c5527-2e24-4b7d-8605-5549031dbb77",
   "metadata": {
    "tags": []
   },
   "outputs": [
    {
     "name": "stdout",
     "output_type": "stream",
     "text": [
      "False\n",
      "True\n"
     ]
    }
   ],
   "source": [
    "# islower() isupper() checks whether it is lower or upper case\n",
    "\n",
    "x = \"HELLO WORLD\"\n",
    "print(x.islower())\n",
    "print(x.isupper())"
   ]
  },
  {
   "cell_type": "code",
   "execution_count": 65,
   "id": "8fa3d742-e321-4984-b4c3-fc4ca83f9f45",
   "metadata": {
    "tags": []
   },
   "outputs": [
    {
     "name": "stdout",
     "output_type": "stream",
     "text": [
      "False\n",
      "hello\n",
      "ram\n",
      "True\n"
     ]
    }
   ],
   "source": [
    "# isprintable()\n",
    "\n",
    "print(\"hello\\nram\".isprintable()) # false as \\n is not printable\n",
    "print(\"hello\\nram\")\n",
    "print('hello'.isprintable())"
   ]
  },
  {
   "cell_type": "code",
   "execution_count": 69,
   "id": "6f763623-7aa0-41f7-84db-4af4f5738a7c",
   "metadata": {
    "tags": []
   },
   "outputs": [
    {
     "name": "stdout",
     "output_type": "stream",
     "text": [
      "False\n",
      "True\n"
     ]
    }
   ],
   "source": [
    "# isspace() checks the character is whitespaces\n",
    "\n",
    "x = \"HELLO WORLD\"\n",
    "y = \"  \"\n",
    "print(x.isspace())\n",
    "print(y.isspace())"
   ]
  },
  {
   "cell_type": "code",
   "execution_count": 75,
   "id": "ad7a767b-4e5f-4123-aaaa-2aadfd77dc77",
   "metadata": {
    "tags": []
   },
   "outputs": [
    {
     "name": "stdout",
     "output_type": "stream",
     "text": [
      "True\n"
     ]
    }
   ],
   "source": [
    "# istitle() checks each word starts with upper case\n",
    "\n",
    "print(\"Check Whether This Is A Title\".istitle())"
   ]
  },
  {
   "cell_type": "code",
   "execution_count": 77,
   "id": "6787727a-54e5-4110-a437-0f67fbe0ae0d",
   "metadata": {
    "tags": []
   },
   "outputs": [
    {
     "name": "stdout",
     "output_type": "stream",
     "text": [
      "a TEST b TEST c\n"
     ]
    }
   ],
   "source": [
    "# join() mapping is done with a separator\n",
    "\n",
    "mySeparator = \" TEST \"\n",
    "mytup = ('a','b','c')\n",
    "print(mySeparator.join(mytup))"
   ]
  },
  {
   "cell_type": "code",
   "execution_count": 79,
   "id": "d5396c8c-9424-4bf9-9127-0d76f1740291",
   "metadata": {
    "tags": []
   },
   "outputs": [
    {
     "name": "stdout",
     "output_type": "stream",
     "text": [
      "Simple00000000000000\n"
     ]
    }
   ],
   "source": [
    "# ljust() aligns left\n",
    "\n",
    "txt = 'Simple'\n",
    "print(txt.ljust(20,'0'))"
   ]
  },
  {
   "cell_type": "code",
   "execution_count": 81,
   "id": "1b487690-fa30-490f-a7d1-9e62076df476",
   "metadata": {
    "tags": []
   },
   "outputs": [
    {
     "name": "stdout",
     "output_type": "stream",
     "text": [
      "****Simple\n"
     ]
    }
   ],
   "source": [
    "# rjust() aligns right\n",
    "\n",
    "print(txt.rjust(10,'*'))"
   ]
  },
  {
   "cell_type": "code",
   "execution_count": 83,
   "id": "abf59e9f-0779-4c2c-8d7b-95368e4feecb",
   "metadata": {
    "tags": []
   },
   "outputs": [
    {
     "name": "stdout",
     "output_type": "stream",
     "text": [
      "simple\n",
      "SIMPLE\n"
     ]
    }
   ],
   "source": [
    "# lower() & upper() coverts into upper or lower case\n",
    "\n",
    "print(txt.lower())\n",
    "print(txt.upper())"
   ]
  },
  {
   "cell_type": "code",
   "execution_count": 85,
   "id": "8f78cf91-0de5-433e-b532-fbdf7bde8e52",
   "metadata": {
    "tags": []
   },
   "outputs": [
    {
     "name": "stdout",
     "output_type": "stream",
     "text": [
      ",,,Hi...how...are...you\n",
      "Hi...how...are...you,,,,\n",
      "Hi...how...are...you\n"
     ]
    }
   ],
   "source": [
    "# rstrip(), lstrip() & strip()\n",
    "\n",
    "print(',,,Hi...how...are...you,,,,'.rstrip(',')) # removes trailing characters\n",
    "print(',,,Hi...how...are...you,,,,'.lstrip(',')) # removes leading characters\n",
    "print(',,,Hi...how...are...you,,,,'.strip(',')) # removes both leading and trailing characters"
   ]
  },
  {
   "cell_type": "code",
   "execution_count": 87,
   "id": "2ce12583-b196-447a-9e65-9752e18fcd6f",
   "metadata": {
    "tags": []
   },
   "outputs": [
    {
     "name": "stdout",
     "output_type": "stream",
     "text": [
      "('Th', 'is', ' is a partition statement')\n",
      "('This is a partition statement', '', '')\n",
      "('This ', 'is', ' a partition statement')\n"
     ]
    }
   ],
   "source": [
    "# partition() & rpartition() searches for the specified string and splits into tuples\n",
    "\n",
    "txt = \"This is a partition statement\"\n",
    "print(txt.partition('is')) #splits into 3 in the first occurence of the string\n",
    "print(txt.partition('k')) #splits into 3 and remaining empty as the character not found\n",
    "print(txt.rpartition('is'))#last occurence"
   ]
  },
  {
   "cell_type": "code",
   "execution_count": 89,
   "id": "c68e5903-a03f-4c0f-9e7d-cf18e152d4d1",
   "metadata": {
    "tags": []
   },
   "outputs": [
    {
     "name": "stdout",
     "output_type": "stream",
     "text": [
      "Thas as a replace statement \n",
      "Thas is a replace statement \n"
     ]
    }
   ],
   "source": [
    "# replace() replace the character\n",
    "\n",
    "txt = \"This is a replace statement \"\n",
    "print(txt.replace('is','as'))\n",
    "print(txt.replace('is','as',1)) #replace only 1 occurence"
   ]
  },
  {
   "cell_type": "code",
   "execution_count": 91,
   "id": "df4a413c-1463-40dd-9b6f-274d21a7aa22",
   "metadata": {
    "tags": []
   },
   "outputs": [
    {
     "name": "stdout",
     "output_type": "stream",
     "text": [
      "{83: 80, 97: 101, 108: 116}\n"
     ]
    }
   ],
   "source": [
    "# maketrans()\n",
    "\n",
    "txt = \"Hello Sam!\" # specify strings to be replaced\n",
    "mytable1 = txt.maketrans(\"Sal\", \"Pet\")\n",
    "print(mytable1)"
   ]
  },
  {
   "cell_type": "code",
   "execution_count": 93,
   "id": "e2004c21-b5f9-45e2-b495-6593264a7216",
   "metadata": {
    "tags": []
   },
   "outputs": [
    {
     "name": "stdout",
     "output_type": "stream",
     "text": [
      "{83: 'P', 97: 'e'}\n",
      "{83: 80, 97: 101, 109: 116, 72: None}\n"
     ]
    }
   ],
   "source": [
    "# Replacement by dictionary\n",
    "\n",
    "mytable2 = txt.maketrans({'S':'P', 'a':'e'})\n",
    "mytable3 = txt.maketrans(\"Sam\", \"Pet\",\"H\")\n",
    "print(mytable2)\n",
    "print(mytable3)"
   ]
  },
  {
   "cell_type": "code",
   "execution_count": 95,
   "id": "89c256cc-04e1-499f-a821-e3d9189f71db",
   "metadata": {
    "tags": []
   },
   "outputs": [
    {
     "name": "stdout",
     "output_type": "stream",
     "text": [
      "Hetto Pem!\n",
      "Hello Pem!\n",
      "ello Pet!\n"
     ]
    }
   ],
   "source": [
    "# translate()\n",
    "\n",
    "print(txt.translate(mytable1))\n",
    "print(txt.translate(mytable2))\n",
    "print(txt.translate(mytable3))"
   ]
  },
  {
   "cell_type": "code",
   "execution_count": 97,
   "id": "45f86092-dc54-4008-ac14-0aced0fc2467",
   "metadata": {
    "tags": []
   },
   "outputs": [
    {
     "name": "stdout",
     "output_type": "stream",
     "text": [
      "['Hello', 'I am Peter', 'I am 26 years old']\n",
      "['Hello', ' I am Peter, I am 26 years old']\n"
     ]
    }
   ],
   "source": [
    "# split() splits at specified character into list\n",
    "\n",
    "txt = \"Hello, I am Peter, I am 26 years old\"\n",
    "print(txt.split(\", \"))\n",
    "print(txt.split(',',1))"
   ]
  },
  {
   "cell_type": "code",
   "execution_count": 99,
   "id": "30333187-d294-43ba-9b51-ced3437156c4",
   "metadata": {},
   "outputs": [
    {
     "name": "stdout",
     "output_type": "stream",
     "text": [
      "Hello, I am Peter \n",
      "I am 26 years old\n",
      "['Hello, I am Peter ', 'I am 26 years old']\n"
     ]
    }
   ],
   "source": [
    "# splitlines() splits at the line break\n",
    "\n",
    "txt = \"Hello, I am Peter \\nI am 26 years old\"\n",
    "print(txt)\n",
    "print(txt.splitlines())"
   ]
  },
  {
   "cell_type": "code",
   "execution_count": 101,
   "id": "d58acaf8-91d8-44ba-8005-832772650663",
   "metadata": {},
   "outputs": [
    {
     "name": "stdout",
     "output_type": "stream",
     "text": [
      "00000000Hello, I am Peter\n"
     ]
    }
   ],
   "source": [
    "# zfill() add zeroes in the biginning of the string to fill the postion\n",
    "\n",
    "txt = \"Hello, I am Peter\"\n",
    "print(txt.zfill(25))"
   ]
  },
  {
   "cell_type": "code",
   "execution_count": 113,
   "id": "a8b3175f-9224-47eb-add8-a5a04da65ec8",
   "metadata": {},
   "outputs": [
    {
     "data": {
      "text/plain": [
       "True"
      ]
     },
     "execution_count": 113,
     "metadata": {},
     "output_type": "execute_result"
    }
   ],
   "source": [
    "txt = \"Demo\"\n",
    "txt.isidentifier()"
   ]
  },
  {
   "cell_type": "code",
   "execution_count": 117,
   "id": "a0fbb495-7cf6-470a-aee1-61650a89239e",
   "metadata": {
    "tags": []
   },
   "outputs": [
    {
     "name": "stdin",
     "output_type": "stream",
     "text": [
      "Number of subjects: 3\n",
      "Enter the Science mark: 34\n",
      "Enter the English mark: 76\n",
      "Enter the Maths mark: 54\n"
     ]
    },
    {
     "name": "stdout",
     "output_type": "stream",
     "text": [
      "Bengali 54\n",
      "English 76\n",
      "Math 54\n"
     ]
    }
   ],
   "source": [
    "n = int(input(\"Number of subjects:\"))\n",
    "Science = input(\"Enter the Science mark:\")\n",
    "English = input(\"Enter the English mark:\")\n",
    "Math = input(\"Enter the Maths mark:\")\n",
    "print(f\"Science {Science} \\n English {English} \\n Math {Math}\")"
   ]
  },
  {
   "cell_type": "code",
   "execution_count": 132,
   "id": "d6fd5579-8b26-4b72-926a-80649773da0b",
   "metadata": {},
   "outputs": [
    {
     "name": "stdout",
     "output_type": "stream",
     "text": [
      "The length of the string is: 13\n"
     ]
    }
   ],
   "source": [
    "string = \"Hello, World!\"\n",
    "length = len(string)\n",
    "print(\"The length of the string is:\", length)"
   ]
  },
  {
   "cell_type": "code",
   "execution_count": 134,
   "id": "b255bd6c-88f4-48f4-bee2-85b8473baceb",
   "metadata": {},
   "outputs": [
    {
     "name": "stdout",
     "output_type": "stream",
     "text": [
      "Number of vowels: 3\n"
     ]
    }
   ],
   "source": [
    "def count_vowels(input_string):\n",
    "    vowels = \"aeiouAEIOU\"\n",
    "    vowel_count = 0\n",
    "    for char in input_string:\n",
    "        if char in vowels:\n",
    "            vowel_count += 1\n",
    "    return vowel_count\n",
    "input_string = \"Hello, World!\"\n",
    "print(\"Number of vowels:\", count_vowels(input_string))"
   ]
  },
  {
   "cell_type": "code",
   "execution_count": 136,
   "id": "93eed600-c8c0-4819-b71b-247d08dae708",
   "metadata": {},
   "outputs": [
    {
     "name": "stdout",
     "output_type": "stream",
     "text": [
      "Concatenated string: Hello, World!\n"
     ]
    }
   ],
   "source": [
    "def concatenate_strings(string1, string2):\n",
    "    result = string1 + string2\n",
    "    return result\n",
    "string1 = \"Hello, \"\n",
    "string2 = \"World!\"\n",
    "print(\"Concatenated string:\", concatenate_strings(string1, string2))"
   ]
  },
  {
   "cell_type": "code",
   "execution_count": 140,
   "id": "994a0216-9074-4f98-8a49-350ba571cdd4",
   "metadata": {},
   "outputs": [
    {
     "name": "stdout",
     "output_type": "stream",
     "text": [
      "Length of the string: 8\n"
     ]
    }
   ],
   "source": [
    "def string_length(input_string):\n",
    "    return len(input_string)\n",
    "input_string = \"Welcome!\"\n",
    "print(\"Length of the string:\", string_length(input_string))"
   ]
  },
  {
   "cell_type": "code",
   "execution_count": 142,
   "id": "6098fa71-6870-400e-ade6-a991022e8700",
   "metadata": {},
   "outputs": [
    {
     "name": "stdout",
     "output_type": "stream",
     "text": [
      "Capitalized string: Hello, world!\n"
     ]
    }
   ],
   "source": [
    "def capitalize_first_character(input_string):\n",
    "    return input_string.capitalize()\n",
    "input_string = \"hello, world!\"\n",
    "print(\"Capitalized string:\", capitalize_first_character(input_string))"
   ]
  },
  {
   "cell_type": "code",
   "execution_count": 144,
   "id": "5e01f377-7cd8-4b24-b7aa-a4534ff39758",
   "metadata": {},
   "outputs": [
    {
     "name": "stdout",
     "output_type": "stream",
     "text": [
      "Uppercase string: HELLO WORLD\n"
     ]
    }
   ],
   "source": [
    "string = \"hello world\"\n",
    "uppercase_string = string.upper()\n",
    "print(\"Uppercase string:\", uppercase_string)"
   ]
  },
  {
   "cell_type": "code",
   "execution_count": 146,
   "id": "3f5fad92-9006-440d-a8b8-793d2d1de621",
   "metadata": {},
   "outputs": [
    {
     "name": "stdout",
     "output_type": "stream",
     "text": [
      "'madam' is a palindrome.\n"
     ]
    }
   ],
   "source": [
    "# Python program to check if a string is a palindrome\n",
    "\n",
    "def is_palindrome(input_string):\n",
    "    cleaned_string = input_string.replace(\" \", \"\").lower()\n",
    "    return cleaned_string == cleaned_string[::-1]\n",
    "input_string = \"madam\"\n",
    "if is_palindrome(input_string):\n",
    "    print(f\"'{input_string}' is a palindrome.\")\n",
    "else:\n",
    "    print(f\"'{input_string}' is not a palindrome.\")"
   ]
  },
  {
   "cell_type": "code",
   "execution_count": 148,
   "id": "4ef0d869-b732-485c-b27f-facd0311101b",
   "metadata": {},
   "outputs": [
    {
     "name": "stdout",
     "output_type": "stream",
     "text": [
      "Reversed words: Python from World Hello\n"
     ]
    }
   ],
   "source": [
    "# Python program to reverse words in a string\n",
    "\n",
    "def reverse_words(input_string):\n",
    "    words = input_string.split()\n",
    "    reversed_words = words[::-1]\n",
    "    reversed_string = \" \".join(reversed_words)\n",
    "    return reversed_string\n",
    "input_string = \"Hello World from Python\"\n",
    "print(\"Reversed words:\", reverse_words(input_string))"
   ]
  },
  {
   "cell_type": "code",
   "execution_count": 150,
   "id": "6f71953f-489d-4afa-9cee-030268978db8",
   "metadata": {},
   "outputs": [
    {
     "name": "stdout",
     "output_type": "stream",
     "text": [
      "Length using len(): 13\n"
     ]
    }
   ],
   "source": [
    "string = \"Hello, World!\"\n",
    "length = len(string)\n",
    "print(\"Length using len():\", length)"
   ]
  },
  {
   "cell_type": "code",
   "execution_count": 152,
   "id": "cbb9443d-b03b-402e-a4b7-db00950c9654",
   "metadata": {},
   "outputs": [
    {
     "name": "stdout",
     "output_type": "stream",
     "text": [
      "Length using loop: 13\n"
     ]
    }
   ],
   "source": [
    "string = \"Hello, World!\"\n",
    "length = 0\n",
    "for char in string:\n",
    "    length += 1\n",
    "print(\"Length using loop:\", length)"
   ]
  },
  {
   "cell_type": "code",
   "execution_count": 156,
   "id": "74820331-e065-4fcf-84de-8d2f046af975",
   "metadata": {},
   "outputs": [
    {
     "name": "stdout",
     "output_type": "stream",
     "text": [
      "Length using recursion: 13\n"
     ]
    }
   ],
   "source": [
    "def recursive_length(s):\n",
    "    if s == \"\":\n",
    "        return 0\n",
    "    else:\n",
    "        return 1 + recursive_length(s[1:])\n",
    "string = \"Hello, World!\"\n",
    "length = recursive_length(string)\n",
    "print(\"Length using recursion:\", length)"
   ]
  },
  {
   "cell_type": "code",
   "execution_count": 160,
   "id": "8df746c9-fae4-458e-9983-29dcb2bbfcf9",
   "metadata": {},
   "outputs": [
    {
     "name": "stdout",
     "output_type": "stream",
     "text": [
      "Length using str.count(): 13\n"
     ]
    }
   ],
   "source": [
    "string = \"Hello, World!\"\n",
    "length = string.count('') - 1 \n",
    "print(\"Length using str.count():\", length)"
   ]
  },
  {
   "cell_type": "code",
   "execution_count": 162,
   "id": "806e2225-dbc3-4e81-9dfb-d0de1bbaa192",
   "metadata": {},
   "outputs": [
    {
     "name": "stdout",
     "output_type": "stream",
     "text": [
      "'Hello' length: 5\n",
      "'World' length: 5\n",
      "'from' length: 4\n",
      "'Python' length: 6\n"
     ]
    }
   ],
   "source": [
    "# Python program to print the length of each word in a string\n",
    "\n",
    "def print_word_lengths(input_string):\n",
    "    words = input_string.split()\n",
    "    for word in words:\n",
    "        print(f\"'{word}' length: {len(word)}\")\n",
    "input_string = \"Hello World from Python\"\n",
    "print_word_lengths(input_string)"
   ]
  },
  {
   "cell_type": "code",
   "execution_count": 164,
   "id": "f144a910-266b-4e73-a569-6fea6124d409",
   "metadata": {},
   "outputs": [
    {
     "name": "stdout",
     "output_type": "stream",
     "text": [
      "Uppercase string: HELLO, WORLD!\n"
     ]
    }
   ],
   "source": [
    "# Python program to convert a string to uppercase\n",
    "\n",
    "def convert_to_uppercase(input_string):\n",
    "    uppercase_string = input_string.upper()\n",
    "    return uppercase_string\n",
    "input_string = \"Hello, World!\"\n",
    "result = convert_to_uppercase(input_string)\n",
    "print(\"Uppercase string:\", result)"
   ]
  },
  {
   "cell_type": "code",
   "execution_count": 166,
   "id": "653bfb72-1719-46f7-9486-25848d9c51d0",
   "metadata": {},
   "outputs": [
    {
     "name": "stdout",
     "output_type": "stream",
     "text": [
      "Modified string: HellO WorlD FroM PythoN\n"
     ]
    }
   ],
   "source": [
    "# Python program to capitalize the first and last character of each word\n",
    "\n",
    "def capitalize_first_and_last(input_string):\n",
    "    modified_words = [\n",
    "        word[0].upper() + word[1:-1] + word[-1].upper() if len(word) > 1 else word.upper()\n",
    "        for word in input_string.split()\n",
    "    ]\n",
    "    return ' '.join(modified_words)\n",
    "input_string = \"hello world from python\"\n",
    "result = capitalize_first_and_last(input_string)\n",
    "print(\"Modified string:\", result)"
   ]
  },
  {
   "cell_type": "code",
   "execution_count": 168,
   "id": "f9acc388-a3c7-4854-a63f-3e90a8670e4f",
   "metadata": {},
   "outputs": [
    {
     "name": "stdout",
     "output_type": "stream",
     "text": [
      "The string has at least one letter and one number.\n"
     ]
    }
   ],
   "source": [
    "# Python program to check if a string has at least one letter and one number\n",
    "\n",
    "def has_letter_and_number(input_string):\n",
    "    has_letter = any(char.isalpha() for char in input_string)\n",
    "    has_number = any(char.isdigit() for char in input_string)\n",
    "    return has_letter and has_number\n",
    "input_string = \"Hello123\"\n",
    "if has_letter_and_number(input_string):\n",
    "    print(\"The string has at least one letter and one number.\")\n",
    "else:\n",
    "    print(\"The string does not have both a letter and a number.\")"
   ]
  },
  {
   "cell_type": "code",
   "execution_count": 170,
   "id": "2cc8b24f-b92b-4fb0-8134-7ced67ff2b6d",
   "metadata": {},
   "outputs": [
    {
     "name": "stdout",
     "output_type": "stream",
     "text": [
      "The string 'Education' contains all vowels.\n"
     ]
    }
   ],
   "source": [
    "# Python program to check if a string contains all vowels\n",
    "\n",
    "def contains_all_vowels(input_string):\n",
    "    vowels = set('aeiou')\n",
    "    input_set = set(input_string.lower())\n",
    "    return vowels.issubset(input_set)\n",
    "input_string = \"Education\"\n",
    "if contains_all_vowels(input_string):\n",
    "    print(f\"The string '{input_string}' contains all vowels.\")\n",
    "else:\n",
    "    print(f\"The string '{input_string}' does not contain all vowels.\")"
   ]
  },
  {
   "cell_type": "code",
   "execution_count": 172,
   "id": "45272de4-1d17-4076-8e0d-774162b2c50d",
   "metadata": {},
   "outputs": [
    {
     "name": "stdout",
     "output_type": "stream",
     "text": [
      "Number of matching characters: 2\n"
     ]
    }
   ],
   "source": [
    "# Python program to count the number of matching characters in two strings\n",
    "\n",
    "def count_matching_characters(str1, str2):\n",
    "    set1 = set(str1)\n",
    "    set2 = set(str2)\n",
    "    matching_characters = set1.intersection(set2)\n",
    "    return len(matching_characters)\n",
    "string1 = \"hello\"\n",
    "string2 = \"world\"\n",
    "matching_count = count_matching_characters(string1, string2)\n",
    "print(f\"Number of matching characters: {matching_count}\")"
   ]
  },
  {
   "cell_type": "code",
   "execution_count": 174,
   "id": "9f481d46-ba29-41b8-9909-96de28e7894a",
   "metadata": {},
   "outputs": [
    {
     "name": "stdout",
     "output_type": "stream",
     "text": [
      "Number of unique vowels in the string: 2\n"
     ]
    }
   ],
   "source": [
    "# Python program to count the number of vowels in a string using sets\n",
    "\n",
    "def count_vowels(input_string):\n",
    "    vowels = set('aeiouAEIOU')\n",
    "    input_set = set(input_string)\n",
    "    vowel_count = sum(1 for char in input_set if char in vowels)\n",
    "    return vowel_count\n",
    "input_string = \"Hello, World!\"\n",
    "vowel_count = count_vowels(input_string)\n",
    "print(f\"Number of unique vowels in the string: {vowel_count}\")"
   ]
  },
  {
   "cell_type": "code",
   "execution_count": 176,
   "id": "efd47d7c-76e4-4d3b-8cce-4d386056136b",
   "metadata": {},
   "outputs": [
    {
     "name": "stdout",
     "output_type": "stream",
     "text": [
      "String after removing duplicates: 'progamin'\n"
     ]
    }
   ],
   "source": [
    "# Python program to remove duplicates from a string\n",
    "\n",
    "def remove_duplicates(input_string):\n",
    "    return ''.join(dict.fromkeys(input_string))\n",
    "input_string = \"programming\"\n",
    "result = remove_duplicates(input_string)\n",
    "print(f\"String after removing duplicates: '{result}'\")"
   ]
  },
  {
   "cell_type": "code",
   "execution_count": 178,
   "id": "c67208c1-980e-4630-814a-7182498a9e20",
   "metadata": {},
   "outputs": [
    {
     "name": "stdout",
     "output_type": "stream",
     "text": [
      "Least frequent character: 'h' (Count: 1)\n"
     ]
    }
   ],
   "source": [
    "# Python program to find the least frequent character in a string\n",
    "\n",
    "def least_frequent_character(input_string):\n",
    "    frequency = {}\n",
    "    for char in input_string:\n",
    "        if char != ' ': \n",
    "            frequency[char] = frequency.get(char, 0) + 1\n",
    "    least_char = min(frequency, key=frequency.get)\n",
    "    return least_char, frequency[least_char]\n",
    "input_string = \"hello world\"\n",
    "least_char, least_count = least_frequent_character(input_string)\n",
    "print(f\"Least frequent character: '{least_char}' (Count: {least_count})\")"
   ]
  },
  {
   "cell_type": "code",
   "execution_count": 180,
   "id": "98c24fcd-6e1d-4467-9533-a25fcda52576",
   "metadata": {},
   "outputs": [
    {
     "name": "stdout",
     "output_type": "stream",
     "text": [
      "Maximum frequency character: 'l' (Count: 3)\n"
     ]
    }
   ],
   "source": [
    "# Python program to find the maximum frequency character in a string\n",
    "\n",
    "def max_frequency_character(input_string):\n",
    "    frequency = {}\n",
    "    for char in input_string:\n",
    "        if char != ' ':\n",
    "            frequency[char] = frequency.get(char, 0) + 1\n",
    "    max_char = max(frequency, key=frequency.get)\n",
    "    return max_char, frequency[max_char]\n",
    "input_string = \"hello world\"\n",
    "max_char, max_count = max_frequency_character(input_string)\n",
    "print(f\"Maximum frequency character: '{max_char}' (Count: {max_count})\")"
   ]
  },
  {
   "cell_type": "code",
   "execution_count": 182,
   "id": "ca9b2f16-6a80-41cf-88fc-804940caca12",
   "metadata": {},
   "outputs": [
    {
     "name": "stdout",
     "output_type": "stream",
     "text": [
      "The string contains special characters.\n"
     ]
    }
   ],
   "source": [
    "# Python program to check if a string contains any special character\n",
    "\n",
    "def contains_special_character(input_string):\n",
    "    special_characters = \"!@#$%^&*()_+-=[]{}|;:',.<>?/`~\"\n",
    "    for char in input_string:\n",
    "        if char in special_characters:\n",
    "            return True      \n",
    "    return False\n",
    "input_string = \"Hello, World!\"\n",
    "if contains_special_character(input_string):\n",
    "    print(\"The string contains special characters.\")\n",
    "else:\n",
    "    print(\"The string does not contain special characters.\")"
   ]
  },
  {
   "cell_type": "code",
   "execution_count": 184,
   "id": "7b9d32bf-f0c6-4c31-b01a-5eb2f63271ac",
   "metadata": {},
   "outputs": [
    {
     "name": "stdout",
     "output_type": "stream",
     "text": [
      "List of words: ['Hello,', 'how', 'are', 'you', 'doing?']\n",
      "Joined string: Hello, how are you doing?\n"
     ]
    }
   ],
   "source": [
    "# Python program to split and join a string\n",
    "\n",
    "def split_and_join(input_string):\n",
    "    words = input_string.split() \n",
    "    joined_string = ' '.join(words)   \n",
    "    return words, joined_string\n",
    "input_string = \"Hello, how are you doing?\"\n",
    "words_list, joined_string = split_and_join(input_string)\n",
    "print(\"List of words:\", words_list)\n",
    "print(\"Joined string:\", joined_string)"
   ]
  },
  {
   "cell_type": "code",
   "execution_count": 186,
   "id": "16ee6016-8f70-465d-b752-731512a332ac",
   "metadata": {},
   "outputs": [
    {
     "name": "stdout",
     "output_type": "stream",
     "text": [
      "Uncommon words: ['fruit', 'apple', 'grape']\n"
     ]
    }
   ],
   "source": [
    "# Python program to find uncommon words from two strings\n",
    "\n",
    "def find_uncommon_words(str1, str2):\n",
    "    words1 = set(str1.split())\n",
    "    words2 = set(str2.split())\n",
    "    uncommon_words = (words1 - words2) | (words2 - words1)\n",
    "    return list(uncommon_words)\n",
    "string1 = \"apple banana orange\"\n",
    "string2 = \"banana grape fruit orange\"\n",
    "uncommon = find_uncommon_words(string1, string2)\n",
    "print(\"Uncommon words:\", uncommon)"
   ]
  },
  {
   "cell_type": "code",
   "execution_count": 188,
   "id": "4b80ecc4-43e1-4d03-80d2-b5b05745c3c9",
   "metadata": {},
   "outputs": [
    {
     "name": "stdout",
     "output_type": "stream",
     "text": [
      "Original string: Hello, World. This is a test, string. Have a nice day.\n",
      "Swapped string: Hello. World, This is a test. string, Have a nice day,\n"
     ]
    }
   ],
   "source": [
    "# Python program to swap commas and dots in a string\n",
    "\n",
    "def swap_commas_and_dots(input_string):\n",
    "    temp_string = input_string.replace(',', 'TEMP_COMMA')\n",
    "    temp_string = temp_string.replace('.', ',')\n",
    "    result_string = temp_string.replace('TEMP_COMMA', '.')\n",
    "    return result_string\n",
    "input_string = \"Hello, World. This is a test, string. Have a nice day.\"\n",
    "swapped_string = swap_commas_and_dots(input_string)\n",
    "print(\"Original string:\", input_string)\n",
    "print(\"Swapped string:\", swapped_string)"
   ]
  }
 ],
 "metadata": {
  "kernelspec": {
   "display_name": "Python [conda env:base] *",
   "language": "python",
   "name": "conda-base-py"
  },
  "language_info": {
   "codemirror_mode": {
    "name": "ipython",
    "version": 3
   },
   "file_extension": ".py",
   "mimetype": "text/x-python",
   "name": "python",
   "nbconvert_exporter": "python",
   "pygments_lexer": "ipython3",
   "version": "3.11.5"
  }
 },
 "nbformat": 4,
 "nbformat_minor": 5
}
