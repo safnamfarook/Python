{
 "cells": [
  {
   "cell_type": "code",
   "execution_count": 77,
   "id": "111b81ae-2070-4baa-9779-89fadb13bdd9",
   "metadata": {},
   "outputs": [
    {
     "name": "stdin",
     "output_type": "stream",
     "text": [
      "Enter a radius:  3\n"
     ]
    },
    {
     "name": "stdout",
     "output_type": "stream",
     "text": [
      "Area is 28.26\n"
     ]
    }
   ],
   "source": [
    "\"\"\" 1. Write a Python program which accepts the radius of a circle from the user and compute the area.\n",
    "Sample input: Enter the radius: 3 Sample output: Area of Circle is 28.59999999999 \"\"\"\n",
    "\n",
    "radius = int(input(\"Enter a radius: \"))\n",
    "area = 3.14*radius**2\n",
    "print ('Area is',area)"
   ]
  },
  {
   "cell_type": "code",
   "execution_count": 79,
   "id": "3b93c0a4-3030-43e7-8667-7c971dd9a9a7",
   "metadata": {},
   "outputs": [
    {
     "name": "stdin",
     "output_type": "stream",
     "text": [
      "Enter a name:  Anisha\n",
      "Enter a roll number:  21\n",
      "Enter a mark:  78\n"
     ]
    },
    {
     "name": "stdout",
     "output_type": "stream",
     "text": [
      "Name:  Anisha\n",
      "Roll Number:  21\n",
      "Mark:  78\n"
     ]
    }
   ],
   "source": [
    "\"\"\" 2. Write a Python Program to accept the details of a student like name,\n",
    "roll number and mark and display it.\n",
    "Sample input: Enter the name: Anisha Enter the roll number: 21 Enter the mark: 78\n",
    "Sample output: Name: Anisha Roll No: 21 Mark: 78 \"\"\"\n",
    "\n",
    "name = input(\"Enter a name: \")\n",
    "rollno = int(input(\"Enter a roll number: \"))\n",
    "mark = int(input(\"Enter a mark: \"))\n",
    "print (\"Name: \", name)\n",
    "print (\"Roll Number: \", rollno)\n",
    "print (\"Mark: \", mark)"
   ]
  },
  {
   "cell_type": "code",
   "execution_count": 85,
   "id": "81c3e897-77a0-44ff-ac07-ed634fd9ff01",
   "metadata": {},
   "outputs": [
    {
     "name": "stdin",
     "output_type": "stream",
     "text": [
      "Enter numbers separated by commas:  12,3,47,10\n"
     ]
    },
    {
     "name": "stdout",
     "output_type": "stream",
     "text": [
      "47 is the largest number\n"
     ]
    }
   ],
   "source": [
    "\"\"\" 3. Write a Python program to get the largest number from a list. \n",
    "Sample input: 12, 3, 47, 10 Sample output: 47 is the largest number \"\"\"\n",
    "\n",
    "n = input(\"Enter numbers separated by commas: \")\n",
    "n_list = [int(i.strip()) for i in n.split(\",\")]\n",
    "a = max(n_list)\n",
    "print (f\"{a} is the largest number\")"
   ]
  },
  {
   "cell_type": "code",
   "execution_count": 87,
   "id": "cbe10f53-3b9d-4c1d-9a65-bcd9375dc2e4",
   "metadata": {},
   "outputs": [
    {
     "name": "stdin",
     "output_type": "stream",
     "text": [
      "Enter a string:  assembly\n"
     ]
    },
    {
     "name": "stdout",
     "output_type": "stream",
     "text": [
      "a=1, s=2, e=1, m=1, b=1, l=1, y=1, "
     ]
    }
   ],
   "source": [
    "\"\"\" 4. Write a Python program to accept a string value from the user and display the count of each\n",
    "character in that string. \n",
    "Sample input: Enter a string value: assembly \n",
    "Sample output: a=1, s=2, e=1, m=1, b=1, l=1, y=1 \"\"\"\n",
    "\n",
    "text = input(\"Enter a string: \")\n",
    "char_count = {}\n",
    "for char in text:\n",
    "    if char in char_count:\n",
    "        char_count[char] += 1\n",
    "    else:\n",
    "        char_count[char] = 1\n",
    "for char, count in char_count.items():\n",
    "    print(f\"{char}={count}\", end=\", \")"
   ]
  },
  {
   "cell_type": "code",
   "execution_count": 89,
   "id": "84c8996a-3006-42a7-b59c-4b4f24f849b6",
   "metadata": {},
   "outputs": [
    {
     "name": "stdout",
     "output_type": "stream",
     "text": [
      "(44, 55)\n"
     ]
    }
   ],
   "source": [
    "\"\"\" 5. Write a Python program to copy element 44 and 55 from the following tuple into a new tuple.\n",
    "tuple1 = (11, 22, 33, 44, 55, 66) Sample output: copied_tuple = (44, 55) \"\"\"\n",
    "\n",
    "tup = (11,22,33,44,55,66)\n",
    "new_tup = tup[3],tup[4]\n",
    "print (new_tup)"
   ]
  },
  {
   "cell_type": "code",
   "execution_count": 91,
   "id": "a0d9c8f2-0b7e-44a7-b09b-327158580f4d",
   "metadata": {},
   "outputs": [
    {
     "name": "stdout",
     "output_type": "stream",
     "text": [
      "Current Number 1, Previous Number 0, Sum: 1\n",
      "Current Number 2, Previous Number 1, Sum: 3\n",
      "Current Number 3, Previous Number 2, Sum: 5\n",
      "Current Number 4, Previous Number 3, Sum: 7\n",
      "Current Number 5, Previous Number 4, Sum: 9\n",
      "Current Number 6, Previous Number 5, Sum: 11\n",
      "Current Number 7, Previous Number 6, Sum: 13\n",
      "Current Number 8, Previous Number 7, Sum: 15\n",
      "Current Number 9, Previous Number 8, Sum: 17\n",
      "Current Number 10, Previous Number 9, Sum: 19\n"
     ]
    }
   ],
   "source": [
    "\"\"\" 6. Given a range of first 10 numbers, write a Python program to iterate from start number to the end\n",
    "number and print the sum of the current number and previous number.\n",
    "Sample input: 1…10\n",
    "Sample output: Current Number 1 Previous Number 0 Sum: 1\n",
    "Current Number 2 Previous Number 1 Sum: 3\n",
    "Current Number 3 Previous Number 2 Sum: 5\n",
    "…\n",
    "Current Number 10 Previous Number 9 Sum: 19 \"\"\"\n",
    "\n",
    "a = 0\n",
    "for n in range(1,11):\n",
    "    sum = n+a\n",
    "    print (f\"Current Number {n}, Previous Number {a}, Sum: {sum}\")\n",
    "    a = n"
   ]
  },
  {
   "cell_type": "code",
   "execution_count": 97,
   "id": "07cfbac9-2ea7-48cc-8d58-0a24cd97dbaf",
   "metadata": {},
   "outputs": [
    {
     "name": "stdin",
     "output_type": "stream",
     "text": [
      "Enter numbers separated by commas:  10,20,33,46,55\n"
     ]
    },
    {
     "name": "stdout",
     "output_type": "stream",
     "text": [
      "10,20,55,"
     ]
    }
   ],
   "source": [
    "\"\"\" 7. Write a Python program to print only those numbers which are divisible of 5. \n",
    "Sample input: 10,20,33,46,55 Sample output: 10, 20, 55 \"\"\"\n",
    "\n",
    "num = input(\"Enter numbers separated by commas: \")\n",
    "num_list = [int(i.strip()) for i in num.split(\",\")]\n",
    "for n in num_list:\n",
    "    if n%5==0:\n",
    "        print (n, end=',')"
   ]
  },
  {
   "cell_type": "code",
   "execution_count": 99,
   "id": "7d1ba5fb-cec0-44b3-8ed5-0f3b603cb327",
   "metadata": {},
   "outputs": [
    {
     "name": "stdin",
     "output_type": "stream",
     "text": [
      "Enter the number:  3\n"
     ]
    },
    {
     "name": "stdout",
     "output_type": "stream",
     "text": [
      "3 is a prime number.\n"
     ]
    }
   ],
   "source": [
    "\"\"\" 8. Write a Python program to check whether a number is prime or not. \n",
    "Sample input: Enter the number: 3 Sample output: 3 is a prime number. \"\"\"\n",
    "\n",
    "num = int(input(\"Enter the number: \"))\n",
    "if num > 1:\n",
    "    for i in range(2, num):\n",
    "        if num % i == 0:\n",
    "            print(num, \"is not a prime number.\")\n",
    "            break\n",
    "    else:\n",
    "        print(num, \"is a prime number.\")\n",
    "else:\n",
    "    print(num, \"is not a prime number.\")"
   ]
  },
  {
   "cell_type": "code",
   "execution_count": 101,
   "id": "352765e2-a34b-460c-9be8-a7dcc4b6e65b",
   "metadata": {},
   "outputs": [
    {
     "name": "stdin",
     "output_type": "stream",
     "text": [
      "Enter numbers separated by commas:  10,40,30,70\n"
     ]
    },
    {
     "name": "stdout",
     "output_type": "stream",
     "text": [
      "70, 30, 40, 10, "
     ]
    }
   ],
   "source": [
    "\"\"\" 9. Write a Python program to reverse a list using for loop. \n",
    "Sample input: 10,40,30,70 Sample output: 70,30,40,10 \"\"\"\n",
    "\n",
    "n = input(\"Enter numbers separated by commas: \")\n",
    "num_list = n.split(\",\")\n",
    "for i in range(len(num_list)-1, -1, -1):\n",
    "    print(num_list[i].strip(), end=\", \")"
   ]
  },
  {
   "cell_type": "code",
   "execution_count": 109,
   "id": "9d7a320f-44d2-485a-a7ce-09b730a1b0f0",
   "metadata": {},
   "outputs": [
    {
     "name": "stdin",
     "output_type": "stream",
     "text": [
      "Enter a number:  4\n"
     ]
    },
    {
     "name": "stdout",
     "output_type": "stream",
     "text": [
      "*\n",
      "**\n",
      "***\n",
      "****\n"
     ]
    }
   ],
   "source": [
    "\"\"\" 10. Write a Python program to print the following pattern.\n",
    "*\n",
    "**\n",
    "***\n",
    "**** \"\"\"\n",
    "\n",
    "n = int(input(\"Enter a number: \"))\n",
    "for i in range(1,n+1):\n",
    "    print (\"*\"*i)"
   ]
  },
  {
   "cell_type": "code",
   "execution_count": 111,
   "id": "b51fc526-e5d6-4417-b9ff-af3df30b6229",
   "metadata": {},
   "outputs": [
    {
     "name": "stdin",
     "output_type": "stream",
     "text": [
      "Enter first number:  34\n",
      "Enter second number:  12\n",
      "Enter third number:  7\n"
     ]
    },
    {
     "name": "stdout",
     "output_type": "stream",
     "text": [
      "Maximum number is: 34\n"
     ]
    }
   ],
   "source": [
    "\"\"\" 11. Write a Python function to find the maximum of three numbers. \n",
    "Sample input: 34,12,7 Sample output: 34 \"\"\"\n",
    "\n",
    "def find_max(a, b, c):\n",
    "    return max(a, b, c)\n",
    "a = int(input(\"Enter first number: \"))\n",
    "b = int(input(\"Enter second number: \"))\n",
    "c = int(input(\"Enter third number: \"))\n",
    "print(\"Maximum number is:\", find_max(a, b, c))"
   ]
  },
  {
   "cell_type": "code",
   "execution_count": 113,
   "id": "5240a84a-2b99-4794-9541-e9bcd069f803",
   "metadata": {},
   "outputs": [
    {
     "name": "stdin",
     "output_type": "stream",
     "text": [
      "Enter the base:  2\n",
      "Enter the exponent:  3\n"
     ]
    },
    {
     "name": "stdout",
     "output_type": "stream",
     "text": [
      "8\n"
     ]
    }
   ],
   "source": [
    "\"\"\" 12. Write a Python function called exponent(base,exp) that returns an \n",
    "integer value of base raises to the power of exp.\n",
    "Sample input: Enter the base: 2 Enter the exponent: 3 Sample output: 8 \"\"\"\n",
    "\n",
    "def exponent(base, exp):\n",
    "    return base ** exp\n",
    "base = int(input(\"Enter the base: \"))\n",
    "exp = int(input(\"Enter the exponent: \"))\n",
    "result = exponent(base, exp)\n",
    "print(result)"
   ]
  },
  {
   "cell_type": "code",
   "execution_count": 115,
   "id": "532912fa-f379-45a9-973d-6f93409948cb",
   "metadata": {},
   "outputs": [
    {
     "name": "stdin",
     "output_type": "stream",
     "text": [
      "Enter a positive integer:  4\n"
     ]
    },
    {
     "name": "stdout",
     "output_type": "stream",
     "text": [
      "Sum of cubes is: 36\n"
     ]
    }
   ],
   "source": [
    "\"\"\" 13. Write a Python function that takes a positive integer and returns the sum \n",
    "of the cube of all the positive integers smaller than the specified number.\n",
    "Sample input: 4 Sample output: 36 \"\"\"\n",
    "\n",
    "def cubes_sum(n):\n",
    "    total = 0\n",
    "    for i in range(1, n):\n",
    "        total += i ** 3\n",
    "    return total\n",
    "num = int(input(\"Enter a positive integer: \"))\n",
    "print(\"Sum of cubes is:\", cubes_sum(num))"
   ]
  },
  {
   "cell_type": "code",
   "execution_count": 117,
   "id": "264600b3-436d-4be5-b63a-691ace388b73",
   "metadata": {},
   "outputs": [
    {
     "name": "stdout",
     "output_type": "stream",
     "text": [
      "*\n",
      "**\n",
      "***\n",
      "****\n",
      "*****\n",
      "****\n",
      "***\n",
      "**\n",
      "*\n"
     ]
    }
   ],
   "source": [
    "\"\"\" 14. Write a Python program to construct the following pattern, using a nested for loop.\n",
    "*\n",
    "**\n",
    "***\n",
    "****\n",
    "*****\n",
    "****\n",
    "***\n",
    "**\n",
    "* \"\"\"\n",
    "\n",
    "for i in range(1, 6):\n",
    "    print('*' * i)\n",
    "for i in range(4, 0, -1):\n",
    "    print('*' * i)"
   ]
  },
  {
   "cell_type": "code",
   "execution_count": 119,
   "id": "e559a668-72e0-4b52-8dc9-d3f8c41fceae",
   "metadata": {},
   "outputs": [
    {
     "name": "stdout",
     "output_type": "stream",
     "text": [
      "1\n",
      "Fizz\n",
      "3\n",
      "Fizz\n",
      "Buzz\n",
      "Fizz\n",
      "7\n",
      "Fizz\n",
      "9\n",
      "FizzBuzz\n"
     ]
    }
   ],
   "source": [
    "\"\"\" 15. Write a Python program which iterates from 1 to 10. For multiples of 2, print “Fizz” instead of the\n",
    "number and for the multiples of 5, print “Buzz”. For numbers which are multiples of both 2 and 5,\n",
    "print “FizzBuzz”. Sample input: numbers from 1 to 10 Sample output:\n",
    "1\n",
    "Fizz\n",
    "3\n",
    "Fizz\n",
    "Buzz\n",
    "Fizz\n",
    "7\n",
    "Fizz\n",
    "9\n",
    "FizzBuzz \"\"\"\n",
    "\n",
    "for i in range(1, 11):\n",
    "    if i % 2 == 0 and i % 5 == 0:\n",
    "        print(\"FizzBuzz\")\n",
    "    elif i % 2 == 0:\n",
    "        print(\"Fizz\")\n",
    "    elif i % 5 == 0:\n",
    "        print(\"Buzz\")\n",
    "    else:\n",
    "        print(i)"
   ]
  },
  {
   "cell_type": "code",
   "execution_count": 121,
   "id": "6c496790-b49e-4a06-8074-24809cbe0702",
   "metadata": {},
   "outputs": [
    {
     "name": "stdin",
     "output_type": "stream",
     "text": [
      "Enter numbers separated by commas:  2,3,4,2,5,2\n"
     ]
    },
    {
     "name": "stdout",
     "output_type": "stream",
     "text": [
      "Most frequent item is: 2\n"
     ]
    }
   ],
   "source": [
    "\"\"\" 16. Write a Python program to find the most frequent item in a list of numbers. \n",
    "Sample input: 2, 3, 4, 2, 5, 2 Sample output: 2 \"\"\"\n",
    "\n",
    "n = input(\"Enter numbers separated by commas: \")\n",
    "n_list = [int(i.strip()) for i in n.split(\",\")]\n",
    "freq = max(set(n_list), key=n_list.count)\n",
    "print(\"Most frequent item is:\", freq)"
   ]
  },
  {
   "cell_type": "code",
   "execution_count": 123,
   "id": "280023c7-b9a2-47a8-b970-21017a947e53",
   "metadata": {},
   "outputs": [
    {
     "name": "stdin",
     "output_type": "stream",
     "text": [
      "Enter numbers separated by commas:  2,1,3,1\n"
     ]
    },
    {
     "name": "stdout",
     "output_type": "stream",
     "text": [
      "15\n"
     ]
    }
   ],
   "source": [
    "\"\"\" 17. Write a Python program to find the sum of squares of the numbers in a list. \n",
    "Sample input: 2,1,3,1 Sample output: 15 \"\"\"\n",
    "\n",
    "nums = input(\"Enter numbers separated by commas: \").split(\",\")\n",
    "total = 0\n",
    "for n in nums:\n",
    "    total += int(n) ** 2\n",
    "print(total)"
   ]
  },
  {
   "cell_type": "code",
   "execution_count": 125,
   "id": "a31aafc6-66de-4e04-adff-eee71b32546b",
   "metadata": {},
   "outputs": [
    {
     "name": "stdout",
     "output_type": "stream",
     "text": [
      "1-odd\n",
      "2-even\n",
      "3-odd\n",
      "4-even\n",
      "5-odd\n",
      "6-even\n",
      "7-odd\n",
      "8-even\n",
      "9-odd\n",
      "10-even\n",
      "11-odd\n",
      "12-even\n",
      "13-odd\n",
      "14-even\n",
      "15-odd\n"
     ]
    }
   ],
   "source": [
    "\"\"\" 18. Write a Python program using for loop that will iterate from 1 to 15. For each iteration,\n",
    "check if the current number is odd or even, and display the message to the screen as odd or even. \n",
    "Sample input: 1…15 Sample output: 1-odd\n",
    "2-even\n",
    "…\n",
    "15-odd \"\"\"\n",
    "\n",
    "for i in range(1, 16):\n",
    "    if i % 2 == 0:\n",
    "        print(f\"{i}-even\")\n",
    "    else:\n",
    "        print(f\"{i}-odd\")"
   ]
  },
  {
   "cell_type": "code",
   "execution_count": 131,
   "id": "ddd6c5bb-781d-4b02-a252-f005163198d4",
   "metadata": {},
   "outputs": [
    {
     "name": "stdin",
     "output_type": "stream",
     "text": [
      "Enter temperature in Fahrenheit:  41\n"
     ]
    },
    {
     "name": "stdout",
     "output_type": "stream",
     "text": [
      "Temperature in Celsius = 5.0\n"
     ]
    }
   ],
   "source": [
    "\"\"\" 19. Write a Python program to convert temperatures to and from Celsius Fahrenheit.\n",
    "[Formula: c/5=f-32/9 where c=temperature in Celsius and f= temperature in Fahrenheit.] \n",
    "Sample input: Temperature in Fahrenheit =41 Sample output: Temperature in Celsius =5 \"\"\"\n",
    "\n",
    "def celsius(fahrenheit):\n",
    "    return (fahrenheit - 32) * 5 / 9\n",
    "f = float(input(\"Enter temperature in Fahrenheit: \"))\n",
    "c = celsius(f)\n",
    "print(f\"Temperature in Celsius = {c}\")"
   ]
  },
  {
   "cell_type": "code",
   "execution_count": 133,
   "id": "e41859d7-d8a5-4520-a402-e19b01dc7c1e",
   "metadata": {},
   "outputs": [
    {
     "name": "stdin",
     "output_type": "stream",
     "text": [
      "Enter a number:  3\n"
     ]
    },
    {
     "name": "stdout",
     "output_type": "stream",
     "text": [
      "Factorial of 3 is 6\n"
     ]
    }
   ],
   "source": [
    "\"\"\" 20. Write a Python function to calculate the factorial of a number (a nonnegative integer).\n",
    "The function accepts the number as an argument. Sample input: 3 Sample output: 6 \"\"\"\n",
    "\n",
    "def factorial(n):\n",
    "    if n == 0 or n == 1:\n",
    "        return 1\n",
    "    else:\n",
    "        return n * factorial(n - 1)\n",
    "num = int(input(\"Enter a number: \"))\n",
    "print(f\"Factorial of {num} is {factorial(num)}\")"
   ]
  }
 ],
 "metadata": {
  "kernelspec": {
   "display_name": "Python [conda env:base] *",
   "language": "python",
   "name": "conda-base-py"
  },
  "language_info": {
   "codemirror_mode": {
    "name": "ipython",
    "version": 3
   },
   "file_extension": ".py",
   "mimetype": "text/x-python",
   "name": "python",
   "nbconvert_exporter": "python",
   "pygments_lexer": "ipython3",
   "version": "3.11.5"
  }
 },
 "nbformat": 4,
 "nbformat_minor": 5
}
