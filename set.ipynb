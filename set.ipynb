{
 "cells": [
  {
   "cell_type": "code",
   "execution_count": 2,
   "id": "566b751e-4e64-4c98-aefb-6ee74dcd8e12",
   "metadata": {},
   "outputs": [
    {
     "data": {
      "text/plain": [
       "{'Apple', 'Banana', 'Orange'}"
      ]
     },
     "execution_count": 2,
     "metadata": {},
     "output_type": "execute_result"
    }
   ],
   "source": [
    "set1 = {\"Apple\",\"Orange\",\"Banana\"}\n",
    "set1"
   ]
  },
  {
   "cell_type": "code",
   "execution_count": 6,
   "id": "d4391409-68da-463f-b56c-e673ae84e98a",
   "metadata": {
    "tags": []
   },
   "outputs": [
    {
     "name": "stdout",
     "output_type": "stream",
     "text": [
      "{10, 20, 30}\n"
     ]
    }
   ],
   "source": [
    "s1 = {10,20,30}\n",
    "print (s1)"
   ]
  },
  {
   "cell_type": "code",
   "execution_count": 8,
   "id": "5d121c55-fa7e-41c6-b3e8-da7e8ed7dd8f",
   "metadata": {
    "tags": []
   },
   "outputs": [
    {
     "name": "stdout",
     "output_type": "stream",
     "text": [
      "Orange\n",
      "Apple\n",
      "Banana\n"
     ]
    }
   ],
   "source": [
    "for i in set1:\n",
    "    print (i)"
   ]
  },
  {
   "cell_type": "code",
   "execution_count": 10,
   "id": "0967b2a3-b6b4-44fa-8160-7adc498c0f2e",
   "metadata": {
    "tags": []
   },
   "outputs": [
    {
     "name": "stdout",
     "output_type": "stream",
     "text": [
      "10\n",
      "20\n",
      "30\n"
     ]
    }
   ],
   "source": [
    "for x in s1:\n",
    "    print (x)"
   ]
  },
  {
   "cell_type": "code",
   "execution_count": 12,
   "id": "fe5533da-b6fe-4e37-9684-3902e4708806",
   "metadata": {
    "tags": []
   },
   "outputs": [
    {
     "name": "stdout",
     "output_type": "stream",
     "text": [
      "c\n",
      "a\n",
      "b\n"
     ]
    }
   ],
   "source": [
    "for i in {'a','b','c'}:\n",
    "    print (i)"
   ]
  },
  {
   "cell_type": "code",
   "execution_count": 16,
   "id": "c2defe09-2ef7-49d0-b8e7-d4ff827dff7e",
   "metadata": {
    "tags": []
   },
   "outputs": [
    {
     "name": "stdout",
     "output_type": "stream",
     "text": [
      "True\n",
      "False\n"
     ]
    }
   ],
   "source": [
    "# In keyword\n",
    "\n",
    "print (\"Orange\" in set1)\n",
    "print (\"orange\" in set1)"
   ]
  },
  {
   "cell_type": "code",
   "execution_count": 80,
   "id": "29029510-f866-4bb4-b321-233b9bd1ac27",
   "metadata": {
    "tags": []
   },
   "outputs": [
    {
     "name": "stdout",
     "output_type": "stream",
     "text": [
      "{1, 2, 3}\n"
     ]
    }
   ],
   "source": [
    "# To add an element\n",
    "\n",
    "s = {1,3}\n",
    "s.add(2)\n",
    "print (s)"
   ]
  },
  {
   "cell_type": "code",
   "execution_count": 20,
   "id": "397b6363-ce06-4d1c-98f0-ef0019c77406",
   "metadata": {
    "tags": []
   },
   "outputs": [
    {
     "name": "stdout",
     "output_type": "stream",
     "text": [
      "{'gh', 'ef', 'ab', 'cd'}\n"
     ]
    }
   ],
   "source": [
    "s2 = {\"ab\",\"cd\",\"ef\"}\n",
    "s2.add(\"gh\")\n",
    "print (s2)"
   ]
  },
  {
   "cell_type": "code",
   "execution_count": 22,
   "id": "5e98fcca-0e89-4e6d-bcba-e5e996e5da0e",
   "metadata": {
    "tags": []
   },
   "outputs": [
    {
     "name": "stdout",
     "output_type": "stream",
     "text": [
      "{1, 2, 3, 4, 5}\n"
     ]
    }
   ],
   "source": [
    "# To add more than one elements\n",
    "\n",
    "s.update([2,3,4,5])\n",
    "print (s)"
   ]
  },
  {
   "cell_type": "code",
   "execution_count": 24,
   "id": "948508e9-887a-4baa-a29f-fa932dc5089c",
   "metadata": {
    "tags": []
   },
   "outputs": [
    {
     "name": "stdout",
     "output_type": "stream",
     "text": [
      "{'hi', 'hey', 'cd', 'hello', 'ef', 'ab', 'gh'}\n"
     ]
    }
   ],
   "source": [
    "# Update\n",
    "\n",
    "s2.update([\"hi\",\"hello\",\"hey\"])\n",
    "print (s2)"
   ]
  },
  {
   "cell_type": "code",
   "execution_count": 26,
   "id": "9ec18791-af72-4b4a-9853-c0896fd7c817",
   "metadata": {
    "tags": []
   },
   "outputs": [
    {
     "name": "stdout",
     "output_type": "stream",
     "text": [
      "7\n"
     ]
    }
   ],
   "source": [
    "# Length of the set\n",
    "\n",
    "print (len(s2))"
   ]
  },
  {
   "cell_type": "code",
   "execution_count": 30,
   "id": "82b6a434-7d5b-4549-8695-8d07cf6b67cb",
   "metadata": {
    "tags": []
   },
   "outputs": [
    {
     "name": "stdout",
     "output_type": "stream",
     "text": [
      "{1, 3, 5}\n"
     ]
    }
   ],
   "source": [
    "# Delete specific element\n",
    "\n",
    "set1 = {1,3,4,5}\n",
    "set1.discard(4)\n",
    "print (set1)"
   ]
  },
  {
   "cell_type": "code",
   "execution_count": 32,
   "id": "a2a8657d-dbb2-488a-9a6d-54eb9e880e28",
   "metadata": {
    "tags": []
   },
   "outputs": [
    {
     "name": "stdout",
     "output_type": "stream",
     "text": [
      "{1, 5}\n"
     ]
    }
   ],
   "source": [
    "set1.remove(3)\n",
    "print (set1)"
   ]
  },
  {
   "cell_type": "code",
   "execution_count": 34,
   "id": "d64ceb91-c5e8-451e-8740-31039633dc28",
   "metadata": {
    "tags": []
   },
   "outputs": [
    {
     "name": "stdout",
     "output_type": "stream",
     "text": [
      "1\n"
     ]
    }
   ],
   "source": [
    "print (set1.pop())"
   ]
  },
  {
   "cell_type": "code",
   "execution_count": 36,
   "id": "8150c696-2eec-4ff8-ab3e-017b7aee6a82",
   "metadata": {
    "tags": []
   },
   "outputs": [
    {
     "name": "stdout",
     "output_type": "stream",
     "text": [
      "set()\n"
     ]
    }
   ],
   "source": [
    "set1.clear() \n",
    "print (set1)"
   ]
  },
  {
   "cell_type": "code",
   "execution_count": 3,
   "id": "23b96890-f5ca-4c1f-a40c-0f3d89a06079",
   "metadata": {
    "tags": []
   },
   "outputs": [
    {
     "name": "stdout",
     "output_type": "stream",
     "text": [
      "{1, 2, 3, 4, 5, 6, 7, 8}\n",
      "{1, 2, 3, 4, 5, 6, 7, 8}\n",
      "{4, 5}\n",
      "{4, 5}\n",
      "{1, 2, 3}\n",
      "{1, 2, 3}\n",
      "{1, 2, 3, 6, 7, 8}\n",
      "{1, 2, 3, 6, 7, 8}\n",
      "{1, 2, 3}\n",
      "{2, 3}\n",
      "{5, 6}\n"
     ]
    }
   ],
   "source": [
    "# Set Operations\n",
    "\n",
    "s1 = {1,2,3,4,5}\n",
    "s2 = {4,5,6,7,8}\n",
    "\n",
    "# Union- Combines elements from s1 and s2 eliminating duplicates\n",
    "print (s1|s2)\n",
    "print (s1.union(s2))\n",
    "\n",
    "# Intersection- Retrives elements common in s1 and s2\n",
    "print (s1&s2)\n",
    "print (s1.intersection(s2))\n",
    "\n",
    "# Difference- Returns elements in s1 that are not in s2\n",
    "print (s1-s2)\n",
    "print (s1.difference(s2))\n",
    "\n",
    "# Symmetric Difference- Retrives elements that are in s1 or s2 but not in both\n",
    "print (s1^s2)\n",
    "print (s1.symmetric_difference(s2))\n",
    "\n",
    "# Difference_update()- Modifies and removes all elements in s1 that are present in s2\n",
    "s1.difference_update(s2)\n",
    "print (s1)\n",
    " \n",
    "# Intersection_update()- Updates s1 to only contain elements that are also present in s2\n",
    "s1 = {1,2,3,4}\n",
    "s2 = {2,3,5,6}\n",
    "s1.intersection_update(s2)\n",
    "print (s1)\n",
    "\n",
    "# Symmetric_difference_update()- Updates s1 to contain elements that are either in s1 or s2 but not in both\n",
    "s1.symmetric_difference_update(s2)\n",
    "print (s1)"
   ]
  },
  {
   "cell_type": "code",
   "execution_count": 40,
   "id": "ea19778f-7d04-4ebd-bedb-e17cb9959dce",
   "metadata": {
    "tags": []
   },
   "outputs": [
    {
     "name": "stdout",
     "output_type": "stream",
     "text": [
      "{4, 5}\n"
     ]
    }
   ],
   "source": [
    "s1 = {1,2,3,4,5}\n",
    "s2 = {4,5,6,7,8}\n",
    "s1.intersection_update(s2)\n",
    "print (s1)"
   ]
  },
  {
   "cell_type": "code",
   "execution_count": 44,
   "id": "3cc2f5ae-c429-4bdc-b6d6-b64f68149ac9",
   "metadata": {
    "tags": []
   },
   "outputs": [
    {
     "name": "stdout",
     "output_type": "stream",
     "text": [
      "{1, 4}\n",
      "{1, 4}\n",
      "{2, 3, 5, 6}\n"
     ]
    }
   ],
   "source": [
    "# Difference_update()\n",
    "\n",
    "s1 = {1,2,3,4}\n",
    "s2 = {2,3,5,6}\n",
    "print (s1.difference(s2))\n",
    "s1.difference_update(s2)\n",
    "print (s1)\n",
    "print (s2) "
   ]
  },
  {
   "cell_type": "code",
   "execution_count": 48,
   "id": "45e1a085-9b57-4e71-8900-40efea2f099e",
   "metadata": {
    "tags": []
   },
   "outputs": [
    {
     "name": "stdout",
     "output_type": "stream",
     "text": [
      "{2, 3}\n"
     ]
    }
   ],
   "source": [
    "# Intersection_update()\n",
    "\n",
    "s1 = {1,2,3,4}\n",
    "s2 = {2,3,5,6}\n",
    "s1.intersection_update(s2)\n",
    "print (s1)"
   ]
  },
  {
   "cell_type": "code",
   "execution_count": 50,
   "id": "b98056eb-5cc1-41ab-9fdf-5618137d6808",
   "metadata": {
    "tags": []
   },
   "outputs": [
    {
     "name": "stdout",
     "output_type": "stream",
     "text": [
      "{1, 4, 5, 6}\n"
     ]
    }
   ],
   "source": [
    "# Symmetric_difference_update()\n",
    "\n",
    "s1 = {1,2,3,4}\n",
    "s2 = {2,3,5,6}\n",
    "s1.symmetric_difference_update(s2)\n",
    "print (s1)"
   ]
  },
  {
   "cell_type": "code",
   "execution_count": 52,
   "id": "13ce1312-20b6-490e-b308-86c9c96bb8d9",
   "metadata": {},
   "outputs": [
    {
     "data": {
      "text/plain": [
       "False"
      ]
     },
     "execution_count": 52,
     "metadata": {},
     "output_type": "execute_result"
    }
   ],
   "source": [
    "s1 = {1,2,3,4}\n",
    "s2 = {1,3,4,6}\n",
    "s1.isdisjoint(s2)"
   ]
  },
  {
   "cell_type": "code",
   "execution_count": 54,
   "id": "02eb4aa4-05c6-4a47-9a6a-434bd795c1ae",
   "metadata": {
    "tags": []
   },
   "outputs": [
    {
     "data": {
      "text/plain": [
       "False"
      ]
     },
     "execution_count": 54,
     "metadata": {},
     "output_type": "execute_result"
    }
   ],
   "source": [
    "s1 = {1,2,3,4}\n",
    "s2 = {1,3,4,6}\n",
    "s1.issubset(s2)"
   ]
  },
  {
   "cell_type": "code",
   "execution_count": 58,
   "id": "3dd9c78d-c983-4e62-82f8-9b10601f1402",
   "metadata": {
    "tags": []
   },
   "outputs": [
    {
     "name": "stdout",
     "output_type": "stream",
     "text": [
      "True\n",
      "False\n",
      "True\n"
     ]
    }
   ],
   "source": [
    "s1 = {3,4}\n",
    "s2 = {1,2,3,4}\n",
    "print (s1.issubset(s2))\n",
    "print ({1,8}.issubset(s2))\n",
    "print (s2.issuperset(s1))"
   ]
  },
  {
   "cell_type": "code",
   "execution_count": 20,
   "id": "217d1895-68d8-473a-859f-8e0b858e7718",
   "metadata": {
    "tags": []
   },
   "outputs": [
    {
     "data": {
      "text/plain": [
       "3"
      ]
     },
     "execution_count": 20,
     "metadata": {},
     "output_type": "execute_result"
    }
   ],
   "source": [
    "max(s1)\n",
    "min(s1)"
   ]
  },
  {
   "cell_type": "code",
   "execution_count": 60,
   "id": "62e7766d-75ca-468d-a690-5826df93a7c2",
   "metadata": {
    "tags": []
   },
   "outputs": [
    {
     "name": "stdout",
     "output_type": "stream",
     "text": [
      "{3, 4}\n",
      "{3, 4}\n"
     ]
    }
   ],
   "source": [
    "a = s1.copy()\n",
    "print (a)\n",
    "print (s1)"
   ]
  },
  {
   "cell_type": "code",
   "execution_count": 62,
   "id": "4f011484-91a0-48d9-93fc-3eee3233118a",
   "metadata": {},
   "outputs": [
    {
     "name": "stdout",
     "output_type": "stream",
     "text": [
      "True\n"
     ]
    }
   ],
   "source": [
    "print (3 in s1)"
   ]
  },
  {
   "cell_type": "code",
   "execution_count": 64,
   "id": "1cc8e4d2-054b-4f97-8fd2-e0306e4de1c6",
   "metadata": {},
   "outputs": [
    {
     "name": "stdout",
     "output_type": "stream",
     "text": [
      "[5, 6, 8, 9, 1]\n",
      "0 5\n",
      "1 6\n",
      "2 8\n",
      "3 9\n",
      "4 1\n"
     ]
    }
   ],
   "source": [
    "s1 = [5,6,8,9,1]\n",
    "print (s1)\n",
    "for x,j in enumerate(s1):\n",
    "    print (x,j)"
   ]
  },
  {
   "cell_type": "code",
   "execution_count": 66,
   "id": "349199c2-c68b-4e8c-9617-27dd62d0efa3",
   "metadata": {
    "tags": []
   },
   "outputs": [
    {
     "name": "stdout",
     "output_type": "stream",
     "text": [
      "[5, 6, 8, 9, 1]\n",
      "True\n"
     ]
    }
   ],
   "source": [
    "print (s1)\n",
    "print (all(s1))"
   ]
  },
  {
   "cell_type": "code",
   "execution_count": 68,
   "id": "0090883e-b105-4d97-8469-8abca297d3a3",
   "metadata": {
    "tags": []
   },
   "outputs": [
    {
     "name": "stdout",
     "output_type": "stream",
     "text": [
      "False\n"
     ]
    }
   ],
   "source": [
    "s2 = {0,8,10}\n",
    "print (all(s2))"
   ]
  },
  {
   "cell_type": "code",
   "execution_count": 70,
   "id": "20cd2dcd-6fb3-41a0-9156-2decc40d6353",
   "metadata": {
    "tags": []
   },
   "outputs": [
    {
     "name": "stdout",
     "output_type": "stream",
     "text": [
      "True\n"
     ]
    }
   ],
   "source": [
    "print (any(s1))"
   ]
  },
  {
   "cell_type": "code",
   "execution_count": 72,
   "id": "3dcd8078-80ed-4fe2-bb91-d0ebe9c405bf",
   "metadata": {
    "tags": []
   },
   "outputs": [
    {
     "name": "stdout",
     "output_type": "stream",
     "text": [
      "True\n"
     ]
    }
   ],
   "source": [
    "s2 = {0,1}\n",
    "print (any(s2))"
   ]
  },
  {
   "cell_type": "markdown",
   "id": "f2681f55-8467-409c-91a3-cedbef89e8c6",
   "metadata": {},
   "source": [
    "Frozenset\n"
   ]
  },
  {
   "cell_type": "code",
   "execution_count": 74,
   "id": "cf536b4e-7aa6-4c35-980a-81bb6c1957ef",
   "metadata": {
    "tags": []
   },
   "outputs": [
    {
     "data": {
      "text/plain": [
       "[5, 6, 8, 9, 1]"
      ]
     },
     "execution_count": 74,
     "metadata": {},
     "output_type": "execute_result"
    }
   ],
   "source": [
    "s1"
   ]
  },
  {
   "cell_type": "code",
   "execution_count": 76,
   "id": "0cb73aca-e550-446e-b65e-afe30f5f6398",
   "metadata": {
    "tags": []
   },
   "outputs": [
    {
     "data": {
      "text/plain": [
       "frozenset({1, 5, 6, 8, 9})"
      ]
     },
     "execution_count": 76,
     "metadata": {},
     "output_type": "execute_result"
    }
   ],
   "source": [
    "frozenset(s1)  # Set that cannot be modified."
   ]
  },
  {
   "cell_type": "code",
   "execution_count": 8,
   "id": "c5d3b1d0-6848-43a5-a40b-d3a68535f6b3",
   "metadata": {},
   "outputs": [
    {
     "data": {
      "text/plain": [
       "{1, 2, 3, 4}"
      ]
     },
     "execution_count": 8,
     "metadata": {},
     "output_type": "execute_result"
    }
   ],
   "source": [
    "s = {1,2,3,4}\n",
    "s"
   ]
  },
  {
   "cell_type": "code",
   "execution_count": 10,
   "id": "d503eafb-5092-4787-98cb-2201466bdd2d",
   "metadata": {},
   "outputs": [
    {
     "data": {
      "text/plain": [
       "{1, 2, 3, 4, 5}"
      ]
     },
     "execution_count": 10,
     "metadata": {},
     "output_type": "execute_result"
    }
   ],
   "source": [
    "s.add(5)\n",
    "s"
   ]
  },
  {
   "cell_type": "code",
   "execution_count": 12,
   "id": "17a69434-1aa1-456a-9706-1dd5afcced93",
   "metadata": {},
   "outputs": [
    {
     "data": {
      "text/plain": [
       "{2, 3, 4, 5}"
      ]
     },
     "execution_count": 12,
     "metadata": {},
     "output_type": "execute_result"
    }
   ],
   "source": [
    "s.discard(1)\n",
    "s"
   ]
  },
  {
   "cell_type": "code",
   "execution_count": 14,
   "id": "60ee415c-cf3f-4cfd-a6a5-befc49625bfd",
   "metadata": {},
   "outputs": [
    {
     "data": {
      "text/plain": [
       "{1, 2, 3, 4, 5}"
      ]
     },
     "execution_count": 14,
     "metadata": {},
     "output_type": "execute_result"
    }
   ],
   "source": [
    "s1 = {1,2,3}\n",
    "s2 = {3,4,5}\n",
    "s1|s2"
   ]
  },
  {
   "cell_type": "code",
   "execution_count": 22,
   "id": "4cfba087-8fe5-4254-a9cf-e680d3ecfb54",
   "metadata": {},
   "outputs": [
    {
     "data": {
      "text/plain": [
       "False"
      ]
     },
     "execution_count": 22,
     "metadata": {},
     "output_type": "execute_result"
    }
   ],
   "source": [
    "s1 = {1,2,3}\n",
    "s2 = {3,4,5}\n",
    "s1.issubset(s2)"
   ]
  },
  {
   "cell_type": "code",
   "execution_count": 24,
   "id": "eb07e87a-0b9e-447e-a21d-57f87810a547",
   "metadata": {},
   "outputs": [
    {
     "data": {
      "text/plain": [
       "{1, 2, 3}"
      ]
     },
     "execution_count": 24,
     "metadata": {},
     "output_type": "execute_result"
    }
   ],
   "source": [
    "s1.copy()"
   ]
  },
  {
   "cell_type": "code",
   "execution_count": 26,
   "id": "95da3242-dd9e-405e-a825-1a7304ad6c70",
   "metadata": {},
   "outputs": [
    {
     "data": {
      "text/plain": [
       "set()"
      ]
     },
     "execution_count": 26,
     "metadata": {},
     "output_type": "execute_result"
    }
   ],
   "source": [
    "s1.clear() \n",
    "s1"
   ]
  },
  {
   "cell_type": "code",
   "execution_count": 30,
   "id": "d8a19dbf-7842-4ec6-87c2-3e4a450466af",
   "metadata": {},
   "outputs": [
    {
     "data": {
      "text/plain": [
       "{3}"
      ]
     },
     "execution_count": 30,
     "metadata": {},
     "output_type": "execute_result"
    }
   ],
   "source": [
    "s1 = {1,2,3}\n",
    "s2 = {3,4,5}\n",
    "s1&s2"
   ]
  },
  {
   "cell_type": "code",
   "execution_count": 32,
   "id": "30205adc-8e1f-4be8-accb-87126368b9c8",
   "metadata": {},
   "outputs": [
    {
     "data": {
      "text/plain": [
       "{1, 2}"
      ]
     },
     "execution_count": 32,
     "metadata": {},
     "output_type": "execute_result"
    }
   ],
   "source": [
    "s1-s2"
   ]
  },
  {
   "cell_type": "code",
   "execution_count": 34,
   "id": "c30bcc5b-09cf-4f0c-b680-c115dce9a6ee",
   "metadata": {},
   "outputs": [
    {
     "data": {
      "text/plain": [
       "{1, 2, 4, 5}"
      ]
     },
     "execution_count": 34,
     "metadata": {},
     "output_type": "execute_result"
    }
   ],
   "source": [
    "s1^s2"
   ]
  },
  {
   "cell_type": "code",
   "execution_count": 7,
   "id": "e7580ca6-aea0-44d4-9fe5-8701ea5c58aa",
   "metadata": {},
   "outputs": [
    {
     "name": "stdout",
     "output_type": "stream",
     "text": [
      "{1, 2, 3, 4, 5}\n",
      "{1, 2, 3, 4, 5, 6}\n",
      "{1, 2, 3, 5, 6}\n",
      "{1, 2, 3, 4, 5}\n",
      "{3}\n",
      "{1, 2}\n",
      "{1, 2, 3, 4, 5}\n",
      "{3}\n"
     ]
    }
   ],
   "source": [
    "n = {1,2,3,4,5}\n",
    "print(n)\n",
    "n.add(6)\n",
    "print(n)\n",
    "n.remove(4)\n",
    "print(n)\n",
    "\n",
    "set1 = {1,2,3}\n",
    "set2 = {3,4,5}\n",
    "union = set1.union(set2)\n",
    "print(union)\n",
    "intersection = set1.intersection(set2)\n",
    "print(intersection)\n",
    "difference = set1.difference(set2)\n",
    "print(difference)\n",
    "\n",
    "l = [1, 2, 2, 3, 4, 4, 5]\n",
    "print(set(l))\n",
    "\n",
    "list1 = [1, 2, 3]\n",
    "list2 = [3, 4, 5]\n",
    "common = set(list1).intersection(list2)\n",
    "print(common)"
   ]
  }
 ],
 "metadata": {
  "kernelspec": {
   "display_name": "Python [conda env:base] *",
   "language": "python",
   "name": "conda-base-py"
  },
  "language_info": {
   "codemirror_mode": {
    "name": "ipython",
    "version": 3
   },
   "file_extension": ".py",
   "mimetype": "text/x-python",
   "name": "python",
   "nbconvert_exporter": "python",
   "pygments_lexer": "ipython3",
   "version": "3.11.5"
  }
 },
 "nbformat": 4,
 "nbformat_minor": 5
}
