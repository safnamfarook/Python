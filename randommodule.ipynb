{
 "cells": [
  {
   "cell_type": "code",
   "execution_count": 3,
   "id": "79bd1291-ca84-4987-8fff-5bb94941a93f",
   "metadata": {
    "tags": []
   },
   "outputs": [],
   "source": [
    "# Random Module\n",
    "\n",
    "import random"
   ]
  },
  {
   "cell_type": "code",
   "execution_count": 7,
   "id": "e5e9aaf1-82b2-4d84-bd68-3b1cc7d05fc7",
   "metadata": {
    "tags": []
   },
   "outputs": [
    {
     "name": "stdout",
     "output_type": "stream",
     "text": [
      "The random integer between the range [1,11]: 10\n"
     ]
    }
   ],
   "source": [
    "# randint(a,b): returns random integer\n",
    "\n",
    "res = random.randint(1,11)\n",
    "print(\"The random integer between the range [1,11]:\",res)"
   ]
  },
  {
   "cell_type": "code",
   "execution_count": 9,
   "id": "74c1bc0f-d4d5-4c5b-8da3-415b3882a8e8",
   "metadata": {
    "tags": []
   },
   "outputs": [
    {
     "name": "stdout",
     "output_type": "stream",
     "text": [
      "Tossing a coin: T\n"
     ]
    }
   ],
   "source": [
    "# choice(seq): return random from non empty sequence\n",
    "\n",
    "coin = random.choice([\"H\",\"T\",\"H/T\"])\n",
    "print(\"Tossing a coin:\",coin)"
   ]
  },
  {
   "cell_type": "code",
   "execution_count": 17,
   "id": "75f47241-b2e3-41cd-8c4c-24cecaec0fba",
   "metadata": {
    "tags": []
   },
   "outputs": [
    {
     "name": "stdout",
     "output_type": "stream",
     "text": [
      "Rolling a dice: 6\n",
      " \n"
     ]
    }
   ],
   "source": [
    "dice = random.choice([1,2,3,4,5,6])\n",
    "print(\"Rolling a dice:\",dice)\n",
    "print(\" \")"
   ]
  },
  {
   "cell_type": "code",
   "execution_count": 19,
   "id": "9af50243-4267-4905-aa10-cec031d07a52",
   "metadata": {
    "tags": []
   },
   "outputs": [
    {
     "name": "stdout",
     "output_type": "stream",
     "text": [
      "[1, 2, 3, 4, 5, 6, 7, 8, 9, 10, 11, 12, 13, 14]\n",
      "Shuffled List: [2, 10, 13, 11, 5, 4, 9, 14, 12, 1, 3, 7, 6, 8]\n"
     ]
    }
   ],
   "source": [
    "# shuffle(x): shuffle the sequence\n",
    "\n",
    "x = list(range(1,15))\n",
    "print(x)\n",
    "random.shuffle(x)\n",
    "print(\"Shuffled List:\",x)"
   ]
  },
  {
   "cell_type": "code",
   "execution_count": 21,
   "id": "358c0849-f327-456a-9f15-b3e02b72dac2",
   "metadata": {
    "tags": []
   },
   "outputs": [
    {
     "name": "stdout",
     "output_type": "stream",
     "text": [
      "Random element: 5\n",
      "Random element: 41\n"
     ]
    }
   ],
   "source": [
    "#randrange():\n",
    "\n",
    "r = random.randrange(1,10,2)\n",
    "print(\"Random element:\",r)\n",
    "\n",
    "r = random.randrange(1,100)\n",
    "print(\"Random element:\",r)"
   ]
  },
  {
   "cell_type": "code",
   "execution_count": 23,
   "id": "1bb51bd9-33bd-4a9e-a24f-75c4dfa66ab3",
   "metadata": {},
   "outputs": [
    {
     "name": "stdout",
     "output_type": "stream",
     "text": [
      "Flip a coin simulation using choice function. Result: H\n"
     ]
    }
   ],
   "source": [
    "# choice\n",
    "\n",
    "coin_side = random.choice(['H','T'])\n",
    "print('Flip a coin simulation using choice function. Result:', coin_side)"
   ]
  },
  {
   "cell_type": "code",
   "execution_count": null,
   "id": "c3ba8d78-cd8d-4c40-8f1f-468fdb9b7e67",
   "metadata": {},
   "outputs": [],
   "source": []
  }
 ],
 "metadata": {
  "kernelspec": {
   "display_name": "Python [conda env:base] *",
   "language": "python",
   "name": "conda-base-py"
  },
  "language_info": {
   "codemirror_mode": {
    "name": "ipython",
    "version": 3
   },
   "file_extension": ".py",
   "mimetype": "text/x-python",
   "name": "python",
   "nbconvert_exporter": "python",
   "pygments_lexer": "ipython3",
   "version": "3.11.5"
  }
 },
 "nbformat": 4,
 "nbformat_minor": 5
}
