{
 "cells": [
  {
   "cell_type": "code",
   "execution_count": 4,
   "id": "5808bf89-70a3-44aa-b460-b37421f1ae42",
   "metadata": {},
   "outputs": [
    {
     "name": "stdout",
     "output_type": "stream",
     "text": [
      "apple\n",
      "cherry\n",
      "fig\n"
     ]
    }
   ],
   "source": [
    "# Continue Statement\n",
    "\n",
    "fruits = [\"apple\",\"banana\",\"cherry\",\"fig\"]\n",
    "for i in fruits:\n",
    "    if i == \"banana\":\n",
    "        continue\n",
    "    print(i)"
   ]
  },
  {
   "cell_type": "code",
   "execution_count": 6,
   "id": "7e000ce6-4862-4f98-8cfc-733f3b53f792",
   "metadata": {
    "tags": []
   },
   "outputs": [
    {
     "name": "stdout",
     "output_type": "stream",
     "text": [
      "P\n",
      "y\n",
      "h\n",
      "o\n",
      "n\n"
     ]
    }
   ],
   "source": [
    "str = \"Python\"\n",
    "for x in str:\n",
    "    if (x == \"t\"):\n",
    "        continue\n",
    "    print(x)"
   ]
  },
  {
   "cell_type": "code",
   "execution_count": 22,
   "id": "43a5764e-86a7-43b7-a474-09d8ca3c5802",
   "metadata": {
    "tags": []
   },
   "outputs": [
    {
     "name": "stdout",
     "output_type": "stream",
     "text": [
      "apple\n"
     ]
    }
   ],
   "source": [
    "# Break Statement\n",
    "\n",
    "fruits = [\"apple\",\"banana\",\"cherry\"]\n",
    "for i in fruits:\n",
    "    if(i == \"banana\"):\n",
    "        break\n",
    "    print(i)"
   ]
  },
  {
   "cell_type": "code",
   "execution_count": 12,
   "id": "b1c9cc17-86b5-4e00-879e-6186b791704b",
   "metadata": {
    "tags": []
   },
   "outputs": [
    {
     "name": "stdout",
     "output_type": "stream",
     "text": [
      "P\n",
      "y\n"
     ]
    }
   ],
   "source": [
    "str = \"Python\"\n",
    "for x in str:\n",
    "    if(x == \"t\"):\n",
    "        break\n",
    "    print(x)"
   ]
  },
  {
   "cell_type": "code",
   "execution_count": 24,
   "id": "bd403e45-5afc-4f2b-927e-ff5a01d8fca8",
   "metadata": {
    "tags": []
   },
   "outputs": [
    {
     "name": "stdout",
     "output_type": "stream",
     "text": [
      "23\n",
      "65\n",
      "5\n",
      "1\n",
      "61\n"
     ]
    }
   ],
   "source": [
    "# Pass Statement\n",
    "\n",
    "l = [23,40,65,34,8,5,1,61]    \n",
    "for i in l:\n",
    "    if(i%2 == 0):\n",
    "        pass\n",
    "    else:\n",
    "        print(i)"
   ]
  },
  {
   "cell_type": "code",
   "execution_count": 27,
   "id": "c42d8d9e-7432-4e89-88b8-aa10b052ae0f",
   "metadata": {},
   "outputs": [],
   "source": [
    "for x in [0,1,2]:\n",
    "    pass"
   ]
  },
  {
   "cell_type": "code",
   "execution_count": 5,
   "id": "d7f3d370-f039-4ed6-b442-0139bd240122",
   "metadata": {},
   "outputs": [
    {
     "name": "stdin",
     "output_type": "stream",
     "text": [
      "Enter first number:  1\n",
      "Enter second number:  15\n"
     ]
    },
    {
     "name": "stdout",
     "output_type": "stream",
     "text": [
      "1\n",
      "3\n",
      "5\n",
      "7\n",
      "9\n",
      "11\n",
      "13\n",
      "15\n"
     ]
    }
   ],
   "source": [
    "a = int(input(\"Enter first number: \"))\n",
    "b = int(input(\"Enter second number: \"))\n",
    "for n in range(a,b+1):\n",
    "    if (n%2==0):\n",
    "        continue\n",
    "    elif (n%10==0):\n",
    "        break\n",
    "    print (n)"
   ]
  }
 ],
 "metadata": {
  "kernelspec": {
   "display_name": "Python [conda env:base] *",
   "language": "python",
   "name": "conda-base-py"
  },
  "language_info": {
   "codemirror_mode": {
    "name": "ipython",
    "version": 3
   },
   "file_extension": ".py",
   "mimetype": "text/x-python",
   "name": "python",
   "nbconvert_exporter": "python",
   "pygments_lexer": "ipython3",
   "version": "3.11.5"
  }
 },
 "nbformat": 4,
 "nbformat_minor": 5
}
