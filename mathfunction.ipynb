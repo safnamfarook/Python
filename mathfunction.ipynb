{
 "cells": [
  {
   "cell_type": "code",
   "execution_count": 10,
   "id": "419f3191-cda4-43f9-b33c-3bd768a3b76b",
   "metadata": {},
   "outputs": [],
   "source": [
    "import math"
   ]
  },
  {
   "cell_type": "code",
   "execution_count": 13,
   "id": "6c3b4452-39ef-4f6e-80cf-07491c2bd55f",
   "metadata": {},
   "outputs": [
    {
     "name": "stdout",
     "output_type": "stream",
     "text": [
      "The ceil of a is 9\n",
      "The ceil of b is -2\n"
     ]
    }
   ],
   "source": [
    "# ceil()\n",
    "a = 8.9\n",
    "print(\"The ceil of a is\",end=\" \")\n",
    "print(math.ceil(a))\n",
    "\n",
    "b = -2.7\n",
    "print(\"The ceil of b is\",end=\" \")\n",
    "print(math.ceil(b))"
   ]
  },
  {
   "cell_type": "code",
   "execution_count": 15,
   "id": "307925fe-b323-4391-ba78-10b59d360165",
   "metadata": {
    "tags": []
   },
   "outputs": [
    {
     "name": "stdin",
     "output_type": "stream",
     "text": [
      "Enter your mark: 5\n"
     ]
    },
    {
     "name": "stdout",
     "output_type": "stream",
     "text": [
      "The floor of a is  5\n"
     ]
    }
   ],
   "source": [
    "# floor()\n",
    "\n",
    "a = float(input(\"Enter your mark:\"))\n",
    "print(\"The floor of a is \",end=\" \")\n",
    "print(math.floor(a))"
   ]
  },
  {
   "cell_type": "code",
   "execution_count": 17,
   "id": "d8e31a62-f122-482b-ae53-23074588c80a",
   "metadata": {
    "tags": []
   },
   "outputs": [
    {
     "name": "stdout",
     "output_type": "stream",
     "text": [
      "The absolute value of a : 10.5\n",
      "The absolute value of b : 5.0\n"
     ]
    }
   ],
   "source": [
    "# fabs()\n",
    "\n",
    "a = -10.5\n",
    "b = 5\n",
    "print(\"The absolute value of a :\",end=\" \")\n",
    "print(math.fabs(a))\n",
    "print(\"The absolute value of b :\",end=\" \")\n",
    "print(math.fabs(b))"
   ]
  },
  {
   "cell_type": "code",
   "execution_count": 19,
   "id": "73858adf-0bd8-489f-8c6e-6e7f1292f64f",
   "metadata": {
    "tags": []
   },
   "outputs": [
    {
     "name": "stdin",
     "output_type": "stream",
     "text": [
      "Enter the number : 3\n"
     ]
    },
    {
     "name": "stdout",
     "output_type": "stream",
     "text": [
      "The factorial of a : 6\n"
     ]
    }
   ],
   "source": [
    "# factorial()\n",
    "\n",
    "a = int(input(\"Enter the number :\"))\n",
    "print(\"The factorial of a :\", end=\" \")\n",
    "print(math.factorial(a))"
   ]
  },
  {
   "cell_type": "code",
   "execution_count": 21,
   "id": "984a8935-6b0f-4f2a-99bb-27448edb2a2d",
   "metadata": {
    "tags": []
   },
   "outputs": [
    {
     "name": "stdout",
     "output_type": "stream",
     "text": [
      "The copy signed value of a and b : -5.5\n",
      "The copy signed value of -10 and 5.5 : 10.0\n"
     ]
    }
   ],
   "source": [
    "# copysign() - returns value of a and sign of b, result in float\n",
    "a = 5.5\n",
    "b = -10\n",
    "print(\"The copy signed value of a and b :\",end=\" \")\n",
    "print(math.copysign(a,b))\n",
    "print(\"The copy signed value of -10 and 5.5 :\",end=\" \")\n",
    "print(math.copysign(-10,5.5))"
   ]
  },
  {
   "cell_type": "code",
   "execution_count": 23,
   "id": "f45c1695-903b-4575-aa73-814db03e2633",
   "metadata": {
    "tags": []
   },
   "outputs": [
    {
     "name": "stdin",
     "output_type": "stream",
     "text": [
      "Enter the first number : 7\n",
      "Enter the second number : 4\n"
     ]
    },
    {
     "name": "stdout",
     "output_type": "stream",
     "text": [
      "The gcd of x and y : 1\n",
      "The gcd of 15 and 5 : 5\n"
     ]
    }
   ],
   "source": [
    "# gcd() - returns the highest common number\n",
    "\n",
    "x = int(input(\"Enter the first number :\"))\n",
    "y = int(input(\"Enter the second number :\"))\n",
    "print(\"The gcd of x and y :\",end=\" \")\n",
    "print(math.gcd(x,y))\n",
    "print(\"The gcd of 15 and 5 :\",end=\" \")\n",
    "print(math.gcd(15,5))"
   ]
  },
  {
   "cell_type": "code",
   "execution_count": 25,
   "id": "afb9d6b6-cc99-457a-94eb-47a2915f9df1",
   "metadata": {
    "tags": []
   },
   "outputs": [
    {
     "name": "stdin",
     "output_type": "stream",
     "text": [
      "Enter the  number : 6\n"
     ]
    },
    {
     "name": "stdout",
     "output_type": "stream",
     "text": [
      "The square root of  6  is 2.449489742783178\n"
     ]
    }
   ],
   "source": [
    "# square root sqrt()\n",
    "\n",
    "x = int(input(\"Enter the  number :\"))\n",
    "print(\"The square root of \",x,\" is\",math.sqrt(x))"
   ]
  },
  {
   "cell_type": "code",
   "execution_count": 27,
   "id": "5337bd16-b0fb-40e8-a305-ab69ce83c0a1",
   "metadata": {
    "tags": []
   },
   "outputs": [
    {
     "name": "stdout",
     "output_type": "stream",
     "text": [
      "e ^ 3 : 20.085536923187668\n"
     ]
    }
   ],
   "source": [
    "# exponent() exp() e=2.718281...\n",
    "\n",
    "y = 3\n",
    "print(\"e ^\",y,\":\",math.exp(y))"
   ]
  },
  {
   "cell_type": "code",
   "execution_count": 12,
   "id": "b25faf10-a08f-406b-9cd4-2dd860e82f58",
   "metadata": {
    "tags": []
   },
   "outputs": [
    {
     "name": "stdout",
     "output_type": "stream",
     "text": [
      "2 ^  5 : 32.0\n"
     ]
    }
   ],
   "source": [
    "# power pow(x,y)\n",
    "base=2\n",
    "x=5\n",
    "print(base,\"^ \",x,\":\",math.pow(base,x))"
   ]
  },
  {
   "cell_type": "code",
   "execution_count": 29,
   "id": "fda2eba9-539f-4496-8cfe-a36ee41037cc",
   "metadata": {
    "tags": []
   },
   "outputs": [
    {
     "name": "stdout",
     "output_type": "stream",
     "text": [
      "The log of  16 to the base  2 : 4.0\n"
     ]
    }
   ],
   "source": [
    "# log(x,y)\n",
    "\n",
    "base = 2\n",
    "x = 16\n",
    "print(\"The log of \",x,\"to the base \",base,\":\",math.log(x,base))"
   ]
  },
  {
   "cell_type": "code",
   "execution_count": 31,
   "id": "13ca1a30-b461-4856-99fa-872f4c46edec",
   "metadata": {
    "tags": []
   },
   "outputs": [
    {
     "name": "stdout",
     "output_type": "stream",
     "text": [
      "Pi value : 3.141592653589793\n"
     ]
    }
   ],
   "source": [
    "# pi\n",
    "\n",
    "print(\"Pi value :\",math.pi)"
   ]
  },
  {
   "cell_type": "code",
   "execution_count": 35,
   "id": "4b924cdc-9e28-4149-9803-a25d6af1425c",
   "metadata": {
    "tags": []
   },
   "outputs": [
    {
     "name": "stdout",
     "output_type": "stream",
     "text": [
      "e value : 2.718281828459045\n"
     ]
    }
   ],
   "source": [
    "# e\n",
    "\n",
    "print(\"e value :\",math.e)"
   ]
  },
  {
   "cell_type": "code",
   "execution_count": 37,
   "id": "2d9cdd37-240c-4f18-afde-f4af9e568dbe",
   "metadata": {
    "tags": []
   },
   "outputs": [
    {
     "name": "stdout",
     "output_type": "stream",
     "text": [
      "Radian of 90 degree: 1.5707963267948966\n",
      "Radian of 45 degree: 0.7853981633974483\n"
     ]
    }
   ],
   "source": [
    "# radians(x)\n",
    "\n",
    "print(\"Radian of 90 degree:\",math.radians(90))\n",
    "print(\"Radian of 45 degree:\",math.radians(45))"
   ]
  },
  {
   "cell_type": "code",
   "execution_count": 41,
   "id": "3eb0fed4-a40e-4569-960a-9e39fca3532b",
   "metadata": {
    "tags": []
   },
   "outputs": [
    {
     "name": "stdout",
     "output_type": "stream",
     "text": [
      "Degree of pi/2: 90.0\n",
      "Degree of pi/5: 36.0\n"
     ]
    }
   ],
   "source": [
    "# degrees(x)\n",
    "\n",
    "print(\"Degree of pi/2:\",math.degrees(math.pi/2))\n",
    "print(\"Degree of pi/5:\",math.degrees(math.pi/5))"
   ]
  },
  {
   "cell_type": "code",
   "execution_count": 45,
   "id": "b31b42a4-01d0-4f35-9bcc-f655f95107b2",
   "metadata": {},
   "outputs": [
    {
     "name": "stdin",
     "output_type": "stream",
     "text": [
      "Enter your name: safna\n",
      "Enter your age: 5\n",
      "Enter your mark: 7\n"
     ]
    }
   ],
   "source": [
    "a = input(\"Enter your name:\")\n",
    "b = int(input(\"Enter your age:\")) #integer\n",
    "c = float(input('Enter your mark:')) #decimal"
   ]
  },
  {
   "cell_type": "code",
   "execution_count": 49,
   "id": "05c3657c-b705-4dc2-aeab-8e7a99459d4e",
   "metadata": {},
   "outputs": [
    {
     "name": "stdout",
     "output_type": "stream",
     "text": [
      "<class 'str'>\n",
      "<class 'int'>\n",
      "<class 'float'>\n"
     ]
    }
   ],
   "source": [
    "print (type(a))\n",
    "print (type(b))\n",
    "print (type(c))"
   ]
  },
  {
   "cell_type": "code",
   "execution_count": 53,
   "id": "fea9a611-80d2-46b5-8948-e5159dde4d7c",
   "metadata": {},
   "outputs": [
    {
     "name": "stdout",
     "output_type": "stream",
     "text": [
      "The square root of 16 is: 4.0\n"
     ]
    }
   ],
   "source": [
    "def calculate_square_root(number):\n",
    "    if number < 0:\n",
    "        return \"Cannot calculate the square root of a negative number.\"\n",
    "    square_root = math.sqrt(number)\n",
    "    return square_root\n",
    "number = 16\n",
    "result = calculate_square_root(number)\n",
    "print(f\"The square root of {number} is: {result}\")"
   ]
  },
  {
   "cell_type": "code",
   "execution_count": 55,
   "id": "98c8abc5-5317-4387-970e-da06a03bd0d3",
   "metadata": {},
   "outputs": [
    {
     "name": "stdout",
     "output_type": "stream",
     "text": [
      "The area of a circle with radius 5 is: 78.54\n"
     ]
    }
   ],
   "source": [
    "def calculate_circle_area(radius):\n",
    "    if radius < 0:\n",
    "        return \"Radius cannot be negative.\"\n",
    "    area = math.pi * (radius ** 2)\n",
    "    return area\n",
    "radius = 5\n",
    "area = calculate_circle_area(radius)\n",
    "print(f\"The area of a circle with radius {radius} is: {area:.2f}\")"
   ]
  },
  {
   "cell_type": "code",
   "execution_count": 57,
   "id": "0eba8baa-9e3a-4068-a8da-5372c67ce872",
   "metadata": {},
   "outputs": [
    {
     "name": "stdout",
     "output_type": "stream",
     "text": [
      "The larger number between 10 and 20 is: 20\n"
     ]
    }
   ],
   "source": [
    "def find_larger_number(num1, num2):\n",
    "    return max(num1, num2)\n",
    "number1 = 10\n",
    "number2 = 20\n",
    "larger_number = find_larger_number(number1, number2)\n",
    "print(f\"The larger number between {number1} and {number2} is: {larger_number}\")"
   ]
  },
  {
   "cell_type": "code",
   "execution_count": 59,
   "id": "bdfbbe3d-94e9-4be9-ab1c-6547354184f1",
   "metadata": {},
   "outputs": [
    {
     "name": "stdout",
     "output_type": "stream",
     "text": [
      "The smaller number between 15 and 10 is: 10\n"
     ]
    }
   ],
   "source": [
    "def find_smaller_number(num1, num2):\n",
    "    return min(num1, num2)\n",
    "number1 = 15\n",
    "number2 = 10\n",
    "smaller_number = find_smaller_number(number1, number2)\n",
    "print(f\"The smaller number between {number1} and {number2} is: {smaller_number}\")"
   ]
  },
  {
   "cell_type": "code",
   "execution_count": 61,
   "id": "c244ff98-d00d-4f83-98a6-2bb282baf814",
   "metadata": {},
   "outputs": [
    {
     "name": "stdout",
     "output_type": "stream",
     "text": [
      "The factorial of 5 is: 120\n"
     ]
    }
   ],
   "source": [
    "def factorial(n):\n",
    "    if n < 0:\n",
    "        return \"Factorial is not defined for negative numbers.\"\n",
    "    elif n == 0 or n == 1: \n",
    "        return 1\n",
    "    else:\n",
    "        return n * factorial(n - 1) \n",
    "number = 5\n",
    "result = factorial(number)\n",
    "print(f\"The factorial of {number} is: {result}\")"
   ]
  },
  {
   "cell_type": "code",
   "execution_count": 63,
   "id": "79053c10-8982-40be-b98a-9da27eacf3a2",
   "metadata": {},
   "outputs": [
    {
     "name": "stdout",
     "output_type": "stream",
     "text": [
      "25°C is equal to 77.00°F\n"
     ]
    }
   ],
   "source": [
    "def celsius_to_fahrenheit(celsius):\n",
    "    fahrenheit = (celsius * 9/5) + 32\n",
    "    return fahrenheit\n",
    "celsius_temp = 25\n",
    "fahrenheit_temp = celsius_to_fahrenheit(celsius_temp)\n",
    "print(f\"{celsius_temp}°C is equal to {fahrenheit_temp:.2f}°F\")"
   ]
  },
  {
   "cell_type": "code",
   "execution_count": 65,
   "id": "68e0f271-d41d-4672-a5b6-e1ba37fb02df",
   "metadata": {},
   "outputs": [
    {
     "name": "stdout",
     "output_type": "stream",
     "text": [
      "2 raised to the power of 3 is: 8\n"
     ]
    }
   ],
   "source": [
    "def power(base, exponent):\n",
    "    result = base ** exponent\n",
    "    return result\n",
    "number1 = 2\n",
    "number2 = 3\n",
    "result = power(number1, number2)\n",
    "print(f\"{number1} raised to the power of {number2} is: {result}\")"
   ]
  },
  {
   "cell_type": "code",
   "execution_count": 67,
   "id": "7724f4f4-cfae-4de0-92e4-b8b54fcdb64b",
   "metadata": {},
   "outputs": [
    {
     "name": "stdout",
     "output_type": "stream",
     "text": [
      "The greatest common divisor of 48 and 18 is: 6\n"
     ]
    }
   ],
   "source": [
    "def gcd(a, b):\n",
    "    a = abs(a)\n",
    "    b = abs(b)\n",
    "    while b != 0:\n",
    "        a, b = b, a % b\n",
    "    return a\n",
    "num1 = 48\n",
    "num2 = 18\n",
    "result = gcd(num1, num2)\n",
    "print(f\"The greatest common divisor of {num1} and {num2} is: {result}\")"
   ]
  },
  {
   "cell_type": "code",
   "execution_count": 69,
   "id": "8b1f0c04-72a0-4e91-98ec-8a438e07ed80",
   "metadata": {},
   "outputs": [
    {
     "name": "stdout",
     "output_type": "stream",
     "text": [
      "The natural logarithm of 10 is: 2.3026\n"
     ]
    }
   ],
   "source": [
    "def natural_logarithm(number):\n",
    "    if number <= 0:\n",
    "        return \"Natural logarithm is not defined for non-positive numbers.\"\n",
    "    log_value = math.log(number)\n",
    "    return log_value\n",
    "number = 10\n",
    "result = natural_logarithm(number)\n",
    "print(f\"The natural logarithm of {number} is: {result:.4f}\")"
   ]
  },
  {
   "cell_type": "code",
   "execution_count": 71,
   "id": "94bc2991-13d5-452d-9829-5b89632fe7f3",
   "metadata": {},
   "outputs": [
    {
     "name": "stdout",
     "output_type": "stream",
     "text": [
      "The ceiling of 5.3 is: 6\n"
     ]
    }
   ],
   "source": [
    "def ceiling_value(number):\n",
    "    return math.ceil(number)\n",
    "number = 5.3\n",
    "result = ceiling_value(number)\n",
    "print(f\"The ceiling of {number} is: {result}\")"
   ]
  }
 ],
 "metadata": {
  "kernelspec": {
   "display_name": "Python [conda env:base] *",
   "language": "python",
   "name": "conda-base-py"
  },
  "language_info": {
   "codemirror_mode": {
    "name": "ipython",
    "version": 3
   },
   "file_extension": ".py",
   "mimetype": "text/x-python",
   "name": "python",
   "nbconvert_exporter": "python",
   "pygments_lexer": "ipython3",
   "version": "3.11.5"
  }
 },
 "nbformat": 4,
 "nbformat_minor": 5
}
