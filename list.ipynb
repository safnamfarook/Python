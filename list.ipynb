{
 "cells": [
  {
   "cell_type": "code",
   "execution_count": 12,
   "id": "6f8d517a-0cd1-4e30-862c-9d29a3480880",
   "metadata": {},
   "outputs": [
    {
     "name": "stdout",
     "output_type": "stream",
     "text": [
      "[10, 20, 30, 40, 50, 60, 70, 80, 90]\n"
     ]
    }
   ],
   "source": [
    "#List\n",
    "\n",
    "L1 = [10,20,30,40,50,60,70,80,90]\n",
    "print (L1)"
   ]
  },
  {
   "cell_type": "code",
   "execution_count": 14,
   "id": "c8b9c622-ee95-4037-b093-4fe9c6a7936e",
   "metadata": {},
   "outputs": [
    {
     "data": {
      "text/plain": [
       "10"
      ]
     },
     "execution_count": 14,
     "metadata": {},
     "output_type": "execute_result"
    }
   ],
   "source": [
    "#Access elements from list\n",
    "\n",
    "L1[0]"
   ]
  },
  {
   "cell_type": "code",
   "execution_count": 16,
   "id": "1a54929d-d985-4802-a1e1-014c75b939cb",
   "metadata": {},
   "outputs": [
    {
     "name": "stdout",
     "output_type": "stream",
     "text": [
      "40\n",
      "80\n"
     ]
    }
   ],
   "source": [
    "print (L1[3])\n",
    "print (L1[7])"
   ]
  },
  {
   "cell_type": "code",
   "execution_count": 20,
   "id": "562fd9de-a20a-4185-9604-0df76d7208a0",
   "metadata": {},
   "outputs": [
    {
     "name": "stdout",
     "output_type": "stream",
     "text": [
      "[100, 200, 300]\n",
      "200\n",
      "Mouse\n",
      "s\n",
      "100\n",
      "30\n",
      "e\n",
      "['Mouse', 10, 20, [100, 200, 300]]\n"
     ]
    }
   ],
   "source": [
    "#Nested list\n",
    "\n",
    "L2 = [\"Mouse\",10,20,[100,200,300],30]\n",
    "print (L2[3])\n",
    "print (L2[3][1])\n",
    "print (L2[0])\n",
    "print (L2[0][3])\n",
    "print (L2[3][0])\n",
    "print (L2[4])\n",
    "print (L2[0][4])\n",
    "print (L2[0:4])"
   ]
  },
  {
   "cell_type": "code",
   "execution_count": 34,
   "id": "0a32e329-beb1-48e5-8e3f-f34c7d000a23",
   "metadata": {},
   "outputs": [
    {
     "name": "stdout",
     "output_type": "stream",
     "text": [
      "500\n",
      "300\n",
      "[200, 300, 400]\n",
      "[200, 300]\n",
      "[300, 400, 500]\n"
     ]
    }
   ],
   "source": [
    "#Using negative index and slicing\n",
    "\n",
    "L3 = [200,300,400,500]\n",
    "print (L3[-1])\n",
    "print (L3[-3])\n",
    "print (L3[0:3])\n",
    "print (L3[:2])\n",
    "print (L3[1:])"
   ]
  },
  {
   "cell_type": "code",
   "execution_count": 66,
   "id": "12e799fa-e672-4acf-b77c-2b8ac1312a74",
   "metadata": {},
   "outputs": [
    {
     "name": "stdout",
     "output_type": "stream",
     "text": [
      "['p', 'r', 'o', 'g', 'r', 'a', 'm', 'm', 'e', 'r']\n",
      "['p', 'r', 'o', 'g', 'r', 'a', 'm', 'm', 'e', 'r']\n",
      "o\n",
      "r\n",
      "p\n",
      "['r', 'o', 'g', 'r']\n",
      "['p', 'r', 'o', 'g', 'r', 'a', 'm']\n",
      "['g', 'r', 'a', 'm']\n",
      "e\n",
      "['r', 'a', 'm', 'm', 'e', 'r']\n"
     ]
    }
   ],
   "source": [
    "L = ['p','r','o','g','r','a','m','m','e','r']\n",
    "\n",
    "print (L)\n",
    "print (L[:10])\n",
    "print (L[2])\n",
    "print (L[-1])\n",
    "print (L[0])\n",
    "print (L[1:5])\n",
    "print (L[0:7])\n",
    "print (L[3:7])\n",
    "print (L[-2])\n",
    "print (L[4:])"
   ]
  },
  {
   "cell_type": "code",
   "execution_count": 70,
   "id": "19ffb138-dd37-4c76-b6ab-e5ae879d513c",
   "metadata": {},
   "outputs": [
    {
     "name": "stdout",
     "output_type": "stream",
     "text": [
      "[1, 4, 6, 8]\n",
      "[1, 4, 6, 5]\n",
      "[1, 4, 7, 9]\n",
      "[1, 3, 5, 7]\n"
     ]
    }
   ],
   "source": [
    "#Update an element\n",
    "\n",
    "odd = [2,4,6,8]\n",
    "odd[0] = 1\n",
    "print (odd)\n",
    "odd[3] = 5\n",
    "print (odd)\n",
    "odd[2:] = [7,9]\n",
    "print (odd)\n",
    "odd[1:] = [3,5,7]\n",
    "print (odd)"
   ]
  },
  {
   "cell_type": "code",
   "execution_count": 72,
   "id": "06b11978-e6a1-4eb0-81ca-6f5972c7636c",
   "metadata": {},
   "outputs": [
    {
     "data": {
      "text/plain": [
       "['a', 'x', 'y', 'z', 'e']"
      ]
     },
     "execution_count": 72,
     "metadata": {},
     "output_type": "execute_result"
    }
   ],
   "source": [
    "li = [\"a\",\"b\",\"c\",\"d\",\"e\"]\n",
    "li[1:4]=[\"x\",\"y\",\"z\"]\n",
    "li"
   ]
  },
  {
   "cell_type": "code",
   "execution_count": 77,
   "id": "1b6dda60-c9df-4e7b-bf5e-bc55dabb11aa",
   "metadata": {},
   "outputs": [
    {
     "name": "stdout",
     "output_type": "stream",
     "text": [
      "[2, 4, 6, 8, 10, 12, 14]\n",
      "[2, 4, 6, 8, 10, 12, 14, 16]\n"
     ]
    }
   ],
   "source": [
    "#Append an element\n",
    "\n",
    "l=[2,4,6,8,10,12]\n",
    "l.append(14)\n",
    "print(l)\n",
    "l.append(16)\n",
    "print(l)"
   ]
  },
  {
   "cell_type": "code",
   "execution_count": 81,
   "id": "004195c9-035d-4f62-8dfd-f11adfa9a857",
   "metadata": {},
   "outputs": [
    {
     "name": "stdout",
     "output_type": "stream",
     "text": [
      "[2, 4, 6, 8, 10, 12, 18, 20, 22, 24]\n",
      "10\n"
     ]
    }
   ],
   "source": [
    "l=[2,4,6,8,10,12]\n",
    "\n",
    "#Extend more than one element\n",
    "l.extend([18,20,22,24])\n",
    "print(l)\n",
    "\n",
    "#Length of the list\n",
    "print(len(l))"
   ]
  },
  {
   "cell_type": "code",
   "execution_count": 87,
   "id": "1abd1406-7241-4690-bcc5-810f5b940de7",
   "metadata": {},
   "outputs": [
    {
     "name": "stdout",
     "output_type": "stream",
     "text": [
      "[1, 3, 5, 7, 9, 2, 4, 6, 8, 10]\n",
      "[1, 3, 5, 7, 9, 20, 30, 40]\n"
     ]
    }
   ],
   "source": [
    "# +operator/concatenation\n",
    "\n",
    "l1=[1,3,5,7,9]\n",
    "l2=[2,4,6,8,10]\n",
    "print(l1+l2)\n",
    "print(l1+[20,30,40])"
   ]
  },
  {
   "cell_type": "code",
   "execution_count": 89,
   "id": "2728f451-ee60-439e-89e4-44e87474a815",
   "metadata": {},
   "outputs": [
    {
     "name": "stdout",
     "output_type": "stream",
     "text": [
      "[2, 4, 6, 2, 4, 6, 2, 4, 6]\n",
      "hi hi hi hi hi hi \n"
     ]
    }
   ],
   "source": [
    "# *operator/repitition\n",
    "\n",
    "print([2,4,6]*3)\n",
    "print(\"hi \"*6)"
   ]
  },
  {
   "cell_type": "code",
   "execution_count": 186,
   "id": "400ab505-f7c3-4358-ab50-9cfe75a470db",
   "metadata": {},
   "outputs": [
    {
     "name": "stdout",
     "output_type": "stream",
     "text": [
      "[1, 3, 9]\n",
      "[1, 3, 5, 7, 11, 15, 19]\n"
     ]
    }
   ],
   "source": [
    "# Insert\n",
    "odd=[1,9]\n",
    "odd.insert(1,3)\n",
    "\n",
    "print(odd)\n",
    "\n",
    "odd[2:3]=[5,7,11,15,19]\n",
    "print(odd)"
   ]
  },
  {
   "cell_type": "code",
   "execution_count": 190,
   "id": "580e85d7-777a-4916-a281-a32a7d40ac2f",
   "metadata": {},
   "outputs": [
    {
     "name": "stdout",
     "output_type": "stream",
     "text": [
      "['p', 'r', 'b', 'l', 'e', 'm']\n",
      "['p', 'r', 'b', 'e', 'm']\n",
      "['b', 'e', 'm']\n",
      "['b']\n",
      "[]\n"
     ]
    }
   ],
   "source": [
    "# Delete\n",
    "l=['p','r','o','b','l','e','m']\n",
    "del l[2]\n",
    "print(l)\n",
    "\n",
    "del l[3]\n",
    "print(l)\n",
    "\n",
    "del l[:2]\n",
    "print(l)\n",
    "\n",
    "del l[1:]\n",
    "print(l)\n",
    "\n",
    "# Clear\n",
    "l.clear()\n",
    "print(l)\n",
    "\n",
    "# Delete a list\n",
    "del l"
   ]
  },
  {
   "cell_type": "code",
   "execution_count": 104,
   "id": "5d23b01b-13c9-40a7-a152-e24cff9bf912",
   "metadata": {},
   "outputs": [
    {
     "name": "stdout",
     "output_type": "stream",
     "text": [
      "['p', 'o', 'b', 'l', 'e', 'm']\n",
      "['p', 'o', 'b', 'e', 'm']\n",
      "m\n",
      "['p', 'o', 'b', 'e']\n",
      "o\n",
      "['p', 'b', 'e']\n"
     ]
    }
   ],
   "source": [
    "# Remove\n",
    "t=['p','r','o','b','l','e','m']\n",
    "t.remove('r')\n",
    "print(t)\n",
    "t.remove('l')\n",
    "print(t)\n",
    "\n",
    "# Pop\n",
    "print(t.pop())\n",
    "print(t)\n",
    "print(t.pop(1))\n",
    "print(t)"
   ]
  },
  {
   "cell_type": "code",
   "execution_count": 188,
   "id": "401bc480-cdfe-4162-be85-586aaa51062e",
   "metadata": {},
   "outputs": [
    {
     "name": "stdout",
     "output_type": "stream",
     "text": [
      "1\n",
      "2\n",
      "[0, 1, 3, 4, 6, 8, 8]\n",
      "[8, 8, 6, 4, 3, 1, 0]\n"
     ]
    }
   ],
   "source": [
    "# To find index position\n",
    "m=[3,8,1,6,0,8,4]\n",
    "print(m.index(8))\n",
    "\n",
    "# Count operation\n",
    "print(m.count(8))\n",
    "\n",
    "# Sort the list/Ascending\n",
    "m.sort()\n",
    "print(m)\n",
    "\n",
    "# Reverse/Descending\n",
    "m.reverse()\n",
    "print(m)"
   ]
  },
  {
   "cell_type": "code",
   "execution_count": 111,
   "id": "46a38b73-24ca-4b5c-a898-b20ec8fe6a2a",
   "metadata": {},
   "outputs": [
    {
     "data": {
      "text/plain": [
       "[1, 2, 3]"
      ]
     },
     "execution_count": 111,
     "metadata": {},
     "output_type": "execute_result"
    }
   ],
   "source": [
    "n=[1,2,3]\n",
    "t=n.copy()\n",
    "t"
   ]
  },
  {
   "cell_type": "code",
   "execution_count": 114,
   "id": "43408815-cfd5-423c-85d1-f5d5791aa3e3",
   "metadata": {},
   "outputs": [
    {
     "name": "stdout",
     "output_type": "stream",
     "text": [
      "R\n",
      "R\n",
      "M\n",
      "S\n"
     ]
    }
   ],
   "source": [
    "L=[\"RAJU\",\"RADHA\",\"MANU\",\"SANU\"]\n",
    "print(L[0][0])\n",
    "print(L[1][0])\n",
    "print(L[2][0])\n",
    "print(L[3][0])"
   ]
  },
  {
   "cell_type": "code",
   "execution_count": 119,
   "id": "fe6a8ab2-babf-4814-ba4a-431ea5926391",
   "metadata": {},
   "outputs": [
    {
     "data": {
      "text/plain": [
       "['R', 'R', 'M', 'S']"
      ]
     },
     "execution_count": 119,
     "metadata": {},
     "output_type": "execute_result"
    }
   ],
   "source": [
    "l=[]\n",
    "l.append(L[0][0])\n",
    "l.append(L[1][0])\n",
    "l.append(L[2][0])\n",
    "l.append(L[3][0])\n",
    "l"
   ]
  },
  {
   "cell_type": "code",
   "execution_count": 126,
   "id": "4f136c10-a048-4c3d-944c-5f76e0fe2418",
   "metadata": {},
   "outputs": [
    {
     "data": {
      "text/plain": [
       "['t', 'e', 'c', 'c', 'h', 'o', 'l', 'a', 's']"
      ]
     },
     "execution_count": 126,
     "metadata": {},
     "output_type": "execute_result"
    }
   ],
   "source": [
    "li=[\"t\",\"e\",\"c\",\"h\",\"o\",\"l\",\"a\",\"s\"]\n",
    "li.index('o')\n",
    "li\n",
    "li.append('s')\n",
    "li\n",
    "li.remove(\"s\")\n",
    "li\n",
    "li.insert(3,\"c\")\n",
    "li"
   ]
  },
  {
   "cell_type": "code",
   "execution_count": 205,
   "id": "dd5b2b11-e4e2-4e3a-b1f8-6fd44dadfd1e",
   "metadata": {},
   "outputs": [],
   "source": [
    "li=[10,\"Ram\",20,[300,400,\"MANU\"],30,40]"
   ]
  },
  {
   "cell_type": "code",
   "execution_count": 203,
   "id": "1efab5b8-001b-4d87-b2f2-afec99b07ef4",
   "metadata": {},
   "outputs": [
    {
     "data": {
      "text/plain": [
       "'a'"
      ]
     },
     "execution_count": 203,
     "metadata": {},
     "output_type": "execute_result"
    }
   ],
   "source": [
    "li[1][1]"
   ]
  },
  {
   "cell_type": "code",
   "execution_count": 207,
   "id": "9bdc3eea-0ed8-47b4-b740-31bc7acf1895",
   "metadata": {},
   "outputs": [
    {
     "data": {
      "text/plain": [
       "'Ram'"
      ]
     },
     "execution_count": 207,
     "metadata": {},
     "output_type": "execute_result"
    }
   ],
   "source": [
    "li[1]"
   ]
  },
  {
   "cell_type": "code",
   "execution_count": 213,
   "id": "c1e9671a-c722-4e7f-8c50-f1915b3221df",
   "metadata": {},
   "outputs": [
    {
     "data": {
      "text/plain": [
       "['Ram']"
      ]
     },
     "execution_count": 213,
     "metadata": {},
     "output_type": "execute_result"
    }
   ],
   "source": [
    "li[1:2]"
   ]
  },
  {
   "cell_type": "code",
   "execution_count": 217,
   "id": "fc9dbe82-064c-4c4d-9d58-b813b89a0762",
   "metadata": {},
   "outputs": [
    {
     "data": {
      "text/plain": [
       "'N'"
      ]
     },
     "execution_count": 217,
     "metadata": {},
     "output_type": "execute_result"
    }
   ],
   "source": [
    "li[3][2][2]"
   ]
  },
  {
   "cell_type": "code",
   "execution_count": 221,
   "id": "ec14c987-b21a-4e05-bb56-eb5e74a8e9cd",
   "metadata": {},
   "outputs": [
    {
     "data": {
      "text/plain": [
       "[30, 40]"
      ]
     },
     "execution_count": 221,
     "metadata": {},
     "output_type": "execute_result"
    }
   ],
   "source": [
    "li[4:]"
   ]
  },
  {
   "cell_type": "code",
   "execution_count": 225,
   "id": "fd016d89-b2f9-479d-9d0a-41378b329a58",
   "metadata": {},
   "outputs": [
    {
     "data": {
      "text/plain": [
       "[[300, 400, 'MANU'], 30, 40]"
      ]
     },
     "execution_count": 225,
     "metadata": {},
     "output_type": "execute_result"
    }
   ],
   "source": [
    "li[3:]"
   ]
  },
  {
   "cell_type": "code",
   "execution_count": 233,
   "id": "e2fa9300-a659-40ee-8610-dc2920c421f7",
   "metadata": {},
   "outputs": [
    {
     "data": {
      "text/plain": [
       "[10, 'Ram', 200, [300, 400, 'MANU'], 30, 40]"
      ]
     },
     "execution_count": 233,
     "metadata": {},
     "output_type": "execute_result"
    }
   ],
   "source": [
    "li[2]=200\n",
    "li"
   ]
  },
  {
   "cell_type": "code",
   "execution_count": 238,
   "id": "669ac5ef-24c8-4e1e-8f2d-537e12a314c0",
   "metadata": {},
   "outputs": [
    {
     "data": {
      "text/plain": [
       "[[300, 400, 'MANU'], 'Ram', 200, [300, 400, 'MANU'], 30, 40]"
      ]
     },
     "execution_count": 238,
     "metadata": {},
     "output_type": "execute_result"
    }
   ],
   "source": [
    "li[0]=li[3]\n",
    "li"
   ]
  },
  {
   "cell_type": "code",
   "execution_count": 245,
   "id": "a45af4de-378f-4edc-b8cf-84486c7782b6",
   "metadata": {},
   "outputs": [
    {
     "data": {
      "text/plain": [
       "[[300, 400, 'MANU'], 'Ram', 200, [300, 400, 'MANU'], 310, 410]"
      ]
     },
     "execution_count": 245,
     "metadata": {},
     "output_type": "execute_result"
    }
   ],
   "source": [
    "li[4]=310\n",
    "li[5]=410\n",
    "li"
   ]
  },
  {
   "cell_type": "code",
   "execution_count": 250,
   "id": "0a62d9ad-5491-4e6e-b412-6e1ab41df1c0",
   "metadata": {},
   "outputs": [
    {
     "data": {
      "text/plain": [
       "[[300, 400, 'MANU'], 'Ram', 'z', [300, 400, 'MANU'], 310, 410]"
      ]
     },
     "execution_count": 250,
     "metadata": {},
     "output_type": "execute_result"
    }
   ],
   "source": [
    "li[2]=\"z\"\n",
    "li"
   ]
  },
  {
   "cell_type": "code",
   "execution_count": 269,
   "id": "93b3a701-3f8c-4f4a-91ba-d3ee157b0e8d",
   "metadata": {},
   "outputs": [
    {
     "data": {
      "text/plain": [
       "[10, 'Ram', 20, [300, 400, 'MANU'], 30]"
      ]
     },
     "execution_count": 269,
     "metadata": {},
     "output_type": "execute_result"
    }
   ],
   "source": [
    "li=[10,\"Ram\",20,[300,400,\"MANU\"],30,40]\n",
    "li.pop()\n",
    "li"
   ]
  },
  {
   "cell_type": "code",
   "execution_count": 275,
   "id": "a06f2202-15f6-4c37-835f-ccbfdd58e7c5",
   "metadata": {},
   "outputs": [
    {
     "data": {
      "text/plain": [
       "5667"
      ]
     },
     "execution_count": 275,
     "metadata": {},
     "output_type": "execute_result"
    }
   ],
   "source": [
    "a=[10,24,45,678,34,5667,18,78]\n",
    "max(a)"
   ]
  },
  {
   "cell_type": "code",
   "execution_count": 277,
   "id": "31740fbb-4eda-42c3-bc43-12fc29c0d37d",
   "metadata": {},
   "outputs": [
    {
     "data": {
      "text/plain": [
       "10"
      ]
     },
     "execution_count": 277,
     "metadata": {},
     "output_type": "execute_result"
    }
   ],
   "source": [
    "a=[10,24,45,678,34,5667,18,78]\n",
    "min(a)"
   ]
  },
  {
   "cell_type": "code",
   "execution_count": 288,
   "id": "cb8cbd7b-4a2a-4a06-9616-bd7b0ed82431",
   "metadata": {},
   "outputs": [
    {
     "data": {
      "text/plain": [
       "[78, 18, 5667, 34, 678, 45, 24, 10]"
      ]
     },
     "execution_count": 288,
     "metadata": {},
     "output_type": "execute_result"
    }
   ],
   "source": [
    "def reverse(a):\n",
    "    b = a[::-1]\n",
    "    return b\n",
    "\n",
    "a=[10,24,45,678,34,5667,18,78]\n",
    "reverse(a)"
   ]
  },
  {
   "cell_type": "code",
   "execution_count": 290,
   "id": "5829be9b-620d-4606-addc-905226164070",
   "metadata": {},
   "outputs": [
    {
     "name": "stdout",
     "output_type": "stream",
     "text": [
      "[10, 24, 45, 678, 34, 5667, 18, 78]\n"
     ]
    }
   ],
   "source": [
    "a=[10,24,45,678,34,5667,18,78]\n",
    "b= a.copy()\n",
    "print (b)"
   ]
  },
  {
   "cell_type": "code",
   "execution_count": 294,
   "id": "b751feec-1015-4318-b1a5-cc5ba0f4ebba",
   "metadata": {},
   "outputs": [
    {
     "name": "stdout",
     "output_type": "stream",
     "text": [
      "['S', 'A', 'F', 'N', 'A', 'M', 'F', 'A', 'R', 'O', 'O', 'K']\n"
     ]
    }
   ],
   "source": [
    "a = [\"S\",\"A\",\"F\",\"N\",\"A\"]\n",
    "b = [\"M\",\"F\",\"A\",\"R\",\"O\",\"O\",\"K\"]\n",
    "c = a+b\n",
    "print (c)"
   ]
  },
  {
   "cell_type": "code",
   "execution_count": 306,
   "id": "36aa1cdb-4140-4b64-aec0-104908bdace2",
   "metadata": {},
   "outputs": [
    {
     "name": "stdout",
     "output_type": "stream",
     "text": [
      "banana\n"
     ]
    },
    {
     "data": {
      "text/plain": [
       "'orange'"
      ]
     },
     "execution_count": 306,
     "metadata": {},
     "output_type": "execute_result"
    }
   ],
   "source": [
    "fruits = [\"apple\", \"banana\", \"cherrry\"]"
   ]
  },
  {
   "cell_type": "code",
   "execution_count": 308,
   "id": "d7e8e8ab-d869-4c59-ac0d-2411b043a0aa",
   "metadata": {},
   "outputs": [
    {
     "data": {
      "text/plain": [
       "'banana'"
      ]
     },
     "execution_count": 308,
     "metadata": {},
     "output_type": "execute_result"
    }
   ],
   "source": [
    "fruits[1]"
   ]
  },
  {
   "cell_type": "code",
   "execution_count": 310,
   "id": "89a116db-9c78-4267-bf14-1240031740b2",
   "metadata": {},
   "outputs": [
    {
     "data": {
      "text/plain": [
       "'orange'"
      ]
     },
     "execution_count": 310,
     "metadata": {},
     "output_type": "execute_result"
    }
   ],
   "source": [
    "fruits[0]=\"orange\"\n",
    "fruits[0]"
   ]
  },
  {
   "cell_type": "code",
   "execution_count": 312,
   "id": "79d75207-7e52-44b2-8c4f-55fbee6a22a3",
   "metadata": {},
   "outputs": [
    {
     "data": {
      "text/plain": [
       "['orange', 'banana', 'cherrry', 'grapes']"
      ]
     },
     "execution_count": 312,
     "metadata": {},
     "output_type": "execute_result"
    }
   ],
   "source": [
    "fruits.append(\"grapes\")\n",
    "fruits"
   ]
  },
  {
   "cell_type": "code",
   "execution_count": 316,
   "id": "65f17983-e8a5-462b-9588-242caeb6c90f",
   "metadata": {},
   "outputs": [
    {
     "data": {
      "text/plain": [
       "['orange', 'mango', 'cherrry', 'grapes']"
      ]
     },
     "execution_count": 316,
     "metadata": {},
     "output_type": "execute_result"
    }
   ],
   "source": [
    "fruits[1] = \"mango\"\n",
    "fruits"
   ]
  },
  {
   "cell_type": "code",
   "execution_count": 318,
   "id": "dd2854e6-0724-4ec5-9e3a-d01b481c5495",
   "metadata": {},
   "outputs": [
    {
     "data": {
      "text/plain": [
       "'cherrry'"
      ]
     },
     "execution_count": 318,
     "metadata": {},
     "output_type": "execute_result"
    }
   ],
   "source": [
    "fruits[-2]"
   ]
  },
  {
   "cell_type": "code",
   "execution_count": 326,
   "id": "bf6351fa-0848-4798-bce4-aabf15a9913a",
   "metadata": {},
   "outputs": [],
   "source": [
    "fruits=[\"apple\",\"banana\",\"cherry\",\"orange\",\"kiwi\",\"melon\",\"mango\"]"
   ]
  },
  {
   "cell_type": "code",
   "execution_count": 328,
   "id": "b458f176-c327-4a5a-9c4f-3a530865e606",
   "metadata": {},
   "outputs": [
    {
     "data": {
      "text/plain": [
       "'orange'"
      ]
     },
     "execution_count": 328,
     "metadata": {},
     "output_type": "execute_result"
    }
   ],
   "source": [
    "fruits[3]"
   ]
  },
  {
   "cell_type": "code",
   "execution_count": 330,
   "id": "c12c94dd-0ede-4dc6-a926-904f5381466f",
   "metadata": {},
   "outputs": [
    {
     "data": {
      "text/plain": [
       "'kiwi'"
      ]
     },
     "execution_count": 330,
     "metadata": {},
     "output_type": "execute_result"
    }
   ],
   "source": [
    "fruits[4]"
   ]
  },
  {
   "cell_type": "code",
   "execution_count": 332,
   "id": "aed28420-7acd-4cca-b36a-5fd2338dd9d3",
   "metadata": {},
   "outputs": [
    {
     "data": {
      "text/plain": [
       "'melon'"
      ]
     },
     "execution_count": 332,
     "metadata": {},
     "output_type": "execute_result"
    }
   ],
   "source": [
    "fruits[5]"
   ]
  },
  {
   "cell_type": "code",
   "execution_count": 334,
   "id": "d3d08d25-2bcb-4626-9ca4-eb75a86dfec4",
   "metadata": {},
   "outputs": [],
   "source": [
    "my_list = [1,2,3,4,5]"
   ]
  },
  {
   "cell_type": "code",
   "execution_count": 337,
   "id": "c9990a9a-3e70-4a0c-81cc-d7ab0f725be0",
   "metadata": {},
   "outputs": [
    {
     "data": {
      "text/plain": [
       "[1, 2, 3, 4, 5]"
      ]
     },
     "execution_count": 337,
     "metadata": {},
     "output_type": "execute_result"
    }
   ],
   "source": [
    "my_list[:]"
   ]
  },
  {
   "cell_type": "code",
   "execution_count": 339,
   "id": "d5e33c0d-5a95-4b64-b0e8-5b2122867b26",
   "metadata": {},
   "outputs": [
    {
     "data": {
      "text/plain": [
       "[3, 4, 5]"
      ]
     },
     "execution_count": 339,
     "metadata": {},
     "output_type": "execute_result"
    }
   ],
   "source": [
    "my_list[2:]"
   ]
  },
  {
   "cell_type": "code",
   "execution_count": 341,
   "id": "3b1a13e8-4edd-45b4-89ba-b7249255086b",
   "metadata": {},
   "outputs": [
    {
     "data": {
      "text/plain": [
       "[1, 2]"
      ]
     },
     "execution_count": 341,
     "metadata": {},
     "output_type": "execute_result"
    }
   ],
   "source": [
    "my_list[:2]"
   ]
  },
  {
   "cell_type": "code",
   "execution_count": 343,
   "id": "45e53094-294a-4aa3-9da6-b01de716ad1d",
   "metadata": {},
   "outputs": [
    {
     "data": {
      "text/plain": [
       "[1, 3, 5]"
      ]
     },
     "execution_count": 343,
     "metadata": {},
     "output_type": "execute_result"
    }
   ],
   "source": [
    "my_list[::2]"
   ]
  },
  {
   "cell_type": "code",
   "execution_count": 345,
   "id": "9e3cae8b-8e02-4760-a29e-36fc47736de5",
   "metadata": {},
   "outputs": [
    {
     "data": {
      "text/plain": [
       "[3, 4]"
      ]
     },
     "execution_count": 345,
     "metadata": {},
     "output_type": "execute_result"
    }
   ],
   "source": [
    "my_list[2:4]"
   ]
  },
  {
   "cell_type": "code",
   "execution_count": 347,
   "id": "a7e75df8-7c20-4d2f-9fae-a2286fb16d1d",
   "metadata": {},
   "outputs": [
    {
     "data": {
      "text/plain": [
       "[5, 4, 3, 2, 1]"
      ]
     },
     "execution_count": 347,
     "metadata": {},
     "output_type": "execute_result"
    }
   ],
   "source": [
    "my_list[::-1]"
   ]
  },
  {
   "cell_type": "code",
   "execution_count": 349,
   "id": "29846b34-fa1c-4c56-a9ef-02be0f76b9a8",
   "metadata": {},
   "outputs": [
    {
     "data": {
      "text/plain": [
       "[5, 3, 1]"
      ]
     },
     "execution_count": 349,
     "metadata": {},
     "output_type": "execute_result"
    }
   ],
   "source": [
    "my_list[::-2]"
   ]
  },
  {
   "cell_type": "code",
   "execution_count": 351,
   "id": "96f224ed-2c41-4e24-8b78-732113860191",
   "metadata": {},
   "outputs": [
    {
     "data": {
      "text/plain": [
       "[2, 4]"
      ]
     },
     "execution_count": 351,
     "metadata": {},
     "output_type": "execute_result"
    }
   ],
   "source": [
    "my_list[1:4:2]"
   ]
  },
  {
   "cell_type": "code",
   "execution_count": 4,
   "id": "2e4d55fe-6028-47d3-b8df-7631218960ab",
   "metadata": {},
   "outputs": [
    {
     "data": {
      "text/plain": [
       "[1, 2, 3]"
      ]
     },
     "execution_count": 4,
     "metadata": {},
     "output_type": "execute_result"
    }
   ],
   "source": [
    "a = [1,2,3,4]\n",
    "a[:-1]"
   ]
  }
 ],
 "metadata": {
  "kernelspec": {
   "display_name": "Python [conda env:base] *",
   "language": "python",
   "name": "conda-base-py"
  },
  "language_info": {
   "codemirror_mode": {
    "name": "ipython",
    "version": 3
   },
   "file_extension": ".py",
   "mimetype": "text/x-python",
   "name": "python",
   "nbconvert_exporter": "python",
   "pygments_lexer": "ipython3",
   "version": "3.11.5"
  }
 },
 "nbformat": 4,
 "nbformat_minor": 5
}
