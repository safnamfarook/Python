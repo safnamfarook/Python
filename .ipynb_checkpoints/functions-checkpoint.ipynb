{
 "cells": [
  {
   "cell_type": "code",
   "execution_count": 273,
   "id": "6a996f1e-bcce-4df8-ad48-51deffa93a26",
   "metadata": {
    "tags": []
   },
   "outputs": [
    {
     "name": "stdout",
     "output_type": "stream",
     "text": [
      "Hello Python\n"
     ]
    }
   ],
   "source": [
    "print(\"Hello Python\")"
   ]
  },
  {
   "cell_type": "code",
   "execution_count": 277,
   "id": "301bd560-bef3-4964-8190-6b61830b8c39",
   "metadata": {},
   "outputs": [
    {
     "name": "stdout",
     "output_type": "stream",
     "text": [
      "Hello Python\n"
     ]
    }
   ],
   "source": [
    "# Creating a function\n",
    "\n",
    "def my_funct():\n",
    "    print(\"Hello Python\")\n",
    "my_funct()                                          # function call"
   ]
  },
  {
   "cell_type": "code",
   "execution_count": 279,
   "id": "8effa4d6-353e-404c-9548-fa23a29a35ae",
   "metadata": {
    "tags": []
   },
   "outputs": [
    {
     "name": "stdin",
     "output_type": "stream",
     "text": [
      "1st no: 4\n",
      "2nd no: 7\n"
     ]
    },
    {
     "name": "stdout",
     "output_type": "stream",
     "text": [
      "sum = 11\n"
     ]
    }
   ],
   "source": [
    "# Sum of two number\n",
    "\n",
    "def sum():\n",
    "    a = int(input(\"1st no:\"))\n",
    "    b = int(input(\"2nd no:\"))\n",
    "    print(\"sum =\",a+b)\n",
    "sum()"
   ]
  },
  {
   "cell_type": "code",
   "execution_count": 281,
   "id": "4275251e-556e-4a88-9661-91b124054ce4",
   "metadata": {
    "tags": []
   },
   "outputs": [
    {
     "name": "stdout",
     "output_type": "stream",
     "text": [
      "5 + 7 = 12\n"
     ]
    }
   ],
   "source": [
    "def sum():\n",
    "    print(\"5 + 7 =\",5+7)\n",
    "sum()"
   ]
  },
  {
   "cell_type": "code",
   "execution_count": 68,
   "id": "d5037585-3f64-4d88-b294-939040ea9899",
   "metadata": {
    "tags": []
   },
   "outputs": [
    {
     "name": "stdout",
     "output_type": "stream",
     "text": [
      "Sum of 20 and 40 :  60\n"
     ]
    }
   ],
   "source": [
    "def add():\n",
    "    a = 20\n",
    "    b = 40\n",
    "    c = a+b\n",
    "    print(\"Sum of\", a,\"and\",b,\": \",c)\n",
    "add()"
   ]
  },
  {
   "cell_type": "code",
   "execution_count": 70,
   "id": "3a96c8d7-1080-4d68-a268-07348e21c812",
   "metadata": {
    "tags": []
   },
   "outputs": [
    {
     "name": "stdout",
     "output_type": "stream",
     "text": [
      "a + b = 28\n"
     ]
    }
   ],
   "source": [
    "# Arguments\n",
    "\n",
    "def add(a,b):\n",
    "    print(\"a + b =\",a+b)\n",
    "add(20,8)"
   ]
  },
  {
   "cell_type": "code",
   "execution_count": 72,
   "id": "902a7260-abaa-41a6-9bb8-3db373d7c7f8",
   "metadata": {
    "tags": []
   },
   "outputs": [
    {
     "name": "stdout",
     "output_type": "stream",
     "text": [
      "a + b = 6\n"
     ]
    }
   ],
   "source": [
    "add(2,4)"
   ]
  },
  {
   "cell_type": "code",
   "execution_count": 74,
   "id": "068d894a-0c68-4f38-a5cb-14d5f8484e66",
   "metadata": {
    "tags": []
   },
   "outputs": [
    {
     "name": "stdout",
     "output_type": "stream",
     "text": [
      "Hi  Jasmin\n",
      "Hi  Razal\n"
     ]
    }
   ],
   "source": [
    "def name(fname):                                    # one argument passing\n",
    "    print(\"Hi \",fname)                              # message common to the arguments passed\n",
    "name(\"Jasmin\")                                      # one argument one or more function call\n",
    "name(\"Razal\")"
   ]
  },
  {
   "cell_type": "code",
   "execution_count": 76,
   "id": "960229d9-847d-4237-827a-cb8783cf342a",
   "metadata": {
    "tags": []
   },
   "outputs": [
    {
     "name": "stdout",
     "output_type": "stream",
     "text": [
      "Apple\n",
      "Cherry\n"
     ]
    }
   ],
   "source": [
    "def funct(fruits):\n",
    "    print(fruits)\n",
    "funct(\"Apple\")\n",
    "funct(\"Cherry\")"
   ]
  },
  {
   "cell_type": "code",
   "execution_count": 78,
   "id": "c6985c3d-673c-40cc-a079-056112ecf660",
   "metadata": {
    "tags": []
   },
   "outputs": [
    {
     "name": "stdout",
     "output_type": "stream",
     "text": [
      "Aiza   Hezlin\n",
      "Hello Jasmin Good Morning\n"
     ]
    }
   ],
   "source": [
    "# Number of arguments passed\n",
    "\n",
    "def name(fname,lname):                         # 2 arguments are passed in the function\n",
    "    print(fname,\" \",lname)\n",
    "name(\"Aiza\",\"Hezlin\")\n",
    "\n",
    "def greet(name,msg):\n",
    "    print(\"Hello\",name,msg)\n",
    "greet(\"Jasmin\",\"Good Morning\")"
   ]
  },
  {
   "cell_type": "code",
   "execution_count": 80,
   "id": "73ddaf6f-79ea-4c48-93fa-b7914f72764b",
   "metadata": {
    "tags": []
   },
   "outputs": [
    {
     "name": "stdout",
     "output_type": "stream",
     "text": [
      "Hello Aiza\n",
      "Hello Hezlin\n",
      "Hello Nadeem\n"
     ]
    }
   ],
   "source": [
    "# Arbitary Arguments or *args\n",
    "\n",
    "def gree(*names):                             # number of arguments are passed\n",
    "    for x in names:\n",
    "        print(\"Hello \"+x)\n",
    "gree(\"Aiza\",\"Hezlin\",\"Nadeem\")"
   ]
  },
  {
   "cell_type": "code",
   "execution_count": 82,
   "id": "c495bf79-6829-4fcc-bf8d-6a3db3151819",
   "metadata": {
    "tags": []
   },
   "outputs": [
    {
     "name": "stdout",
     "output_type": "stream",
     "text": [
      "hi sandra\n"
     ]
    }
   ],
   "source": [
    "def july22(*friends):\n",
    "    print(\"hi\",friends[2])\n",
    "    \n",
    "july22(\"fazal\",\"anvar\",\"sandra\",\"gopika\")    "
   ]
  },
  {
   "cell_type": "code",
   "execution_count": 84,
   "id": "ce3bbfed-068c-4c5a-b408-541a94c4de3d",
   "metadata": {
    "tags": []
   },
   "outputs": [
    {
     "name": "stdout",
     "output_type": "stream",
     "text": [
      "The youngest child is Linus\n"
     ]
    }
   ],
   "source": [
    "def funct(*kids):\n",
    "    print(\"The youngest child is\",kids[2])         # accessing using index position to get particular o/p\n",
    "funct(\"Emily\",\"Thobias\",\"Linus\")"
   ]
  },
  {
   "cell_type": "code",
   "execution_count": 92,
   "id": "c77a53b9-1bec-4be7-8e42-5383f04a2352",
   "metadata": {
    "tags": []
   },
   "outputs": [
    {
     "name": "stdout",
     "output_type": "stream",
     "text": [
      "21\n"
     ]
    }
   ],
   "source": [
    "def sum_of_numbers(*numbers):\n",
    "    sum = 0\n",
    "    for i in numbers:\n",
    "        sum += i\n",
    "    print(sum)\n",
    "sum_of_numbers(1,2,3,4,5,6)    "
   ]
  },
  {
   "cell_type": "code",
   "execution_count": 90,
   "id": "04a08af7-fb65-40f0-95a3-72a90ba5ba74",
   "metadata": {
    "tags": []
   },
   "outputs": [
    {
     "name": "stdout",
     "output_type": "stream",
     "text": [
      "9\n"
     ]
    }
   ],
   "source": [
    "def add(*numbers):\n",
    "    sum = 0\n",
    "    for i in numbers:\n",
    "        sum += i\n",
    "    print(sum)\n",
    "add(1,3,5)        "
   ]
  },
  {
   "cell_type": "code",
   "execution_count": 94,
   "id": "8f0fee68-7f4a-4c64-ba49-ef472f5448f4",
   "metadata": {
    "tags": []
   },
   "outputs": [
    {
     "name": "stdout",
     "output_type": "stream",
     "text": [
      "Hi Emily\n"
     ]
    }
   ],
   "source": [
    "# OR\n",
    "\n",
    "def funct(*kids):\n",
    "    print(\"Hi \"+kids[0])\n",
    "kids = (\"Emily\",\"Thobias\",\"Linus\")\n",
    "funct(*kids)"
   ]
  },
  {
   "cell_type": "code",
   "execution_count": 96,
   "id": "5c866ad8-04d1-49f9-b6cd-fe5bcc092732",
   "metadata": {
    "tags": []
   },
   "outputs": [
    {
     "name": "stdout",
     "output_type": "stream",
     "text": [
      "The youngest child is  Tobias\n",
      "Jasmin is working on Data Analyst\n"
     ]
    }
   ],
   "source": [
    "# Keyword Arguments\n",
    "\n",
    "def toddler(child3,child2,child1):\n",
    "    print(\"The youngest child is \",child3)                  # since child3 is called its os highlighted\n",
    "toddler(child1=\"Emil\",child3=\"Tobias\",child2=\"Linus\")       # key=value arguments in function call\n",
    "\n",
    "def team(name,project):\n",
    "    print(name,\"is working on\",project)\n",
    "team(project=\"Data Analyst\",name=\"Jasmin\")"
   ]
  },
  {
   "cell_type": "code",
   "execution_count": 100,
   "id": "64655323-691e-4337-9ea1-32879dddf121",
   "metadata": {
    "tags": []
   },
   "outputs": [
    {
     "name": "stdout",
     "output_type": "stream",
     "text": [
      "my name is anvar my friends are Emil and Tobias\n"
     ]
    }
   ],
   "source": [
    "# ** Arguments...Arbitrary keyword arg\n",
    "\n",
    "def names(**kid):\n",
    "    print(\"my name is\",kid[\"kid1\"],\"my friends are\",kid[\"kid2\"],\"and\",kid[\"kid3\"]) # accessing using key\n",
    "names(kid3=\"Tobias\",kid2=\"Emil\",kid1=\"anvar\")"
   ]
  },
  {
   "cell_type": "code",
   "execution_count": 102,
   "id": "3e885add-b43f-4eea-98cd-468b179bedbc",
   "metadata": {},
   "outputs": [
    {
     "name": "stdout",
     "output_type": "stream",
     "text": [
      "('name', 'Hezlin')\n",
      "('age', 3)\n",
      "('place', 'Vadakara')\n",
      "('phone', 23535)\n"
     ]
    }
   ],
   "source": [
    "def id(**detail):\n",
    "    for i in detail.items():                  # to access and print all the items in the function call\n",
    "        print(i)                              # prints in tuple form\n",
    "id(name=\"Hezlin\",age=3,place=\"Vadakara\",phone=23535)"
   ]
  },
  {
   "cell_type": "code",
   "execution_count": 104,
   "id": "fb38ed42-30c9-446e-ae55-49e7bf152de3",
   "metadata": {
    "tags": []
   },
   "outputs": [
    {
     "name": "stdout",
     "output_type": "stream",
     "text": [
      "I am from Norway\n",
      "I am from Sweden\n"
     ]
    }
   ],
   "source": [
    "# Default Parameter Value\n",
    "\n",
    "def place(country=\"Norway\"):\n",
    "    print(\"I am from\",country)\n",
    "place()\n",
    "place(\"Sweden\")"
   ]
  },
  {
   "cell_type": "code",
   "execution_count": 106,
   "id": "f6e5cd42-f494-43ff-be2b-464f37c67628",
   "metadata": {
    "tags": []
   },
   "outputs": [
    {
     "name": "stdout",
     "output_type": "stream",
     "text": [
      "Hello Jasmin , good Morning\n",
      "Hello Aiza , Good to see you\n",
      "Hello Hezlin , good Morning\n"
     ]
    }
   ],
   "source": [
    "def greet(name=\"Jasmin\",msg=\"good Morning\"):\n",
    "    print(\"Hello\",name,\",\",msg)\n",
    "greet()                                             # default value of both parameter\n",
    "greet(\"Aiza\",\"Good to see you\")\n",
    "greet(\"Hezlin\")                                     # prints the default value of the absent parameter"
   ]
  },
  {
   "cell_type": "code",
   "execution_count": 142,
   "id": "a6d3bb22-df76-486f-9be2-354b814816b3",
   "metadata": {
    "tags": []
   },
   "outputs": [
    {
     "name": "stdout",
     "output_type": "stream",
     "text": [
      "Apple\n",
      "Banana\n",
      "Cherry\n"
     ]
    }
   ],
   "source": [
    "fruits = [\"Apple\",\"Banana\",\"Cherry\"]\n",
    "food = fruits\n",
    "for i in food:\n",
    "    print(i)"
   ]
  },
  {
   "cell_type": "code",
   "execution_count": 144,
   "id": "5ad94ce4-bc26-41ff-8356-f77105ee9232",
   "metadata": {
    "tags": []
   },
   "outputs": [
    {
     "name": "stdout",
     "output_type": "stream",
     "text": [
      "Apple\n",
      "Banana\n",
      "Cherry\n"
     ]
    }
   ],
   "source": [
    "# Passing list as agrument\n",
    "\n",
    "def items(food):\n",
    "    for i in food:\n",
    "        print(i)\n",
    "fruits = [\"Apple\",\"Banana\",\"Cherry\"]  \n",
    "items(fruits)"
   ]
  },
  {
   "cell_type": "code",
   "execution_count": 146,
   "id": "556c428e-e2cc-4254-82ea-48312678ce2f",
   "metadata": {
    "tags": []
   },
   "outputs": [
    {
     "data": {
      "text/plain": [
       "15"
      ]
     },
     "execution_count": 146,
     "metadata": {},
     "output_type": "execute_result"
    }
   ],
   "source": [
    "# Return value\n",
    "\n",
    "def product(x):\n",
    "    return 5*x\n",
    "product(3)"
   ]
  },
  {
   "cell_type": "code",
   "execution_count": 150,
   "id": "9cfd46d7-de39-4a98-a2e6-2c61bca5156e",
   "metadata": {
    "tags": []
   },
   "outputs": [
    {
     "name": "stdin",
     "output_type": "stream",
     "text": [
      "enter the number: 4\n"
     ]
    },
    {
     "name": "stdout",
     "output_type": "stream",
     "text": [
      "20\n"
     ]
    }
   ],
   "source": [
    "def product1(x):\n",
    "    print(5*x)\n",
    "n = int(input(\"enter the number:\") )   \n",
    "product1(n)    "
   ]
  },
  {
   "cell_type": "code",
   "execution_count": 152,
   "id": "ea326bd0-eac0-40fb-927c-6f82ebe551c6",
   "metadata": {
    "tags": []
   },
   "outputs": [
    {
     "data": {
      "text/plain": [
       "120"
      ]
     },
     "execution_count": 152,
     "metadata": {},
     "output_type": "execute_result"
    }
   ],
   "source": [
    "def factorial(x):\n",
    "    if x == 1 or x == 0:\n",
    "        return 1\n",
    "    else:\n",
    "        fact = 1\n",
    "        while(x>1):\n",
    "            fact *= x\n",
    "            x -= 1\n",
    "        return fact\n",
    "factorial(5)    "
   ]
  },
  {
   "cell_type": "code",
   "execution_count": 154,
   "id": "8ab790d6-bd0a-4ab7-8be4-354042efda8d",
   "metadata": {
    "tags": []
   },
   "outputs": [
    {
     "name": "stdin",
     "output_type": "stream",
     "text": [
      "enter the number: 4\n"
     ]
    },
    {
     "name": "stdout",
     "output_type": "stream",
     "text": [
      "24\n"
     ]
    }
   ],
   "source": [
    "a = int(input('enter the number:'))\n",
    "b = 1\n",
    "for i in range(1,a+1):\n",
    "    b = b*i\n",
    "print(b)"
   ]
  },
  {
   "cell_type": "code",
   "execution_count": 284,
   "id": "1c92108a-6928-46c6-a59d-1abdfe73c1b1",
   "metadata": {
    "tags": []
   },
   "outputs": [
    {
     "name": "stdin",
     "output_type": "stream",
     "text": [
      "enter the number 6\n"
     ]
    },
    {
     "name": "stdout",
     "output_type": "stream",
     "text": [
      "720\n"
     ]
    }
   ],
   "source": [
    "# Recursion- Function calls itself\n",
    "\n",
    "def factorial(x):\n",
    "    if  x == 0:\n",
    "        return 1\n",
    "    else:\n",
    "        return(x*factorial(x-1))\n",
    "n = int(input(\"enter the number\"))   \n",
    "print(factorial(n))"
   ]
  },
  {
   "cell_type": "code",
   "execution_count": 162,
   "id": "ab263eca-802a-4eeb-bfdb-586adcbcc5f4",
   "metadata": {
    "tags": []
   },
   "outputs": [
    {
     "name": "stdin",
     "output_type": "stream",
     "text": [
      "enter the number: 2\n"
     ]
    },
    {
     "name": "stdout",
     "output_type": "stream",
     "text": [
      "2\n"
     ]
    }
   ],
   "source": [
    "num = int(input(\"enter the number:\"))\n",
    "if num == 0:\n",
    "    print(1)\n",
    "else:\n",
    "    mul = 1\n",
    "    for i in range(1,num+1):\n",
    "        mul *= i\n",
    "    print(mul)"
   ]
  },
  {
   "cell_type": "code",
   "execution_count": 164,
   "id": "d4eb0acf-203f-49b3-a835-11d447196570",
   "metadata": {
    "tags": []
   },
   "outputs": [
    {
     "name": "stdin",
     "output_type": "stream",
     "text": [
      "enter the number: 5\n"
     ]
    },
    {
     "data": {
      "text/plain": [
       "120"
      ]
     },
     "execution_count": 164,
     "metadata": {},
     "output_type": "execute_result"
    }
   ],
   "source": [
    "def factorial(num):\n",
    "    if num == 0:\n",
    "        return 1\n",
    "    else:\n",
    "        mul = 1\n",
    "        for i in range(1,num+1):\n",
    "            mul *= i\n",
    "        return mul\n",
    "num = int(input(\"enter the number:\"))\n",
    "factorial(num)"
   ]
  },
  {
   "cell_type": "code",
   "execution_count": 166,
   "id": "7b2830cb-2997-49f8-b8cb-407d3de486a5",
   "metadata": {
    "tags": []
   },
   "outputs": [
    {
     "name": "stdin",
     "output_type": "stream",
     "text": [
      "enter the number: 6\n"
     ]
    },
    {
     "name": "stdout",
     "output_type": "stream",
     "text": [
      "720\n"
     ]
    }
   ],
   "source": [
    "def factorial(num):\n",
    "    if num == 0:\n",
    "        print(1)\n",
    "    else:\n",
    "        mul = 1\n",
    "        for i in range(1,num+1):\n",
    "            mul *= i\n",
    "        print(mul)\n",
    "num = int(input(\"enter the number:\"))\n",
    "factorial(num)"
   ]
  },
  {
   "cell_type": "code",
   "execution_count": 168,
   "id": "6b540178-0760-4f23-b984-534571be1a8f",
   "metadata": {
    "tags": []
   },
   "outputs": [
    {
     "name": "stdin",
     "output_type": "stream",
     "text": [
      "enter the number: 2\n"
     ]
    },
    {
     "name": "stdout",
     "output_type": "stream",
     "text": [
      "the factorial of  2 is 2\n"
     ]
    }
   ],
   "source": [
    "# Function Recursion\n",
    "\n",
    "def factorial(x):\n",
    "    if x == 0:\n",
    "        return 1\n",
    "    else:\n",
    "        return x*factorial(x-1)\n",
    "num = int(input(\"enter the number:\"))\n",
    "print(\"the factorial of \",num,\"is\",factorial(num))"
   ]
  },
  {
   "cell_type": "code",
   "execution_count": 170,
   "id": "8bd8e119-8cd5-42bc-9a78-69ab2b16f9da",
   "metadata": {
    "tags": []
   },
   "outputs": [
    {
     "name": "stdout",
     "output_type": "stream",
     "text": [
      "\n",
      "The recursion result\n",
      "1\n",
      "3\n",
      "6\n",
      "10\n",
      "15\n",
      "21\n"
     ]
    },
    {
     "data": {
      "text/plain": [
       "21"
      ]
     },
     "execution_count": 170,
     "metadata": {},
     "output_type": "execute_result"
    }
   ],
   "source": [
    "def recursion(k):\n",
    "    if k>0:\n",
    "        result = k+recursion(k-1)\n",
    "        print(result)\n",
    "    else:\n",
    "        result = 0\n",
    "    return result\n",
    "print(\"\\nThe recursion result\")\n",
    "recursion(6)"
   ]
  },
  {
   "cell_type": "code",
   "execution_count": 132,
   "id": "c5889fd0-d33f-498d-9e58-ad10237aa175",
   "metadata": {
    "tags": []
   },
   "outputs": [
    {
     "name": "stdout",
     "output_type": "stream",
     "text": [
      "\n",
      "Count of vowels: 6\n"
     ]
    }
   ],
   "source": [
    "def count(str):\n",
    "    vowels = \"aAeEiIoOuU\"\n",
    "    v = 0\n",
    "    for i in str:\n",
    "        if i in vowels:\n",
    "            v += 1\n",
    "    return v                     # Return the count after the loop\n",
    "print(\"\\nCount of vowels:\", count(\"This is Python Programming\"))"
   ]
  },
  {
   "cell_type": "code",
   "execution_count": 172,
   "id": "3ce738fc-e22f-4b00-8e6d-cd839e52b083",
   "metadata": {},
   "outputs": [
    {
     "name": "stdout",
     "output_type": "stream",
     "text": [
      "Sum 25\n"
     ]
    },
    {
     "name": "stdin",
     "output_type": "stream",
     "text": [
      "Enter the first number: 7\n",
      "Enter the second number: 4\n"
     ]
    },
    {
     "name": "stdout",
     "output_type": "stream",
     "text": [
      "Product: 28\n"
     ]
    }
   ],
   "source": [
    "# Global variable\n",
    "\n",
    "a = 15                                        # global variable\n",
    "b = 10                                        # global variable\n",
    "def add():\n",
    "    c = a+b\n",
    "    print(\"Sum\",c)\n",
    "add()\n",
    "\n",
    "a = int(input(\"Enter the first number:\"))\n",
    "b = int(input(\"Enter the second number:\"))\n",
    "def prdt():\n",
    "    c = a*b\n",
    "    print(\"Product:\",c)\n",
    "prdt()"
   ]
  },
  {
   "cell_type": "code",
   "execution_count": 174,
   "id": "250c7766-9e59-4d0d-b453-62b0b69031de",
   "metadata": {
    "tags": []
   },
   "outputs": [
    {
     "name": "stdout",
     "output_type": "stream",
     "text": [
      "16\n"
     ]
    }
   ],
   "source": [
    "# local to global variable\n",
    "\n",
    "n = 5\n",
    "def num():\n",
    "    #global a\n",
    "    a = 16\n",
    "    print(a)\n",
    "num()"
   ]
  },
  {
   "cell_type": "code",
   "execution_count": 176,
   "id": "e67c39c7-91cb-46ef-8c07-913f089f23ed",
   "metadata": {
    "tags": []
   },
   "outputs": [
    {
     "data": {
      "text/plain": [
       "12"
      ]
     },
     "execution_count": 176,
     "metadata": {},
     "output_type": "execute_result"
    }
   ],
   "source": [
    "# Anonymous Function\n",
    "# lambda argument:expression\n",
    "\n",
    "double = lambda x:x*2\n",
    "double(6)"
   ]
  },
  {
   "cell_type": "code",
   "execution_count": 178,
   "id": "702e9426-79a9-4394-94a1-a0f67974787a",
   "metadata": {
    "tags": []
   },
   "outputs": [
    {
     "name": "stdout",
     "output_type": "stream",
     "text": [
      "Sum: 13\n"
     ]
    }
   ],
   "source": [
    "add = lambda a:a+6\n",
    "print(\"Sum:\",add(7))"
   ]
  },
  {
   "cell_type": "code",
   "execution_count": 180,
   "id": "7647d38e-5d8b-43c8-ae29-9fe35a75a65d",
   "metadata": {
    "tags": []
   },
   "outputs": [
    {
     "name": "stdout",
     "output_type": "stream",
     "text": [
      "[2, 6, 12, 8]\n",
      "[23, 18, 37]\n",
      "[2, 6, 10, 14, 18]\n",
      "['CAT', 'DOG', 'RABBIT', 'BEAR']\n",
      "193\n",
      "Largest: 6\n"
     ]
    }
   ],
   "source": [
    "# filter lambda function\n",
    "\n",
    "my_list = [2,6,41,12,39,8]                                    # arguments as list\n",
    "\n",
    "new_list = list(filter(lambda x:(x%2==0),my_list))            # converts into new list with filter\n",
    "print(new_list)\n",
    "\n",
    "age = [14,23,18,10,37]\n",
    "new = list(filter(lambda a:(a>=18),age))\n",
    "print(new)\n",
    "\n",
    "# map lambda function\n",
    "mlist = [1,3,5,7,9]\n",
    "nlist = list(map(lambda x:x*2,mlist))\n",
    "print(nlist)\n",
    "\n",
    "animals = [\"cat\",\"dog\",\"rabbit\",\"bear\"]\n",
    "n_animals = list(map(lambda a:a.upper(),animals))\n",
    "print(n_animals)\n",
    "\n",
    "# reduce lambda function\n",
    "# method1\n",
    "from functools import reduce\n",
    "l = [5,8,10,20,50,100]\n",
    "nl = reduce(lambda x,y:x+y,l)\n",
    "print(nl)\n",
    "\n",
    "\n",
    "import functools\n",
    "L = [1,3,5,6,2]\n",
    "\n",
    "# print(\"Largest:\",end=\" \")\n",
    "print(\"Largest:\",functools.reduce(lambda a,b:a if a>b else b,L))"
   ]
  },
  {
   "cell_type": "code",
   "execution_count": 182,
   "id": "d5587c76-ca44-404f-b81c-f37177bf9cb8",
   "metadata": {},
   "outputs": [
    {
     "name": "stdout",
     "output_type": "stream",
     "text": [
      "108\n"
     ]
    }
   ],
   "source": [
    "l = [12,34,56,6]\n",
    "sum = 0\n",
    "for i in l:\n",
    "    sum += i\n",
    "print(sum)"
   ]
  },
  {
   "cell_type": "code",
   "execution_count": 184,
   "id": "5fcb2c7c-b501-4e1c-870e-1fe4c5d95183",
   "metadata": {},
   "outputs": [
    {
     "name": "stdout",
     "output_type": "stream",
     "text": [
      "8\n"
     ]
    }
   ],
   "source": [
    "def add():\n",
    "    global a\n",
    "    global b\n",
    "    a = 3                  #local variable\n",
    "    b = 5\n",
    "    c = a+b\n",
    "    print(c)\n",
    "add()    "
   ]
  },
  {
   "cell_type": "code",
   "execution_count": 186,
   "id": "3b8978ad-11e8-48b3-96f2-26b124a0938d",
   "metadata": {
    "tags": []
   },
   "outputs": [
    {
     "data": {
      "text/plain": [
       "13"
      ]
     },
     "execution_count": 186,
     "metadata": {},
     "output_type": "execute_result"
    }
   ],
   "source": [
    "b+8"
   ]
  },
  {
   "cell_type": "code",
   "execution_count": 188,
   "id": "7ac1d082-490d-4c2e-b1a9-c22177ddd732",
   "metadata": {},
   "outputs": [
    {
     "name": "stdout",
     "output_type": "stream",
     "text": [
      "8\n"
     ]
    }
   ],
   "source": [
    "c = 3 #global variable\n",
    "d = 5\n",
    "def add():\n",
    "    print(c+d)\n",
    "add()"
   ]
  },
  {
   "cell_type": "code",
   "execution_count": 190,
   "id": "b9c46fd8-2eef-4c31-ab08-b93facd27e4c",
   "metadata": {},
   "outputs": [
    {
     "name": "stdin",
     "output_type": "stream",
     "text": [
      "enter the 1st number: 5\n",
      "enter the 2nd number: 7\n",
      "enter the 3rd number: 4\n"
     ]
    },
    {
     "name": "stdout",
     "output_type": "stream",
     "text": [
      "7 is greater\n"
     ]
    }
   ],
   "source": [
    "# Python function to find the maximum of three numbers without using inbuild fuction\n",
    "\n",
    "def max_num(a,b,c):\n",
    "    if a>b and a>c:\n",
    "        print(a,\"greater\")\n",
    "    elif b>a and b>c:\n",
    "        print(b,\"is greater\")\n",
    "    else:\n",
    "        print(c,\"is greater\")\n",
    "n1 = int(input(\"enter the 1st number:\")) \n",
    "n2 = int(input(\"enter the 2nd number:\")) \n",
    "n3 = int(input(\"enter the 3rd number:\")) \n",
    "max_num(n1,n2,n3)        "
   ]
  },
  {
   "cell_type": "code",
   "execution_count": 192,
   "id": "67014e0d-3e72-4358-a79e-15a1d96c3b5d",
   "metadata": {},
   "outputs": [
    {
     "name": "stdout",
     "output_type": "stream",
     "text": [
      "120\n"
     ]
    }
   ],
   "source": [
    "# Python function to multiply all the numbers in a list\n",
    "\n",
    "def mult(li):\n",
    "    mul = 1\n",
    "    for i in li:\n",
    "        mul *= i\n",
    "    print(mul)\n",
    "l = [1,2,3,4,5]\n",
    "mult(l)  "
   ]
  },
  {
   "cell_type": "code",
   "execution_count": 194,
   "id": "32a69fe9-096b-41ae-a6b1-a96d4db7a899",
   "metadata": {
    "tags": []
   },
   "outputs": [
    {
     "name": "stdin",
     "output_type": "stream",
     "text": [
      "enter the string: cat\n"
     ]
    },
    {
     "name": "stdout",
     "output_type": "stream",
     "text": [
      "tac\n"
     ]
    }
   ],
   "source": [
    "# Python program to reverse a string\n",
    "\n",
    "def reverse(st):\n",
    "    reverse = s[::-1]\n",
    "    print(reverse)\n",
    "s = input(\"enter the string:\")    \n",
    "reverse(s)"
   ]
  },
  {
   "cell_type": "code",
   "execution_count": 200,
   "id": "baaff3b3-2905-4e20-ad1c-0ae1d869056f",
   "metadata": {
    "tags": []
   },
   "outputs": [
    {
     "name": "stdout",
     "output_type": "stream",
     "text": [
      "[1, 2, 3, 4]\n"
     ]
    }
   ],
   "source": [
    "# Python function that takes a list and returns a new list with distinct elements from the first list\n",
    "\n",
    "def dist(li):\n",
    "    li = set(li)\n",
    "    print(list(li))\n",
    "dist([1,2,3,4,4])    "
   ]
  },
  {
   "cell_type": "code",
   "execution_count": 202,
   "id": "8aa6f380-822a-4179-8627-a9abab7dad6d",
   "metadata": {
    "tags": []
   },
   "outputs": [
    {
     "name": "stdout",
     "output_type": "stream",
     "text": [
      "mech\n",
      "mech\n",
      "sahal\n"
     ]
    }
   ],
   "source": [
    "def add():\n",
    "    print(\"mech\")\n",
    "    return(\"sahal\")\n",
    "   \n",
    "z = add()    \n",
    "print(add())"
   ]
  },
  {
   "cell_type": "code",
   "execution_count": 3,
   "id": "20a28f0b-d376-4d57-bc25-cbe8bf73cee3",
   "metadata": {
    "tags": []
   },
   "outputs": [
    {
     "name": "stdout",
     "output_type": "stream",
     "text": [
      "13\n"
     ]
    }
   ],
   "source": [
    "def add(x,y):\n",
    "    print(x+y)\n",
    "add(8,5)    "
   ]
  },
  {
   "cell_type": "code",
   "execution_count": 210,
   "id": "790dc824-7437-40a6-83f2-955b74379da8",
   "metadata": {
    "tags": []
   },
   "outputs": [
    {
     "name": "stdout",
     "output_type": "stream",
     "text": [
      "13\n"
     ]
    }
   ],
   "source": [
    "def add(x,y):\n",
    "    return(x+y)\n",
    "z = add(8,5)\n",
    "print(z)"
   ]
  },
  {
   "cell_type": "code",
   "execution_count": 212,
   "id": "ee7adf0e-7009-4dc7-8fc6-02862bbef2fc",
   "metadata": {
    "tags": []
   },
   "outputs": [
    {
     "name": "stdout",
     "output_type": "stream",
     "text": [
      "sree\n"
     ]
    },
    {
     "data": {
      "text/plain": [
       "'misbah'"
      ]
     },
     "execution_count": 212,
     "metadata": {},
     "output_type": "execute_result"
    }
   ],
   "source": [
    "def name():\n",
    "    print(\"sree\")\n",
    "    return(\"misbah\")\n",
    "    print(\"sreeram\")\n",
    "name()    "
   ]
  },
  {
   "cell_type": "code",
   "execution_count": 216,
   "id": "dc721096-a49b-4208-8944-a5e77ba9e16f",
   "metadata": {
    "tags": []
   },
   "outputs": [
    {
     "data": {
      "text/plain": [
       "13"
      ]
     },
     "execution_count": 216,
     "metadata": {},
     "output_type": "execute_result"
    }
   ],
   "source": [
    "def add(x,y):\n",
    "    t = x+y\n",
    "    return t\n",
    "m = add(6,7)    \n",
    "m"
   ]
  },
  {
   "cell_type": "code",
   "execution_count": 218,
   "id": "0f4f6539-b034-4d62-ba30-423d43a62b68",
   "metadata": {},
   "outputs": [
    {
     "name": "stdout",
     "output_type": "stream",
     "text": [
      "8\n",
      "11\n"
     ]
    }
   ],
   "source": [
    "def add(a,b):\n",
    "    print(a+b)\n",
    "add(1,7)\n",
    "add(5,6)"
   ]
  },
  {
   "cell_type": "code",
   "execution_count": 220,
   "id": "02256310-9ccd-4827-aa28-82d0d0e8db49",
   "metadata": {
    "tags": []
   },
   "outputs": [
    {
     "name": "stdout",
     "output_type": "stream",
     "text": [
      "8\n"
     ]
    }
   ],
   "source": [
    "a = 1\n",
    "b = 7\n",
    "print(a+b)"
   ]
  },
  {
   "cell_type": "code",
   "execution_count": 222,
   "id": "d708070d-041a-490f-bb4c-df84d4380892",
   "metadata": {
    "tags": []
   },
   "outputs": [
    {
     "data": {
      "text/plain": [
       "int"
      ]
     },
     "execution_count": 222,
     "metadata": {},
     "output_type": "execute_result"
    }
   ],
   "source": [
    "type(a)"
   ]
  },
  {
   "cell_type": "code",
   "execution_count": 224,
   "id": "233ec9ca-2e6b-4f36-9137-4ccd0de5d9e9",
   "metadata": {
    "tags": []
   },
   "outputs": [
    {
     "name": "stdout",
     "output_type": "stream",
     "text": [
      "10\n"
     ]
    }
   ],
   "source": [
    "add(4,6)"
   ]
  },
  {
   "cell_type": "code",
   "execution_count": 226,
   "id": "bcc7c599-90a6-4761-a1d4-e107a8f3a8cb",
   "metadata": {
    "tags": []
   },
   "outputs": [],
   "source": [
    "st = \"9\"\n",
    "st = int(st)"
   ]
  },
  {
   "cell_type": "code",
   "execution_count": 20,
   "id": "8a1c1d7c-ae04-4499-ae3a-3e05622489bf",
   "metadata": {
    "tags": []
   },
   "outputs": [
    {
     "data": {
      "text/plain": [
       "int"
      ]
     },
     "execution_count": 20,
     "metadata": {},
     "output_type": "execute_result"
    }
   ],
   "source": [
    "type(st)"
   ]
  },
  {
   "cell_type": "code",
   "execution_count": 228,
   "id": "20a28b4f-5370-46fd-aef7-92aec68d9a56",
   "metadata": {},
   "outputs": [
    {
     "name": "stdout",
     "output_type": "stream",
     "text": [
      "15\n"
     ]
    }
   ],
   "source": [
    "def su(n):\n",
    "    sum = 0\n",
    "    for i in range(1,(n+1)):\n",
    "        sum += i\n",
    "    print(sum)    \n",
    "# n1=int(input(\"enter the number\"))    \n",
    "su(5)            "
   ]
  },
  {
   "cell_type": "code",
   "execution_count": 230,
   "id": "34798794-7e96-4277-9413-8748d6d3bad2",
   "metadata": {
    "tags": []
   },
   "outputs": [
    {
     "name": "stdin",
     "output_type": "stream",
     "text": [
      "enter the number 6\n"
     ]
    },
    {
     "name": "stdout",
     "output_type": "stream",
     "text": [
      "21\n"
     ]
    }
   ],
   "source": [
    "n = int(input(\"enter the number\")) \n",
    "sum = 0\n",
    "for i in range(1,(n+1)):\n",
    "    sum += i\n",
    "print(sum)    "
   ]
  },
  {
   "cell_type": "code",
   "execution_count": 232,
   "id": "72fe6c9d-ddae-4320-9f1c-451c21c01d1b",
   "metadata": {
    "tags": []
   },
   "outputs": [
    {
     "name": "stdout",
     "output_type": "stream",
     "text": [
      "7\n"
     ]
    }
   ],
   "source": [
    "def pr(l):\n",
    "    mul = 1\n",
    "    for i in l:\n",
    "        mul += i\n",
    "    print(mul)    \n",
    "pr([1,2,3]) "
   ]
  },
  {
   "cell_type": "code",
   "execution_count": 234,
   "id": "4ffa1901-c998-4054-832e-6f8fd3956a33",
   "metadata": {
    "tags": []
   },
   "outputs": [
    {
     "name": "stdin",
     "output_type": "stream",
     "text": [
      "enter the name: safna\n"
     ]
    },
    {
     "name": "stdout",
     "output_type": "stream",
     "text": [
      "Hello, safna !\n"
     ]
    }
   ],
   "source": [
    "# function that takes a name as input and prints \"Hello, !\"\n",
    "\n",
    "def greet(name):\n",
    "    print(\"Hello,\",name,\"!\")\n",
    "Name=input(\"enter the name:\")   \n",
    "greet(Name) "
   ]
  },
  {
   "cell_type": "code",
   "execution_count": 236,
   "id": "f8da672e-003c-403a-bace-f35b067b9f02",
   "metadata": {
    "tags": []
   },
   "outputs": [
    {
     "name": "stdin",
     "output_type": "stream",
     "text": [
      "enter the name: 5\n"
     ]
    },
    {
     "name": "stdout",
     "output_type": "stream",
     "text": [
      "25\n"
     ]
    }
   ],
   "source": [
    "# function that takes a number as input and returns its square\n",
    "\n",
    "def square(number):\n",
    "    print(number ** 2)   \n",
    "Num = int(input(\"enter the name:\") )    \n",
    "square(Num)    "
   ]
  },
  {
   "cell_type": "code",
   "execution_count": 238,
   "id": "83477181-ca64-452a-b515-8592b0f57d97",
   "metadata": {
    "tags": []
   },
   "outputs": [
    {
     "name": "stdout",
     "output_type": "stream",
     "text": [
      "1.25\n"
     ]
    }
   ],
   "source": [
    "# function that takes a list of numbers as input and returns their average\n",
    "\n",
    "def average(numbers):\n",
    "    for i in numbers:\n",
    "        sum = 0\n",
    "        sum += i\n",
    "    print(sum / len(numbers))\n",
    "number_list = [1,2,3,5]\n",
    "average(number_list)             "
   ]
  },
  {
   "cell_type": "code",
   "execution_count": 242,
   "id": "222ec1f4-73a6-4e61-b38e-c3a8502c8a7e",
   "metadata": {
    "tags": []
   },
   "outputs": [
    {
     "name": "stdin",
     "output_type": "stream",
     "text": [
      "enter the string ashish\n"
     ]
    },
    {
     "name": "stdout",
     "output_type": "stream",
     "text": [
      "6\n"
     ]
    }
   ],
   "source": [
    "# function that takes a string as input and returns its length\n",
    "\n",
    "def string_length(text):\n",
    "    print(len(text))\n",
    "st = input(\"enter the string\")    \n",
    "string_length(st)    "
   ]
  },
  {
   "cell_type": "code",
   "execution_count": 244,
   "id": "0cf840d5-6ad0-4f02-aa7e-35216e62c1b7",
   "metadata": {
    "tags": []
   },
   "outputs": [
    {
     "name": "stdout",
     "output_type": "stream",
     "text": [
      "4.5\n"
     ]
    }
   ],
   "source": [
    "def average(*numbers):\n",
    "    if not numbers:\n",
    "        print(0)\n",
    "    else:\n",
    "        total = 0\n",
    "        count = 0\n",
    "        for num in numbers:\n",
    "            total += num\n",
    "            count += 1\n",
    "        print(total / count)\n",
    "average(1,3,6,8)    "
   ]
  },
  {
   "cell_type": "code",
   "execution_count": 246,
   "id": "aad0949e-3dad-4bb0-b3bf-6b20fcdfe817",
   "metadata": {
    "tags": []
   },
   "outputs": [
    {
     "name": "stdout",
     "output_type": "stream",
     "text": [
      "there is no numbers\n"
     ]
    }
   ],
   "source": [
    "def average(*numbers):\n",
    "    if not numbers:\n",
    "        print(\"there is no numbers\")\n",
    "    else:\n",
    "        sum = 0\n",
    "        count = 0\n",
    "        for i in numbers:\n",
    "            sum += i\n",
    "            count += 1\n",
    "        print(\"average:\",sum / count)\n",
    "average()"
   ]
  },
  {
   "cell_type": "code",
   "execution_count": 254,
   "id": "95263d3f-7cec-45b3-bdb5-3efbf8996b02",
   "metadata": {
    "tags": []
   },
   "outputs": [
    {
     "name": "stdout",
     "output_type": "stream",
     "text": [
      "average: 3.5\n"
     ]
    }
   ],
   "source": [
    "def average(numbers):\n",
    "    sum = 0\n",
    "    count = 0\n",
    "    for i in numbers:\n",
    "        sum += i\n",
    "        count += 1\n",
    "    print(\"average:\",sum / count)\n",
    "numbers_list=[1,2,3,4,5,6]\n",
    "average(numbers_list)"
   ]
  },
  {
   "cell_type": "code",
   "execution_count": 256,
   "id": "84363504-3d38-4805-b69f-96f6aa2cb1d7",
   "metadata": {
    "tags": []
   },
   "outputs": [
    {
     "name": "stdout",
     "output_type": "stream",
     "text": [
      "4\n"
     ]
    }
   ],
   "source": [
    "# local variable\n",
    "\n",
    "def num():\n",
    "    global x,y\n",
    "    x = 1\n",
    "    y = 3\n",
    "    print(x+y)\n",
    "num()"
   ]
  },
  {
   "cell_type": "code",
   "execution_count": 258,
   "id": "e7ef2879-9f26-47ce-922b-14bf606621ff",
   "metadata": {
    "tags": []
   },
   "outputs": [
    {
     "name": "stdout",
     "output_type": "stream",
     "text": [
      "5\n"
     ]
    },
    {
     "data": {
      "text/plain": [
       "3"
      ]
     },
     "execution_count": 258,
     "metadata": {},
     "output_type": "execute_result"
    }
   ],
   "source": [
    "#global variable\n",
    "\n",
    "x1 = 2   \n",
    "y1 = 3\n",
    "def s():\n",
    "    print(x1+y1)\n",
    "s()    \n",
    "x1\n",
    "y1"
   ]
  },
  {
   "cell_type": "code",
   "execution_count": 260,
   "id": "eb383024-cecf-458b-b8ec-7d485f48cb36",
   "metadata": {
    "tags": []
   },
   "outputs": [
    {
     "data": {
      "text/plain": [
       "2"
      ]
     },
     "execution_count": 260,
     "metadata": {},
     "output_type": "execute_result"
    }
   ],
   "source": [
    "x1"
   ]
  },
  {
   "cell_type": "code",
   "execution_count": 262,
   "id": "1c8ebfec-a3d2-451e-b15c-4c03e5d2f744",
   "metadata": {
    "tags": []
   },
   "outputs": [
    {
     "name": "stdout",
     "output_type": "stream",
     "text": [
      "navya\n"
     ]
    },
    {
     "data": {
      "text/plain": [
       "'rameez'"
      ]
     },
     "execution_count": 262,
     "metadata": {},
     "output_type": "execute_result"
    }
   ],
   "source": [
    "def st():\n",
    "    print(\"navya\")\n",
    "    return \"rameez\"\n",
    "    print(\"sandra\")\n",
    "st()    "
   ]
  },
  {
   "cell_type": "code",
   "execution_count": 264,
   "id": "17947eaf-392f-41f6-880b-e0a311d0d7c3",
   "metadata": {
    "tags": []
   },
   "outputs": [
    {
     "data": {
      "text/plain": [
       "3"
      ]
     },
     "execution_count": 264,
     "metadata": {},
     "output_type": "execute_result"
    }
   ],
   "source": [
    "def add():\n",
    "    t = 1\n",
    "    p = 2\n",
    "    return t+p\n",
    "add()  "
   ]
  },
  {
   "cell_type": "code",
   "execution_count": 266,
   "id": "5161ec43-c6ac-4307-997e-c7a41a73e4ec",
   "metadata": {
    "tags": []
   },
   "outputs": [
    {
     "data": {
      "text/plain": [
       "13"
      ]
     },
     "execution_count": 266,
     "metadata": {},
     "output_type": "execute_result"
    }
   ],
   "source": [
    "m"
   ]
  },
  {
   "cell_type": "code",
   "execution_count": 268,
   "id": "d237cc50-b46e-4cab-9ad9-96e4016888ca",
   "metadata": {},
   "outputs": [
    {
     "name": "stdout",
     "output_type": "stream",
     "text": [
      "[1, 9, 25, 49, 81]\n"
     ]
    }
   ],
   "source": [
    "mlist = [1,3,5,7,9]\n",
    "nlist = list(map(lambda x:x**2,mlist))\n",
    "print(nlist)"
   ]
  },
  {
   "cell_type": "code",
   "execution_count": 270,
   "id": "f75b9972-97e3-492b-8030-efbe3ee6d317",
   "metadata": {},
   "outputs": [
    {
     "name": "stdout",
     "output_type": "stream",
     "text": [
      " Sum is 15\n"
     ]
    }
   ],
   "source": [
    "def sum(*n):\n",
    "    total = 0\n",
    "    for i in n:\n",
    "        total = total + i\n",
    "    print (f\" Sum is {total}\")\n",
    "sum(1,2,3,4,5)"
   ]
  },
  {
   "cell_type": "code",
   "execution_count": 2,
   "id": "7de88e4f-b086-44ba-ae5c-e13d0d885d96",
   "metadata": {},
   "outputs": [
    {
     "name": "stdin",
     "output_type": "stream",
     "text": [
      "Enter the radius of the circle:  3\n"
     ]
    },
    {
     "name": "stdout",
     "output_type": "stream",
     "text": [
      "The area of the circle with radius 3.0 is 28.26\n"
     ]
    }
   ],
   "source": [
    "# Program to calculate area of circle using function\n",
    "\n",
    "def circle_area(radius):\n",
    "    pi = 3.14  \n",
    "    return pi * radius ** 2\n",
    "radius = float(input(\"Enter the radius of the circle: \"))\n",
    "area = circle_area(radius)\n",
    "print(f\"The area of the circle with radius {radius} is {area:.2f}\")"
   ]
  },
  {
   "cell_type": "code",
   "execution_count": 4,
   "id": "8bc2fad2-8105-4a2c-a98e-484466419e19",
   "metadata": {},
   "outputs": [
    {
     "name": "stdin",
     "output_type": "stream",
     "text": [
      "Enter the side length of the cube:  5\n"
     ]
    },
    {
     "name": "stdout",
     "output_type": "stream",
     "text": [
      "The volume of the cube with side length 5.0 is 125.00\n"
     ]
    }
   ],
   "source": [
    "# Program to calculate volume of cube using function\n",
    "\n",
    "def cube_volume(side_length):\n",
    "    return side_length ** 3\n",
    "side_length = float(input(\"Enter the side length of the cube: \"))\n",
    "volume = cube_volume(side_length)\n",
    "print(f\"The volume of the cube with side length {side_length} is {volume:.2f}\")"
   ]
  },
  {
   "cell_type": "code",
   "execution_count": 6,
   "id": "f0a545a7-a773-4f48-a32f-360879629c73",
   "metadata": {},
   "outputs": [
    {
     "name": "stdin",
     "output_type": "stream",
     "text": [
      "Enter the first number:  3\n",
      "Enter the second number:  6\n"
     ]
    },
    {
     "name": "stdout",
     "output_type": "stream",
     "text": [
      "Addition: 9.0\n",
      "Subtraction: -3.0\n"
     ]
    }
   ],
   "source": [
    "# Function to calculate addition and subtraction\n",
    "\n",
    "def calculation(a, b):\n",
    "    addition = a + b\n",
    "    subtraction = a - b\n",
    "    return addition, subtraction\n",
    "n1 = float(input(\"Enter the first number: \"))\n",
    "n2 = float(input(\"Enter the second number: \"))\n",
    "add, sub = calculation(n1, n2)\n",
    "print(f\"Addition: {add}\")\n",
    "print(f\"Subtraction: {sub}\")"
   ]
  },
  {
   "cell_type": "code",
   "execution_count": 10,
   "id": "cc7130fc-6e60-4bc8-a27c-5a61aed1cf14",
   "metadata": {},
   "outputs": [
    {
     "name": "stdin",
     "output_type": "stream",
     "text": [
      "Enter a number to divide by:  5\n"
     ]
    },
    {
     "name": "stdout",
     "output_type": "stream",
     "text": [
      "Numbers divisible by 5: [10, 25, 40, 55, 60, 75]\n"
     ]
    }
   ],
   "source": [
    "# Function to find numbers divisible by a given divisor\n",
    "\n",
    "def div(n, d):\n",
    "    return list(filter(lambda x: x % d == 0, n))\n",
    "n = [10, 25, 33, 40, 55, 60, 75]\n",
    "d = int(input(\"Enter a number to divide by: \"))\n",
    "div_num = div(n, d)\n",
    "print(f\"Numbers divisible by {d}: {div_num}\")"
   ]
  },
  {
   "cell_type": "code",
   "execution_count": 12,
   "id": "c9433401-bde2-4fe8-a906-48e442dc48c0",
   "metadata": {},
   "outputs": [
    {
     "name": "stdout",
     "output_type": "stream",
     "text": [
      "Squares of the numbers: [1, 4, 9, 16, 25]\n"
     ]
    }
   ],
   "source": [
    "# Program to print the squares of numbers in a given list\n",
    "\n",
    "numbers = [1, 2, 3, 4, 5]\n",
    "squares = list(map(lambda x: x ** 2, numbers))\n",
    "print(\"Squares of the numbers:\", squares)"
   ]
  },
  {
   "cell_type": "code",
   "execution_count": 18,
   "id": "809be77d-4f26-4bda-93c8-6fb40ccfd6dc",
   "metadata": {},
   "outputs": [
    {
     "name": "stdout",
     "output_type": "stream",
     "text": [
      "Squares of even numbers: [1, 4, 9, 16, 25]\n"
     ]
    }
   ],
   "source": [
    "num = [1, 2, 3, 4, 5, 6, 7, 8, 9, 10]\n",
    "squares_of_even = list(map(lambda x: x ** 2, filter(lambda x: x % 2 == 0, num)))\n",
    "print(\"Squares of even numbers:\", squares)"
   ]
  },
  {
   "cell_type": "code",
   "execution_count": 20,
   "id": "79a7c009-1db0-4664-a326-77bb590cae16",
   "metadata": {},
   "outputs": [
    {
     "name": "stdin",
     "output_type": "stream",
     "text": [
      "Enter a number to find its factorial:  7\n"
     ]
    },
    {
     "name": "stdout",
     "output_type": "stream",
     "text": [
      "Factorial of 7 is 5040\n"
     ]
    }
   ],
   "source": [
    "# Recursive function to calculate factorial of a number\n",
    "\n",
    "def fact(n):\n",
    "    if n == 0 or n == 1:\n",
    "        return 1\n",
    "    else:\n",
    "        return n * fact(n - 1)\n",
    "num = int(input(\"Enter a number to find its factorial: \"))\n",
    "print(f\"Factorial of {num} is {fact(num)}\")"
   ]
  },
  {
   "cell_type": "code",
   "execution_count": 22,
   "id": "fdd5961e-c0c6-45c1-8032-44e6473e2f19",
   "metadata": {},
   "outputs": [
    {
     "name": "stdin",
     "output_type": "stream",
     "text": [
      "Enter a number to find the sum of first n natural numbers:  5\n"
     ]
    },
    {
     "name": "stdout",
     "output_type": "stream",
     "text": [
      "Sum of first 5 natural numbers is 15\n"
     ]
    }
   ],
   "source": [
    "# Recursive function to calculate sum of n natural numbers\n",
    "\n",
    "def sum(n):\n",
    "    if n == 1:\n",
    "        return 1\n",
    "    else:\n",
    "        return n + sum(n - 1)\n",
    "n = int(input(\"Enter a number to find the sum of first n natural numbers: \"))\n",
    "print(f\"Sum of first {n} natural numbers is {sum(n)}\")"
   ]
  },
  {
   "cell_type": "code",
   "execution_count": 24,
   "id": "950b2f03-da49-48ea-8ae1-53dfaaa194c2",
   "metadata": {},
   "outputs": [
    {
     "name": "stdin",
     "output_type": "stream",
     "text": [
      "Enter the number of terms for the Fibonacci series:  4\n"
     ]
    },
    {
     "name": "stdout",
     "output_type": "stream",
     "text": [
      "Fibonacci series:\n",
      "0 1 1 2 "
     ]
    }
   ],
   "source": [
    "# Recursive function to calculate Fibonacci sequence\n",
    "\n",
    "def fibonacci(n):\n",
    "    if n == 0:\n",
    "        return 0\n",
    "    elif n == 1:\n",
    "        return 1\n",
    "    else:\n",
    "        return fibonacci(n - 1) + fibonacci(n - 2)\n",
    "terms = int(input(\"Enter the number of terms for the Fibonacci series: \"))\n",
    "print(\"Fibonacci series:\")\n",
    "for i in range(terms):\n",
    "    print(fibonacci(i), end=\" \")"
   ]
  },
  {
   "cell_type": "code",
   "execution_count": 4,
   "id": "2b03bfb4-3c29-47a0-88af-6b62d5ab3eb3",
   "metadata": {},
   "outputs": [
    {
     "name": "stdout",
     "output_type": "stream",
     "text": [
      "The average is 30.0\n"
     ]
    }
   ],
   "source": [
    "def average(num):\n",
    "    return sum(num) / len(num)\n",
    "\n",
    "l = [10, 20, 30, 40, 50]\n",
    "avg = average(l)\n",
    "print(\"The average is\", avg)"
   ]
  },
  {
   "cell_type": "code",
   "execution_count": 2,
   "id": "b87946db-cb54-4348-8bc7-3efe4e2c65d2",
   "metadata": {},
   "outputs": [
    {
     "name": "stdin",
     "output_type": "stream",
     "text": [
      "enter the no: 10\n"
     ]
    },
    {
     "name": "stdout",
     "output_type": "stream",
     "text": [
      "1\n",
      "2\n",
      "3\n",
      "4\n",
      "5\n",
      "6\n",
      "7\n",
      "8\n",
      "9\n",
      "10\n"
     ]
    }
   ],
   "source": [
    "n=int(input(\"enter the no:\"))\n",
    "for i in range(1,(n+1)):\n",
    "    print(i)"
   ]
  },
  {
   "cell_type": "code",
   "execution_count": 4,
   "id": "2bbcb52f-d964-4ed8-a928-3eb0e26a0a18",
   "metadata": {},
   "outputs": [
    {
     "name": "stdin",
     "output_type": "stream",
     "text": [
      "enter the no: 10\n"
     ]
    },
    {
     "name": "stdout",
     "output_type": "stream",
     "text": [
      "1\n",
      "2\n",
      "3\n",
      "4\n",
      "5\n",
      "6\n",
      "7\n",
      "8\n",
      "9\n",
      "10\n"
     ]
    }
   ],
   "source": [
    "n=int(input(\"enter the no:\"))\n",
    "i=1\n",
    "while i<(n+1):\n",
    "    print(i)\n",
    "    i+=1"
   ]
  },
  {
   "cell_type": "code",
   "execution_count": 6,
   "id": "c0ce7d32-d3da-4652-a778-54873fd5b85e",
   "metadata": {},
   "outputs": [
    {
     "name": "stdin",
     "output_type": "stream",
     "text": [
      "enter the number: 3\n"
     ]
    },
    {
     "name": "stdout",
     "output_type": "stream",
     "text": [
      "factorial: 6\n"
     ]
    }
   ],
   "source": [
    "n=int(input(\"enter the number:\"))\n",
    "f=1\n",
    "for i in range(1,(n+1)):\n",
    "    f*=i\n",
    "print(\"factorial:\",f) "
   ]
  },
  {
   "cell_type": "code",
   "execution_count": 8,
   "id": "e1bd355c-0fea-4014-81ea-00f83ea37867",
   "metadata": {},
   "outputs": [
    {
     "name": "stdin",
     "output_type": "stream",
     "text": [
      "enter the number: 3\n"
     ]
    },
    {
     "name": "stdout",
     "output_type": "stream",
     "text": [
      "factorial: 6\n"
     ]
    }
   ],
   "source": [
    "x=int(input(\"enter the number:\"))\n",
    "f=1\n",
    "i=1\n",
    "while x>=i:\n",
    "    f*=i\n",
    "    i+=1\n",
    "print(\"factorial:\",f)"
   ]
  }
 ],
 "metadata": {
  "kernelspec": {
   "display_name": "Python [conda env:base] *",
   "language": "python",
   "name": "conda-base-py"
  },
  "language_info": {
   "codemirror_mode": {
    "name": "ipython",
    "version": 3
   },
   "file_extension": ".py",
   "mimetype": "text/x-python",
   "name": "python",
   "nbconvert_exporter": "python",
   "pygments_lexer": "ipython3",
   "version": "3.11.5"
  }
 },
 "nbformat": 4,
 "nbformat_minor": 5
}
