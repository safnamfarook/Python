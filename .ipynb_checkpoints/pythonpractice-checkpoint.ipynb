{
 "cells": [
  {
   "cell_type": "code",
   "execution_count": 58,
   "id": "c8a656f4-0f3f-4044-a087-f2aa92ba7982",
   "metadata": {},
   "outputs": [
    {
     "name": "stdin",
     "output_type": "stream",
     "text": [
      "Enter your first name:  Safna\n",
      "Enter your last name:  Muhammed Farook\n",
      "Enter your course:  Machine Learning\n"
     ]
    },
    {
     "name": "stdout",
     "output_type": "stream",
     "text": [
      "Welcome Safna Muhammed Farook! You are enrolled to Machine Learning\n",
      "Welcome Safna Muhammed Farook! You are enrolled to Machine Learning\n"
     ]
    }
   ],
   "source": [
    "firstname = input(\"Enter your first name: \")\n",
    "lastname = input(\"Enter your last name: \")\n",
    "course = input(\"Enter your course: \")\n",
    "print(\"Welcome \"+firstname+\" \"+lastname+\"! You are enrolled to \"+course)\n",
    "print (f\"Welcome {firstname} {lastname}! You are enrolled to {course}\")"
   ]
  },
  {
   "cell_type": "code",
   "execution_count": 61,
   "id": "875d1de1-a422-45bb-a97b-6925fcedec2f",
   "metadata": {},
   "outputs": [
    {
     "name": "stdout",
     "output_type": "stream",
     "text": [
      "20\n",
      "10\n"
     ]
    }
   ],
   "source": [
    "a=10\n",
    "b=20\n",
    "a,b=b,a\n",
    "print(a)\n",
    "print(b)"
   ]
  },
  {
   "cell_type": "code",
   "execution_count": 64,
   "id": "83249cdb-7ad6-40d2-b188-3d84da2a2183",
   "metadata": {},
   "outputs": [
    {
     "name": "stdin",
     "output_type": "stream",
     "text": [
      "Enter first number:  2\n",
      "Enter second number:  3\n"
     ]
    },
    {
     "name": "stdout",
     "output_type": "stream",
     "text": [
      "The sum of 2 and 3 is 5\n"
     ]
    }
   ],
   "source": [
    "x = int(input(\"Enter first number: \"))\n",
    "y = int(input(\"Enter second number: \"))\n",
    "z = x+y\n",
    "print(f\"The sum of {x} and {y} is {z}\")"
   ]
  },
  {
   "cell_type": "code",
   "execution_count": 1,
   "id": "204890b0-d5d4-4eba-82de-559620104ec1",
   "metadata": {},
   "outputs": [
    {
     "data": {
      "text/plain": [
       "4"
      ]
     },
     "execution_count": 1,
     "metadata": {},
     "output_type": "execute_result"
    }
   ],
   "source": [
    "l = [10,20,30,40]\n",
    "len(l)"
   ]
  },
  {
   "cell_type": "code",
   "execution_count": 50,
   "id": "e0156637-5218-4f7c-a990-e296d5428cab",
   "metadata": {},
   "outputs": [
    {
     "name": "stdout",
     "output_type": "stream",
     "text": [
      "21\n"
     ]
    }
   ],
   "source": [
    "from functools import reduce\n",
    "l = [1,2,3,4,5,6]\n",
    "new_l = reduce(lambda x,y : x+y, l)\n",
    "print (new_l)"
   ]
  },
  {
   "cell_type": "code",
   "execution_count": 11,
   "id": "341c961e-d9ae-42da-bc5d-48026eb4e66b",
   "metadata": {},
   "outputs": [
    {
     "name": "stdin",
     "output_type": "stream",
     "text": [
      "Enter value of a:  2\n",
      "Enter value of b:  4\n"
     ]
    },
    {
     "name": "stdout",
     "output_type": "stream",
     "text": [
      "Value of a is 4\n",
      "Value of b is 2\n"
     ]
    }
   ],
   "source": [
    "a = int(input(\"Enter value of a: \"))\n",
    "b = int(input(\"Enter value of b: \"))\n",
    "a,b = b,a\n",
    "print (f\"Value of a is {a}\")\n",
    "print (f\"Value of b is {b}\")"
   ]
  },
  {
   "cell_type": "code",
   "execution_count": 15,
   "id": "da99b3a4-f790-4cf3-bfe9-e7ea95829fa2",
   "metadata": {},
   "outputs": [
    {
     "data": {
      "text/plain": [
       "[24, 35, 9, 56, 12]"
      ]
     },
     "execution_count": 15,
     "metadata": {},
     "output_type": "execute_result"
    }
   ],
   "source": [
    "l = [12,35,9,56,24]\n",
    "l[0],l[-1]=l[-1],l[0]\n",
    "l"
   ]
  },
  {
   "cell_type": "code",
   "execution_count": 47,
   "id": "9f8f05d7-8e09-4f30-85f8-3988b80096ee",
   "metadata": {},
   "outputs": [
    {
     "data": {
      "text/plain": [
       "[1, 3, 19, 90]"
      ]
     },
     "execution_count": 47,
     "metadata": {},
     "output_type": "execute_result"
    }
   ],
   "source": [
    "li = [23,65,19,90]\n",
    "li[0] = 1\n",
    "li[1] = 3\n",
    "li"
   ]
  },
  {
   "cell_type": "code",
   "execution_count": 52,
   "id": "b2741a1b-0239-41dc-9215-bd758451cff4",
   "metadata": {},
   "outputs": [
    {
     "data": {
      "text/plain": [
       "150"
      ]
     },
     "execution_count": 52,
     "metadata": {},
     "output_type": "execute_result"
    }
   ],
   "source": [
    "a = [10,20,30,40,50]\n",
    "sum(a)"
   ]
  },
  {
   "cell_type": "code",
   "execution_count": 70,
   "id": "75141b48-6236-4f00-8eb0-7af025aff276",
   "metadata": {},
   "outputs": [
    {
     "name": "stdout",
     "output_type": "stream",
     "text": [
      "[(1, 'a'), (2, 'b'), (3, 'c'), (4, 'd'), (5, 'e')]\n"
     ]
    }
   ],
   "source": [
    "a = [1,2,3,4,5]\n",
    "b = ['a','b','c','d','e']\n",
    "c = list(zip(a,b))\n",
    "print (c)"
   ]
  },
  {
   "cell_type": "code",
   "execution_count": 72,
   "id": "3d762957-4607-4f6e-a52d-9b66f2b818e9",
   "metadata": {},
   "outputs": [
    {
     "name": "stdout",
     "output_type": "stream",
     "text": [
      "Not empty set\n"
     ]
    }
   ],
   "source": [
    "a = {1,'safna',2.5}\n",
    "if len(a) == 0:\n",
    "    print (\"Empty set\")\n",
    "else:\n",
    "    print (\"Not empty set\")"
   ]
  },
  {
   "cell_type": "code",
   "execution_count": 78,
   "id": "4bb06ab0-064c-4e01-9645-a462369596b3",
   "metadata": {},
   "outputs": [
    {
     "data": {
      "text/plain": [
       "5"
      ]
     },
     "execution_count": 78,
     "metadata": {},
     "output_type": "execute_result"
    }
   ],
   "source": [
    "a = 2 \n",
    "b = 5\n",
    "max(a,b)"
   ]
  },
  {
   "cell_type": "code",
   "execution_count": 3,
   "id": "8f245be7-2a0e-45c7-b3b0-87ba1a4b76f4",
   "metadata": {},
   "outputs": [
    {
     "name": "stdin",
     "output_type": "stream",
     "text": [
      "Enter radius of circle: 3\n"
     ]
    },
    {
     "name": "stdout",
     "output_type": "stream",
     "text": [
      "28.26\n"
     ]
    }
   ],
   "source": [
    "radius = int(input(\"Enter radius of circle:\"))\n",
    "area = 3.14*(radius**2)\n",
    "print (area)"
   ]
  },
  {
   "cell_type": "code",
   "execution_count": 7,
   "id": "30755a37-de3d-47d9-8422-54e04c8158cb",
   "metadata": {},
   "outputs": [
    {
     "name": "stdin",
     "output_type": "stream",
     "text": [
      "Enter name of student: Anisha\n",
      "Enter roll number of student: 21\n",
      "Enter mark of student 78\n"
     ]
    },
    {
     "name": "stdout",
     "output_type": "stream",
     "text": [
      "Name: Anisha, Roll no: 21, Mark: 78\n"
     ]
    }
   ],
   "source": [
    "name = input(\"Enter name of student:\")\n",
    "rollno = int(input(\"Enter roll number of student:\"))\n",
    "mark = int(input(\"Enter mark of student\"))\n",
    "print (f\"Name: {name}, Roll no: {rollno}, Mark: {mark}\") "
   ]
  },
  {
   "cell_type": "code",
   "execution_count": 11,
   "id": "e4f399ea-9df9-460b-b169-6a50f0078a50",
   "metadata": {},
   "outputs": [
    {
     "name": "stdout",
     "output_type": "stream",
     "text": [
      "47\n"
     ]
    }
   ],
   "source": [
    "l = [12,3,47,10]\n",
    "print(max(l))"
   ]
  },
  {
   "cell_type": "code",
   "execution_count": 14,
   "id": "4c342a2e-f555-4808-86b1-d866050e6af8",
   "metadata": {},
   "outputs": [
    {
     "name": "stdin",
     "output_type": "stream",
     "text": [
      "Enter a string value:  safna\n"
     ]
    },
    {
     "name": "stdout",
     "output_type": "stream",
     "text": [
      "s=1, a=2, f=1, n=1, "
     ]
    }
   ],
   "source": [
    "s = input(\"Enter a string value: \")\n",
    "char_count = {}\n",
    "for char in s:\n",
    "    char_count[char] = char_count.get(char, 0) + 1\n",
    "for char, count in char_count.items():\n",
    "    print(f\"{char}={count}\", end=\", \")"
   ]
  },
  {
   "cell_type": "code",
   "execution_count": 17,
   "id": "09d4f08d-a839-41c8-aa5b-a9996c629544",
   "metadata": {},
   "outputs": [
    {
     "name": "stdout",
     "output_type": "stream",
     "text": [
      " new tuple = (44, 55)\n"
     ]
    }
   ],
   "source": [
    "t = (11, 22, 33, 44, 55, 66)\n",
    "tup = t[3:5]\n",
    "print(f\" new tuple = {tup}\")"
   ]
  },
  {
   "cell_type": "code",
   "execution_count": 24,
   "id": "a6528102-b83f-4052-af80-f5829e602471",
   "metadata": {},
   "outputs": [
    {
     "name": "stdin",
     "output_type": "stream",
     "text": [
      "Enter an integer:  4\n"
     ]
    },
    {
     "name": "stdout",
     "output_type": "stream",
     "text": [
      "24\n"
     ]
    }
   ],
   "source": [
    "def fact(n):\n",
    "    result = 1\n",
    "    for i in range(1, n + 1):\n",
    "        result *= i\n",
    "    return result\n",
    "n = int(input(\"Enter an integer: \"))\n",
    "print(fact(n))"
   ]
  },
  {
   "cell_type": "code",
   "execution_count": 27,
   "id": "0cef5557-c819-4c63-bd54-0400799f986f",
   "metadata": {},
   "outputs": [
    {
     "name": "stdout",
     "output_type": "stream",
     "text": [
      "[10, 20, 55]\n"
     ]
    }
   ],
   "source": [
    "n = [10, 20, 33, 46, 55]\n",
    "div = [num for num in n if num % 5 == 0]\n",
    "print(div)"
   ]
  },
  {
   "cell_type": "code",
   "execution_count": 30,
   "id": "2206f059-857c-4b88-974c-cc3216d32c01",
   "metadata": {},
   "outputs": [
    {
     "name": "stdin",
     "output_type": "stream",
     "text": [
      "Enter a number:  5\n"
     ]
    },
    {
     "name": "stdout",
     "output_type": "stream",
     "text": [
      "5 is a prime number.\n"
     ]
    }
   ],
   "source": [
    "number = int(input(\"Enter a number: \"))\n",
    "if number < 2:\n",
    "    print(f\"{number} is not a prime number.\")\n",
    "else:\n",
    "    prime = True\n",
    "    for i in range(2, int(number ** 0.5) + 1):\n",
    "        if number % i == 0:\n",
    "            prime = False\n",
    "            break\n",
    "    if prime:\n",
    "        print(f\"{number} is a prime number.\")\n",
    "    else:\n",
    "        print(f\"{number} is not a prime number.\")"
   ]
  },
  {
   "cell_type": "code",
   "execution_count": 41,
   "id": "7080fb8b-831b-4eba-908a-4195ec13bc75",
   "metadata": {},
   "outputs": [
    {
     "name": "stdout",
     "output_type": "stream",
     "text": [
      "[70, 30, 40, 10]\n"
     ]
    }
   ],
   "source": [
    "n = [10, 40, 30, 70]\n",
    "rev = []\n",
    "for i in range(len(n) - 1, -1, -1):\n",
    "    rev.append(n[i])\n",
    "print(rev)"
   ]
  },
  {
   "cell_type": "code",
   "execution_count": 45,
   "id": "f86bb731-d820-413d-84e1-50cf1bba2914",
   "metadata": {},
   "outputs": [
    {
     "name": "stdout",
     "output_type": "stream",
     "text": [
      "15\n"
     ]
    }
   ],
   "source": [
    "num = [2, 1, 3, 1]\n",
    "sq = sum(n ** 2 for n in num)\n",
    "print(sq)"
   ]
  },
  {
   "cell_type": "code",
   "execution_count": 49,
   "id": "f4d1b052-44fb-433f-8ebb-1748ae11eb80",
   "metadata": {},
   "outputs": [
    {
     "name": "stdin",
     "output_type": "stream",
     "text": [
      "Enter the radius of the circle:  7\n"
     ]
    },
    {
     "name": "stdout",
     "output_type": "stream",
     "text": [
      "Area of the circle: 153.86\n",
      "Perimeter of the circle: 43.96\n"
     ]
    }
   ],
   "source": [
    "class circle:\n",
    "    def __init__(self, radius):\n",
    "        self.radius = radius\n",
    "    def area(self):\n",
    "        return 3.14 * self.radius ** 2\n",
    "    def perimeter(self):\n",
    "        return 2 * 3.14 * self.radius\n",
    "radius = float(input(\"Enter the radius of the circle: \"))\n",
    "circle = circle(radius)    \n",
    "print(\"Area of the circle:\",circle.area())\n",
    "print(\"Perimeter of the circle:\",circle.perimeter()) "
   ]
  },
  {
   "cell_type": "code",
   "execution_count": 52,
   "id": "e93c8be0-b883-40c9-95df-60d6e95b5151",
   "metadata": {},
   "outputs": [
    {
     "name": "stdin",
     "output_type": "stream",
     "text": [
      "Enter the starting number:  2\n",
      "Enter the ending number:  18\n"
     ]
    },
    {
     "name": "stdout",
     "output_type": "stream",
     "text": [
      "Even numbers between 2 and 18 :\n",
      "2\n",
      "4\n",
      "6\n",
      "8\n",
      "10\n",
      "12\n",
      "14\n",
      "16\n",
      "18\n"
     ]
    }
   ],
   "source": [
    "a = int(input(\"Enter the starting number: \"))\n",
    "b = int(input(\"Enter the ending number: \"))\n",
    "print(\"Even numbers between\", a, \"and\", b, \":\")\n",
    "for n in range(a, b+1):\n",
    "    if n % 2 == 0:\n",
    "        print(n)"
   ]
  }
 ],
 "metadata": {
  "kernelspec": {
   "display_name": "Python [conda env:base] *",
   "language": "python",
   "name": "conda-base-py"
  },
  "language_info": {
   "codemirror_mode": {
    "name": "ipython",
    "version": 3
   },
   "file_extension": ".py",
   "mimetype": "text/x-python",
   "name": "python",
   "nbconvert_exporter": "python",
   "pygments_lexer": "ipython3",
   "version": "3.11.5"
  }
 },
 "nbformat": 4,
 "nbformat_minor": 5
}
