{
 "cells": [
  {
   "cell_type": "code",
   "execution_count": 64,
   "id": "6cc76c7b-6835-4637-921d-c4d2f1ccce57",
   "metadata": {
    "tags": []
   },
   "outputs": [
    {
     "name": "stdin",
     "output_type": "stream",
     "text": [
      "Enter the number: -5\n"
     ]
    },
    {
     "name": "stdout",
     "output_type": "stream",
     "text": [
      "The value is negative\n"
     ]
    }
   ],
   "source": [
    "x = int(input(\"Enter the number:\"))\n",
    "if x<0:\n",
    "    print('The value is negative')\n",
    "    \n",
    "# Here, after the if clause, ‘:’ is not used. This is a syntax error."
   ]
  },
  {
   "cell_type": "code",
   "execution_count": 66,
   "id": "d5cacec9-b79f-4226-a8c2-eb6f853598e6",
   "metadata": {
    "tags": []
   },
   "outputs": [
    {
     "ename": "ZeroDivisionError",
     "evalue": "division by zero",
     "output_type": "error",
     "traceback": [
      "\u001b[0;31m---------------------------------------------------------------------------\u001b[0m",
      "\u001b[0;31mZeroDivisionError\u001b[0m                         Traceback (most recent call last)",
      "Cell \u001b[0;32mIn[66], line 2\u001b[0m\n\u001b[1;32m      1\u001b[0m x \u001b[38;5;241m=\u001b[39m \u001b[38;5;241m5\u001b[39m\n\u001b[0;32m----> 2\u001b[0m \u001b[38;5;28mprint\u001b[39m(x\u001b[38;5;241m/\u001b[39m\u001b[38;5;241m0\u001b[39m)\n",
      "\u001b[0;31mZeroDivisionError\u001b[0m: division by zero"
     ]
    }
   ],
   "source": [
    "x = 5\n",
    "print(x/0)\n",
    "\n",
    "# Exceptions are raised when the code is syntactically correct, but the code result in an error"
   ]
  },
  {
   "cell_type": "code",
   "execution_count": 68,
   "id": "c402fc39-6c35-4200-980e-0dacf01efd65",
   "metadata": {
    "tags": []
   },
   "outputs": [
    {
     "name": "stdout",
     "output_type": "stream",
     "text": [
      "Leads to an exception since division by zero is not defined\n"
     ]
    }
   ],
   "source": [
    "try:\n",
    "    x = 5\n",
    "    print(x/0)\n",
    "except:\n",
    "    print(\"Leads to an exception since division by zero is not defined\")"
   ]
  },
  {
   "cell_type": "code",
   "execution_count": 70,
   "id": "fb74a7c1-8e95-4e40-ad39-c783fc509618",
   "metadata": {
    "tags": []
   },
   "outputs": [
    {
     "name": "stdout",
     "output_type": "stream",
     "text": [
      "The index is out of range\n"
     ]
    }
   ],
   "source": [
    "a = [2,8,10]\n",
    "try:\n",
    "    print(\"Fourth element:\", a[3])\n",
    "    print(\"First element:\", a[0])          # raises exception \n",
    "except:\n",
    "   print(\"The index is out of range\")     #handles the exception"
   ]
  },
  {
   "cell_type": "code",
   "execution_count": 72,
   "id": "ef4ad3ff-0439-400c-bec0-1a038a3e9c0a",
   "metadata": {
    "tags": []
   },
   "outputs": [
    {
     "name": "stdout",
     "output_type": "stream",
     "text": [
      "Value of b: -0.5\n",
      "error occured\n",
      "Value of b: -2.0\n"
     ]
    }
   ],
   "source": [
    "def func(a):\n",
    "    if a < 4 :\n",
    "        b = a/(a-3)\n",
    "    print(\"Value of b:\", b)\n",
    "try:    \n",
    "    func(1)\n",
    "    func(3)\n",
    "    func(2)   \n",
    "except:\n",
    "    print(\"error occured\")\n",
    "finally:  \n",
    "    func(2)"
   ]
  },
  {
   "cell_type": "code",
   "execution_count": 100,
   "id": "b742cdc3-f2ee-42b1-bc25-2997ee2b6397",
   "metadata": {
    "tags": []
   },
   "outputs": [
    {
     "name": "stdout",
     "output_type": "stream",
     "text": [
      "Value of b: -2.0\n",
      "Zero division error occurred\n",
      "Value of b: -0.5\n",
      "5\n"
     ]
    }
   ],
   "source": [
    "def func(a):\n",
    "    if a < 4 :\n",
    "        b = a/(a-3)\n",
    "    print(\"Value of b:\", b)\n",
    "try:\n",
    "    func(2)\n",
    "    func(3)\n",
    "    func(5)    \n",
    "except ZeroDivisionError:\n",
    "     print(\"Zero division error occurred\")\n",
    "except NameError:\n",
    "   print(\"Name error occurred\")\n",
    "finally:\n",
    "    func(1)\n",
    "    print(1+4)\n",
    "\n",
    "# Only one exception handler will be executed at a time."
   ]
  },
  {
   "cell_type": "code",
   "execution_count": 76,
   "id": "ba1792ce-fc13-4ef9-8db0-c8ddb88d0951",
   "metadata": {
    "tags": []
   },
   "outputs": [
    {
     "name": "stdout",
     "output_type": "stream",
     "text": [
      "-1.5714285714285714\n",
      "arithmetic function\n"
     ]
    }
   ],
   "source": [
    "def arithmetic(a,b):\n",
    "   try:\n",
    "      c = (a+b)/(a-b)\n",
    "      print(c)\n",
    "   except ZeroDivisionError:\n",
    "      print(\"Zero division error\")\n",
    "   finally:\n",
    "    print(\"arithmetic function\")\n",
    "arithmetic(2,9)"
   ]
  },
  {
   "cell_type": "code",
   "execution_count": 78,
   "id": "bb30f969-9d13-4790-82c0-983fb2d65347",
   "metadata": {
    "tags": []
   },
   "outputs": [
    {
     "name": "stdout",
     "output_type": "stream",
     "text": [
      "Zero division error\n",
      "arithmetic function\n"
     ]
    }
   ],
   "source": [
    "arithmetic(9,9)"
   ]
  },
  {
   "cell_type": "code",
   "execution_count": 80,
   "id": "d90c52d4-b0c0-4feb-b313-372231f4f4bd",
   "metadata": {
    "tags": []
   },
   "outputs": [
    {
     "name": "stdout",
     "output_type": "stream",
     "text": [
      "1.5714285714285714\n",
      "9 2\n",
      "Zero division error\n",
      "3 3\n",
      "7.0\n",
      "4 3\n"
     ]
    }
   ],
   "source": [
    "def arithmetic(a,b):\n",
    "   try:\n",
    "      c = (a+b)/(a-b)\n",
    "   except ZeroDivisionError :\n",
    "      print(\"Zero division error\")\n",
    "   else:\n",
    "      print(c)\n",
    "   finally:\n",
    "    print(a,b)\n",
    "arithmetic(9,2)\n",
    "arithmetic(3,3)\n",
    "arithmetic(4,3)"
   ]
  },
  {
   "cell_type": "code",
   "execution_count": 82,
   "id": "2ad8ac17-5e24-4069-a94b-6ec2a22ce2da",
   "metadata": {},
   "outputs": [
    {
     "name": "stdout",
     "output_type": "stream",
     "text": [
      "invalid\n"
     ]
    }
   ],
   "source": [
    "try:\n",
    "    print(2+\"v\")\n",
    "except ZeroDivisionError:\n",
    "    print(\"cant divide with zero\")\n",
    "except NameError:\n",
    "        print(\"nameeee\")\n",
    "except TypeError:\n",
    "        print(\"invalid\")\n",
    "except:\n",
    "    print(\"error\")"
   ]
  },
  {
   "cell_type": "code",
   "execution_count": 84,
   "id": "f93f572c-5bcf-4531-a586-43ad4f4ee28d",
   "metadata": {},
   "outputs": [
    {
     "name": "stdout",
     "output_type": "stream",
     "text": [
      "cant divide with zero\n"
     ]
    }
   ],
   "source": [
    "try:\n",
    "    print(2/0)\n",
    "except ZeroDivisionError:\n",
    "    print(\"cant divide with zero\")\n",
    "except NameError:\n",
    "        print(\"nameeee\")\n",
    "except TypeError:\n",
    "        print(\"invalid\")\n",
    "except:\n",
    "    print(\"error\")"
   ]
  },
  {
   "cell_type": "code",
   "execution_count": 86,
   "id": "df96bbf1-443e-41bd-8271-54a85ef07ebc",
   "metadata": {},
   "outputs": [
    {
     "name": "stdout",
     "output_type": "stream",
     "text": [
      "4.0\n",
      "code is working\n",
      "hai all\n"
     ]
    }
   ],
   "source": [
    "try:\n",
    "  print(8/2)\n",
    "except:\n",
    "  print(\"an error occured\")\n",
    "else:\n",
    "    print(\"code is working\")\n",
    "finally:\n",
    "    print(\"hai all\")"
   ]
  },
  {
   "cell_type": "code",
   "execution_count": 88,
   "id": "b47ac545-9ac9-461f-ae59-a4fa0e6e6466",
   "metadata": {},
   "outputs": [
    {
     "name": "stdout",
     "output_type": "stream",
     "text": [
      "File not found!\n",
      "Closing the file (if it was opened).\n"
     ]
    }
   ],
   "source": [
    "try:\n",
    "    file = open(\"exa.txt\", \"r\")\n",
    "    content = file.read()\n",
    "except FileNotFoundError:\n",
    "    print(\"File not found!\")\n",
    "else:\n",
    "    print(\"file is there\")\n",
    "finally:\n",
    "    print(\"Closing the file (if it was opened).\")"
   ]
  },
  {
   "cell_type": "code",
   "execution_count": 49,
   "id": "4b8c3be8-d830-4e73-9bca-c80ac3d284a6",
   "metadata": {},
   "outputs": [
    {
     "ename": "ValueError",
     "evalue": "Age cannot be negative!",
     "output_type": "error",
     "traceback": [
      "\u001b[0;31m---------------------------------------------------------------------------\u001b[0m",
      "\u001b[0;31mValueError\u001b[0m                                Traceback (most recent call last)",
      "Cell \u001b[0;32mIn[49], line 4\u001b[0m\n\u001b[1;32m      2\u001b[0m age \u001b[38;5;241m=\u001b[39m \u001b[38;5;241m-\u001b[39m\u001b[38;5;241m5\u001b[39m\n\u001b[1;32m      3\u001b[0m \u001b[38;5;28;01mif\u001b[39;00m age \u001b[38;5;241m<\u001b[39m \u001b[38;5;241m0\u001b[39m:\n\u001b[0;32m----> 4\u001b[0m     \u001b[38;5;28;01mraise\u001b[39;00m \u001b[38;5;167;01mValueError\u001b[39;00m(\u001b[38;5;124m\"\u001b[39m\u001b[38;5;124mAge cannot be negative!\u001b[39m\u001b[38;5;124m\"\u001b[39m)\n",
      "\u001b[0;31mValueError\u001b[0m: Age cannot be negative!"
     ]
    }
   ],
   "source": [
    "# You can raise exceptions explicitly using the raise statement.\n",
    "age = -5\n",
    "if age < 0:\n",
    "    raise ValueError(\"Age cannot be negative!\")"
   ]
  },
  {
   "cell_type": "code",
   "execution_count": 52,
   "id": "ee4bcea9-4419-4884-852f-59f5343bcae3",
   "metadata": {},
   "outputs": [
    {
     "name": "stdout",
     "output_type": "stream",
     "text": [
      "error is Age cannot be negative!\n"
     ]
    }
   ],
   "source": [
    "age = -5\n",
    "\n",
    "try:\n",
    "    if age < 0:\n",
    "        raise ValueError(\"Age cannot be negative!\")\n",
    "except ValueError as e:\n",
    "    print(\"error is\",e)"
   ]
  },
  {
   "cell_type": "code",
   "execution_count": 55,
   "id": "141fb47a-dfae-47c9-b38a-2d7cb12bdd2f",
   "metadata": {},
   "outputs": [
    {
     "name": "stdout",
     "output_type": "stream",
     "text": [
      "Error occurred: invalid literal for int() with base 10: 'invalid_number'\n"
     ]
    }
   ],
   "source": [
    "try:\n",
    "    # Trying to convert a string to an integer\n",
    "    number = int(\"invalid_number\")\n",
    "except ValueError as err:\n",
    "    print(f\"Error occurred: {err}\")"
   ]
  },
  {
   "cell_type": "code",
   "execution_count": 60,
   "id": "6bb42006-f479-4809-8df4-5617e59bbc7b",
   "metadata": {},
   "outputs": [
    {
     "name": "stdin",
     "output_type": "stream",
     "text": [
      "Enter a: 70\n",
      "Enter b: 7\n"
     ]
    },
    {
     "name": "stdout",
     "output_type": "stream",
     "text": [
      "a/b = 10.0\n",
      "Hi I am else block. No exception\n"
     ]
    }
   ],
   "source": [
    "try:\n",
    "    a = int(input(\"Enter a:\"))\n",
    "    b = int(input(\"Enter b:\"))\n",
    "    c = a/b\n",
    "    print (f\"a/b = {c}\")\n",
    "except ValueError:\n",
    "    print (\"Value or format exception\")\n",
    "except ArithmeticError:\n",
    "    print (\"Arithmetic exception\")\n",
    "except ZeroDivisionError:\n",
    "    print (\"Can't divide by zero\")\n",
    "else:\n",
    "    print (\"Hi I am else block. No exception\")"
   ]
  }
 ],
 "metadata": {
  "kernelspec": {
   "display_name": "Python [conda env:base] *",
   "language": "python",
   "name": "conda-base-py"
  },
  "language_info": {
   "codemirror_mode": {
    "name": "ipython",
    "version": 3
   },
   "file_extension": ".py",
   "mimetype": "text/x-python",
   "name": "python",
   "nbconvert_exporter": "python",
   "pygments_lexer": "ipython3",
   "version": "3.11.5"
  }
 },
 "nbformat": 4,
 "nbformat_minor": 5
}
