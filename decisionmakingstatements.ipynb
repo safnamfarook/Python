{
 "cells": [
  {
   "cell_type": "code",
   "execution_count": 6,
   "id": "5f975f61-a6ff-4ef0-a492-7a145377ee52",
   "metadata": {
    "tags": []
   },
   "outputs": [
    {
     "name": "stdout",
     "output_type": "stream",
     "text": [
      "200  is greater than  33\n"
     ]
    }
   ],
   "source": [
    "# if statement\n",
    "\n",
    "a = 33\n",
    "b = 200\n",
    "if b > a:\n",
    "    print(b,\" is greater than \",a)\n",
    "if a > b:\n",
    "    print(\"a greater than b\")  # returns nothing since condition is false"
   ]
  },
  {
   "cell_type": "code",
   "execution_count": 10,
   "id": "5a52ef36-4a46-4e1e-b1ae-6e21235a55db",
   "metadata": {
    "tags": []
   },
   "outputs": [
    {
     "name": "stdin",
     "output_type": "stream",
     "text": [
      "Enter the number: 22\n"
     ]
    },
    {
     "name": "stdout",
     "output_type": "stream",
     "text": [
      "22  is an even number\n"
     ]
    }
   ],
   "source": [
    "# check whether number is even\n",
    "\n",
    "a = int(input(\"Enter the number:\"))\n",
    "if(a%2==0):  #a%2!=1\n",
    "    print(a,\" is an even number\")"
   ]
  },
  {
   "cell_type": "code",
   "execution_count": 12,
   "id": "2e24154c-9289-48a3-a9a5-f947337fbbf6",
   "metadata": {
    "tags": []
   },
   "outputs": [
    {
     "name": "stdin",
     "output_type": "stream",
     "text": [
      "Enter the number: 45\n"
     ]
    },
    {
     "name": "stdout",
     "output_type": "stream",
     "text": [
      "45  is an odd number\n"
     ]
    }
   ],
   "source": [
    "# check whether number is odd\n",
    "\n",
    "b = int(input(\"Enter the number:\"))\n",
    "if(b%2!=0):  #b%2==1\n",
    "    print(b,\" is an odd number\")"
   ]
  },
  {
   "cell_type": "code",
   "execution_count": 16,
   "id": "35be520a-ccf5-4690-a17f-16a9b47c9cf4",
   "metadata": {
    "tags": []
   },
   "outputs": [
    {
     "name": "stdin",
     "output_type": "stream",
     "text": [
      "Enter the number: 8\n"
     ]
    },
    {
     "name": "stdout",
     "output_type": "stream",
     "text": [
      "8  is a positive number\n"
     ]
    }
   ],
   "source": [
    "# check whether number is postive\n",
    "\n",
    "c = int(input(\"Enter the number:\"))\n",
    "if(c>0):\n",
    "    print(c,\" is a positive number\")"
   ]
  },
  {
   "cell_type": "code",
   "execution_count": 18,
   "id": "e02dde6d-6ce6-4c3b-af81-aca6d2742c50",
   "metadata": {
    "tags": []
   },
   "outputs": [
    {
     "name": "stdin",
     "output_type": "stream",
     "text": [
      "Enter the number: -3\n"
     ]
    },
    {
     "name": "stdout",
     "output_type": "stream",
     "text": [
      "-3  is a negative number\n"
     ]
    }
   ],
   "source": [
    "# check whether number is negative\n",
    "\n",
    "d = int(input(\"Enter the number:\"))\n",
    "if(d<0):\n",
    "    print(d,\" is a negative number\")"
   ]
  },
  {
   "cell_type": "code",
   "execution_count": 32,
   "id": "23242edf-0a54-4b99-9d4c-c83a88f44ce9",
   "metadata": {
    "tags": []
   },
   "outputs": [
    {
     "name": "stdin",
     "output_type": "stream",
     "text": [
      "Enter the number : 26\n"
     ]
    },
    {
     "name": "stdout",
     "output_type": "stream",
     "text": [
      "26  is even\n"
     ]
    },
    {
     "name": "stdin",
     "output_type": "stream",
     "text": [
      "Enter the number 87\n"
     ]
    },
    {
     "name": "stdout",
     "output_type": "stream",
     "text": [
      "87  is odd\n"
     ]
    }
   ],
   "source": [
    "# if-else\n",
    "# check whether a number is even or odd    \n",
    "\n",
    "a = int(input(\"Enter the number :\"))\n",
    "if a%2==0:\n",
    "    print(a,\" is even\")\n",
    "else:\n",
    "    print(a,\" is odd\")\n",
    "    \n",
    "# or\n",
    "\n",
    "b=int(input(\"Enter the number\"))\n",
    "if(b%2!=0):\n",
    "    print(b,\" is odd\")\n",
    "else:\n",
    "    print(b,\" is even\")"
   ]
  },
  {
   "cell_type": "code",
   "execution_count": 22,
   "id": "083fce6d-4f57-4f6c-bbff-de95b37ddcbc",
   "metadata": {
    "tags": []
   },
   "outputs": [
    {
     "name": "stdin",
     "output_type": "stream",
     "text": [
      "Enter the number:  4\n"
     ]
    },
    {
     "name": "stdout",
     "output_type": "stream",
     "text": [
      "4  is a positive number\n"
     ]
    }
   ],
   "source": [
    "# to check whether number is positive or negative\n",
    "\n",
    "c = int(input(\"Enter the number: \"))\n",
    "if (c>0):\n",
    "    print(c,\" is a positive number\")\n",
    "else:\n",
    "    print(c, \" is a negative number\")"
   ]
  },
  {
   "cell_type": "code",
   "execution_count": 24,
   "id": "12c9ecc2-6ec2-46a8-b123-88605eb03af9",
   "metadata": {
    "tags": []
   },
   "outputs": [
    {
     "name": "stdin",
     "output_type": "stream",
     "text": [
      "Enter the age :  34\n"
     ]
    },
    {
     "name": "stdout",
     "output_type": "stream",
     "text": [
      "Eligible to vote\n"
     ]
    }
   ],
   "source": [
    "# to check whether eligible to vote\n",
    "\n",
    "age = int(input(\"Enter the age : \"))\n",
    "if(age>=18):\n",
    "    print(\"Eligible to vote\")\n",
    "else:\n",
    "    print(\"Not eligible to vote\")"
   ]
  },
  {
   "cell_type": "code",
   "execution_count": 30,
   "id": "315bd28f-4a6d-4918-a767-1eb3a69fabab",
   "metadata": {
    "tags": []
   },
   "outputs": [
    {
     "name": "stdin",
     "output_type": "stream",
     "text": [
      "Enter the number :  0\n"
     ]
    },
    {
     "name": "stdout",
     "output_type": "stream",
     "text": [
      "Zero\n"
     ]
    }
   ],
   "source": [
    "# elif statement\n",
    "# to check whether it is positive or not\n",
    "\n",
    "num = int(input(\"Enter the number : \"))\n",
    "if(num>0):\n",
    "    print(\"Postive number\")\n",
    "elif(num<0):\n",
    "    print(\"Negative number\")\n",
    "else:\n",
    "    print(\"Zero\")"
   ]
  },
  {
   "cell_type": "code",
   "execution_count": 28,
   "id": "0a4bb4ec-bf45-41a8-b475-8fae9eec893b",
   "metadata": {
    "tags": []
   },
   "outputs": [
    {
     "name": "stdin",
     "output_type": "stream",
     "text": [
      "Enter the mark: 68\n"
     ]
    },
    {
     "name": "stdout",
     "output_type": "stream",
     "text": [
      "D\n"
     ]
    }
   ],
   "source": [
    "# to find the grade\n",
    "\n",
    "mark = int(input(\"Enter the mark:\"))\n",
    "if(mark>=90 and mark<=100):\n",
    "    print(\"A\")\n",
    "elif(mark<=89 and mark>=80):\n",
    "    print(\"B\")\n",
    "elif(mark<=79 and mark>=70):\n",
    "    print(\"C\")\n",
    "elif(mark<=69 and mark>=60):\n",
    "    print(\"D\")\n",
    "elif(mark<=59 and mark>=50):\n",
    "    print(\"E\")\n",
    "elif(mark<=49):\n",
    "    print(\"Failed\")\n",
    "else:\n",
    "    print(\"Invalid\")"
   ]
  },
  {
   "cell_type": "code",
   "execution_count": 42,
   "id": "051969c2-2cb9-4ae4-b3b6-8323aef03998",
   "metadata": {},
   "outputs": [
    {
     "name": "stdin",
     "output_type": "stream",
     "text": [
      "Enter a number:  45\n"
     ]
    },
    {
     "name": "stdout",
     "output_type": "stream",
     "text": [
      "You are an adult.\n"
     ]
    }
   ],
   "source": [
    "# to calculate age group\n",
    "\n",
    "age = int(input(\"Enter a number: \"))\n",
    "if age < 13:\n",
    "    print(\"You are a child.\")\n",
    "elif age < 25:\n",
    "    print(\"You are a teenager.\")\n",
    "elif age < 65:\n",
    "    print(\"You are an adult.\")\n",
    "else:\n",
    "    print(\"You are a senior.\")"
   ]
  },
  {
   "cell_type": "code",
   "execution_count": 36,
   "id": "faea5157-6001-426b-948e-d1f4e258ee10",
   "metadata": {
    "tags": []
   },
   "outputs": [
    {
     "name": "stdin",
     "output_type": "stream",
     "text": [
      "Enter the year : 2023\n"
     ]
    },
    {
     "name": "stdout",
     "output_type": "stream",
     "text": [
      "2023  not a leap year\n"
     ]
    }
   ],
   "source": [
    "# to find year is leap year or not\n",
    "\n",
    "year = int(input(\"Enter the year :\"))\n",
    "if(year%4==0 and year%100!=0):\n",
    "    print(year,\" is leap year\")\n",
    "elif(year%400==0 and year%100==0): #incase of century\n",
    "    print(year,\" is leap year\")\n",
    "else:\n",
    "    print(year,\" not a leap year\")"
   ]
  },
  {
   "cell_type": "code",
   "execution_count": 38,
   "id": "a65951b8-fa78-43a3-8dae-76b16e077374",
   "metadata": {
    "tags": []
   },
   "outputs": [
    {
     "name": "stdin",
     "output_type": "stream",
     "text": [
      "Enter first number : 24\n",
      "Enter second number : 56\n",
      "Enter third number : 75\n"
     ]
    },
    {
     "name": "stdout",
     "output_type": "stream",
     "text": [
      "75 is the largest number\n"
     ]
    }
   ],
   "source": [
    "# to find the largest among 3\n",
    "\n",
    "x = int(input(\"Enter first number :\"))\n",
    "y = int(input(\"Enter second number :\"))\n",
    "z = int(input(\"Enter third number :\"))\n",
    "if(x>y and x>z):\n",
    "    print(x,\" is the largest number\")\n",
    "elif(y>x and y>z):\n",
    "    print(y,\" is the largest number\")\n",
    "else:\n",
    "    print(z,\"is the largest number\")"
   ]
  },
  {
   "cell_type": "code",
   "execution_count": 40,
   "id": "7a3bbbbf-f3fa-4087-bc0d-9aa8c362f60d",
   "metadata": {
    "tags": []
   },
   "outputs": [
    {
     "name": "stdin",
     "output_type": "stream",
     "text": [
      "Enter the actual price:  25\n",
      "Enter the selling price:  76\n"
     ]
    },
    {
     "name": "stdout",
     "output_type": "stream",
     "text": [
      "Profit :  51\n"
     ]
    }
   ],
   "source": [
    "# to calculate profit or loss\n",
    "\n",
    "a = int(input(\"Enter the actual price: \"))\n",
    "b = int(input(\"Enter the selling price: \"))\n",
    "profit = b-a\n",
    "loss = a-b\n",
    "if(profit>0):\n",
    "    print(\"Profit : \",profit)\n",
    "elif(loss>0):\n",
    "    print(\"Loss: \",loss)\n",
    "else:\n",
    "    print(\"No profit or loss\")"
   ]
  },
  {
   "cell_type": "code",
   "execution_count": 44,
   "id": "461daa39-a6c1-4dbc-9e4a-718ced3f9a49",
   "metadata": {
    "tags": []
   },
   "outputs": [
    {
     "name": "stdout",
     "output_type": "stream",
     "text": [
      "10 is smaller than 15\n"
     ]
    }
   ],
   "source": [
    "# nested-if\n",
    "\n",
    "i = 10\n",
    "if (i == 10):\n",
    "    if (i < 15):\n",
    "        print(\"{0} is smaller than 15\".format(i))\n",
    "else:\n",
    "    print(\"{0} is greater than 15\".format(i))"
   ]
  },
  {
   "cell_type": "code",
   "execution_count": 6,
   "id": "7bf866d7-e1bb-4323-b90c-4b4efded17d9",
   "metadata": {
    "tags": []
   },
   "outputs": [
    {
     "name": "stdin",
     "output_type": "stream",
     "text": [
      "Enter the number :  35\n"
     ]
    },
    {
     "name": "stdout",
     "output_type": "stream",
     "text": [
      "35 is a positive number\n"
     ]
    }
   ],
   "source": [
    "# to check whether it is positive or not\n",
    "\n",
    "a = int(input(\"Enter the number : \"))\n",
    "if (a >= 0):\n",
    "    if (a > 0):\n",
    "        print(\"{0} is a positive number\".format(a))\n",
    "    else:\n",
    "        print(\"Zero\")\n",
    "else:\n",
    "    print(\"{0} is a negative number\".format(a))"
   ]
  },
  {
   "cell_type": "code",
   "execution_count": 48,
   "id": "d2af17b5-4f48-4d2a-843d-d80917000e8c",
   "metadata": {},
   "outputs": [
    {
     "name": "stdin",
     "output_type": "stream",
     "text": [
      "enter the number: 35\n"
     ]
    },
    {
     "name": "stdout",
     "output_type": "stream",
     "text": [
      "35  is +ve and odd\n"
     ]
    }
   ],
   "source": [
    "num = int(input(\"enter the number:\"))\n",
    "if num>0:\n",
    "    if num%2==0:\n",
    "        print(num,\" is +ve and even\")\n",
    "    else:\n",
    "        print(num,\" is +ve and odd\")\n",
    "else:\n",
    "    print(num,\" is -ve\")     "
   ]
  },
  {
   "cell_type": "code",
   "execution_count": 50,
   "id": "4d4c40de-0b85-4046-902d-4ecbc1973c42",
   "metadata": {
    "tags": []
   },
   "outputs": [
    {
     "name": "stdin",
     "output_type": "stream",
     "text": [
      "enter a username: safna\n",
      "enter a password safna123\n"
     ]
    },
    {
     "name": "stdout",
     "output_type": "stream",
     "text": [
      "invalid username\n"
     ]
    }
   ],
   "source": [
    "# password program \n",
    "\n",
    "username = input(\"enter a username:\")\n",
    "password = input(\"enter a password\")\n",
    "if username == \"Admin\":\n",
    "  if password == \"admin123\":\n",
    "     print(\"login sucessfully\")\n",
    "  else:\n",
    "      print(\"invalid password\")\n",
    "else:\n",
    "  print(\"invalid username\")"
   ]
  },
  {
   "cell_type": "code",
   "execution_count": 52,
   "id": "327d3469-71a3-4ab8-aeff-b105e2e96952",
   "metadata": {
    "tags": []
   },
   "outputs": [
    {
     "name": "stdin",
     "output_type": "stream",
     "text": [
      "Enter the length of side 1:  43\n",
      "Enter the length of side 2:  4\n",
      "Enter the length of side 3:  34\n"
     ]
    },
    {
     "name": "stdout",
     "output_type": "stream",
     "text": [
      "These side lengths do not form a triangle.\n"
     ]
    }
   ],
   "source": [
    "# check if the sides can form a triangle\n",
    "\n",
    "side1 = float(input(\"Enter the length of side 1: \"))\n",
    "side2 = float(input(\"Enter the length of side 2: \"))\n",
    "side3 = float(input(\"Enter the length of side 3: \"))\n",
    "if side1 + side2 > side3 and side1 + side3 > side2 and side2 + side3 > side1:\n",
    "    if side1 == side2 == side3:\n",
    "        print(\"It is an equilateral triangle.\")\n",
    "    elif side1 == side2 or side1 == side3 or side2 == side3:\n",
    "        print(\"It is an isosceles triangle.\")\n",
    "    else:\n",
    "        print(\"It is a scalene triangle.\")\n",
    "else:\n",
    "    print(\"These side lengths do not form a triangle.\")   "
   ]
  },
  {
   "cell_type": "code",
   "execution_count": 54,
   "id": "f213116f-8ccc-4e9c-834a-22000867da73",
   "metadata": {},
   "outputs": [
    {
     "name": "stdout",
     "output_type": "stream",
     "text": [
      "Temperature: 30°C, Category: Hot, Sub-category: Moderately Hot\n"
     ]
    }
   ],
   "source": [
    "# determine the temperature category\n",
    "\n",
    "temperature = 30 \n",
    "if temperature >= 30:\n",
    "    category = \"Hot\"\n",
    "    if temperature >= 35:\n",
    "        sub_category = \"Very Hot\"\n",
    "    else:\n",
    "        sub_category = \"Moderately Hot\"\n",
    "elif temperature >= 20:\n",
    "    category = \"Warm\"\n",
    "    if temperature >= 25:\n",
    "        sub_category = \"Very Warm\"\n",
    "    else:\n",
    "        sub_category = \"Mildly Warm\"\n",
    "elif temperature >= 10:\n",
    "    category = \"Cool\"\n",
    "    if temperature >= 15:\n",
    "        sub_category = \"Mildly Cool\"\n",
    "    else:\n",
    "        sub_category = \"Quite Cool\"\n",
    "else:\n",
    "    category = \"Cold\"\n",
    "    if temperature >= 5:\n",
    "        sub_category = \"Very Cold\"\n",
    "    else:\n",
    "        sub_category = \"Extremely Cold\"\n",
    "\n",
    "print(f\"Temperature: {temperature}°C, Category: {category}, Sub-category: {sub_category}\")"
   ]
  },
  {
   "cell_type": "code",
   "execution_count": 56,
   "id": "56d19228-abd1-473b-b53a-32ca5d5158e2",
   "metadata": {},
   "outputs": [
    {
     "name": "stdin",
     "output_type": "stream",
     "text": [
      "Enter your age:  65\n",
      "Enter your annual income:  30000\n",
      "Enter your credit score:  550\n"
     ]
    },
    {
     "name": "stdout",
     "output_type": "stream",
     "text": [
      "You are eligible for a basic loan.\n"
     ]
    }
   ],
   "source": [
    "age = int(input(\"Enter your age: \"))\n",
    "income = float(input(\"Enter your annual income: \"))\n",
    "credit_score = int(input(\"Enter your credit score: \"))\n",
    "\n",
    "if age >= 18:\n",
    "    if income >= 30000:\n",
    "        if credit_score >= 700:\n",
    "            print(\"You are eligible for a premium loan.\")\n",
    "        elif credit_score >= 600:\n",
    "            print(\"You are eligible for a standard loan.\")\n",
    "        else:\n",
    "            print(\"You are eligible for a basic loan.\")\n",
    "    elif income >= 20000:\n",
    "        if credit_score >= 650:\n",
    "            print(\"You are eligible for a standard loan.\")\n",
    "        else:\n",
    "            print(\"You are eligible for a basic loan.\")\n",
    "    else:\n",
    "        print(\"You are eligible for a basic loan.\")\n",
    "else:\n",
    "    print(\"You are not eligible for a loan.\")"
   ]
  },
  {
   "cell_type": "code",
   "execution_count": 8,
   "id": "f71a9255-661b-4b04-8eae-2ba0f082fb1e",
   "metadata": {},
   "outputs": [
    {
     "name": "stdin",
     "output_type": "stream",
     "text": [
      "Enter a number:  25\n"
     ]
    },
    {
     "name": "stdout",
     "output_type": "stream",
     "text": [
      "Hello\n"
     ]
    }
   ],
   "source": [
    "x = int(input(\"Enter a number: \"))\n",
    "if x%5==0:\n",
    "    print (\"Hello\")\n",
    "else:\n",
    "    print (\"Bye\")"
   ]
  },
  {
   "cell_type": "code",
   "execution_count": 10,
   "id": "a489fa7f-ac2f-42bb-a968-ef858909145b",
   "metadata": {},
   "outputs": [
    {
     "name": "stdin",
     "output_type": "stream",
     "text": [
      "Enter a number:  250\n"
     ]
    },
    {
     "name": "stdout",
     "output_type": "stream",
     "text": [
      "Divisible\n"
     ]
    }
   ],
   "source": [
    "x = int(input(\"Enter a number: \"))\n",
    "y = x%10\n",
    "if y%3==0:\n",
    "    print (\"Divisible\")\n",
    "else:\n",
    "    print (\"Not divisible\")"
   ]
  },
  {
   "cell_type": "code",
   "execution_count": 9,
   "id": "5d64a9c1-cf48-451b-95e3-f3b9a9cf8aa5",
   "metadata": {},
   "outputs": [
    {
     "name": "stdin",
     "output_type": "stream",
     "text": [
      "Enter a number:  -356\n"
     ]
    },
    {
     "name": "stdout",
     "output_type": "stream",
     "text": [
      "Three digit number\n"
     ]
    }
   ],
   "source": [
    "n = int(input(\"Enter a number: \"))\n",
    "if 100 <= abs(n) <= 999:\n",
    "    print (\"Three digit number\")\n",
    "else:\n",
    "    print (\"Not three digit number\")"
   ]
  },
  {
   "cell_type": "code",
   "execution_count": 16,
   "id": "150b33d2-fac7-4b30-a23e-a15454107dd5",
   "metadata": {},
   "outputs": [
    {
     "name": "stdin",
     "output_type": "stream",
     "text": [
      "Enter the first number:  34\n",
      "Enter the second number:  78\n"
     ]
    },
    {
     "name": "stdout",
     "output_type": "stream",
     "text": [
      "The largest number is: 78\n"
     ]
    }
   ],
   "source": [
    "num1 = int(input(\"Enter the first number: \"))\n",
    "num2 = int(input(\"Enter the second number: \"))\n",
    "if num1 > num2:\n",
    "    print(f\"The largest number is: {num1}\")\n",
    "elif num2 > num1:\n",
    "    print(f\"The largest number is: {num2}\")\n",
    "else:\n",
    "    print(\"Both numbers are equal.\")"
   ]
  },
  {
   "cell_type": "code",
   "execution_count": 20,
   "id": "62fb3417-5e6c-48e0-b34d-8c2a895a04ec",
   "metadata": {},
   "outputs": [
    {
     "name": "stdin",
     "output_type": "stream",
     "text": [
      "Enter the number:  -7\n"
     ]
    },
    {
     "name": "stdout",
     "output_type": "stream",
     "text": [
      "-7  is a negative number\n"
     ]
    }
   ],
   "source": [
    "n = int(input(\"Enter the number: \"))\n",
    "if (n>0):\n",
    "    print(n,\" is a positive number\")\n",
    "else:\n",
    "    print(n, \" is a negative number\")"
   ]
  },
  {
   "cell_type": "code",
   "execution_count": 22,
   "id": "ad62db56-61ca-4eb2-b8f9-3c54eece311e",
   "metadata": {},
   "outputs": [
    {
     "name": "stdin",
     "output_type": "stream",
     "text": [
      "Enter a character:  a\n"
     ]
    },
    {
     "name": "stdout",
     "output_type": "stream",
     "text": [
      "a is a vowel.\n"
     ]
    }
   ],
   "source": [
    "char = input(\"Enter a character: \").lower()\n",
    "if char in 'aeiou':\n",
    "    print(f\"{char} is a vowel.\")\n",
    "else:\n",
    "    print(f\"{char} is not a vowel.\")"
   ]
  },
  {
   "cell_type": "code",
   "execution_count": 28,
   "id": "e3ffc959-1fea-4a2a-9da8-27021ead8bbd",
   "metadata": {},
   "outputs": [
    {
     "name": "stdin",
     "output_type": "stream",
     "text": [
      "Enter a number:  2\n"
     ]
    },
    {
     "name": "stdout",
     "output_type": "stream",
     "text": [
      "2 is a prime number\n"
     ]
    }
   ],
   "source": [
    "number = int(input(\"Enter a number: \"))\n",
    "if number <= 1:\n",
    "    print(f\"{number} is not a prime number\")\n",
    "else:\n",
    "    for i in range(2, int(number**0.5) + 1):\n",
    "        if number % i == 0:\n",
    "            print(f\"{number} is not a prime number\")\n",
    "            break\n",
    "    else:\n",
    "        print(f\"{number} is a prime number\")"
   ]
  },
  {
   "cell_type": "code",
   "execution_count": 26,
   "id": "403b6a43-e335-49d1-9588-b7003fd31301",
   "metadata": {},
   "outputs": [
    {
     "name": "stdin",
     "output_type": "stream",
     "text": [
      "Enter the age of person 1:  43\n",
      "Enter the age of person 2:  25\n",
      "Enter the age of person 3:  65\n",
      "Enter the age of person 4:  37\n"
     ]
    },
    {
     "name": "stdout",
     "output_type": "stream",
     "text": [
      "The oldest age is: 65\n"
     ]
    }
   ],
   "source": [
    "age1 = int(input(\"Enter the age of person 1: \"))\n",
    "age2 = int(input(\"Enter the age of person 2: \"))\n",
    "age3 = int(input(\"Enter the age of person 3: \"))\n",
    "age4 = int(input(\"Enter the age of person 4: \"))\n",
    "oldest_age = age1\n",
    "if age2 > oldest_age:\n",
    "    oldest_age = age2\n",
    "elif age3 > oldest_age:\n",
    "    oldest_age = age3\n",
    "elif age4 > oldest_age:\n",
    "    oldest_age = age4\n",
    "print(f\"The oldest age is: {oldest_age}\")"
   ]
  }
 ],
 "metadata": {
  "kernelspec": {
   "display_name": "Python [conda env:base] *",
   "language": "python",
   "name": "conda-base-py"
  },
  "language_info": {
   "codemirror_mode": {
    "name": "ipython",
    "version": 3
   },
   "file_extension": ".py",
   "mimetype": "text/x-python",
   "name": "python",
   "nbconvert_exporter": "python",
   "pygments_lexer": "ipython3",
   "version": "3.11.5"
  }
 },
 "nbformat": 4,
 "nbformat_minor": 5
}
