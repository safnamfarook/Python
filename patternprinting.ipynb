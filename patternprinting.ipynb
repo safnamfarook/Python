{
 "cells": [
  {
   "cell_type": "code",
   "execution_count": 17,
   "id": "2da7d922-6f21-4e7c-9d25-5c745970f138",
   "metadata": {},
   "outputs": [
    {
     "name": "stdout",
     "output_type": "stream",
     "text": [
      "1\n",
      "2\n",
      "3\n",
      "4\n",
      "5\n"
     ]
    }
   ],
   "source": [
    "for i in range(5):\n",
    "    print(i+1)    "
   ]
  },
  {
   "cell_type": "code",
   "execution_count": 18,
   "id": "0ae06738-4e9c-4c02-9e36-fe16c7b0408b",
   "metadata": {
    "tags": []
   },
   "outputs": [
    {
     "data": {
      "text/plain": [
       "5"
      ]
     },
     "execution_count": 18,
     "metadata": {},
     "output_type": "execute_result"
    }
   ],
   "source": [
    "i+1"
   ]
  },
  {
   "cell_type": "code",
   "execution_count": 32,
   "id": "230794be-2843-433f-a9e2-acbcf5e2f453",
   "metadata": {
    "tags": []
   },
   "outputs": [
    {
     "name": "stdout",
     "output_type": "stream",
     "text": [
      "*\n",
      "*\n",
      "*\n",
      "*\n",
      "*\n"
     ]
    }
   ],
   "source": [
    "for j in range(i+1):\n",
    "    print(\"*\")   \n",
    "        "
   ]
  },
  {
   "cell_type": "code",
   "execution_count": 13,
   "id": "032ad749-72b0-49ce-a368-cd66caa779fe",
   "metadata": {
    "tags": []
   },
   "outputs": [
    {
     "name": "stdout",
     "output_type": "stream",
     "text": [
      "* * * * * "
     ]
    }
   ],
   "source": [
    "for j in range(i+1):\n",
    "    print(\"*\",end=\" \")   "
   ]
  },
  {
   "cell_type": "code",
   "execution_count": 43,
   "id": "b69223db-9db2-4642-9f25-3d03fa3276d4",
   "metadata": {
    "tags": []
   },
   "outputs": [
    {
     "name": "stdout",
     "output_type": "stream",
     "text": [
      "A\n",
      "AB\n",
      "ABC\n",
      "ABCD\n",
      "ABCDE\n"
     ]
    }
   ],
   "source": [
    "for i in range(5): #0,1,2,3,4\n",
    "    for j in range(i+1):\n",
    "        print(chr(j+65),end=\"\")\n",
    "    print()  "
   ]
  },
  {
   "cell_type": "code",
   "execution_count": 36,
   "id": "dac12dfc-7f50-48ff-80db-25f188ab7229",
   "metadata": {
    "tags": []
   },
   "outputs": [
    {
     "name": "stdout",
     "output_type": "stream",
     "text": [
      "* \n",
      "* * \n",
      "* * * \n",
      "* * * * \n",
      "* * * * * \n"
     ]
    }
   ],
   "source": [
    "for i in range(5):\n",
    "    for j in range(i+1):\n",
    "        print(\"*\",end=\" \")\n",
    "    print()  "
   ]
  },
  {
   "cell_type": "code",
   "execution_count": 6,
   "id": "06b40dd9-ad17-4e5d-aa82-e5a61942ab78",
   "metadata": {
    "tags": []
   },
   "outputs": [
    {
     "name": "stdout",
     "output_type": "stream",
     "text": [
      "* \n",
      "* * \n",
      "* * * \n",
      "* * * * \n",
      "* * * * * \n"
     ]
    }
   ],
   "source": [
    "for i in range(0,5):\n",
    "    for j in range(i+1):\n",
    "        print(\"*\",end=\" \")\n",
    "    print()"
   ]
  },
  {
   "cell_type": "code",
   "execution_count": 2,
   "id": "d7cf7723-82ff-4f27-8a3b-759f48aab224",
   "metadata": {
    "tags": []
   },
   "outputs": [
    {
     "name": "stdout",
     "output_type": "stream",
     "text": [
      "* * * * * \n",
      "* * * * \n",
      "* * * \n",
      "* * \n",
      "* \n",
      "\n",
      "\n"
     ]
    }
   ],
   "source": [
    "for i in range(5,0,-1):\n",
    "    for j in range(i):\n",
    "        print(\"*\",end=\" \")\n",
    "    print()   "
   ]
  },
  {
   "cell_type": "code",
   "execution_count": 30,
   "id": "3bad8b3a-0bcd-41e8-aefe-c90c36d9b7c2",
   "metadata": {
    "tags": []
   },
   "outputs": [
    {
     "name": "stdout",
     "output_type": "stream",
     "text": [
      "1 \n",
      "2 2 \n",
      "3 3 3 \n",
      "4 4 4 4 \n",
      "5 5 5 5 5 \n"
     ]
    }
   ],
   "source": [
    "for i in range(0,5):\n",
    "    for j in range(i+1):\n",
    "        print(i+1,end=\" \")\n",
    "    print()"
   ]
  },
  {
   "cell_type": "code",
   "execution_count": 3,
   "id": "a06741c5-67b9-48e8-8f8e-6b3e9c0bbb41",
   "metadata": {
    "tags": []
   },
   "outputs": [
    {
     "name": "stdout",
     "output_type": "stream",
     "text": [
      "1 \n",
      "1 2 \n",
      "1 2 3 \n",
      "1 2 3 4 \n",
      "1 2 3 4 5 \n"
     ]
    }
   ],
   "source": [
    "for i in range(0,5):\n",
    "    for j in range(i+1):\n",
    "        print(j+1,end=\" \")\n",
    "    print()"
   ]
  },
  {
   "cell_type": "code",
   "execution_count": 4,
   "id": "1cf47df5-8698-4d3d-9521-1875f6cb1d13",
   "metadata": {
    "tags": []
   },
   "outputs": [
    {
     "name": "stdout",
     "output_type": "stream",
     "text": [
      "1 2 3 4 5 \n",
      "1 2 3 4 \n",
      "1 2 3 \n",
      "1 2 \n",
      "1 \n"
     ]
    }
   ],
   "source": [
    "for i in range(5,0,-1):\n",
    "    for j in range(i):\n",
    "        print(j+1,end=\" \")\n",
    "    print()"
   ]
  },
  {
   "cell_type": "code",
   "execution_count": 15,
   "id": "b0fd0c6a-6c52-4d49-8933-845614d3e7f1",
   "metadata": {
    "tags": []
   },
   "outputs": [
    {
     "name": "stdout",
     "output_type": "stream",
     "text": [
      "     1\n",
      "    123\n",
      "   12345\n",
      "  1234567\n",
      " 123456789\n"
     ]
    }
   ],
   "source": [
    "n = 5  \n",
    "for i in range(n):\n",
    "    print(\" \"*(n-i), end=\"\")  # print spaces\n",
    "    for j in range(2*i + 1):\n",
    "        print(j + 1, end=\"\")  # print numbers from 1 to (2*i + 1)\n",
    "    print()  # move to the next line"
   ]
  },
  {
   "cell_type": "code",
   "execution_count": 35,
   "id": "5aeec82f-bf80-4ba5-9b2b-4f040e749b61",
   "metadata": {
    "tags": []
   },
   "outputs": [
    {
     "name": "stdout",
     "output_type": "stream",
     "text": [
      "     \n",
      "    1\n",
      "   12\n",
      "  123\n",
      " 1234\n",
      "12345\n"
     ]
    }
   ],
   "source": [
    "n = 5  \n",
    "for i in range(n+1):\n",
    "    print(\" \"*(n-i), end=\"\")  # print spaces\n",
    "    for j in range(i):\n",
    "        print(j+1, end=\"\")  # print numbers from 1 to (2*i + 1)\n",
    "    print()  # move to the next line"
   ]
  },
  {
   "cell_type": "code",
   "execution_count": 11,
   "id": "98ffeccd-d2f0-445d-9070-d50c93af1f30",
   "metadata": {
    "tags": []
   },
   "outputs": [
    {
     "name": "stdout",
     "output_type": "stream",
     "text": [
      "1\n",
      "12\n",
      "123\n",
      "1234\n",
      "12345\n"
     ]
    }
   ],
   "source": [
    "for i in range(1, n + 1):\n",
    "    for j in range(1, i + 1):\n",
    "        print(j, end=\"\")\n",
    "    print()"
   ]
  },
  {
   "cell_type": "code",
   "execution_count": 5,
   "id": "5f6f4a4d-4460-4f3a-992b-35c1c583635e",
   "metadata": {
    "tags": []
   },
   "outputs": [
    {
     "name": "stdin",
     "output_type": "stream",
     "text": [
      "Enter the number of rows:  6\n"
     ]
    },
    {
     "name": "stdout",
     "output_type": "stream",
     "text": [
      "A \n",
      "A B \n",
      "A B C \n",
      "A B C D \n",
      "A B C D E \n",
      "A B C D E F \n"
     ]
    }
   ],
   "source": [
    "#right alphabet pattern\n",
    "\n",
    "rows = int(input(\"Enter the number of rows: \"))\n",
    "for i in range(rows):\n",
    "    for j in range(i + 1):\n",
    "        print(chr(65 + j), end=\" \")\n",
    "    print()"
   ]
  },
  {
   "cell_type": "code",
   "execution_count": 44,
   "id": "fa5e8d5d-673f-4a6c-bc99-f0f88dfa8d71",
   "metadata": {
    "tags": []
   },
   "outputs": [
    {
     "name": "stdin",
     "output_type": "stream",
     "text": [
      "Enter the number of rows:  5\n"
     ]
    },
    {
     "name": "stdout",
     "output_type": "stream",
     "text": [
      " A B C D E F \n",
      " A B C D E \n",
      " A B C D \n",
      " A B C \n",
      " A B \n",
      " A \n"
     ]
    }
   ],
   "source": [
    "rows = int(input(\"Enter the number of rows: \"))\n",
    "\n",
    "for i in range(rows,-1,-1):\n",
    "    print(\" \",end=\"\")\n",
    "    for j in range(i + 1):\n",
    "        print(chr(65 + j), end=\" \")\n",
    "    print()"
   ]
  },
  {
   "cell_type": "code",
   "execution_count": 54,
   "id": "30b6b7f9-86ef-4b10-a96e-c642eb609586",
   "metadata": {
    "tags": []
   },
   "outputs": [
    {
     "name": "stdout",
     "output_type": "stream",
     "text": [
      "           A \n",
      "         A B \n",
      "       A B C \n",
      "     A B C D \n",
      "   A B C D E \n",
      " A B C D E F \n"
     ]
    }
   ],
   "source": [
    "n = 5  \n",
    "for i in range(n+1):\n",
    "    print(\"  \"*(n-i), end=\" \")  # print spaces\n",
    "    for j in range(i+1):\n",
    "        print(chr(j+65), end=\" \")  # print numbers from 1 to (2*i + 1)\n",
    "    print()"
   ]
  },
  {
   "cell_type": "code",
   "execution_count": 7,
   "id": "fb1561e9-daf6-42fc-bc60-b7686c66ee0f",
   "metadata": {
    "tags": []
   },
   "outputs": [
    {
     "name": "stdin",
     "output_type": "stream",
     "text": [
      "Enter the number of rows:  5\n"
     ]
    },
    {
     "name": "stdout",
     "output_type": "stream",
     "text": [
      "        A \n",
      "      A B \n",
      "    A B C \n",
      "  A B C D \n",
      "A B C D E \n"
     ]
    }
   ],
   "source": [
    "rows = int(input(\"Enter the number of rows: \"))\n",
    "\n",
    "for i in range(rows):\n",
    "    # Printing spaces\n",
    "    for j in range(rows - i - 1):\n",
    "        print(\" \", end=\" \")\n",
    "    # Printing alphabet characters\n",
    "    for k in range(i + 1):\n",
    "        print(chr(65 + k), end=\" \")\n",
    "    print()"
   ]
  },
  {
   "cell_type": "code",
   "execution_count": 9,
   "id": "7a23e454-246b-42fc-baa1-12b498711987",
   "metadata": {
    "tags": []
   },
   "outputs": [
    {
     "name": "stdin",
     "output_type": "stream",
     "text": [
      "Enter the number of rows:  7\n"
     ]
    },
    {
     "name": "stdout",
     "output_type": "stream",
     "text": [
      "            A \n",
      "          A B A \n",
      "        A B C B A \n",
      "      A B C D C B A \n",
      "    A B C D E D C B A \n",
      "  A B C D E F E D C B A \n",
      "A B C D E F G F E D C B A \n"
     ]
    }
   ],
   "source": [
    "rows = int(input(\"Enter the number of rows: \"))\n",
    "for i in range(rows):\n",
    "    # Printing spaces\n",
    "    for j in range(rows - i - 1):\n",
    "        print(\" \", end=\" \")\n",
    "    # Printing alphabet characters\n",
    "    for k in range(i + 1):\n",
    "        print(chr(65 + k), end=\" \")\n",
    "    # Printing alphabet characters in reverse order\n",
    "    for l in range(i, 0, -1):\n",
    "        print(chr(65 + l - 1), end=\" \")\n",
    "    print()"
   ]
  },
  {
   "cell_type": "code",
   "execution_count": 11,
   "id": "a193f68f-1556-4bc9-9712-1242b51a78c9",
   "metadata": {
    "tags": []
   },
   "outputs": [
    {
     "name": "stdin",
     "output_type": "stream",
     "text": [
      "Enter the number of rows:  4\n"
     ]
    },
    {
     "name": "stdout",
     "output_type": "stream",
     "text": [
      "      A \n",
      "    A B A \n",
      "  A B C B A \n",
      "A B C D C B A \n"
     ]
    }
   ],
   "source": [
    "# full pyramid\n",
    "\n",
    "rows = int(input(\"Enter the number of rows: \"))\n",
    "for i in range(rows):\n",
    "    # Printing spaces\n",
    "    for j in range(rows - i - 1):\n",
    "        print(\" \", end=\" \")\n",
    "    # Printing alphabet characters\n",
    "    for k in range(i + 1):\n",
    "        print(chr(65 + k), end=\" \")\n",
    "    # Printing alphabet characters in reverse order\n",
    "    for l in range(i, 0, -1):\n",
    "        print(chr(65 + l - 1), end=\" \")\n",
    "    print()"
   ]
  },
  {
   "cell_type": "code",
   "execution_count": 13,
   "id": "798e9063-05df-4dd9-9353-8b212b1bde92",
   "metadata": {
    "tags": []
   },
   "outputs": [
    {
     "name": "stdout",
     "output_type": "stream",
     "text": [
      "      A \n",
      "    A B A \n",
      "  A B C B A \n",
      "A B C D C B A \n",
      "  A B C B A \n",
      "    A B A \n",
      "      A \n"
     ]
    }
   ],
   "source": [
    "for i in range(rows):\n",
    "    # Printing spaces\n",
    "    for j in range(rows - i - 1):\n",
    "        print(\" \", end=\" \")\n",
    "    # Printing alphabet characters\n",
    "    for k in range(i + 1):\n",
    "        print(chr(65 + k), end=\" \")\n",
    "    # Printing alphabet characters in reverse order\n",
    "    for l in range(i, 0, -1):\n",
    "        print(chr(65 + l - 1), end=\" \")\n",
    "    print()\n",
    "\n",
    "# Lower part of the diamond\n",
    "\n",
    "for i in range(rows - 1, 0, -1):\n",
    "    # Printing spaces\n",
    "    for j in range(rows - i):\n",
    "        print(\" \", end=\" \")\n",
    "    # Printing alphabet characters\n",
    "    for k in range(i):\n",
    "        print(chr(65 + k), end=\" \")\n",
    "    # Printing alphabet characters in reverse order\n",
    "    for l in range(i - 1, 0, -1):\n",
    "        print(chr(65 + l - 1), end=\" \")\n",
    "    print()"
   ]
  },
  {
   "cell_type": "code",
   "execution_count": 15,
   "id": "130e269e-d2c3-4075-859e-4f9d1d33cf70",
   "metadata": {
    "tags": []
   },
   "outputs": [
    {
     "name": "stdout",
     "output_type": "stream",
     "text": [
      "1\n",
      "2\n",
      "3\n",
      "4\n",
      "5\n"
     ]
    }
   ],
   "source": [
    "for i in range(5):\n",
    "    print(i+1)"
   ]
  },
  {
   "cell_type": "code",
   "execution_count": 17,
   "id": "c4f8fb51-33dd-4ca5-9881-aabd17a00935",
   "metadata": {
    "tags": []
   },
   "outputs": [
    {
     "name": "stdout",
     "output_type": "stream",
     "text": [
      "*\n",
      "*\n",
      "*\n",
      "*\n",
      "*\n"
     ]
    }
   ],
   "source": [
    "for i in range(5):\n",
    "    print(\"*\")"
   ]
  },
  {
   "cell_type": "code",
   "execution_count": 19,
   "id": "f873d40a-c4fe-4335-85c4-020f14dcba49",
   "metadata": {
    "tags": []
   },
   "outputs": [
    {
     "name": "stdout",
     "output_type": "stream",
     "text": [
      "*****\n",
      "*****\n",
      "*****\n",
      "*****\n",
      "*****\n"
     ]
    }
   ],
   "source": [
    "n = 5\n",
    "for i in range(n):\n",
    "    print(\"*\"*n)"
   ]
  },
  {
   "cell_type": "code",
   "execution_count": 21,
   "id": "9d6aa370-495e-448e-a7b8-5893147cba92",
   "metadata": {
    "tags": []
   },
   "outputs": [
    {
     "name": "stdout",
     "output_type": "stream",
     "text": [
      "*\n",
      "**\n",
      "***\n",
      "****\n",
      "*****\n"
     ]
    }
   ],
   "source": [
    "n = 5\n",
    "for i in range(n):\n",
    "    print(\"*\"*(i+1))"
   ]
  },
  {
   "cell_type": "code",
   "execution_count": 17,
   "id": "21a16db7-2bfe-4092-b7f6-eb7c5f3a513b",
   "metadata": {
    "tags": []
   },
   "outputs": [
    {
     "name": "stdout",
     "output_type": "stream",
     "text": [
      "* \n",
      "* * \n",
      "* * * \n",
      "* * * * \n",
      "* * * * * \n"
     ]
    }
   ],
   "source": [
    "for i in range(n):\n",
    "    print(\"* \" *(i+1) )"
   ]
  },
  {
   "cell_type": "code",
   "execution_count": 23,
   "id": "6d5a291e-de67-486f-b050-c19f4d8c5b9d",
   "metadata": {
    "tags": []
   },
   "outputs": [
    {
     "name": "stdout",
     "output_type": "stream",
     "text": [
      "******\n",
      "*****\n",
      "****\n",
      "***\n",
      "**\n",
      "*\n"
     ]
    }
   ],
   "source": [
    "n = 5\n",
    "for i in range(n,-1,-1):\n",
    "    print(\"*\"*(i+1))"
   ]
  },
  {
   "cell_type": "code",
   "execution_count": 25,
   "id": "6ec9f107-2be4-4b19-ad44-b8f6bba5c5a3",
   "metadata": {
    "tags": []
   },
   "outputs": [
    {
     "name": "stdout",
     "output_type": "stream",
     "text": [
      "     *\n",
      "    **\n",
      "   ***\n",
      "  ****\n",
      " *****\n"
     ]
    }
   ],
   "source": [
    "for i in range(n):\n",
    "    print(\" \" * (n-i)+\"*\" * (i+1))"
   ]
  },
  {
   "cell_type": "code",
   "execution_count": 27,
   "id": "d610be42-291d-47e9-b366-b6076ab45fa7",
   "metadata": {
    "tags": []
   },
   "outputs": [
    {
     "name": "stdout",
     "output_type": "stream",
     "text": [
      "* * * * * \n",
      "* * * * \n",
      "* * * \n",
      "* * \n",
      "* \n"
     ]
    }
   ],
   "source": [
    "n = 5\n",
    "for i in range(n,0,-1):\n",
    "    print(\"* \" * (i))"
   ]
  },
  {
   "cell_type": "code",
   "execution_count": 29,
   "id": "28b064df-e4be-4269-9a02-23a1884d9423",
   "metadata": {
    "tags": []
   },
   "outputs": [
    {
     "name": "stdout",
     "output_type": "stream",
     "text": [
      "* * * * * \n",
      "* * * * \n",
      "* * * \n",
      "* * \n",
      "* \n"
     ]
    }
   ],
   "source": [
    "for i in range(5,0,-1):\n",
    "    print(\"* \"*i)"
   ]
  },
  {
   "cell_type": "code",
   "execution_count": 33,
   "id": "9fdf2541-49ff-4a3b-b312-fef02f8cca8e",
   "metadata": {
    "tags": []
   },
   "outputs": [
    {
     "name": "stdout",
     "output_type": "stream",
     "text": [
      "******\n",
      " *****\n",
      "  ****\n",
      "   ***\n",
      "    **\n",
      "     *\n"
     ]
    }
   ],
   "source": [
    "n = 5\n",
    "for i in range(n,-1,-1):\n",
    "    print(\" \"*(n-i)+\"*\"*(i+1))"
   ]
  },
  {
   "cell_type": "code",
   "execution_count": 39,
   "id": "539623d5-c66c-4039-93c4-7255bbc0d899",
   "metadata": {
    "tags": []
   },
   "outputs": [
    {
     "name": "stdin",
     "output_type": "stream",
     "text": [
      "enter the raw: 3\n"
     ]
    },
    {
     "name": "stdout",
     "output_type": "stream",
     "text": [
      "      * \n",
      "    * * \n",
      "  * * * \n"
     ]
    }
   ],
   "source": [
    "n = int(input(\"enter the raw:\"))\n",
    "for i in range(n):\n",
    "    print(\"  \"*(n-i)+\"* \"*(i+1))"
   ]
  },
  {
   "cell_type": "code",
   "execution_count": 14,
   "id": "2c323aca-a1a9-4143-98ca-3e20d4ce18a1",
   "metadata": {
    "tags": []
   },
   "outputs": [
    {
     "name": "stdout",
     "output_type": "stream",
     "text": [
      "      *\n",
      "     * *\n",
      "    * * *\n",
      "   * * * *\n",
      "  * * * * *\n"
     ]
    }
   ],
   "source": [
    "for i in range(n):\n",
    "    print(\" \"*(n-i)+\" *\"*(i+1))"
   ]
  },
  {
   "cell_type": "code",
   "execution_count": 69,
   "id": "99636803-d0e5-4b2e-bd82-e71bce2e1ee8",
   "metadata": {
    "tags": []
   },
   "outputs": [
    {
     "name": "stdout",
     "output_type": "stream",
     "text": [
      "* * * * * * \n",
      "  * * * * * \n",
      "    * * * * \n",
      "      * * * \n",
      "        * * \n",
      "          * \n"
     ]
    }
   ],
   "source": [
    "for i in range(n,-1,-1):\n",
    "    print(\"  \"*(n-i)+\"* \"*(i+1))"
   ]
  },
  {
   "cell_type": "code",
   "execution_count": 3,
   "id": "283c555d-9501-4316-b4d7-0bab40e1e365",
   "metadata": {
    "tags": []
   },
   "outputs": [
    {
     "name": "stdout",
     "output_type": "stream",
     "text": [
      "     *\n",
      "    ***\n",
      "   *****\n",
      "  *******\n",
      " *********\n"
     ]
    }
   ],
   "source": [
    "for i in range(n):\n",
    "    print(\" \"*(n-i)+\"*\"*((2*i)+1))"
   ]
  },
  {
   "cell_type": "code",
   "execution_count": 12,
   "id": "76a75373-6f22-4452-951a-a16269089841",
   "metadata": {
    "tags": []
   },
   "outputs": [
    {
     "name": "stdout",
     "output_type": "stream",
     "text": [
      "     *\n",
      "    ***\n",
      "   *****\n",
      "  *******\n",
      " *********\n"
     ]
    }
   ],
   "source": [
    "for i in range(n):\n",
    "    print(\" \"*(n-i)+\"*\"*((2*i)+1))"
   ]
  },
  {
   "cell_type": "code",
   "execution_count": 105,
   "id": "c451358b-a474-4ee3-a08d-b2fe6d5d1b7b",
   "metadata": {
    "tags": []
   },
   "outputs": [
    {
     "name": "stdout",
     "output_type": "stream",
     "text": [
      "***********\n",
      " *********\n",
      "  *******\n",
      "   *****\n",
      "    ***\n",
      "     *\n"
     ]
    }
   ],
   "source": [
    "for i in range(n,-1,-1):\n",
    "    print(\" \"*(n-i)+\"*\"*((2*i)+1))"
   ]
  },
  {
   "cell_type": "code",
   "execution_count": 41,
   "id": "c599cc2f-b2ab-47fa-b28b-c7a9ce28447d",
   "metadata": {
    "tags": []
   },
   "outputs": [
    {
     "name": "stdout",
     "output_type": "stream",
     "text": [
      "   *\n",
      "  ***\n",
      " *****\n",
      "*******\n",
      " *****\n",
      "  ***\n",
      "   *\n"
     ]
    }
   ],
   "source": [
    "for i in range(n):\n",
    "    print(\" \"*(n-i)+\"*\"*((2*i)+1))\n",
    "\n",
    "for i in range(n,-1,-1):\n",
    "    print(\" \"*(n-i)+\"*\"*((2*i)+1))"
   ]
  },
  {
   "cell_type": "code",
   "execution_count": 43,
   "id": "54e16878-cfc6-41bd-bf53-f8ba86c29636",
   "metadata": {},
   "outputs": [
    {
     "name": "stdout",
     "output_type": "stream",
     "text": [
      "*****\n",
      "****\n",
      "***\n",
      "**\n",
      "*\n"
     ]
    }
   ],
   "source": [
    "# n = int(input(\"enter the number:\"))\n",
    "n = 5\n",
    "for i in range(5):\n",
    "    print(\"*\"*(n-i))"
   ]
  },
  {
   "cell_type": "code",
   "execution_count": 45,
   "id": "efb79934-f3cf-4095-bae6-02401f205b10",
   "metadata": {},
   "outputs": [
    {
     "name": "stdout",
     "output_type": "stream",
     "text": [
      "\n",
      "*\n",
      "**\n",
      "***\n",
      "****\n",
      "*****\n",
      "****\n",
      "***\n",
      "**\n",
      "*\n"
     ]
    }
   ],
   "source": [
    "n = 5\n",
    "for i in range(n):\n",
    "    print(\"*\"*i)\n",
    "for i in range(n,0,-1):\n",
    "    print(\"*\"*i)"
   ]
  },
  {
   "cell_type": "code",
   "execution_count": 4,
   "id": "71489582-5db7-40df-a03c-ae0dc71ea2b6",
   "metadata": {},
   "outputs": [
    {
     "name": "stdout",
     "output_type": "stream",
     "text": [
      "1 \n",
      "2 2 \n",
      "3 3 3 \n",
      "4 4 4 4 \n",
      "5 5 5 5 5 \n"
     ]
    }
   ],
   "source": [
    "for i in range(0,5):\n",
    "    for j in range(i+1):\n",
    "        print(i+1,end=\" \")\n",
    "    print()"
   ]
  }
 ],
 "metadata": {
  "kernelspec": {
   "display_name": "Python [conda env:base] *",
   "language": "python",
   "name": "conda-base-py"
  },
  "language_info": {
   "codemirror_mode": {
    "name": "ipython",
    "version": 3
   },
   "file_extension": ".py",
   "mimetype": "text/x-python",
   "name": "python",
   "nbconvert_exporter": "python",
   "pygments_lexer": "ipython3",
   "version": "3.11.5"
  }
 },
 "nbformat": 4,
 "nbformat_minor": 5
}
