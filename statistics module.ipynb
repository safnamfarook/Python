{
 "cells": [
  {
   "cell_type": "code",
   "execution_count": 8,
   "id": "b4b86753-0473-47d6-9784-d123247be0dc",
   "metadata": {
    "tags": []
   },
   "outputs": [],
   "source": [
    "# Statistics Module\n",
    "\n",
    "import statistics"
   ]
  },
  {
   "cell_type": "code",
   "execution_count": 12,
   "id": "d3b09e43-531a-4eb9-98a3-b8f6281d843b",
   "metadata": {},
   "outputs": [
    {
     "name": "stdout",
     "output_type": "stream",
     "text": [
      "Mean of a : 9.8\n"
     ]
    }
   ],
   "source": [
    "# mean(): arithmentic mean\n",
    "\n",
    "a = [5,10,6,21,5,17,14,8,3,9]\n",
    "m = statistics.mean(a)\n",
    "print(\"Mean of a :\",m)"
   ]
  },
  {
   "cell_type": "code",
   "execution_count": 22,
   "id": "31724d02-1065-4b68-9a6d-854686017079",
   "metadata": {
    "tags": []
   },
   "outputs": [
    {
     "name": "stdout",
     "output_type": "stream",
     "text": [
      "Median of b : 36.0\n",
      "Median of b : 37\n",
      " \n",
      "Low median of B: 35\n",
      "High median of B: 37\n"
     ]
    }
   ],
   "source": [
    "# median(): middle value\n",
    "\n",
    "b = [1,24,13,17,35,53,42,44,37,55]              # in case of even number of values\n",
    "md = statistics.median(b)\n",
    "print(\"Median of b :\",md)\n",
    "\n",
    "b =[1,24,13,17,39,42,44,37,55]                  # in case of odd number of values\n",
    "md = statistics.median(b)\n",
    "print(\"Median of b :\",md)\n",
    "print(\" \")\n",
    "\n",
    "# median_low(): lower of the two middle values & median_high(): highest of the middle value\n",
    "\n",
    "B = [1,24,13,17,35,53,42,44,37,55]\n",
    "low_md = statistics.median_low(B)\n",
    "high_md = statistics.median_high(B)\n",
    "print(\"Low median of B:\",low_md)\n",
    "print(\"High median of B:\",high_md)"
   ]
  },
  {
   "cell_type": "code",
   "execution_count": 28,
   "id": "f3148a60-ff04-4fdc-baec-4afbea410801",
   "metadata": {
    "tags": []
   },
   "outputs": [
    {
     "name": "stdout",
     "output_type": "stream",
     "text": [
      "Mode of c: 2\n",
      "Mode of c: 3\n"
     ]
    }
   ],
   "source": [
    "# mode(): most common value\n",
    "\n",
    "c = [1,1,2,2,2,2,4,4]\n",
    "mo = statistics.mode(c)\n",
    "print(\"Mode of c:\",mo)\n",
    "\n",
    "c = [1,1,3,3,3,2,2,2,4,4,4,]              # the first element with most common value will be printed\n",
    "mo = statistics.mode(c)\n",
    "print(\"Mode of c:\",mo)"
   ]
  },
  {
   "cell_type": "code",
   "execution_count": 32,
   "id": "c285eda7-0f69-4acf-9b9e-e712e31d5079",
   "metadata": {
    "tags": []
   },
   "outputs": [
    {
     "name": "stdout",
     "output_type": "stream",
     "text": [
      "Variance of d: 31.822222222222223\n"
     ]
    }
   ],
   "source": [
    "# Variance is the average squared deviations from the mean ((how spread out data is in a set)) \n",
    "\n",
    "# variance()\n",
    "d = [5,10,6,21,13,17,14,8,3,9]\n",
    "var = statistics.variance(d)\n",
    "print(\"Variance of d:\",var)"
   ]
  },
  {
   "cell_type": "code",
   "execution_count": 34,
   "id": "df92179f-13da-425a-9d7e-1b5c5ad62562",
   "metadata": {
    "tags": []
   },
   "outputs": [
    {
     "name": "stdout",
     "output_type": "stream",
     "text": [
      "Standard Deviation of e: 5.641118880348315\n"
     ]
    }
   ],
   "source": [
    "# stdev():standard deviation is the square root of the varience \n",
    "\n",
    "e = [5,10,6,21,13,17,14,8,3,9]\n",
    "st = statistics.stdev(e)\n",
    "print(\"Standard Deviation of e:\",st)"
   ]
  }
 ],
 "metadata": {
  "kernelspec": {
   "display_name": "Python [conda env:base] *",
   "language": "python",
   "name": "conda-base-py"
  },
  "language_info": {
   "codemirror_mode": {
    "name": "ipython",
    "version": 3
   },
   "file_extension": ".py",
   "mimetype": "text/x-python",
   "name": "python",
   "nbconvert_exporter": "python",
   "pygments_lexer": "ipython3",
   "version": "3.11.5"
  }
 },
 "nbformat": 4,
 "nbformat_minor": 5
}
