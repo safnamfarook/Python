{
 "cells": [
  {
   "cell_type": "code",
   "execution_count": 5,
   "id": "87c314df-2a37-41dd-8e1a-f449738688e9",
   "metadata": {
    "tags": []
   },
   "outputs": [
    {
     "data": {
      "text/plain": [
       "(1, 2, 3, 4, 5)"
      ]
     },
     "execution_count": 5,
     "metadata": {},
     "output_type": "execute_result"
    }
   ],
   "source": [
    "T = (1,2,3,4,5)\n",
    "T"
   ]
  },
  {
   "cell_type": "code",
   "execution_count": 13,
   "id": "3469ff8b-ed6f-44bb-abb0-429220278438",
   "metadata": {},
   "outputs": [
    {
     "name": "stdout",
     "output_type": "stream",
     "text": [
      "(10, 20, 30, 40, 50, 60, 70)\n",
      "10\n",
      "70\n",
      "40\n",
      "60\n",
      "20\n"
     ]
    }
   ],
   "source": [
    "# Accessing an element\n",
    "\n",
    "T = (10,20,30,40,50,60,70)\n",
    "print (T)\n",
    "print (T[0])\n",
    "print (T[-1])\n",
    "print (T[3])\n",
    "print (T[-2])\n",
    "print (T[1])"
   ]
  },
  {
   "cell_type": "code",
   "execution_count": 15,
   "id": "51f0e47c-9788-4c48-af64-ebbc6a60e886",
   "metadata": {
    "tags": []
   },
   "outputs": [
    {
     "name": "stdout",
     "output_type": "stream",
     "text": [
      "(10, 20, 30, 40)\n",
      "(50, 60, 70)\n",
      "(30, 40, 50)\n",
      "(10, 20, 30, 40, 50, 60, 70)\n"
     ]
    }
   ],
   "source": [
    "# Slicing\n",
    "\n",
    "T = (10,20,30,40,50,60,70)\n",
    "print (T[:4])\n",
    "print (T[4:])\n",
    "print (T[2:5])\n",
    "print (T)"
   ]
  },
  {
   "cell_type": "code",
   "execution_count": 18,
   "id": "a6399fbe-b9f7-418e-b90d-8aba01a33945",
   "metadata": {
    "tags": []
   },
   "outputs": [
    {
     "name": "stdout",
     "output_type": "stream",
     "text": [
      "('MOUSE', [8, 4, 6], (1, 2, 3))\n",
      "S\n",
      "1\n",
      "4\n"
     ]
    }
   ],
   "source": [
    "# Accessing nested tuple\n",
    "\n",
    "t = (\"MOUSE\",[8,4,6],(1,2,3))\n",
    "print (t)\n",
    "print (t[0][3])\n",
    "print (t[2][0])\n",
    "print (t[1][1])"
   ]
  },
  {
   "cell_type": "code",
   "execution_count": 20,
   "id": "ce854f97-4afe-4f18-bacc-679d7f4fcbec",
   "metadata": {
    "tags": []
   },
   "outputs": [
    {
     "data": {
      "text/plain": [
       "('MOUSE', [8, 6, 6], (1, 2, 3))"
      ]
     },
     "execution_count": 20,
     "metadata": {},
     "output_type": "execute_result"
    }
   ],
   "source": [
    "t[1][1] = 6\n",
    "t"
   ]
  },
  {
   "cell_type": "code",
   "execution_count": 24,
   "id": "c5239c0a-9248-4c75-8048-e2060a0f68fd",
   "metadata": {
    "tags": []
   },
   "outputs": [
    {
     "name": "stdout",
     "output_type": "stream",
     "text": [
      "(4, 2, 3, [9, 5])\n"
     ]
    }
   ],
   "source": [
    "tu = (4,2,3,[6,5])\n",
    "tu[3][0] = 9\n",
    "print (tu)"
   ]
  },
  {
   "cell_type": "code",
   "execution_count": 26,
   "id": "c0a095b0-f5f7-4f32-8d9b-ef203ec3b899",
   "metadata": {
    "tags": []
   },
   "outputs": [
    {
     "name": "stdout",
     "output_type": "stream",
     "text": [
      "(1, 3, 5, 7, 9, 2, 4, 6, 8, 10)\n",
      "(1, 3, 5, 7, 9, 12, 14, 16)\n",
      "(2, 4, 8, 3, 9)\n"
     ]
    }
   ],
   "source": [
    "# Concatenation\n",
    "\n",
    "t1 = (1,3,5,7,9)\n",
    "t2 = (2,4,6,8,10)\n",
    "\n",
    "print (t1+t2)\n",
    "print (t1+(12,14,16))\n",
    "print ((2,4,8)+(3,9))"
   ]
  },
  {
   "cell_type": "code",
   "execution_count": 28,
   "id": "50b03483-3c16-40b8-81aa-8d5760c01b22",
   "metadata": {
    "tags": []
   },
   "outputs": [
    {
     "name": "stdout",
     "output_type": "stream",
     "text": [
      "(1, 3, 5, 7, 9)\n",
      "(1, 3, 5, 7, 9, 1, 3, 5, 7, 9, 1, 3, 5, 7, 9)\n"
     ]
    }
   ],
   "source": [
    "# *Operation\n",
    "\n",
    "print (t1)\n",
    "print (t1*3)"
   ]
  },
  {
   "cell_type": "code",
   "execution_count": 30,
   "id": "ebd427b7-6a36-4352-ad62-586d58137dbc",
   "metadata": {},
   "outputs": [
    {
     "name": "stdout",
     "output_type": "stream",
     "text": [
      "2\n"
     ]
    }
   ],
   "source": [
    "print (t2.index(6))"
   ]
  },
  {
   "cell_type": "code",
   "execution_count": 32,
   "id": "ddc3e7c8-cba8-4c81-b3bf-d5d868536aa6",
   "metadata": {},
   "outputs": [
    {
     "data": {
      "text/plain": [
       "3"
      ]
     },
     "execution_count": 32,
     "metadata": {},
     "output_type": "execute_result"
    }
   ],
   "source": [
    "t1.index(7)"
   ]
  },
  {
   "cell_type": "code",
   "execution_count": 34,
   "id": "cde93a9a-e30f-453d-8ee9-40f54f867331",
   "metadata": {},
   "outputs": [
    {
     "name": "stdout",
     "output_type": "stream",
     "text": [
      "('apple', 'banana', 'cherry')\n",
      "('apple', 'kiwi', 'cherry')\n"
     ]
    }
   ],
   "source": [
    "# Changing tuple to list\n",
    "\n",
    "x = (\"apple\", \"banana\", \"cherry\")\n",
    "print (x)\n",
    "y = list(x)\n",
    "y[1] = \"kiwi\"\n",
    "x = tuple(y)\n",
    "print (x)"
   ]
  },
  {
   "cell_type": "code",
   "execution_count": 38,
   "id": "8714d8cf-8e1a-4e57-be25-4de5df2950f9",
   "metadata": {},
   "outputs": [
    {
     "name": "stdout",
     "output_type": "stream",
     "text": [
      "3\n"
     ]
    }
   ],
   "source": [
    "# Length\n",
    "\n",
    "thistuple = (\"apple\", \"banana\", \"cherry\")\n",
    "print (len(thistuple))"
   ]
  },
  {
   "cell_type": "code",
   "execution_count": 41,
   "id": "5fd44860-b923-4587-bbb6-b09c43bb8871",
   "metadata": {},
   "outputs": [
    {
     "data": {
      "text/plain": [
       "('ab', 'cd', 'ef', 'gh')"
      ]
     },
     "execution_count": 41,
     "metadata": {},
     "output_type": "execute_result"
    }
   ],
   "source": [
    "T = (\"ab\", \"cd\", \"ef\", \"gh\")\n",
    "T"
   ]
  },
  {
   "cell_type": "code",
   "execution_count": 45,
   "id": "47853cf5-39db-4a73-a11b-c3e0107abc4d",
   "metadata": {},
   "outputs": [
    {
     "data": {
      "text/plain": [
       "(1, 'a', 'apple', 2, 3)"
      ]
     },
     "execution_count": 45,
     "metadata": {},
     "output_type": "execute_result"
    }
   ],
   "source": [
    "T = (1, \"a\", \"apple\", 2, 3)\n",
    "T"
   ]
  },
  {
   "cell_type": "code",
   "execution_count": 47,
   "id": "ce4cb6a7-339d-4882-9853-6c5df27c860a",
   "metadata": {},
   "outputs": [
    {
     "data": {
      "text/plain": [
       "4"
      ]
     },
     "execution_count": 47,
     "metadata": {},
     "output_type": "execute_result"
    }
   ],
   "source": [
    "T = (1,2,3,4,5,6,7)\n",
    "T[3] "
   ]
  },
  {
   "cell_type": "code",
   "execution_count": 55,
   "id": "9bf63311-39d9-4ed6-9373-3113eac5ee62",
   "metadata": {},
   "outputs": [
    {
     "name": "stdout",
     "output_type": "stream",
     "text": [
      "(4, 8, 3)\n",
      "15\n"
     ]
    }
   ],
   "source": [
    "# Unpack a tuple in variables\n",
    "\n",
    "a = 4, 8, 3 \n",
    "print (a)\n",
    "n1,n2,n3 = a\n",
    "print (n1+n2+n3)"
   ]
  },
  {
   "cell_type": "code",
   "execution_count": 58,
   "id": "e559369a-10d8-49d0-aacd-c828d947c8bd",
   "metadata": {},
   "outputs": [
    {
     "name": "stdout",
     "output_type": "stream",
     "text": [
      "(4, 8, 3)\n"
     ]
    }
   ],
   "source": [
    "a = 4, 8, 3 \n",
    "print (str(a))"
   ]
  },
  {
   "cell_type": "code",
   "execution_count": 60,
   "id": "d71fe459-a0fc-4178-8c5c-5f311a9b45ff",
   "metadata": {},
   "outputs": [
    {
     "data": {
      "text/plain": [
       "(1, 2, 3, 4)"
      ]
     },
     "execution_count": 60,
     "metadata": {},
     "output_type": "execute_result"
    }
   ],
   "source": [
    "x = [1,2,3,4]\n",
    "y = tuple(x)\n",
    "y"
   ]
  },
  {
   "cell_type": "code",
   "execution_count": 62,
   "id": "64fba2b7-9618-4005-80eb-6b46cd345f00",
   "metadata": {},
   "outputs": [
    {
     "name": "stdout",
     "output_type": "stream",
     "text": [
      "('k', 'e', 'e', 'g', 'f', 'd', 'a', 'z')\n"
     ]
    }
   ],
   "source": [
    "def rev(tuples):\n",
    "    tup = tuples[::-1]\n",
    "    return tup\n",
    "     \n",
    "tuples = ('z','a','d','f','g','e','e','k')\n",
    "print (rev(tuples))"
   ]
  },
  {
   "cell_type": "code",
   "execution_count": 69,
   "id": "3ab6e447-eedc-4a61-8abc-f74b4c0577ce",
   "metadata": {},
   "outputs": [
    {
     "name": "stdout",
     "output_type": "stream",
     "text": [
      "(1, 2, 3, 4)\n"
     ]
    }
   ],
   "source": [
    "a = (1, 2, 3)\n",
    "b = 4 \n",
    "c = a + (b,)\n",
    "print (c)"
   ]
  },
  {
   "cell_type": "code",
   "execution_count": 78,
   "id": "be15f6bb-30e0-4d86-a70a-d727c76eff54",
   "metadata": {},
   "outputs": [
    {
     "name": "stdout",
     "output_type": "stream",
     "text": [
      "(4, 5, 6)\n",
      "(1, 2, 3)\n"
     ]
    }
   ],
   "source": [
    "tuple1 = (1, 2, 3)\n",
    "tuple2 = (4, 5, 6)\n",
    "tuple1, tuple2 = tuple2, tuple1\n",
    "print (tuple1)\n",
    "print (tuple2)"
   ]
  },
  {
   "cell_type": "code",
   "execution_count": 80,
   "id": "e645e58e-b3fe-4da2-9b91-0aedf2076571",
   "metadata": {},
   "outputs": [
    {
     "name": "stdout",
     "output_type": "stream",
     "text": [
      "(30, 40, 50, 60, 70, 80)\n"
     ]
    }
   ],
   "source": [
    "t1 = (10,20,30,40,50,60,70,80,90,100)\n",
    "t2 = t1[2:8]\n",
    "print (t2)"
   ]
  }
 ],
 "metadata": {
  "kernelspec": {
   "display_name": "Python [conda env:base] *",
   "language": "python",
   "name": "conda-base-py"
  },
  "language_info": {
   "codemirror_mode": {
    "name": "ipython",
    "version": 3
   },
   "file_extension": ".py",
   "mimetype": "text/x-python",
   "name": "python",
   "nbconvert_exporter": "python",
   "pygments_lexer": "ipython3",
   "version": "3.11.5"
  }
 },
 "nbformat": 4,
 "nbformat_minor": 5
}
