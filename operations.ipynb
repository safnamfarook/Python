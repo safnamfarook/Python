{
 "cells": [
  {
   "cell_type": "code",
   "execution_count": 24,
   "id": "70759f71-8e9a-40a5-99b5-1dd966c823e8",
   "metadata": {
    "tags": []
   },
   "outputs": [
    {
     "name": "stdout",
     "output_type": "stream",
     "text": [
      "27\n",
      "19\n",
      "50\n",
      "25.0\n",
      "1\n",
      "8\n",
      "12\n"
     ]
    }
   ],
   "source": [
    "# Arithmetic Operators\n",
    "\n",
    "print(23+4)  # addition\n",
    "print(25-6)  # subtraction\n",
    "print(25*2)  # multiplication\n",
    "print(100/4)  # division\n",
    "print(25%2)  # modulus\n",
    "print(2**3)  # exponentiation\n",
    "print(25//2)  # floor division"
   ]
  },
  {
   "cell_type": "code",
   "execution_count": 52,
   "id": "9616ff23-2bf5-4b1a-a274-388e5b846b80",
   "metadata": {
    "tags": []
   },
   "outputs": [
    {
     "name": "stdout",
     "output_type": "stream",
     "text": [
      "5\n",
      "8\n",
      "5\n",
      "15\n",
      "3.0\n",
      "2\n",
      "4\n",
      "2\n"
     ]
    }
   ],
   "source": [
    "# Assignment Operators\n",
    "\n",
    "x=5 # equal to\n",
    "print(x)\n",
    "\n",
    "x+=3  # x=x+3, 5+3=8\n",
    "print(x)\n",
    "\n",
    "x-=3  # x=x-3, 8-3=5\n",
    "print(x)\n",
    "\n",
    "x*=3  # x=x*3, 8*3=24\n",
    "print(x)\n",
    "\n",
    "x/=5  # x=x/2, 8/2=4\n",
    "print(x)\n",
    "\n",
    "x=6\n",
    "x%=4   # x=x%4, 6%4\n",
    "print(x)\n",
    "\n",
    "x=2\n",
    "x**=2  # x=x^2, 2^2=4\n",
    "print(x)\n",
    "\n",
    "x=7\n",
    "x//=3  # x=x//3, 7//3=2\n",
    "print(x)"
   ]
  },
  {
   "cell_type": "code",
   "execution_count": 26,
   "id": "6b446458-3bba-46e7-97c2-68d6b2d2e1bf",
   "metadata": {},
   "outputs": [
    {
     "name": "stdout",
     "output_type": "stream",
     "text": [
      "False\n",
      "True\n",
      "True\n",
      "False\n",
      "True\n",
      "False\n"
     ]
    }
   ],
   "source": [
    "# Comparison Operators\n",
    "\n",
    "x = 5\n",
    "y = 3\n",
    "\n",
    "print(x == y)\n",
    "print(x != y)\n",
    "print(x > y)\n",
    "print(x < y)\n",
    "print(x >= y)\n",
    "print(x <= y)"
   ]
  },
  {
   "cell_type": "code",
   "execution_count": 28,
   "id": "28637e7f-f831-46ca-a58f-bbb01e9dc396",
   "metadata": {},
   "outputs": [
    {
     "name": "stdout",
     "output_type": "stream",
     "text": [
      "False\n",
      "True\n",
      "False\n"
     ]
    }
   ],
   "source": [
    "# Logical Operators\n",
    "\n",
    "x=5\n",
    "y=2\n",
    "\n",
    "print(x<4 and y<1)\n",
    "print(x<6 or y<1)\n",
    "print(not(x<6 or y<1))"
   ]
  },
  {
   "cell_type": "code",
   "execution_count": 40,
   "id": "b5033755-3922-41ba-948d-41323cd07de9",
   "metadata": {},
   "outputs": [
    {
     "name": "stdout",
     "output_type": "stream",
     "text": [
      "True\n",
      "True\n",
      "True\n"
     ]
    }
   ],
   "source": [
    "# Membership Operators\n",
    "\n",
    "x=2\n",
    "y=[7,2,4,8]\n",
    "\n",
    "print(x in y)\n",
    "print(4 in y)\n",
    "print(5 not in y)"
   ]
  },
  {
   "cell_type": "code",
   "execution_count": 58,
   "id": "47f85166-4e3e-48ac-9cc8-a3aecadebb13",
   "metadata": {
    "tags": []
   },
   "outputs": [
    {
     "name": "stdout",
     "output_type": "stream",
     "text": [
      "True\n",
      "True\n",
      "5219361216\n",
      "5219353472\n"
     ]
    }
   ],
   "source": [
    "# Identity  Operators\n",
    "\n",
    "a=[101]\n",
    "b=[101]\n",
    "c=b\n",
    "\n",
    "print(a is not b)\n",
    "print(b is c)\n",
    "print (id(a))\n",
    "print (id(b))"
   ]
  },
  {
   "cell_type": "code",
   "execution_count": 44,
   "id": "f40202b3-6c85-4bb7-a80e-923c8e7f7b84",
   "metadata": {},
   "outputs": [
    {
     "name": "stdin",
     "output_type": "stream",
     "text": [
      "enter the radius:  4\n"
     ]
    },
    {
     "name": "stdout",
     "output_type": "stream",
     "text": [
      "area of circle:  50.24\n"
     ]
    }
   ],
   "source": [
    "r = int(input(\"enter the radius: \"))\n",
    "print (\"area of circle: \",3.14*r*r)"
   ]
  },
  {
   "cell_type": "code",
   "execution_count": 48,
   "id": "d57061fe-3812-4ed5-8c98-dd4af5ff3e19",
   "metadata": {
    "tags": []
   },
   "outputs": [
    {
     "name": "stdin",
     "output_type": "stream",
     "text": [
      "Enter the name: Safna\n",
      "Enter the age: 25\n"
     ]
    },
    {
     "name": "stdout",
     "output_type": "stream",
     "text": [
      "My name is Safna and I am 25 years old.\n"
     ]
    }
   ],
   "source": [
    "name = input(\"Enter the name:\")\n",
    "age = input(\"Enter the age:\")\n",
    "print (f\"My name is {name} and I am {age} years old.\")"
   ]
  },
  {
   "cell_type": "code",
   "execution_count": 88,
   "id": "d360b0b4-c32d-474f-b1b8-fec5d9832a3d",
   "metadata": {},
   "outputs": [
    {
     "data": {
      "text/plain": [
       "2"
      ]
     },
     "execution_count": 88,
     "metadata": {},
     "output_type": "execute_result"
    }
   ],
   "source": [
    "x = 27\n",
    "y = 5\n",
    "x%y"
   ]
  },
  {
   "cell_type": "code",
   "execution_count": 86,
   "id": "be1a3a72-6814-49a0-a5c6-7ab5f7c89d2d",
   "metadata": {},
   "outputs": [
    {
     "data": {
      "text/plain": [
       "81"
      ]
     },
     "execution_count": 86,
     "metadata": {},
     "output_type": "execute_result"
    }
   ],
   "source": [
    "x = 9\n",
    "y = 2\n",
    "x**y"
   ]
  },
  {
   "cell_type": "code",
   "execution_count": 92,
   "id": "9c5fe927-5e82-41b0-9b46-ffa120c9fc2e",
   "metadata": {},
   "outputs": [
    {
     "name": "stdout",
     "output_type": "stream",
     "text": [
      "3.75\n",
      "3\n"
     ]
    }
   ],
   "source": [
    "x = 15\n",
    "y = 4\n",
    "print (x/y)\n",
    "print (x//y)"
   ]
  },
  {
   "cell_type": "code",
   "execution_count": 96,
   "id": "2758a026-0cde-4e93-9994-1b5c6d84f582",
   "metadata": {},
   "outputs": [
    {
     "data": {
      "text/plain": [
       "False"
      ]
     },
     "execution_count": 96,
     "metadata": {},
     "output_type": "execute_result"
    }
   ],
   "source": [
    "x = 10\n",
    "y = 20\n",
    "x>y"
   ]
  },
  {
   "cell_type": "code",
   "execution_count": 98,
   "id": "5449fdc5-5bb0-457c-a1fc-a6630a06c62f",
   "metadata": {},
   "outputs": [
    {
     "name": "stdout",
     "output_type": "stream",
     "text": [
      "Even\n"
     ]
    }
   ],
   "source": [
    "n = 14\n",
    "if n%2==0:\n",
    "    print (\"Even\")\n",
    "else:\n",
    "    print (\"False\")"
   ]
  },
  {
   "cell_type": "code",
   "execution_count": 126,
   "id": "c9223e31-4d67-4d9c-a166-9650a2c95771",
   "metadata": {},
   "outputs": [
    {
     "name": "stdout",
     "output_type": "stream",
     "text": [
      "World is greater\n"
     ]
    }
   ],
   "source": [
    "a = \"hello\"\n",
    "b = \"world\"\n",
    "\n",
    "if (a<b)==True:\n",
    "    print (\"World is greater\")\n",
    "else:\n",
    "    print (\"Hello is greater\")"
   ]
  },
  {
   "cell_type": "code",
   "execution_count": 128,
   "id": "aeed4a1f-1019-475b-85d3-b234477e8ab8",
   "metadata": {},
   "outputs": [
    {
     "data": {
      "text/plain": [
       "True"
      ]
     },
     "execution_count": 128,
     "metadata": {},
     "output_type": "execute_result"
    }
   ],
   "source": [
    "n = 15\n",
    "n>10 and n<20"
   ]
  },
  {
   "cell_type": "code",
   "execution_count": 130,
   "id": "f762154d-e36c-4038-84e8-212044fc9627",
   "metadata": {},
   "outputs": [
    {
     "data": {
      "text/plain": [
       "True"
      ]
     },
     "execution_count": 130,
     "metadata": {},
     "output_type": "execute_result"
    }
   ],
   "source": [
    "n = 17\n",
    "n>0 or n%2==0"
   ]
  },
  {
   "cell_type": "code",
   "execution_count": 132,
   "id": "79ab91a2-f61c-43df-a595-b30e8898bd94",
   "metadata": {},
   "outputs": [
    {
     "name": "stdout",
     "output_type": "stream",
     "text": [
      "False\n"
     ]
    }
   ],
   "source": [
    "a = True\n",
    "print (not a)"
   ]
  },
  {
   "cell_type": "code",
   "execution_count": 136,
   "id": "5ae5f20e-e3bf-4351-84d6-f464b636b176",
   "metadata": {},
   "outputs": [
    {
     "data": {
      "text/plain": [
       "150"
      ]
     },
     "execution_count": 136,
     "metadata": {},
     "output_type": "execute_result"
    }
   ],
   "source": [
    "a = 100\n",
    "a+=50\n",
    "a"
   ]
  },
  {
   "cell_type": "code",
   "execution_count": 138,
   "id": "22618c50-90e9-4872-94c2-9314ce390b5c",
   "metadata": {},
   "outputs": [
    {
     "data": {
      "text/plain": [
       "65"
      ]
     },
     "execution_count": 138,
     "metadata": {},
     "output_type": "execute_result"
    }
   ],
   "source": [
    "score = 75\n",
    "score-=10\n",
    "score"
   ]
  },
  {
   "cell_type": "code",
   "execution_count": 140,
   "id": "798745cb-5c77-4d2e-b071-4e05d3ff0de0",
   "metadata": {},
   "outputs": [
    {
     "data": {
      "text/plain": [
       "15"
      ]
     },
     "execution_count": 140,
     "metadata": {},
     "output_type": "execute_result"
    }
   ],
   "source": [
    "x = 5\n",
    "x*=3\n",
    "x"
   ]
  }
 ],
 "metadata": {
  "kernelspec": {
   "display_name": "Python [conda env:base] *",
   "language": "python",
   "name": "conda-base-py"
  },
  "language_info": {
   "codemirror_mode": {
    "name": "ipython",
    "version": 3
   },
   "file_extension": ".py",
   "mimetype": "text/x-python",
   "name": "python",
   "nbconvert_exporter": "python",
   "pygments_lexer": "ipython3",
   "version": "3.11.5"
  }
 },
 "nbformat": 4,
 "nbformat_minor": 5
}
