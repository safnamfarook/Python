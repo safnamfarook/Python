{
 "cells": [
  {
   "cell_type": "code",
   "execution_count": 2,
   "id": "0e61555c-9588-48dd-b519-c8d7ffce2c82",
   "metadata": {},
   "outputs": [
    {
     "name": "stdout",
     "output_type": "stream",
     "text": [
      "hai\n"
     ]
    }
   ],
   "source": [
    "def myfn():\n",
    "    return \"hai\"\n",
    "print(myfn())"
   ]
  },
  {
   "cell_type": "code",
   "execution_count": 10,
   "id": "d076af47-cf7e-4487-bfcc-99fe34d9e6a8",
   "metadata": {},
   "outputs": [
    {
     "name": "stdout",
     "output_type": "stream",
     "text": [
      "hai\n"
     ]
    }
   ],
   "source": [
    "class A:\n",
    "    def myfn():\n",
    "      return \"hai\"\n",
    "a=A\n",
    "print(a.myfn())"
   ]
  },
  {
   "cell_type": "code",
   "execution_count": 214,
   "id": "dc18e7cb-6ed7-4a7c-a770-a13edc412df8",
   "metadata": {},
   "outputs": [
    {
     "name": "stdout",
     "output_type": "stream",
     "text": [
      "i'm arjun\n",
      "i'm fathima\n",
      "i'm safna\n"
     ]
    }
   ],
   "source": [
    "class Student:\n",
    "    def myfn():\n",
    "        print(\"i'm safna\")\n",
    "    def myfn1():\n",
    "        print(\"i'm arjun\")\n",
    "    def myfn2():\n",
    "        print(\"i'm fathima\")\n",
    "arjun=Student\n",
    "fathima=Student\n",
    "safna=Student\n",
    "arjun.myfn1()\n",
    "fathima.myfn2()\n",
    "safna.myfn()"
   ]
  },
  {
   "cell_type": "code",
   "execution_count": 35,
   "id": "30ada302-aebc-4b13-b0b1-cef7df5c4087",
   "metadata": {
    "tags": []
   },
   "outputs": [],
   "source": [
    "# Empty class\n",
    "class Parrot:     \n",
    "    pass  "
   ]
  },
  {
   "cell_type": "code",
   "execution_count": 37,
   "id": "1d9c283a-d8e5-4e05-8db2-64eee38eb3c8",
   "metadata": {
    "tags": []
   },
   "outputs": [],
   "source": [
    "class Parrot: \n",
    "    woo = Parrot()  #object    "
   ]
  },
  {
   "cell_type": "code",
   "execution_count": 4,
   "id": "cbbf3d8f-9759-43ba-8f5c-8fdbfb2f7c93",
   "metadata": {
    "tags": []
   },
   "outputs": [
    {
     "name": "stdout",
     "output_type": "stream",
     "text": [
      "hai\n",
      "hello\n"
     ]
    }
   ],
   "source": [
    "class person:\n",
    "    def display():\n",
    "        return \"hai\"\n",
    "    def display1(self):\n",
    "        return \"hello\"\n",
    "p1=person\n",
    "p2=person()\n",
    "print(p1.display())\n",
    "print(p2.display1())"
   ]
  },
  {
   "cell_type": "code",
   "execution_count": 40,
   "id": "bf9ec7d5-c145-48a7-ae54-51118871495c",
   "metadata": {
    "tags": []
   },
   "outputs": [
    {
     "name": "stdout",
     "output_type": "stream",
     "text": [
      "hi\n"
     ]
    }
   ],
   "source": [
    "def myf():\n",
    "    print(\"hi\")\n",
    "myf(4)"
   ]
  },
  {
   "cell_type": "code",
   "execution_count": 11,
   "id": "2f863cef-5c91-4028-9bdf-81fe8827c078",
   "metadata": {
    "tags": []
   },
   "outputs": [
    {
     "name": "stdout",
     "output_type": "stream",
     "text": [
      "hi\n"
     ]
    }
   ],
   "source": [
    "# Self refers current instance of a class(to hold object)\n",
    "class Parrot:\n",
    "     def myfun(self):    #method\n",
    "         print(\"hi\")\n",
    "obj=Parrot()\n",
    "obj.myfun()"
   ]
  },
  {
   "cell_type": "code",
   "execution_count": 15,
   "id": "9ffacb12-9519-4c8a-a6c4-bb1a39579ce3",
   "metadata": {},
   "outputs": [
    {
     "name": "stdout",
     "output_type": "stream",
     "text": [
      "hi\n"
     ]
    }
   ],
   "source": [
    "# Self\n",
    "class b:\n",
    "     def myfun():\n",
    "         print(\"hi\")     #error\n",
    "ob=b()\n",
    "b.myfun()"
   ]
  },
  {
   "cell_type": "code",
   "execution_count": 17,
   "id": "f0246fad-9910-4467-9616-470120fd0649",
   "metadata": {
    "tags": []
   },
   "outputs": [
    {
     "name": "stdout",
     "output_type": "stream",
     "text": [
      "hai\n"
     ]
    }
   ],
   "source": [
    "class person:\n",
    "    def display(self):\n",
    "        return \"hai\"\n",
    "p1=person()\n",
    "print(p1.display())"
   ]
  },
  {
   "cell_type": "code",
   "execution_count": 51,
   "id": "58ac6fc0-310c-4366-bcdb-55ca176aa5f3",
   "metadata": {
    "tags": []
   },
   "outputs": [
    {
     "name": "stdout",
     "output_type": "stream",
     "text": [
      "hai\n",
      "heloo\n"
     ]
    }
   ],
   "source": [
    "class a:\n",
    "    def __init__(self): #constructor\n",
    "        print(\"hai\")\n",
    "    def myfun(self):\n",
    "        print(\"heloo\")\n",
    "obj=a()\n",
    "obj.myfun()"
   ]
  },
  {
   "cell_type": "code",
   "execution_count": 17,
   "id": "2297ee39-8286-4764-8372-bd629ae105a0",
   "metadata": {},
   "outputs": [
    {
     "data": {
      "text/plain": [
       "'safna'"
      ]
     },
     "execution_count": 17,
     "metadata": {},
     "output_type": "execute_result"
    }
   ],
   "source": [
    "class student:\n",
    "    name=\"safna\"\n",
    "    course=\"ds\"\n",
    "a=student()\n",
    "b=student()\n",
    "a.name\n",
    "a.course\n",
    "b.name"
   ]
  },
  {
   "cell_type": "code",
   "execution_count": 226,
   "id": "dfe28265-6310-4e28-9241-3af45ada3fa9",
   "metadata": {
    "tags": []
   },
   "outputs": [
    {
     "name": "stdout",
     "output_type": "stream",
     "text": [
      "green parrot can fly\n",
      "red parrot can fly\n",
      "green parrot can dance\n",
      "red parrot can dance\n"
     ]
    }
   ],
   "source": [
    "class Parrot: \n",
    "    def flying(self,colour): #self:object call itself(to hold object:self)\n",
    "        self.colour=colour\n",
    "        print(colour,\"parrot can fly\")\n",
    "    def dancing(self):\n",
    "        print(self.colour,\"parrot can dance\")\n",
    "        \n",
    "p1 = Parrot()  #object\n",
    "p2 = Parrot()\n",
    "p1.flying(\"green\")\n",
    "p2.flying(\"red\")\n",
    "p1.dancing()\n",
    "p2.dancing()"
   ]
  },
  {
   "cell_type": "code",
   "execution_count": 230,
   "id": "cd763dbc-c1e6-4e14-be96-49dc878c9934",
   "metadata": {},
   "outputs": [
    {
     "name": "stdout",
     "output_type": "stream",
     "text": [
      "green parrot can fly\n",
      "red parrot can fly\n",
      "blue parrot can dance\n",
      "yellow parrot can dance\n"
     ]
    }
   ],
   "source": [
    "class Parrot: \n",
    "    def flying(self,colour):        #self:object call itself(to hold object:self)\n",
    "        self.colour=colour\n",
    "        print(colour,\"parrot can fly\")\n",
    "    def dancing(self,colour):\n",
    "        self.colour=colour\n",
    "        print(colour,\"parrot can dance\")\n",
    "        \n",
    "p1 = Parrot()  #object\n",
    "p2 = Parrot()\n",
    "p1.flying(\"green\")\n",
    "p2.flying(\"red\")\n",
    "p1.dancing(\"blue\")\n",
    "p2.dancing(\"yellow\")"
   ]
  },
  {
   "cell_type": "code",
   "execution_count": 232,
   "id": "e60d5994-c7a7-4a1f-98bb-1640cbdf9a14",
   "metadata": {},
   "outputs": [
    {
     "name": "stdout",
     "output_type": "stream",
     "text": [
      "my name is john and i am  30 years old\n"
     ]
    }
   ],
   "source": [
    "class Person:\n",
    "    def __init__(self, name, age):\n",
    "        print(\"my name is\",name,\"and i am \",age,\"years old\")\n",
    "p1 = Person(\"john\",30)"
   ]
  },
  {
   "cell_type": "code",
   "execution_count": 65,
   "id": "1370bf50-9a85-4d09-9fe0-0f39abe65e02",
   "metadata": {},
   "outputs": [
    {
     "name": "stdout",
     "output_type": "stream",
     "text": [
      "my name is John and i am  30 years old\n"
     ]
    }
   ],
   "source": [
    "class Person:\n",
    "    def __init__(self, name, age):\n",
    "        \n",
    "        self.name = name\n",
    "        self.age = age\n",
    "        print(\"my name is\",name,\"and i am \",age,\"years old\")\n",
    "   \n",
    "p1 = Person(\"John\", 30)\n",
    "\n",
    "#print(p1.name,p1.age)"
   ]
  },
  {
   "cell_type": "code",
   "execution_count": 3,
   "id": "c888155d-cadd-4052-842f-629c495515e5",
   "metadata": {
    "tags": []
   },
   "outputs": [
    {
     "name": "stdout",
     "output_type": "stream",
     "text": [
      "my name is john and i am  30 years old\n",
      "john don't drink water\n",
      "john is unhealthy person\n"
     ]
    }
   ],
   "source": [
    "class Person:\n",
    "    def __init__(self,name, age):\n",
    "        self.name=name\n",
    "        self.age=age\n",
    "        print(\"my name is\",name,\"and i am \",age,\"years old\")\n",
    "    def drinking(self):\n",
    "        print(self.name,\"don't drink water\")\n",
    "    \n",
    "p1 = Person(\"john\",30)\n",
    "p1.drinking()\n",
    "print(p1.name,\"is unhealthy person\")"
   ]
  },
  {
   "cell_type": "code",
   "execution_count": 41,
   "id": "355ba474-f808-44c4-9adf-9ef3dedcb08d",
   "metadata": {},
   "outputs": [
    {
     "name": "stdout",
     "output_type": "stream",
     "text": [
      "bmw 30000000\n"
     ]
    }
   ],
   "source": [
    "# Class variable and object variable\n",
    "# Class variable--common variable to the class is class variable,\n",
    "# Can access without creating objects,all object share the same memmory space\n",
    "\n",
    "class Car:\n",
    "    model=\"bmw\"\n",
    "    price=30000000\n",
    "    color=\"red\"\n",
    "    def show():\n",
    "        print(\"hai\")\n",
    "c=Car()\n",
    "a=Car()\n",
    "r=Car()\n",
    "\n",
    "# print(c.model,c.color)\n",
    "# print(a.model,a.color)\n",
    "\n",
    "print(Car.model,Car.price) "
   ]
  },
  {
   "cell_type": "code",
   "execution_count": 240,
   "id": "62f34ce2-d55c-45a1-b60b-b7170b82bb54",
   "metadata": {},
   "outputs": [
    {
     "name": "stdout",
     "output_type": "stream",
     "text": [
      "hai\n",
      "hai\n",
      "hai\n",
      "safna 2 ds\n",
      "hai\n"
     ]
    }
   ],
   "source": [
    "# object variable\n",
    "# it have seperate memmory space\n",
    "# self.name=name\n",
    "\n",
    "class Student:\n",
    "    institute=\"techolas\"\n",
    "    location=\"calicut\"\n",
    "    def __init__(self,id,name,course):\n",
    "        self.id=id\n",
    "        self.name=name\n",
    "        self.course=course\n",
    "        print(\"hai\")\n",
    "    def details(self):\n",
    "        print(self.name,self.id,self.course)\n",
    "\n",
    "obj1=Student(1,\"arjun\",\"da\")\n",
    "obj2=Student(2,\"safna\",\"ds\")\n",
    "obj3=Student(3,\"danesh\",\"da\")\n",
    "obj2.details()\n",
    "\n",
    "\n",
    "x=\"hai\"\n",
    "print(x)"
   ]
  },
  {
   "cell_type": "code",
   "execution_count": 262,
   "id": "a96af5e1-1ce8-4762-ad50-209126e21734",
   "metadata": {},
   "outputs": [
    {
     "name": "stdout",
     "output_type": "stream",
     "text": [
      "1 safna ds\n",
      "6.666666666666667\n",
      "7.333333333333333\n",
      "6.333333333333333\n"
     ]
    }
   ],
   "source": [
    "class Student:\n",
    "    institute=\"techolas\"\n",
    "    location=\"calicut\"\n",
    "    def __init__(self,id,name,course):\n",
    "        self.id=id\n",
    "        self.name=name\n",
    "        self.course=course\n",
    "    def details(self):\n",
    "        print(self.id,self.name,self.course)\n",
    "    def mark(self,py,sql,ml):\n",
    "        self.py=py\n",
    "        self.sql=sql\n",
    "        self.ml=ml\n",
    "    def avg(self):\n",
    "        print((self.py+self.sql+self.ml)/3)\n",
    "        \n",
    "s1=Student(1,\"safna\",\"ds\")\n",
    "s2=Student(2,\"fathima\",\"da\")\n",
    "s3=Student(3,\"dhanesh\",\"da\")\n",
    "s4=Student(4,\"arjun\",\"da\")\n",
    "s1.details()\n",
    "s1.mark(8,9,5)\n",
    "s2.mark(7,8,4)\n",
    "s3.mark(3,8,9)\n",
    "s4.mark(9,9,4)\n",
    "s3.avg()\n",
    "s1.avg()\n",
    "s2.avg()"
   ]
  },
  {
   "cell_type": "code",
   "execution_count": 264,
   "id": "20cc4152-1ffc-421a-b757-0171993d41ee",
   "metadata": {},
   "outputs": [
    {
     "name": "stdout",
     "output_type": "stream",
     "text": [
      "techolas\n",
      "hai\n"
     ]
    }
   ],
   "source": [
    "class student:\n",
    "    institute=\"techolas\"\n",
    "    def __init__(self,id,name):\n",
    "        self.id=id\n",
    "        self.name=name \n",
    "    def dis(self):\n",
    "        print(self.name)\n",
    "    @classmethod          #decorator\n",
    "    def getintitute(cls):\n",
    "        print(cls.institute)\n",
    "    @staticmethod         #decorator\n",
    "    def myfn():\n",
    "        print(\"hai\")\n",
    "        \n",
    "a=student(1,'safna')\n",
    "student.getintitute()\n",
    "student.myfn()"
   ]
  },
  {
   "cell_type": "code",
   "execution_count": 266,
   "id": "4609457b-cb60-4ae8-be97-83e80a74c11b",
   "metadata": {},
   "outputs": [
    {
     "name": "stdout",
     "output_type": "stream",
     "text": [
      "Blu is 10 years old\n",
      "Woo is 15 years old\n"
     ]
    }
   ],
   "source": [
    "class Parrot:\n",
    "    def __init__(self,name,age):\n",
    "        self.names=name\n",
    "        self.ages=age\n",
    "        \n",
    "blu=Parrot(\"Blu\",10)\n",
    "woo=Parrot(\"Woo\",15)\n",
    "print(\"{} is {} years old\".format(blu.names,blu.ages))\n",
    "print(\"{} is {} years old\".format(woo.names,woo.ages))"
   ]
  },
  {
   "cell_type": "code",
   "execution_count": 268,
   "id": "6dda043d-85ea-47c1-bbc3-18c9549ffe86",
   "metadata": {},
   "outputs": [
    {
     "name": "stdout",
     "output_type": "stream",
     "text": [
      "Blu  is  10  years old\n",
      "Woo  is  15  years old\n"
     ]
    }
   ],
   "source": [
    "# Creating a class and object\n",
    "\n",
    "class Parrot:\n",
    "    species=\"Bird\"  #default arguments\n",
    "    def __init__(self,name,age):\n",
    "        self.names=name\n",
    "        self.ages=age      \n",
    "        \n",
    "blu=Parrot(\"Blu\",10)  \n",
    "woo=Parrot(\"Woo\",15)\n",
    "#print(blu.names,\"is a \",blu.__class__.species)\n",
    "#print(\"Woo is also a \",woo.__class__.species)\n",
    "print(blu.names,\" is \",blu.ages,\" years old\")\n",
    "print(woo.names,\" is \",woo.ages,\" years old\")"
   ]
  },
  {
   "cell_type": "code",
   "execution_count": 45,
   "id": "f3c0d9a4-8eb3-407f-a22c-097778906feb",
   "metadata": {
    "tags": []
   },
   "outputs": [
    {
     "name": "stdout",
     "output_type": "stream",
     "text": [
      "red parrot can fly\n",
      "red parrot can dance\n"
     ]
    }
   ],
   "source": [
    "class Parrot: \n",
    "    def fly(self,colour): #self:object call itself\n",
    "        self.c=colour\n",
    "        print(colour,\"parrot can fly\")\n",
    "    def dance(self):\n",
    "        print(self.c,\"parrot can dance\")\n",
    "        \n",
    "        \n",
    "p1 = Parrot()#object\n",
    "\n",
    "p1.fly(\"red\")\n",
    "p1.dance()"
   ]
  },
  {
   "cell_type": "code",
   "execution_count": 4,
   "id": "5d81642e-a0f3-4b6e-aef9-2015ced96013",
   "metadata": {},
   "outputs": [
    {
     "name": "stdout",
     "output_type": "stream",
     "text": [
      "Blu sings Happy\n",
      "Blu is dancing\n"
     ]
    }
   ],
   "source": [
    "class Parrot:\n",
    "    def __init__(self, name, age):\n",
    "        self.name = name\n",
    "        self.age = age\n",
    "\n",
    "    def sing(self, song):\n",
    "        return \"{} sings {}\".format(self.name, song)\n",
    "\n",
    "    def dance(self):\n",
    "        return \"{} is dancing\".format(self.name)\n",
    "\n",
    "blu = Parrot(\"Blu\", 10)\n",
    "print(blu.sing(\"Happy\"))\n",
    "print(blu.dance())"
   ]
  },
  {
   "cell_type": "code",
   "execution_count": 284,
   "id": "8210b2ce-8935-4cd7-814e-7269e3bb2246",
   "metadata": {},
   "outputs": [
    {
     "name": "stdin",
     "output_type": "stream",
     "text": [
      "enter  num 5\n",
      "enter  num 7\n"
     ]
    },
    {
     "name": "stdout",
     "output_type": "stream",
     "text": [
      "12\n"
     ]
    }
   ],
   "source": [
    "# Sum of two numbers\n",
    "\n",
    "class x:\n",
    "    def __init__(self,a,b):\n",
    "        self.a=a\n",
    "        self.b=b\n",
    "    def sum(self):\n",
    "        s=self.a+self.b\n",
    "        print(s)\n",
    "    \n",
    "a1=int(input(\"enter  num\"))\n",
    "b1=int(input(\"enter  num\"))\n",
    "p=x(a1,b1)\n",
    "p.sum() "
   ]
  },
  {
   "cell_type": "code",
   "execution_count": 47,
   "id": "c1e52bf0-b3d9-4004-b613-26f9680edac0",
   "metadata": {},
   "outputs": [
    {
     "name": "stdout",
     "output_type": "stream",
     "text": [
      "john is my name\n",
      "36 is my age\n",
      "40 my age is changed\n"
     ]
    }
   ],
   "source": [
    "class Person:\n",
    "    def __init__(myobj,name,age):\n",
    "        myobj.name=name\n",
    "        myobj.age=age\n",
    "    def myfunc(abc):\n",
    "        print(abc.name,\"is my name\")\n",
    "        print(abc.age,\"is my age\")\n",
    "p1=Person(\"john\",36)\n",
    "p1.myfunc()\n",
    "p1.age=40\n",
    "print(p1.age,\"my age is changed\")"
   ]
  },
  {
   "cell_type": "code",
   "execution_count": 49,
   "id": "3d28461d-e14e-4b72-8c9b-36aef229c940",
   "metadata": {},
   "outputs": [
    {
     "name": "stdout",
     "output_type": "stream",
     "text": [
      "the number of students: 3\n"
     ]
    }
   ],
   "source": [
    "class Student:\n",
    "    count = 0\n",
    "    def __init__(self):\n",
    "        Student.count =  Student.count+ 1  \n",
    "s1=Student()\n",
    "s2=Student()\n",
    "s3=Student()\n",
    "\n",
    "print(\"the number of students:\",Student.count)"
   ]
  },
  {
   "cell_type": "code",
   "execution_count": 51,
   "id": "8e305c7c-013b-4609-b8f4-4f7328f41107",
   "metadata": {},
   "outputs": [
    {
     "name": "stdout",
     "output_type": "stream",
     "text": [
      "The number of students: 4\n"
     ]
    }
   ],
   "source": [
    "# Count of objects\n",
    "\n",
    "class Student:\n",
    "    count = 0 \n",
    "    def __init__(self):\n",
    "        Student.count += 1  \n",
    "s1 = Student()\n",
    "s2 = Student()\n",
    "s3 = Student()\n",
    "s4 = Student()\n",
    "print(\"The number of students:\", Student.count)"
   ]
  },
  {
   "cell_type": "code",
   "execution_count": 1,
   "id": "a9df6216-ac01-4cc8-adb0-f96b2d5d5939",
   "metadata": {},
   "outputs": [
    {
     "name": "stdout",
     "output_type": "stream",
     "text": [
      "kil can do dance very well\n"
     ]
    }
   ],
   "source": [
    "class monkey:\n",
    "    def __init__(self,name):\n",
    "        self.nam=name\n",
    "        print(self.nam,\"can do dance very well\")\n",
    "    \n",
    "m1 = monkey(\"kil\")"
   ]
  },
  {
   "cell_type": "code",
   "execution_count": 12,
   "id": "9a978931-46ae-42d4-8601-a79bc117e008",
   "metadata": {
    "tags": []
   },
   "outputs": [
    {
     "name": "stdout",
     "output_type": "stream",
     "text": [
      "kil can do dance very well\n"
     ]
    }
   ],
   "source": [
    "class monkey:\n",
    "    def __init__(self,name):\n",
    "        self.nam=name\n",
    "    \n",
    "m1=monkey(\"kil\")\n",
    "print(m1.nam,\"can do dance very well\")"
   ]
  },
  {
   "cell_type": "code",
   "execution_count": 290,
   "id": "d2316291-96e0-4d17-8635-2f5cd7eae9ee",
   "metadata": {},
   "outputs": [
    {
     "name": "stdout",
     "output_type": "stream",
     "text": [
      "kil is a monkey\n",
      "red kil can dance very well\n"
     ]
    }
   ],
   "source": [
    "class monkey:\n",
    "    def __init__(self,name):\n",
    "        self.name=name\n",
    "        print(self.name,\"is a monkey\")\n",
    "    def dance(self,colour):\n",
    "        print(colour,self.name,\"can dance very well\")\n",
    "\n",
    "m1=monkey(\"kil\")  #object\n",
    "m1.dance(\"red\")  "
   ]
  },
  {
   "cell_type": "code",
   "execution_count": 292,
   "id": "f083eeaa-60aa-46a8-8338-9f58f3da7e29",
   "metadata": {},
   "outputs": [
    {
     "name": "stdout",
     "output_type": "stream",
     "text": [
      "kil is a monkey\n",
      "red kil can dance very well\n"
     ]
    }
   ],
   "source": [
    "class monkey:\n",
    "    def __init__(self,name,colour):\n",
    "        self.name=name\n",
    "        self.colour=colour\n",
    "        print(self.name,\"is a monkey\")\n",
    "    def dance(self):\n",
    "        print(self.colour,self.name,\"can dance very well\")\n",
    "\n",
    "m1=monkey(\"kil\",\"red\")  #object\n",
    "m1.dance()  "
   ]
  },
  {
   "cell_type": "code",
   "execution_count": 8,
   "id": "d0b59d76-b899-460d-86bf-dd02ce6ae078",
   "metadata": {
    "tags": []
   },
   "outputs": [
    {
     "name": "stdout",
     "output_type": "stream",
     "text": [
      "red parrot can fly\n",
      "red parrot can dance\n",
      "green parrot can fly\n"
     ]
    }
   ],
   "source": [
    "def dancing():\n",
    "    print(\"i know classical\")\n",
    "dancing()"
   ]
  },
  {
   "cell_type": "code",
   "execution_count": 3,
   "id": "eb5fad0e-b696-49ec-8f27-40ecdfd4cae5",
   "metadata": {},
   "outputs": [
    {
     "name": "stdout",
     "output_type": "stream",
     "text": [
      "i am  kil i am 20 years old i know classical\n"
     ]
    }
   ],
   "source": [
    "def dancing(name,age,dance):\n",
    "    print(\"i am \",name,\"i am\",age,\"years old\",\"i know\",dance )\n",
    "dancing(\"kil\",20,\"classical\")"
   ]
  },
  {
   "cell_type": "code",
   "execution_count": 1,
   "id": "e71966f4-13db-4ede-bb72-3b38acc1238f",
   "metadata": {
    "tags": []
   },
   "outputs": [
    {
     "name": "stdout",
     "output_type": "stream",
     "text": [
      "i am  kil i am 22 years old i know classical\n"
     ]
    }
   ],
   "source": [
    "class danceschool:\n",
    "    def dancing(self,name,age,dance):\n",
    "        print(\"i am \",name,\"i am\",age,\"years old\",\"i know\",dance)\n",
    "stu1= danceschool()\n",
    "stu1.dancing(\"kil\",22,\"classical\")"
   ]
  },
  {
   "cell_type": "code",
   "execution_count": 20,
   "id": "e00013ec-afc7-41bd-b083-551629306bd5",
   "metadata": {
    "tags": []
   },
   "outputs": [
    {
     "name": "stdout",
     "output_type": "stream",
     "text": [
      "i am raju da student in july 8th batch\n"
     ]
    }
   ],
   "source": [
    "class july8:\n",
    "    def __init__(self,name):\n",
    "        print(\"i am\",name,\"da student in july 8th batch\")\n",
    "stu1=july8(\"raju\")        "
   ]
  },
  {
   "cell_type": "code",
   "execution_count": 22,
   "id": "d994aea5-22c6-4f22-a7d3-d7a247353268",
   "metadata": {
    "tags": []
   },
   "outputs": [
    {
     "name": "stdout",
     "output_type": "stream",
     "text": [
      "i am raju da student in july 8th batch\n"
     ]
    }
   ],
   "source": [
    "class july8:\n",
    "    def student(self,name):\n",
    "        print(\"i am\",name,\"da student in july 8th batch\")\n",
    "stu1=july8() \n",
    "stu1.student(\"raju\")"
   ]
  },
  {
   "cell_type": "code",
   "execution_count": 3,
   "id": "a836b612-3c67-424c-8e03-edb1f872e47a",
   "metadata": {
    "tags": []
   },
   "outputs": [
    {
     "name": "stdout",
     "output_type": "stream",
     "text": [
      "Hello my name is ammu\n",
      "my age is 10\n",
      "age is change 20\n"
     ]
    }
   ],
   "source": [
    "class Person:\n",
    "    def __init__(abc,name,age):\n",
    "        abc.name=name\n",
    "        abc.age=age\n",
    "    def myfunct(xyz):\n",
    "        print(\"Hello my name is \" + xyz.name)\n",
    "        print(\"my age is \" + xyz.age)\n",
    "obj1=Person(\"ammu\",\"10\")\n",
    "obj1.myfunct()\n",
    "obj1.age=\"20\"\n",
    "print(\"age is change \" + obj1.age)"
   ]
  },
  {
   "cell_type": "code",
   "execution_count": 296,
   "id": "67617541-938e-460d-9d7f-450f86c5f6ec",
   "metadata": {},
   "outputs": [
    {
     "name": "stdout",
     "output_type": "stream",
     "text": [
      "hai all\n",
      "bye\n",
      "hai all\n"
     ]
    }
   ],
   "source": [
    "# parent-child relation\n",
    "# parent class-superclass\n",
    "# child class-subclass\n",
    "\n",
    "class A():\n",
    "  institute=\"techolas\"\n",
    "  def myfn():\n",
    "    print(\"hai all\")\n",
    "class B(A):\n",
    "    def fun():\n",
    "        print(\"bye\")\n",
    "obj=B\n",
    "obj.myfn()\n",
    "obj.fun()\n",
    "obj.institute\n",
    "o=B\n",
    "o.myfn()"
   ]
  },
  {
   "cell_type": "code",
   "execution_count": 300,
   "id": "e76ef171-4316-4479-bb0d-67104411b86e",
   "metadata": {},
   "outputs": [
    {
     "name": "stdout",
     "output_type": "stream",
     "text": [
      "Sum: 15\n",
      "Product: 50\n",
      "Division: 2.0\n"
     ]
    }
   ],
   "source": [
    "class A:\n",
    "    def __init__(self, x, y):\n",
    "        self.x = x\n",
    "        self.y = y\n",
    "class Add(A):\n",
    "    def sum(self):\n",
    "        return self.x + self.y\n",
    "class Multiply(A):\n",
    "    def product(self):\n",
    "        return self.x * self.y\n",
    "class Divide(A):\n",
    "    def divide(self):\n",
    "        if self.y != 0:\n",
    "            return self.x / self.y\n",
    "        else:\n",
    "            return \"Division by zero is not allowed\"\n",
    "x = 10\n",
    "y = 5\n",
    "add_obj = Add(x, y)\n",
    "multiply_obj = Multiply(x, y)\n",
    "divide_obj = Divide(x, y)\n",
    "print(\"Sum:\", add_obj.sum()) \n",
    "print(\"Product:\", multiply_obj.product())  \n",
    "print(\"Division:\", divide_obj.divide()) "
   ]
  },
  {
   "cell_type": "code",
   "execution_count": 96,
   "id": "1de491f7-5e41-4b45-bbea-fef8469b5302",
   "metadata": {
    "tags": []
   },
   "outputs": [
    {
     "name": "stdout",
     "output_type": "stream",
     "text": [
      "8\n",
      "4\n"
     ]
    }
   ],
   "source": [
    "# Inheritence\n",
    "\n",
    "class Parent:\n",
    "  def find_square(self,x):\n",
    "    return x**2\n",
    "class Child(Parent):\n",
    "  def find_cube(self,x):\n",
    "    return x**3\n",
    "\n",
    "a=Child()\n",
    "print(a.find_cube(2))\n",
    "print(a.find_square(2))"
   ]
  },
  {
   "cell_type": "code",
   "execution_count": 92,
   "id": "82d73d49-5c28-4647-bdf8-ec4bfcb2f608",
   "metadata": {
    "tags": []
   },
   "outputs": [
    {
     "name": "stdout",
     "output_type": "stream",
     "text": [
      "i know bharathanattyam\n",
      "i know mohiniyattam\n",
      "i know mohiniyattam\n"
     ]
    }
   ],
   "source": [
    "class mother:\n",
    "    def dance(self):\n",
    "        print(\"i know mohiniyattam\")        \n",
    "class son(mother):\n",
    "    def dancing(self):\n",
    "        print(\"i know bharathanattyam\")\n",
    "manu=son()\n",
    "radha=mother()\n",
    "manu.dancing()\n",
    "manu.dance()\n",
    "radha.dance()"
   ]
  },
  {
   "cell_type": "code",
   "execution_count": 94,
   "id": "8b688df2-418c-4264-9016-54c288068762",
   "metadata": {
    "tags": []
   },
   "outputs": [
    {
     "name": "stdout",
     "output_type": "stream",
     "text": [
      "8\n",
      "4\n",
      "16\n"
     ]
    }
   ],
   "source": [
    "# Inheritence\n",
    "\n",
    "class parent:\n",
    "  def find_square(self,x):\n",
    "    return x**2\n",
    "  def find_dsquare(self,x):\n",
    "    return x**4\n",
    "class child(parent):\n",
    "  def find_cu(self,x):\n",
    "    return x**3\n",
    "\n",
    "a=child()\n",
    "a1=child()\n",
    "#object\n",
    "#b=parent()\n",
    "\n",
    "print(a1.find_cu(2))\n",
    "print(a1.find_square(2))\n",
    "print(a1.find_dsquare(2))"
   ]
  },
  {
   "cell_type": "code",
   "execution_count": 306,
   "id": "97ed5c67-58fe-4644-bb3c-1c9beddd2a59",
   "metadata": {
    "tags": []
   },
   "outputs": [
    {
     "name": "stdout",
     "output_type": "stream",
     "text": [
      "4\n",
      "8\n",
      "12.56\n"
     ]
    }
   ],
   "source": [
    "# Multiple inheritance---one class inherits from more than one base class\n",
    "\n",
    "class squarew:\n",
    "  def find_squarew(self,x):\n",
    "    return x**2\n",
    "  def find_doublesq(self,x):\n",
    "    return x**4\n",
    "class cubew:\n",
    "  def find_cube(self,x):\n",
    "    return x**3\n",
    "class vol(squarew,cubew):\n",
    "  def find_area(self,x):\n",
    "    return 3.14*x**2\n",
    "d=vol()\n",
    "print(d.find_squarew(2))\n",
    "print(d.find_cube(2))\n",
    "print(d.find_area(2))"
   ]
  },
  {
   "cell_type": "code",
   "execution_count": 100,
   "id": "665c9d53-0bc0-4b69-a0e5-a6b8142b5eba",
   "metadata": {
    "tags": []
   },
   "outputs": [
    {
     "name": "stdout",
     "output_type": "stream",
     "text": [
      "256\n",
      "8\n"
     ]
    }
   ],
   "source": [
    "# Multilevel\n",
    "\n",
    "class squarew:\n",
    "  def find_squarew(self,x):\n",
    "    return x**2\n",
    "  def find_doublesq(self,x):\n",
    "    return x**4\n",
    "class cubew(squarew):\n",
    "  def find_cube(self,x):\n",
    "    return x**3\n",
    "class vol(cubew):\n",
    "  def find_vol(self,x):\n",
    "    return 3.14*x**2\n",
    "d=vol()\n",
    "print(d.find_doublesq(4))\n",
    "print(d.find_cube(2))"
   ]
  },
  {
   "cell_type": "code",
   "execution_count": 102,
   "id": "0baa753d-9035-4238-a126-3458738edcd5",
   "metadata": {
    "tags": []
   },
   "outputs": [
    {
     "data": {
      "text/plain": [
       "16"
      ]
     },
     "execution_count": 102,
     "metadata": {},
     "output_type": "execute_result"
    }
   ],
   "source": [
    "# Hierarchial\n",
    "\n",
    "class squarew:\n",
    "  def find_squarew(self,x):\n",
    "    return x**2\n",
    "  def find_doublesq(self,x):\n",
    "    return x**4\n",
    "class cubew(squarew):\n",
    "  def find_cube(self,x):\n",
    "    return x**3\n",
    "class vol(squarew):\n",
    "  def find_vol(self,x):\n",
    "    return 3.14*x**2\n",
    "q1=vol()\n",
    "q2=cubew()\n",
    "q1.find_doublesq(2)\n",
    "q2.find_doublesq(2)"
   ]
  },
  {
   "cell_type": "code",
   "execution_count": 104,
   "id": "ec8bce9c-74ad-40e3-afbf-9a9686d8a9c6",
   "metadata": {
    "tags": []
   },
   "outputs": [
    {
     "name": "stdout",
     "output_type": "stream",
     "text": [
      "4\n",
      "8\n",
      "4\n",
      "12.56\n"
     ]
    }
   ],
   "source": [
    "# Hierarchial\n",
    "\n",
    "class f:\n",
    "  def find_squarew(self,x):\n",
    "    return x**2\n",
    "\n",
    "class son1(f):\n",
    "  def find_cube(self,x):\n",
    "    return x**3\n",
    "\n",
    "class son2(f):\n",
    "  def find_vol(self,x):\n",
    "    return 3.14*x**2\n",
    "\n",
    "q1=son1()\n",
    "\n",
    "print(q1.find_squarew(2))\n",
    "print(q1.find_cube(2))\n",
    "\n",
    "q2=son2()\n",
    "print(q2.find_squarew(2))\n",
    "print(q2.find_vol(2))"
   ]
  },
  {
   "cell_type": "code",
   "execution_count": 106,
   "id": "57394c1a-06ec-4afb-9c0c-9bc93eb9c5c6",
   "metadata": {},
   "outputs": [
    {
     "name": "stdout",
     "output_type": "stream",
     "text": [
      "three\n"
     ]
    }
   ],
   "source": [
    "class A:\n",
    "    def fun1(self):\n",
    "        print(\"one\")\n",
    "    def fun2(self):\n",
    "        print(\"two\")\n",
    "class B(A):\n",
    "    def fun2(self):\n",
    "        print(\"three\")\n",
    "    def fun4(self):\n",
    "        print(\"four\")\n",
    "ob=B()\n",
    "ob.fun2()"
   ]
  },
  {
   "cell_type": "markdown",
   "id": "a75ed83d-f308-4038-b227-bd6b372254db",
   "metadata": {},
   "source": [
    "Polymorphism\n",
    "1. Method overloading(python not support this,only set indirectly)\n",
    "2. Method overriding\n",
    "3. Operation overloading\n"
   ]
  },
  {
   "cell_type": "code",
   "execution_count": 320,
   "id": "3e02b7da-7237-43ca-9d60-364412f1bfde",
   "metadata": {
    "tags": []
   },
   "outputs": [
    {
     "name": "stdout",
     "output_type": "stream",
     "text": [
      "6\n"
     ]
    }
   ],
   "source": [
    "# Method Overloading\n",
    "# More than one method of the same class shares the same method name having different\n",
    "# Signatures(number,order and type of parameters)\n",
    "# Ability to define multiple function with same name but different number of argument\n",
    "# Eg-: myfn(1,2)\n",
    "#      myfn(1,2,3)\n",
    "\n",
    "class a:\n",
    "    def add_sum(self,a,b):\n",
    "        print(a+b)\n",
    "    def add_sum(self,a,b,c):\n",
    "        print(a+b+c)    \n",
    "obj=a()   \n",
    "obj.add_sum(1,2,3)    #not support"
   ]
  },
  {
   "cell_type": "code",
   "execution_count": 115,
   "id": "51c5fafb-9c53-475b-8555-9a3cae9369ab",
   "metadata": {
    "tags": []
   },
   "outputs": [
    {
     "name": "stdout",
     "output_type": "stream",
     "text": [
      "3\n",
      "6\n"
     ]
    }
   ],
   "source": [
    "class a:\n",
    "    def add_sum(self,a,b,c=None): \n",
    "        if c==None:\n",
    "            print(a+b)\n",
    "        else:    \n",
    "            print(a+b+c)\n",
    "obj=a()\n",
    "obj.add_sum(1,2)\n",
    "obj.add_sum(1,2,3)   "
   ]
  },
  {
   "cell_type": "code",
   "execution_count": 316,
   "id": "654dbd3c-652d-42e5-90d4-53e13e2f82aa",
   "metadata": {
    "tags": []
   },
   "outputs": [
    {
     "name": "stdout",
     "output_type": "stream",
     "text": [
      "hi\n"
     ]
    }
   ],
   "source": [
    "# Method Overloading \n",
    "\n",
    "class human:\n",
    "    def say(self,name):\n",
    "        print(\"hello\",name)\n",
    "    def say(self):\n",
    "        print(\"hi\")\n",
    "        \n",
    "ob=human()\n",
    "ob.say()"
   ]
  },
  {
   "cell_type": "code",
   "execution_count": 125,
   "id": "cbe7ff4b-7b57-45ed-a2fe-fc21bd25eff4",
   "metadata": {
    "tags": []
   },
   "outputs": [
    {
     "name": "stdout",
     "output_type": "stream",
     "text": [
      "hi\n",
      "hello ram\n"
     ]
    }
   ],
   "source": [
    "# Method Overloading\n",
    "\n",
    "class human:\n",
    "    def say(self,name=None):\n",
    "        if name is not None:\n",
    "            print(\"hello\",name)\n",
    "        else:\n",
    "            print(\"hi\")\n",
    "        \n",
    "ob=human()\n",
    "ob.say()\n",
    "ob.say(\"ram\")"
   ]
  },
  {
   "cell_type": "code",
   "execution_count": 332,
   "id": "9ecb398b-b0eb-4080-8805-b233565f0a36",
   "metadata": {
    "tags": []
   },
   "outputs": [
    {
     "name": "stdout",
     "output_type": "stream",
     "text": [
      "I like to eat bones\n"
     ]
    }
   ],
   "source": [
    "# Method Overriding (IT IS ALSO RELATED TO INHERITANCE)\n",
    "\n",
    "class Animal:\n",
    "    def eat(self):\n",
    "        print(\"I can eat\")\n",
    "\n",
    "# inherit from Animal\n",
    "class Dog(Animal):\n",
    "    \n",
    "    # override eat() method\n",
    "    def eat(self):\n",
    "        print(\"I like to eat bones\")\n",
    "        \n",
    "obj = Dog()\n",
    "obj.eat()"
   ]
  },
  {
   "cell_type": "code",
   "execution_count": 334,
   "id": "6dd44e28-981f-4bf0-a49e-9984c5b15b88",
   "metadata": {
    "tags": []
   },
   "outputs": [
    {
     "name": "stdout",
     "output_type": "stream",
     "text": [
      "I can eat\n",
      "I like to eat bones\n"
     ]
    }
   ],
   "source": [
    "class Animal:\n",
    "    def eat(self):\n",
    "        print(\"I can eat\")\n",
    "\n",
    "# inherit from Animal\n",
    "class Dog(Animal):\n",
    "    \n",
    "    # override eat() method\n",
    "    def eat(self):\n",
    "        \n",
    "        # call the eat() method of the superclass using super()\n",
    "        super().eat()\n",
    "        print(\"I like to eat bones\")\n",
    "\n",
    "# create an object of the subclass\n",
    "obj = Dog()\n",
    "obj.eat()              "
   ]
  },
  {
   "cell_type": "code",
   "execution_count": 336,
   "id": "e7c82c25-4aab-47a8-8eb6-92000bbe6387",
   "metadata": {
    "tags": []
   },
   "outputs": [
    {
     "name": "stdout",
     "output_type": "stream",
     "text": [
      "Penguin is ready\n",
      "Penguin\n",
      "Bird\n",
      "Swim faster\n",
      "Run faster\n"
     ]
    }
   ],
   "source": [
    "# Super\n",
    "\n",
    "class Bird:  # parent class\n",
    "    def __init__(self):\n",
    "        print(\"Bird is ready\")\n",
    "    def whoisthis(self):\n",
    "        print(\"Bird\")\n",
    "    def swim(self):\n",
    "        print(\"Swim faster\")\n",
    "\n",
    "class Penguin(Bird):  # child class\n",
    "    def __init__(self):\n",
    "        print(\"Penguin is ready\")\n",
    "    def whoisthis(self):\n",
    "        print(\"Penguin\")\n",
    "        super().whoisthis()\n",
    "    def run(self):\n",
    "        print(\"Run faster\")\n",
    "peg=Penguin()\n",
    "peg.whoisthis()\n",
    "peg.swim()\n",
    "peg.run()    "
   ]
  },
  {
   "cell_type": "code",
   "execution_count": 348,
   "id": "750b0871-9ed5-41cc-bfe6-60026f762207",
   "metadata": {
    "tags": []
   },
   "outputs": [
    {
     "name": "stdout",
     "output_type": "stream",
     "text": [
      "Inside Parent\n",
      "Inside Child\n",
      "Inside Child\n"
     ]
    }
   ],
   "source": [
    "# Method Overriding\n",
    "# not taken \n",
    "class Parent():\n",
    "    def __init__(self):\n",
    "        self.value=\"Inside Parent\"\n",
    "    def show(self):\n",
    "        print(self.value)\n",
    "class Child(Parent):\n",
    "    def __init__(self):\n",
    "        self.value=\"Inside Child\"        \n",
    "    def show(self):\n",
    "        super().show()\n",
    "        print(self.value)\n",
    "        \n",
    "obj1=Parent()\n",
    "obj2=Child()\n",
    "obj1.show()\n",
    "obj2.show()"
   ]
  },
  {
   "cell_type": "code",
   "execution_count": 354,
   "id": "f19cafcc-befa-4881-b163-689fa2d3491f",
   "metadata": {},
   "outputs": [
    {
     "name": "stdout",
     "output_type": "stream",
     "text": [
      "function 4\n",
      "function 2\n"
     ]
    }
   ],
   "source": [
    "# Method Overriding\n",
    "\n",
    "class A:\n",
    "    def fun1(self):\n",
    "        print(\"function 1\")\n",
    "    def fun(self):\n",
    "        print(\"function 2\")\n",
    "class B(A):\n",
    "    def fun3(self):\n",
    "        print(\"function 3\")\n",
    "    def fun(self):\n",
    "        print(\"function 4\")\n",
    "        super().fun()\n",
    "obj=B()\n",
    "obj.fun()"
   ]
  },
  {
   "cell_type": "code",
   "execution_count": 137,
   "id": "c2a8440b-a4d8-4e33-866c-1ba462f03646",
   "metadata": {
    "tags": []
   },
   "outputs": [
    {
     "name": "stdout",
     "output_type": "stream",
     "text": [
      "12\n"
     ]
    }
   ],
   "source": [
    "def add(x,y):\n",
    "    z=x+y  \n",
    "    print(z)\n",
    "add(\"1\",\"2\")     "
   ]
  },
  {
   "cell_type": "code",
   "execution_count": 358,
   "id": "d9ff2170-c6b8-43eb-9965-4af37b2864c2",
   "metadata": {
    "tags": []
   },
   "outputs": [
    {
     "name": "stdout",
     "output_type": "stream",
     "text": [
      "5\n",
      "GeeksFor\n"
     ]
    }
   ],
   "source": [
    "# Operator Overloading\n",
    "\n",
    "print(3+2)                   # int.__add__(3,2)       # addition\n",
    "print(\"Geeks\"+\"For\")        # concatenation"
   ]
  },
  {
   "cell_type": "code",
   "execution_count": 356,
   "id": "fedf4004-551b-4ba9-bb52-e968016ac730",
   "metadata": {},
   "outputs": [
    {
     "name": "stdout",
     "output_type": "stream",
     "text": [
      "20\n",
      "GeeksGeeksGeeksGeeks\n"
     ]
    }
   ],
   "source": [
    "print(5*4)                  #int.__mul__(5,4)         # product\n",
    "print(\"Geeks\"*4)            # repitition"
   ]
  },
  {
   "cell_type": "code",
   "execution_count": 362,
   "id": "af9d98f7-fb87-438f-b446-db2e98492381",
   "metadata": {
    "tags": []
   },
   "outputs": [
    {
     "name": "stdout",
     "output_type": "stream",
     "text": [
      "6\n",
      "GeeksFor\n",
      " \n"
     ]
    }
   ],
   "source": [
    "class A:\n",
    "    def __init__(self,a):\n",
    "        self.a=a\n",
    "    def __add__(self,o):             #constructors are special methods to run automaticaly(use this for with double under score)\n",
    "        return self.a + o.a\n",
    "ob1=A(2)\n",
    "ob2=A(4)\n",
    "ob3=A(\"Geeks\")\n",
    "ob4=A(\"For\")\n",
    "print(ob1+ob2)\n",
    "print(ob3+ob4)\n",
    "print(\" \")"
   ]
  },
  {
   "cell_type": "code",
   "execution_count": 368,
   "id": "17c1ede8-e937-469e-990a-a3c097072ff5",
   "metadata": {
    "tags": []
   },
   "outputs": [
    {
     "name": "stdout",
     "output_type": "stream",
     "text": [
      "290000\n"
     ]
    }
   ],
   "source": [
    "class product:\n",
    "    def __init__(self,name,price):\n",
    "        self.name=name\n",
    "        self.price=price\n",
    "    def __add__(self, other):              # Overloading the + operator\n",
    "        return self.price+other.price\n",
    "        \n",
    "        \n",
    "p1=product(\"iphone\",100000)\n",
    "p2=product(\"laptop\",190000)\n",
    "print(p1+p2)"
   ]
  },
  {
   "cell_type": "code",
   "execution_count": 376,
   "id": "74ecd43a-69a5-4c9d-98cc-0fa8536f78fe",
   "metadata": {},
   "outputs": [
    {
     "name": "stdout",
     "output_type": "stream",
     "text": [
      "Product: Apple & Banana, Price: 220\n"
     ]
    }
   ],
   "source": [
    "class product:\n",
    "    def __init__(self, name, price):\n",
    "        self.name = name\n",
    "        self.price = price\n",
    "\n",
    "    def __add__(self, other):\n",
    "        new_name = self.name + \" & \" + other.name  # Merge product names\n",
    "        new_price = self.price + other.price  # Add prices\n",
    "        return product(new_name, new_price)  # Return a new product object\n",
    "\n",
    "    def __str__(self):  # Define how the object is printed\n",
    "        return f\"Product: {self.name}, Price: {self.price}\"\n",
    "\n",
    "p1 = product(\"Apple\", 120)\n",
    "p2 = product(\"Banana\", 100)\n",
    "\n",
    "p3 = p1 + p2  # New product object\n",
    "print(p3) "
   ]
  },
  {
   "cell_type": "code",
   "execution_count": 159,
   "id": "26d089f9-463c-4041-b827-a8d97a56ae41",
   "metadata": {},
   "outputs": [
    {
     "name": "stdout",
     "output_type": "stream",
     "text": [
      "total is 220\n"
     ]
    }
   ],
   "source": [
    "class product:\n",
    "    def __init__(self,name,price):\n",
    "        self.name=name\n",
    "        self.price =price\n",
    "    def __add__(self,other):\n",
    "        total=self.price+other.price\n",
    "        print(\"total is\",total)\n",
    "p1=product(\"apple\",120)\n",
    "p2=product(\"banana\",100)\n",
    "p1+p2"
   ]
  },
  {
   "cell_type": "code",
   "execution_count": 151,
   "id": "a0c2825d-b7ef-40f9-a388-202fc687a0a3",
   "metadata": {},
   "outputs": [
    {
     "name": "stdout",
     "output_type": "stream",
     "text": [
      "Area of Rectangle: 20\n",
      "Area of Circle: 28.259999999999998\n",
      "Area of Triangle: 6.0\n"
     ]
    }
   ],
   "source": [
    "# You are tasked with creating a program that calculates the area of different shapes using polymorphism. Define a base class Shape and derive three subclasses: Rectangle, Circle, and Triangle. Each subclass should override a method area() from the base class to compute the area of the respective shape.\n",
    "# Implement the classes.\n",
    "# Create instances of each subclass and compute their areas.\n",
    "# For Rectangle: Formula is length × breadth\n",
    "# For Circle: Formula is π × radius²\n",
    "# For Triangle: Formula is 0.5 × base × height\n",
    "\n",
    "# Base class\n",
    "class Shape:\n",
    "    def area(self):\n",
    "        pass  # A method to be overridden in subclasses\n",
    "\n",
    "# Rectangle class\n",
    "class Rectangle(Shape):\n",
    "    def __init__(self, length, width):\n",
    "        self.length = length\n",
    "        self.width = width\n",
    "    def area(self):\n",
    "        return self.length * self.width\n",
    "\n",
    "# Circle class\n",
    "class Circle(Shape):\n",
    "    def __init__(self, radius):\n",
    "        self.radius = radius\n",
    "    def area(self):\n",
    "        return 3.14 * self.radius * self.radius\n",
    "\n",
    "# Triangle class\n",
    "class Triangle(Shape):\n",
    "    def __init__(self, base, height):\n",
    "        self.base = base\n",
    "        self.height = height\n",
    "    def area(self):\n",
    "        return 0.5 * self.base * self.height\n",
    "\n",
    "# Using polymorphism\n",
    "shapes = [\n",
    "    Rectangle(4, 5),  # Rectangle with length 4 and width 5\n",
    "    Circle(3),        # Circle with radius 3\n",
    "    Triangle(6, 2)    # Triangle with base 6 and height 2\n",
    "]\n",
    "\n",
    "for shape in shapes:\n",
    "    print(f\"Area of {shape.__class__.__name__}: {shape.area()}\")"
   ]
  },
  {
   "cell_type": "code",
   "execution_count": null,
   "id": "68122108-1236-46e7-8a63-b8b0cee29fde",
   "metadata": {},
   "outputs": [],
   "source": []
  },
  {
   "cell_type": "code",
   "execution_count": 380,
   "id": "88b4d85d-08ce-4815-9fd4-c82b92881b44",
   "metadata": {},
   "outputs": [
    {
     "name": "stdout",
     "output_type": "stream",
     "text": [
      "['__add__', '__class__', '__contains__', '__delattr__', '__dir__', '__doc__', '__eq__', '__format__', '__ge__', '__getattribute__', '__getitem__', '__getnewargs__', '__getstate__', '__gt__', '__hash__', '__init__', '__init_subclass__', '__iter__', '__le__', '__len__', '__lt__', '__mod__', '__mul__', '__ne__', '__new__', '__reduce__', '__reduce_ex__', '__repr__', '__rmod__', '__rmul__', '__setattr__', '__sizeof__', '__str__', '__subclasshook__', 'capitalize', 'casefold', 'center', 'count', 'encode', 'endswith', 'expandtabs', 'find', 'format', 'format_map', 'index', 'isalnum', 'isalpha', 'isascii', 'isdecimal', 'isdigit', 'isidentifier', 'islower', 'isnumeric', 'isprintable', 'isspace', 'istitle', 'isupper', 'join', 'ljust', 'lower', 'lstrip', 'maketrans', 'partition', 'removeprefix', 'removesuffix', 'replace', 'rfind', 'rindex', 'rjust', 'rpartition', 'rsplit', 'rstrip', 'split', 'splitlines', 'startswith', 'strip', 'swapcase', 'title', 'translate', 'upper', 'zfill']\n"
     ]
    }
   ],
   "source": [
    "print (dir(str))"
   ]
  },
  {
   "cell_type": "code",
   "execution_count": 378,
   "id": "a982215f-653a-4662-b4ae-3af1f9a7dfde",
   "metadata": {},
   "outputs": [
    {
     "data": {
      "text/plain": [
       "['__add__',\n",
       " '__class__',\n",
       " '__contains__',\n",
       " '__delattr__',\n",
       " '__dir__',\n",
       " '__doc__',\n",
       " '__eq__',\n",
       " '__format__',\n",
       " '__ge__',\n",
       " '__getattribute__',\n",
       " '__getitem__',\n",
       " '__getnewargs__',\n",
       " '__getstate__',\n",
       " '__gt__',\n",
       " '__hash__',\n",
       " '__init__',\n",
       " '__init_subclass__',\n",
       " '__iter__',\n",
       " '__le__',\n",
       " '__len__',\n",
       " '__lt__',\n",
       " '__mod__',\n",
       " '__mul__',\n",
       " '__ne__',\n",
       " '__new__',\n",
       " '__reduce__',\n",
       " '__reduce_ex__',\n",
       " '__repr__',\n",
       " '__rmod__',\n",
       " '__rmul__',\n",
       " '__setattr__',\n",
       " '__sizeof__',\n",
       " '__str__',\n",
       " '__subclasshook__',\n",
       " 'capitalize',\n",
       " 'casefold',\n",
       " 'center',\n",
       " 'count',\n",
       " 'encode',\n",
       " 'endswith',\n",
       " 'expandtabs',\n",
       " 'find',\n",
       " 'format',\n",
       " 'format_map',\n",
       " 'index',\n",
       " 'isalnum',\n",
       " 'isalpha',\n",
       " 'isascii',\n",
       " 'isdecimal',\n",
       " 'isdigit',\n",
       " 'isidentifier',\n",
       " 'islower',\n",
       " 'isnumeric',\n",
       " 'isprintable',\n",
       " 'isspace',\n",
       " 'istitle',\n",
       " 'isupper',\n",
       " 'join',\n",
       " 'ljust',\n",
       " 'lower',\n",
       " 'lstrip',\n",
       " 'maketrans',\n",
       " 'partition',\n",
       " 'removeprefix',\n",
       " 'removesuffix',\n",
       " 'replace',\n",
       " 'rfind',\n",
       " 'rindex',\n",
       " 'rjust',\n",
       " 'rpartition',\n",
       " 'rsplit',\n",
       " 'rstrip',\n",
       " 'split',\n",
       " 'splitlines',\n",
       " 'startswith',\n",
       " 'strip',\n",
       " 'swapcase',\n",
       " 'title',\n",
       " 'translate',\n",
       " 'upper',\n",
       " 'zfill']"
      ]
     },
     "execution_count": 378,
     "metadata": {},
     "output_type": "execute_result"
    }
   ],
   "source": [
    "dir(str)"
   ]
  },
  {
   "cell_type": "code",
   "execution_count": 161,
   "id": "f31d9f05-7347-48c5-be97-25f67f7ebe6a",
   "metadata": {},
   "outputs": [
    {
     "name": "stdout",
     "output_type": "stream",
     "text": [
      "Parrot can fly\n",
      "Penguin can't fly\n",
      "Parrot can't swim\n",
      "Penguin can swim\n"
     ]
    }
   ],
   "source": [
    "# Polymorphism\n",
    "class Parrot:\n",
    "    def fly(self):\n",
    "        print(\"Parrot can fly\")\n",
    "    def swim(self):\n",
    "        print(\"Parrot can't swim\")\n",
    "\n",
    "class Penguin:\n",
    "    def fly(self):\n",
    "        print(\"Penguin can't fly\")\n",
    "    def swim(self):\n",
    "        print(\"Penguin can swim\")\n",
    "\n",
    "def flying_test(Bird):  # creating a common interface\n",
    "    Bird.fly()\n",
    "def swimming_test(Bird):\n",
    "    Bird.swim()\n",
    "\n",
    "blu = Parrot()\n",
    "peg = Penguin()\n",
    "flying_test(blu)\n",
    "flying_test(peg)\n",
    "swimming_test(blu)\n",
    "swimming_test(peg)"
   ]
  },
  {
   "cell_type": "code",
   "execution_count": 163,
   "id": "024a7a28-3e17-4370-a4b2-a4c10068959d",
   "metadata": {},
   "outputs": [
    {
     "name": "stdout",
     "output_type": "stream",
     "text": [
      "Selling price: 900\n",
      "Selling price: 900\n",
      "Selling price: 1000\n"
     ]
    }
   ],
   "source": [
    "# Encapsulation\n",
    "class Computer:\n",
    "    def __init__(self):\n",
    "        self.__maxprice=900  #protected variable           \n",
    "    def sell(self):\n",
    "        print(\"Selling price:\",self.__maxprice)\n",
    "    def setmaxprice(self,price):\n",
    "        self.__maxprice=price\n",
    "\n",
    "c=Computer()\n",
    "c.sell()\n",
    "c.__maxprice=1000                      # value does not change\n",
    "c.sell()\n",
    "c.setmaxprice(1000)                    # using setter function\n",
    "c.sell()"
   ]
  },
  {
   "cell_type": "markdown",
   "id": "4ab8a09b-319c-4cc5-86f2-6024371ef3f3",
   "metadata": {},
   "source": [
    "Access modifier determine the visibility of class members (variable,methods) from outside the class and within the class itself\n",
    "\n",
    "1. public\n",
    "2. private\n",
    "3. protected"
   ]
  },
  {
   "cell_type": "code",
   "execution_count": 408,
   "id": "fac28d4f-11d7-44f4-9e3c-2d584277c3fa",
   "metadata": {
    "tags": []
   },
   "outputs": [
    {
     "name": "stdout",
     "output_type": "stream",
     "text": [
      "ram 's class is class A\n",
      "ram\n"
     ]
    }
   ],
   "source": [
    "#1.public\n",
    "\n",
    "class A:\n",
    "    def __init__(self,name):\n",
    "        self.name=name            #PUBLIC DATA MEMBER\n",
    "    def display(self):\n",
    "        print(self.name,\"'s class is class A\")\n",
    "ob=A(\"ram\")\n",
    "ob.display()\n",
    "print(ob.name)                    # we can acess method and data outside the class"
   ]
  },
  {
   "cell_type": "code",
   "execution_count": 390,
   "id": "f924519c-cf94-4c64-84d0-660043770857",
   "metadata": {
    "tags": []
   },
   "outputs": [
    {
     "name": "stdout",
     "output_type": "stream",
     "text": [
      "ram\n",
      "i am class A\n"
     ]
    }
   ],
   "source": [
    "#2.private\n",
    "\n",
    "class A:\n",
    "    def __init__(self,name):\n",
    "        self.__name=name         #Private DATA MEMBER\n",
    "    def __display(self):         #Private METHOD\n",
    "        print(self.__name)\n",
    "        print(\"i am class A\")\n",
    "    def display2(self):\n",
    "        self.__display()    \n",
    "ob=A(\"ram\")\n",
    "ob.display2()"
   ]
  },
  {
   "cell_type": "code",
   "execution_count": 178,
   "id": "8cd4679d-9859-4eb9-b2c1-f21b93b86cb0",
   "metadata": {
    "tags": []
   },
   "outputs": [
    {
     "data": {
      "text/plain": [
       "'ram'"
      ]
     },
     "execution_count": 178,
     "metadata": {},
     "output_type": "execute_result"
    }
   ],
   "source": [
    "#2.private(how to access private data member to outside\n",
    "\n",
    "class A:\n",
    "    def __init__(self,name):\n",
    "        self.__name=name\n",
    "    def get_name(self):\n",
    "        return self.__name\n",
    "ob=A(\"ram\")\n",
    "ob.get_name()"
   ]
  },
  {
   "cell_type": "code",
   "execution_count": 27,
   "id": "88ad40a3-9742-455a-9525-83b360a9799c",
   "metadata": {
    "tags": []
   },
   "outputs": [
    {
     "data": {
      "text/plain": [
       "'raju'"
      ]
     },
     "execution_count": 27,
     "metadata": {},
     "output_type": "execute_result"
    }
   ],
   "source": [
    "class A:\n",
    "    def __init__(self,name):\n",
    "        self.__name=name\n",
    "    def get_name(self):\n",
    "        return self.__name\n",
    "    def set_name(self,new_name):\n",
    "        self.__name=new_name\n",
    "ob=A(\"ram\")\n",
    "ob.get_name()\n",
    "ob.set_name(\"raju\")\n",
    "ob.get_name()"
   ]
  },
  {
   "cell_type": "code",
   "execution_count": 404,
   "id": "27dca1f7-6b56-454d-8712-ae01b228aead",
   "metadata": {
    "tags": []
   },
   "outputs": [
    {
     "name": "stdout",
     "output_type": "stream",
     "text": [
      "david\n"
     ]
    }
   ],
   "source": [
    "# name mangling\n",
    "\n",
    "class A:\n",
    "    def __init__(self,name):\n",
    "        self.__name=name\n",
    "ob=A(\"david\")\n",
    "print(ob._A__name)"
   ]
  },
  {
   "cell_type": "code",
   "execution_count": 400,
   "id": "2a7eb7b7-cbb7-40ad-9a5f-0b052d93b421",
   "metadata": {
    "tags": []
   },
   "outputs": [
    {
     "name": "stdout",
     "output_type": "stream",
     "text": [
      "DAVID\n"
     ]
    }
   ],
   "source": [
    "#3.protected\n",
    "\n",
    "class A:\n",
    "    def __init__(self,name):\n",
    "        self._name=name              #Protected DATA MEMBER\n",
    "    def display(self):               #Protected METHOD\n",
    "        print(self._name,\"'s class is class A\")\n",
    "class B(A):\n",
    "    def displayB(self):\n",
    "        print(self._name)\n",
    "        #self._display()\n",
    "    \n",
    "ob=B(\"DAVID\")\n",
    "ob.displayB()"
   ]
  },
  {
   "cell_type": "code",
   "execution_count": null,
   "id": "c95e5fa1-5c39-4b87-a750-ce4c12a0e83d",
   "metadata": {},
   "outputs": [],
   "source": []
  },
  {
   "cell_type": "code",
   "execution_count": 186,
   "id": "5b26bfab-776c-42cb-a3cc-8d167ad3af55",
   "metadata": {},
   "outputs": [
    {
     "name": "stdout",
     "output_type": "stream",
     "text": [
      "Account Holder: Alice, Balance: 1000\n",
      "1500\n",
      "Account Holder: Alice, Balance: 1200\n"
     ]
    }
   ],
   "source": [
    "class BankAccount:\n",
    "    def __init__(self, account_holder, initial_balance):\n",
    "        self.__account_holder = account_holder  # Private attribute\n",
    "        self.__balance = initial_balance  # Private attribute\n",
    "\n",
    "    # Getter method for balance\n",
    "    def get_balance(self):\n",
    "        return self.__balance\n",
    "\n",
    "    # Setter method for balance\n",
    "    def deposit(self, amount):\n",
    "        if amount > 0:\n",
    "            self.__balance += amount\n",
    "        else:\n",
    "            print(\"Deposit amount must be positive!\")\n",
    "\n",
    "    def withdraw(self, amount):\n",
    "        if amount > 0 and amount <= self.__balance:\n",
    "            self.__balance -= amount\n",
    "        else:\n",
    "            print(\"Invalid withdrawal amount!\")\n",
    "\n",
    "    # Method to show account details\n",
    "    def account_details(self):\n",
    "        return f\"Account Holder: {self.__account_holder}, Balance: {self.__balance}\"\n",
    "\n",
    "# Usage\n",
    "account = BankAccount(\"Alice\", 1000)\n",
    "print(account.account_details())  # Accesses details through a public method\n",
    "\n",
    "account.deposit(500)  # Deposits amount using setter method\n",
    "print(account.get_balance())  # Gets balance using getter method\n",
    "\n",
    "account.withdraw(300)  # Withdraws using setter method\n",
    "print(account.account_details())\n",
    "\n",
    "# Direct access to __balance is not allowed:\n",
    "# print(account.__balance)  # AttributeError"
   ]
  },
  {
   "cell_type": "code",
   "execution_count": 35,
   "id": "f21193be-845c-4cc1-8fab-a6187a4187bb",
   "metadata": {
    "tags": []
   },
   "outputs": [
    {
     "name": "stdout",
     "output_type": "stream",
     "text": [
      "DAVID\n",
      "i am class A\n"
     ]
    }
   ],
   "source": [
    "print(ob._name)\n",
    "ob._display()  #it not encorrage(not taken outside for modification,only use the inher"
   ]
  },
  {
   "cell_type": "code",
   "execution_count": 414,
   "id": "59643dd7-8b1d-48ef-9515-384868066d3e",
   "metadata": {
    "tags": []
   },
   "outputs": [
    {
     "name": "stdout",
     "output_type": "stream",
     "text": [
      "2+3j\n",
      "5+0j\n",
      "(5, 0, 10)\n",
      "12.120000000000005\n",
      "\n",
      "\n"
     ]
    }
   ],
   "source": [
    "# Constructor\n",
    "\n",
    "class Complexnumber:\n",
    "    def __init__(self,r=0,i=0):                     # constructor\n",
    "        self.real=r\n",
    "        self.img=i\n",
    "    def getData(self):\n",
    "        print(\"{0}+{1}j\".format(self.real,self.img))\n",
    "c1=Complexnumber(2,3)\n",
    "c1.getData()\n",
    "c2=Complexnumber(5)\n",
    "c2.attr=10\n",
    "c2.getData()\n",
    "print((c2.real,c2.img,c2.attr))\n",
    "\n",
    "class compoundinterest:\n",
    "    def __init__(self,p=0,r=0,i=0):\n",
    "        self.principal=p\n",
    "        self.rateofinterest=r\n",
    "        self.noyears=i\n",
    "    def getData(self):\n",
    "        c=(self.principal*(1+self.rateofinterest/100)**self.noyears)-self.principal\n",
    "        print(c)\n",
    "c=compoundinterest(300,2,2)\n",
    "c.getData()\n",
    "print(\"\\n\")"
   ]
  },
  {
   "cell_type": "code",
   "execution_count": 41,
   "id": "4f8e8e97-3359-489e-9111-b27e1d80e8bb",
   "metadata": {},
   "outputs": [
    {
     "name": "stdout",
     "output_type": "stream",
     "text": [
      "this is da class\n",
      "rag is good student\n",
      "rag 's pesentation about python is good\n"
     ]
    }
   ],
   "source": [
    "class july8:\n",
    "    def __init__(self):\n",
    "        print(\"this is da class\")\n",
    "    def  study(self,name):\n",
    "        self.name=name\n",
    "        print(name,\"is good student\")\n",
    "    def presentation(self,topic):\n",
    "        print(self.name,\"'s pesentation about\",topic,\"is good\")\n",
    "    \n",
    "stu=july8()\n",
    "stu.study(\"rag\")\n",
    "stu.presentation(\"python\")"
   ]
  },
  {
   "cell_type": "code",
   "execution_count": 192,
   "id": "074ae757-b349-4d2a-9909-5267f03433ae",
   "metadata": {
    "tags": []
   },
   "outputs": [
    {
     "name": "stdout",
     "output_type": "stream",
     "text": [
      "classical\n",
      "mohiniyattam\n"
     ]
    }
   ],
   "source": [
    "class father:\n",
    "    def dance(self):\n",
    "        print(\"classical\")\n",
    "class son(father):\n",
    "    def dance(self):\n",
    "        super().dance()\n",
    "        print(\"mohiniyattam\")\n",
    "ramu=son()\n",
    "ramu.dance()"
   ]
  },
  {
   "cell_type": "code",
   "execution_count": 11,
   "id": "4be83c19-1fab-48de-b55e-aa1a8aa33689",
   "metadata": {},
   "outputs": [
    {
     "name": "stdout",
     "output_type": "stream",
     "text": [
      "3\n",
      "1 2\n",
      "3\n"
     ]
    }
   ],
   "source": [
    "class car:\n",
    "    def __init__(self):\n",
    "        self.a = 1  # public\n",
    "        self._b = 2  # protected\n",
    "        self.__c = 3  # private\n",
    "\n",
    "    def display(self):\n",
    "        print(self.__c)  # Accessing the private variable within the class\n",
    "\n",
    "j = car()\n",
    "j.display()  # This will print the private variable __c\n",
    "print(j.a, j._b)  # This will print the public and protected variables\n",
    "\n",
    "# Accessing the private variable (for demonstration purposes only)\n",
    "print(j._car__c)"
   ]
  },
  {
   "cell_type": "code",
   "execution_count": 420,
   "id": "a927a72a-11bd-4f37-92b2-cd53da1f2a6d",
   "metadata": {
    "tags": []
   },
   "outputs": [
    {
     "name": "stdout",
     "output_type": "stream",
     "text": [
      "1\n"
     ]
    }
   ],
   "source": [
    "class car:\n",
    "    def __init__(self):\n",
    "        self.a=1              #public variable\n",
    "j=car()\n",
    "print(j.a)"
   ]
  },
  {
   "cell_type": "code",
   "execution_count": 424,
   "id": "d380661d-8b77-413c-8c8e-e608a2187877",
   "metadata": {
    "tags": []
   },
   "outputs": [
    {
     "name": "stdout",
     "output_type": "stream",
     "text": [
      "2\n"
     ]
    }
   ],
   "source": [
    "class car:\n",
    "    def __init__(self):\n",
    "        self._a=2             #protected\n",
    "j=car()\n",
    "print(j._a)"
   ]
  },
  {
   "cell_type": "code",
   "execution_count": 426,
   "id": "e2b165c5-2f36-4595-95c0-c976d48d9efa",
   "metadata": {
    "tags": []
   },
   "outputs": [
    {
     "name": "stdout",
     "output_type": "stream",
     "text": [
      "2\n",
      "2\n"
     ]
    }
   ],
   "source": [
    "class car:\n",
    "    def __init__(self):\n",
    "        self.__a=2             #private\n",
    "    def breaking(self):\n",
    "        print(self.__a)\n",
    "j=car()\n",
    "j.breaking()\n",
    "print(j._car__a)     #name mangling: not suggested"
   ]
  },
  {
   "cell_type": "code",
   "execution_count": 1,
   "id": "3a49b573-932d-4970-ba4a-b0e75da433b3",
   "metadata": {
    "tags": []
   },
   "outputs": [
    {
     "name": "stdout",
     "output_type": "stream",
     "text": [
      "automatic\n",
      "manually\n"
     ]
    }
   ],
   "source": [
    "class Vehicle(): \n",
    "    def breaking(self):\n",
    "        print(\"breaking\")\n",
    "    def gear(self):\n",
    "        pass\n",
    "class Car(Vehicle):\n",
    "    def gear(self):\n",
    "        print(\"automatic\")\n",
    "class Truck(Vehicle):\n",
    "    def gear(self):\n",
    "        print(\"manually\")\n",
    "\n",
    "alto=Car()\n",
    "alto.gear()\n",
    "t=Truck()\n",
    "t.gear()"
   ]
  },
  {
   "cell_type": "code",
   "execution_count": 434,
   "id": "af1e3fc6-f114-4306-b889-4ea46388af93",
   "metadata": {},
   "outputs": [
    {
     "name": "stdout",
     "output_type": "stream",
     "text": [
      "automatic\n",
      "breaking\n",
      "manually\n",
      "breaking\n"
     ]
    }
   ],
   "source": [
    "# Data abstraction:Abstraction is used to hide the internal functionality of the function.\n",
    "# An abstraction is used to hide the irrelevant data/class in order to reduce thecomplexity\n",
    "\n",
    "from abc import ABC,abstractmethod\n",
    "class Vehicle(ABC): #abstract base class\n",
    "    @abstractmethod\n",
    "    def gear(self):\n",
    "        pass\n",
    "    def breaking(self):\n",
    "        print(\"breaking\")\n",
    "class Car(Vehicle):\n",
    "    def gear(self):\n",
    "        print(\"automatic\")\n",
    "class Truck(Vehicle):\n",
    "     def gear(self):\n",
    "        print(\"manually\")\n",
    "        \n",
    "c=Car()\n",
    "t=Truck()\n",
    "c.gear()\n",
    "c.breaking()\n",
    "t.gear()\n",
    "t.breaking()"
   ]
  },
  {
   "cell_type": "code",
   "execution_count": 440,
   "id": "b4ab9ed4-f420-4ca5-b955-22ec7c523f01",
   "metadata": {},
   "outputs": [
    {
     "name": "stdout",
     "output_type": "stream",
     "text": [
      "breaking\n"
     ]
    }
   ],
   "source": [
    "# Method overriding\n",
    "\n",
    "class Vehicle(): \n",
    "    def gear(self):\n",
    "        pass\n",
    "    def breaking(self):\n",
    "        print(\"breaking\")\n",
    "class Car(Vehicle):\n",
    "    pass\n",
    "    \n",
    "ch=Car()\n",
    "ch.gear()\n",
    "ch.breaking()"
   ]
  },
  {
   "cell_type": "code",
   "execution_count": 442,
   "id": "89e5d91c-7a16-42a0-b3c4-cd0a0e78c07b",
   "metadata": {},
   "outputs": [
    {
     "name": "stdout",
     "output_type": "stream",
     "text": [
      "6\n"
     ]
    }
   ],
   "source": [
    "# Operator overloading\n",
    "class Product:\n",
    "    def __init__(self,a):\n",
    "        self.a=a\n",
    "    def __add__(self,other):\n",
    "        final=self.a+other.a\n",
    "        print(final)\n",
    "p1=Product(2)\n",
    "p2=Product(4)\n",
    "p1+p2     #Product.__add__(p1,p2),   p1.__add__(p2)t"
   ]
  },
  {
   "cell_type": "code",
   "execution_count": 27,
   "id": "203394aa-38ec-40e0-9853-716a03cde225",
   "metadata": {},
   "outputs": [
    {
     "name": "stdout",
     "output_type": "stream",
     "text": [
      "safna 123\n",
      "Hai\n",
      "School name Techolas\n"
     ]
    }
   ],
   "source": [
    "class student:\n",
    "    school = \"Techolas\"\n",
    "    def __init__(self,id,name):\n",
    "        self.id = id\n",
    "        self.name = name\n",
    "    def displaydetails(self):\n",
    "        print(self.name,self.id)\n",
    "    @classmethod\n",
    "    def getschoolname(cls):\n",
    "        print(\"School name\",cls.school)\n",
    "    @staticmethod\n",
    "    def myfn():\n",
    "        print(\"Hai\")\n",
    "s=student(123,\"safna\")\n",
    "s.displaydetails()\n",
    "student.myfn()\n",
    "s.getschoolname()"
   ]
  },
  {
   "cell_type": "code",
   "execution_count": 25,
   "id": "4962d5ff-5fe9-4b61-bb96-860b0d2fa2a4",
   "metadata": {},
   "outputs": [
    {
     "name": "stdout",
     "output_type": "stream",
     "text": [
      "1 safna engineer 20000\n",
      "Company name Meta\n",
      "Welcome\n"
     ]
    }
   ],
   "source": [
    "class employee:\n",
    "    company = \"Meta\"\n",
    "    def __init__(self,id,name,designation,salary):\n",
    "        self.id = id\n",
    "        self.name = name\n",
    "        self.designation = designation\n",
    "        self.salary = salary\n",
    "    def details(self):\n",
    "        print(self.id,self.name,self.designation,self.salary)\n",
    "    @classmethod\n",
    "    def companyname(c):\n",
    "        print (\"Company name\",c.company)\n",
    "    @staticmethod\n",
    "    def fn():\n",
    "        print (\"Welcome\")\n",
    "a=employee(1,\"safna\",\"engineer\",20000)\n",
    "a.details()\n",
    "a.companyname()\n",
    "employee.fn()"
   ]
  },
  {
   "cell_type": "code",
   "execution_count": 33,
   "id": "cd47bacf-9f6f-4bf0-8756-109d299ac68d",
   "metadata": {},
   "outputs": [
    {
     "name": "stdin",
     "output_type": "stream",
     "text": [
      "Enter the radius of the circle:  4\n"
     ]
    },
    {
     "name": "stdout",
     "output_type": "stream",
     "text": [
      "Area of the circle: 50.24\n",
      "Perimeter of the circle: 25.12\n"
     ]
    }
   ],
   "source": [
    "class circle:\n",
    "    def __init__(self, radius):\n",
    "        self.radius = radius\n",
    "    def area(self):\n",
    "        return 3.14 * self.radius ** 2\n",
    "    def perimeter(self):\n",
    "        return 2 * 3.14 * self.radius\n",
    "radius = float(input(\"Enter the radius of the circle: \"))\n",
    "circle = circle(radius)    \n",
    "print(\"Area of the circle:\",circle.area())\n",
    "print(\"Perimeter of the circle:\",circle.perimeter())"
   ]
  },
  {
   "cell_type": "code",
   "execution_count": 55,
   "id": "821642d3-797f-4e19-85ae-d3b2d095e893",
   "metadata": {},
   "outputs": [
    {
     "name": "stdin",
     "output_type": "stream",
     "text": [
      "Enter value of a: 10\n",
      "Enter value of b: 5\n"
     ]
    },
    {
     "name": "stdout",
     "output_type": "stream",
     "text": [
      "15\n",
      "5\n",
      "50\n",
      "2.0\n"
     ]
    }
   ],
   "source": [
    "class calculator:\n",
    "    def add(self,a,b):\n",
    "        return a + b\n",
    "    def subtract(self,a,b):\n",
    "        return a - b  \n",
    "    def multiply(self,a,b):\n",
    "        return a * b\n",
    "    def divide(self,a,b):\n",
    "        return a / b\n",
    "calc=calculator()\n",
    "x = int(input(\"Enter value of a:\"))\n",
    "y = int(input(\"Enter value of b:\"))\n",
    "print(calc.add(x,y))\n",
    "print(calc.subtract(x,y))\n",
    "print(calc.multiply(x,y))\n",
    "print(calc.divide(x,y)) "
   ]
  },
  {
   "cell_type": "code",
   "execution_count": 63,
   "id": "b9c05da3-75ad-4327-9c1c-e67f45072cf3",
   "metadata": {},
   "outputs": [
    {
     "name": "stdin",
     "output_type": "stream",
     "text": [
      "Enter your name:  safna\n",
      "Enter your country:  uk\n",
      "Enter your date of birth (YYYY-MM-DD):  1999-07-07\n"
     ]
    },
    {
     "name": "stdout",
     "output_type": "stream",
     "text": [
      "Name: safna\n",
      "Country: uk\n",
      "Age: 25 years old\n"
     ]
    }
   ],
   "source": [
    "from datetime import datetime\n",
    "class Person:\n",
    "    def __init__(self, name, country, dob):\n",
    "        self.name = name\n",
    "        self.country = country\n",
    "        self.dob = datetime.strptime(dob, '%Y-%m-%d')\n",
    "    def calculate_age(self):\n",
    "        today = datetime.today()\n",
    "        age = today.year - self.dob.year\n",
    "        if (today.month, today.day) < (self.dob.month, self.dob.day):\n",
    "            age -= 1\n",
    "        return age\n",
    "name = input(\"Enter your name: \")\n",
    "country = input(\"Enter your country: \")\n",
    "dob = input(\"Enter your date of birth (YYYY-MM-DD): \")\n",
    "person = Person(name, country, dob)\n",
    "print(f\"Name: {person.name}\")\n",
    "print(f\"Country: {person.country}\")\n",
    "print(f\"Age: {person.calculate_age()} years old\")"
   ]
  },
  {
   "cell_type": "code",
   "execution_count": 65,
   "id": "60e4a268-9652-4492-ade1-7b399944cc6e",
   "metadata": {},
   "outputs": [
    {
     "name": "stdin",
     "output_type": "stream",
     "text": [
      "Enter the maximum speed of the vehicle (in km/h):  57\n",
      "Enter the mileage of the vehicle (in km/l):  12\n"
     ]
    },
    {
     "name": "stdout",
     "output_type": "stream",
     "text": [
      "Vehicle's Maximum Speed: 57.0 km/h\n",
      "Vehicle's Mileage: 12.0 km/l\n"
     ]
    }
   ],
   "source": [
    "class Vehicle:\n",
    "    def __init__(self, max_speed, mileage):\n",
    "        self.max_speed = max_speed\n",
    "        self.mileage = mileage\n",
    "max_speed = float(input(\"Enter the maximum speed of the vehicle (in km/h): \"))\n",
    "mileage = float(input(\"Enter the mileage of the vehicle (in km/l): \"))\n",
    "vehicle = Vehicle(max_speed, mileage)\n",
    "print(f\"Vehicle's Maximum Speed: {vehicle.max_speed} km/h\")\n",
    "print(f\"Vehicle's Mileage: {vehicle.mileage} km/l\")"
   ]
  },
  {
   "cell_type": "code",
   "execution_count": 72,
   "id": "8285f114-2598-44f5-a867-c277d34ead0b",
   "metadata": {},
   "outputs": [
    {
     "name": "stdin",
     "output_type": "stream",
     "text": [
      "Enter the title of the book:  atomic habits\n",
      "Enter the author of the book:  james\n",
      "Enter the price of the book:  188\n",
      "Enter the discount percentage:  10\n"
     ]
    },
    {
     "name": "stdout",
     "output_type": "stream",
     "text": [
      "Original Price: $188.00\n",
      "Discounted Price: $169.20\n"
     ]
    }
   ],
   "source": [
    "class Book:\n",
    "    def __init__(self, title, author, price):\n",
    "        self.title = title\n",
    "        self.author = author\n",
    "        self.price = price\n",
    "    def discount_price(self, discount):\n",
    "       if not (0 <= discount <= 100):\n",
    "            raise ValueError(\"Discount should be between 0 and 100.\")\n",
    "       return self.price * (1 - discount / 100)\n",
    "title = input(\"Enter the title of the book: \")\n",
    "author = input(\"Enter the author of the book: \")\n",
    "price = float(input(\"Enter the price of the book: \"))\n",
    "book = Book(title, author, price)\n",
    "discount = float(input(\"Enter the discount percentage: \"))\n",
    "try:\n",
    "    print(f\"Original Price: ${book.price:.2f}\")\n",
    "    print(f\"Discounted Price: ${book.discount_price(discount):.2f}\")\n",
    "except ValueError as e:\n",
    "    print(e)"
   ]
  },
  {
   "cell_type": "code",
   "execution_count": 77,
   "id": "88b781a8-793c-4cb6-a032-bc11263f2243",
   "metadata": {},
   "outputs": [
    {
     "name": "stdin",
     "output_type": "stream",
     "text": [
      "Enter the employee's name:  safna\n",
      "Enter the employee's age:  25\n",
      "Enter the employee's salary:  20000\n",
      "Enter the tax rate (in %):  10\n"
     ]
    },
    {
     "name": "stdout",
     "output_type": "stream",
     "text": [
      "Employee Name: safna\n",
      "Employee Age: 25\n",
      "Employee Salary: $20000.00\n",
      "Tax to be Paid: $2000.00\n"
     ]
    }
   ],
   "source": [
    "class Employee:\n",
    "    def __init__(self, name, age, salary):\n",
    "        self.name = name\n",
    "        self.age = age\n",
    "        self.salary = salary\n",
    "    def calculate_tax(self, tax_rate):\n",
    "       if not (0 <= tax_rate <= 100):\n",
    "            raise ValueError(\"Tax rate should be between 0 and 100.\")\n",
    "       return self.salary * (tax_rate / 100)\n",
    "name = input(\"Enter the employee's name: \")\n",
    "age = int(input(\"Enter the employee's age: \"))\n",
    "salary = float(input(\"Enter the employee's salary: \"))\n",
    "employee = Employee(name, age, salary)\n",
    "tax_rate = float(input(\"Enter the tax rate (in %): \"))\n",
    "try:\n",
    "    print(f\"Employee Name: {employee.name}\")\n",
    "    print(f\"Employee Age: {employee.age}\")\n",
    "    print(f\"Employee Salary: ${employee.salary:.2f}\")\n",
    "    print(f\"Tax to be Paid: ${employee.calculate_tax(tax_rate):.2f}\")\n",
    "except ValueError as e:\n",
    "    print(e)"
   ]
  },
  {
   "cell_type": "code",
   "execution_count": 2,
   "id": "9ac53ae0-4bc6-40d5-a15e-3a3eb473cd62",
   "metadata": {},
   "outputs": [
    {
     "name": "stdout",
     "output_type": "stream",
     "text": [
      "hai all\n",
      "bye\n"
     ]
    },
    {
     "data": {
      "text/plain": [
       "'techolas'"
      ]
     },
     "execution_count": 2,
     "metadata": {},
     "output_type": "execute_result"
    }
   ],
   "source": [
    "class A():\n",
    "    institute = \"techolas\"\n",
    "    def myfn():\n",
    "        print(\"hai all\")\n",
    "class B(A):\n",
    "    def fun():\n",
    "        print(\"bye\")\n",
    "obj = B\n",
    "obj.myfn()\n",
    "obj.fun()\n",
    "obj.institute"
   ]
  },
  {
   "cell_type": "code",
   "execution_count": 4,
   "id": "6b0c1688-1bfe-4b06-9522-19ff56c4b1eb",
   "metadata": {},
   "outputs": [
    {
     "name": "stdout",
     "output_type": "stream",
     "text": [
      "8\n",
      "4\n"
     ]
    }
   ],
   "source": [
    "class Parent:\n",
    "    def find_square(self,x):\n",
    "        return x**2\n",
    "class Child(Parent):\n",
    "    def find_cube(self,x):\n",
    "        return x**3\n",
    "a = Child()\n",
    "print(a.find_cube(2))\n",
    "print(a.find_square(2))"
   ]
  },
  {
   "cell_type": "code",
   "execution_count": 6,
   "id": "4a9395f2-97ec-4494-9342-6e436fb45270",
   "metadata": {},
   "outputs": [
    {
     "name": "stdout",
     "output_type": "stream",
     "text": [
      "hello\n",
      "hai\n",
      "welcome\n"
     ]
    }
   ],
   "source": [
    "class A():\n",
    "    def fn():\n",
    "        print (\"hello\")\n",
    "class B():\n",
    "    def fun():\n",
    "        print (\"hai\")\n",
    "class C(A,B):\n",
    "    def myfn():\n",
    "        print (\"welcome\")\n",
    "obj = C\n",
    "obj.fn()\n",
    "obj.fun()\n",
    "obj.myfn()"
   ]
  },
  {
   "cell_type": "markdown",
   "id": "20e3b7a7-6dfb-4e69-b0ff-cae72960b9ce",
   "metadata": {},
   "source": [
    "method overloading, over riding\n",
    "operator overloading"
   ]
  },
  {
   "cell_type": "code",
   "execution_count": 10,
   "id": "43edb6e3-f56e-4411-b311-b806eb8373cf",
   "metadata": {},
   "outputs": [
    {
     "name": "stdout",
     "output_type": "stream",
     "text": [
      "Area of Rectangle: 20\n",
      "Area of Circle: 28.27\n",
      "Area of Triangle: 21.0\n"
     ]
    }
   ],
   "source": [
    "import math\n",
    "class Shape:\n",
    "    def area(self):\n",
    "        raise NotImplementedError(\"Subclass must implement the area method\")\n",
    "class Rectangle(Shape):\n",
    "    def __init__(self, length, breadth):\n",
    "        self.length = length\n",
    "        self.breadth = breadth\n",
    "    def area(self):\n",
    "        return self.length * self.breadth\n",
    "class Circle(Shape):\n",
    "    def __init__(self, radius):\n",
    "        self.radius = radius\n",
    "    def area(self):\n",
    "        return math.pi * self.radius ** 2\n",
    "class Triangle(Shape):\n",
    "    def __init__(self, base, height):\n",
    "        self.base = base\n",
    "        self.height = height\n",
    "    def area(self):\n",
    "        return 0.5 * self.base * self.height\n",
    "rectangle = Rectangle(5, 4)\n",
    "circle = Circle(3)\n",
    "triangle = Triangle(6, 7)\n",
    "print(f\"Area of Rectangle: {rectangle.area()}\")\n",
    "print(f\"Area of Circle: {circle.area():.2f}\")\n",
    "print(f\"Area of Triangle: {triangle.area()}\")"
   ]
  },
  {
   "cell_type": "code",
   "execution_count": 59,
   "id": "ec55d265-3121-4035-be96-00304c4ac400",
   "metadata": {},
   "outputs": [
    {
     "name": "stdout",
     "output_type": "stream",
     "text": [
      "dilsha's account balance: $100.0\n",
      "deposited amount is 50.0\n",
      "dilsha's account balance: $150.0\n",
      "Withdrew $30.0 from the account.\n",
      "dilsha's account balance: $120.0\n",
      "Insufficient funds.\n"
     ]
    }
   ],
   "source": [
    "# Create a BankAccount class with attributes: account_holder, account_balance.\n",
    "# Add methods:\n",
    "# deposit(amount) to add money to the account.\n",
    "# withdraw(amount) to withdraw money (ensure balance doesn’t go negative).\n",
    "# Add a method display_balance() to print the current balance\n",
    "\n",
    "class BankAccount:\n",
    "    def __init__(self, account_holder, account_balance=0.0):\n",
    "        self.account_holder = account_holder\n",
    "        self.account_balance = account_balance\n",
    "    def deposit(self, amount): \n",
    "        if amount > 0:\n",
    "            self.account_balance += amount  \n",
    "            print(\"deposited amount is\",amount)\n",
    "        else:\n",
    "            print(\"Deposit amount must be positive.\")\n",
    "\n",
    "    def withdraw(self, amount):\n",
    "\n",
    "        if amount > 0:\n",
    "            if amount <= self.account_balance:\n",
    "                self.account_balance -= amount\n",
    "                print(f\"Withdrew ${amount} from the account.\")\n",
    "            else:\n",
    "                print(\"Insufficient funds.\")\n",
    "        else:\n",
    "            print(\"Withdrawal amount must be positive.\")\n",
    "\n",
    "    def display_balance(self):\n",
    "      \n",
    "        print(f\"{self.account_holder}'s account balance: ${self.account_balance}\")\n",
    "\n",
    "\n",
    "\n",
    "account = BankAccount(\"dilsha\", 100.0)\n",
    "account.display_balance()\n",
    "account.deposit(50.0)\n",
    "account.display_balance()\n",
    "account.withdraw(30.0)\n",
    "account.display_balance()\n",
    "account.withdraw(200.0)"
   ]
  },
  {
   "cell_type": "code",
   "execution_count": 200,
   "id": "d6a2f28d-4887-4b34-ad93-168d766ba07e",
   "metadata": {},
   "outputs": [],
   "source": [
    "# abstraction\n",
    "# abstract class & abstract method\n",
    "# Abstract class - class which can have abstract & non abstract methods\n",
    "# Abstract method - A method defined in a abstract class which doesnt have implimentation"
   ]
  },
  {
   "cell_type": "code",
   "execution_count": 445,
   "id": "e8fdbe02-103b-4e71-b221-c1686f57d43e",
   "metadata": {},
   "outputs": [
    {
     "name": "stdout",
     "output_type": "stream",
     "text": [
      "hai\n",
      "hello\n",
      "hai arjun\n",
      "hello arjun\n"
     ]
    }
   ],
   "source": [
    "from abc import ABC,abstractmethod\n",
    "class Animal(ABC):\n",
    "  @abstractmethod\n",
    "  def myfn(self):\n",
    "      pass\n",
    "class cat(Animal):\n",
    "    def my(self):\n",
    "        print(\"hai\")    \n",
    "    def myfn(self):\n",
    "        print(\"hello\")\n",
    "class Dog(Animal):\n",
    "    def arjun(self):\n",
    "        print(\"hai arjun\")\n",
    "    def myfn(self):\n",
    "        print(\"hello arjun\")\n",
    "    \n",
    "c=cat()\n",
    "c.my()\n",
    "c.myfn()\n",
    "d=Dog()\n",
    "d.arjun()\n",
    "d.myfn()"
   ]
  },
  {
   "cell_type": "code",
   "execution_count": 204,
   "id": "32c18f9f-bd9d-4b37-b27d-b8965fb75069",
   "metadata": {},
   "outputs": [],
   "source": [
    "# encapsulation\n",
    "#access modifiers:-access modifiers determine the visiblity of class member(variables,methods) from outside the class and within the class itself\n",
    "# private,public,protected"
   ]
  },
  {
   "cell_type": "code",
   "execution_count": 208,
   "id": "f4060b95-46aa-467b-96a1-4edfec0370c0",
   "metadata": {},
   "outputs": [
    {
     "name": "stdout",
     "output_type": "stream",
     "text": [
      "safna\n",
      "public\n"
     ]
    }
   ],
   "source": [
    "# public\n",
    "class A:\n",
    "    def __init__(self,name):\n",
    "        self.name=name # public data\n",
    "    def show(self): # public method\n",
    "        print(\"public\")\n",
    "obj=A(\"safna\")\n",
    "print(obj.name)\n",
    "obj.show()"
   ]
  },
  {
   "cell_type": "code",
   "execution_count": 210,
   "id": "43a5aa29-5cc7-4e14-bcf1-c453acef7d0a",
   "metadata": {},
   "outputs": [
    {
     "name": "stdout",
     "output_type": "stream",
     "text": [
      "private \n"
     ]
    }
   ],
   "source": [
    "# private\n",
    "class A:\n",
    "    def __init__(self,name):\n",
    "        self.__name=name # private data\n",
    "    def __myfn(self): # private method\n",
    "        print(\"private \")\n",
    "    def show(self):\n",
    "        self.__myfn()\n",
    "obj=A(\"safna\")\n",
    "obj.show()"
   ]
  },
  {
   "cell_type": "code",
   "execution_count": 212,
   "id": "e59f0eec-e472-431c-acd8-97227141f8f6",
   "metadata": {},
   "outputs": [
    {
     "name": "stdout",
     "output_type": "stream",
     "text": [
      "safna\n"
     ]
    }
   ],
   "source": [
    "# protected\n",
    "class A:\n",
    "    def __init__(self,name):\n",
    "        self._name=name # protected data\n",
    "    def _myfn(self): # protected method\n",
    "        print(\"private \")\n",
    "class B(A):\n",
    "    def display(self):\n",
    "        print(self._name)\n",
    "        \n",
    "obj=B(\"safna\")\n",
    "obj.display()"
   ]
  }
 ],
 "metadata": {
  "kernelspec": {
   "display_name": "Python [conda env:base] *",
   "language": "python",
   "name": "conda-base-py"
  },
  "language_info": {
   "codemirror_mode": {
    "name": "ipython",
    "version": 3
   },
   "file_extension": ".py",
   "mimetype": "text/x-python",
   "name": "python",
   "nbconvert_exporter": "python",
   "pygments_lexer": "ipython3",
   "version": "3.11.5"
  }
 },
 "nbformat": 4,
 "nbformat_minor": 5
}
