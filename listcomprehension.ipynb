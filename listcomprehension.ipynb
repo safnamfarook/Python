{
 "cells": [
  {
   "cell_type": "code",
   "execution_count": 1,
   "id": "86a29df9-e999-40f6-bd94-a94928751472",
   "metadata": {},
   "outputs": [
    {
     "name": "stdout",
     "output_type": "stream",
     "text": [
      "['mom', 'dad', 'malayalam']\n"
     ]
    }
   ],
   "source": [
    "t = (\"mom\", \"dad\", \"son\", \"malayalam\")\n",
    "l = []\n",
    "for i in t:\n",
    "    if i==i[::-1]:\n",
    "        l.append(i)\n",
    "print(l)"
   ]
  },
  {
   "cell_type": "code",
   "execution_count": 3,
   "id": "0dbbaab1-4229-4c48-9db0-85ca082ad73d",
   "metadata": {},
   "outputs": [
    {
     "data": {
      "text/plain": [
       "['mom', 'dad', 'malayalam']"
      ]
     },
     "execution_count": 3,
     "metadata": {},
     "output_type": "execute_result"
    }
   ],
   "source": [
    "[i for i in t if i==i[::-1]]"
   ]
  },
  {
   "cell_type": "code",
   "execution_count": 5,
   "id": "02ff9093-7598-46cd-a716-634fe2c5ea57",
   "metadata": {},
   "outputs": [
    {
     "name": "stdout",
     "output_type": "stream",
     "text": [
      "[0, 1, 4, 9, 16, 25, 36, 49, 64, 81]\n"
     ]
    }
   ],
   "source": [
    "squares = []\n",
    "for x in range(10):\n",
    "    squares.append(x**2)\n",
    "print(squares)"
   ]
  },
  {
   "cell_type": "code",
   "execution_count": 7,
   "id": "35fa0049-6d1e-46a1-969f-9ec27ecc8341",
   "metadata": {},
   "outputs": [
    {
     "name": "stdout",
     "output_type": "stream",
     "text": [
      "[0, 1, 4, 9, 16, 25, 36, 49, 64, 81]\n"
     ]
    }
   ],
   "source": [
    "squares = [x**2 for x in range(10)]\n",
    "print(squares)"
   ]
  },
  {
   "cell_type": "code",
   "execution_count": 9,
   "id": "fd8d7338-97d4-4c90-b1f9-3b3d27ef1444",
   "metadata": {},
   "outputs": [
    {
     "name": "stdout",
     "output_type": "stream",
     "text": [
      "[0, 2, 4, 6, 8]\n"
     ]
    }
   ],
   "source": [
    "evens = []\n",
    "for x in range(10):\n",
    "    if x % 2 == 0:\n",
    "        evens.append(x)\n",
    "print(evens)"
   ]
  },
  {
   "cell_type": "code",
   "execution_count": 13,
   "id": "20fe63d1-acf9-449c-9a7a-6e453fd86c72",
   "metadata": {},
   "outputs": [
    {
     "name": "stdout",
     "output_type": "stream",
     "text": [
      "[0, 2, 4, 6, 8]\n"
     ]
    }
   ],
   "source": [
    "evens = [x for x in range(10) if x % 2 == 0]\n",
    "print(evens)"
   ]
  },
  {
   "cell_type": "code",
   "execution_count": 19,
   "id": "91c1c0b3-56cf-46ac-a97c-fd1aaa215447",
   "metadata": {},
   "outputs": [
    {
     "name": "stdout",
     "output_type": "stream",
     "text": [
      "[2, 4, 6, 8]\n"
     ]
    }
   ],
   "source": [
    "numbers = [1, 2, 3, 4]\n",
    "doubled = [x * 2 for x in numbers]\n",
    "print(doubled)"
   ]
  },
  {
   "cell_type": "code",
   "execution_count": 21,
   "id": "a2d34388-d171-45ec-a6bd-c938c6b7f038",
   "metadata": {},
   "outputs": [
    {
     "name": "stdout",
     "output_type": "stream",
     "text": [
      "[1.0, 2.0, 3.0, 4.0]\n"
     ]
    }
   ],
   "source": [
    "n = [2,4,6,8]\n",
    "half = [i/2 for i in n]\n",
    "print (half)"
   ]
  },
  {
   "cell_type": "code",
   "execution_count": 23,
   "id": "3f68c6ae-4b70-4e5d-9b47-972f0c8aedde",
   "metadata": {},
   "outputs": [
    {
     "data": {
      "text/plain": [
       "[1.0, 2.0, 3.0, 4.0]"
      ]
     },
     "execution_count": 23,
     "metadata": {},
     "output_type": "execute_result"
    }
   ],
   "source": [
    "n = [2,4,6,8]\n",
    "[i/2 for i in n]"
   ]
  }
 ],
 "metadata": {
  "kernelspec": {
   "display_name": "Python [conda env:base] *",
   "language": "python",
   "name": "conda-base-py"
  },
  "language_info": {
   "codemirror_mode": {
    "name": "ipython",
    "version": 3
   },
   "file_extension": ".py",
   "mimetype": "text/x-python",
   "name": "python",
   "nbconvert_exporter": "python",
   "pygments_lexer": "ipython3",
   "version": "3.11.5"
  }
 },
 "nbformat": 4,
 "nbformat_minor": 5
}
