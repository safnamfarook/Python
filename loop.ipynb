{
 "cells": [
  {
   "cell_type": "code",
   "execution_count": 3,
   "id": "2e189e45-8aaa-477f-92a1-8669d4b89abd",
   "metadata": {
    "tags": []
   },
   "outputs": [
    {
     "name": "stdin",
     "output_type": "stream",
     "text": [
      "Enter the number 11\n"
     ]
    },
    {
     "name": "stdout",
     "output_type": "stream",
     "text": [
      "1\n",
      "3\n",
      "5\n",
      "7\n",
      "9\n"
     ]
    }
   ],
   "source": [
    "# For Loop\n",
    "\n",
    "n = int(input(\"Enter the number\"))\n",
    "for i in range(1,n,2):\n",
    "    print(i)"
   ]
  },
  {
   "cell_type": "code",
   "execution_count": 6,
   "id": "47071ec6-e6ed-446a-977b-3bfc81cf46dd",
   "metadata": {
    "tags": []
   },
   "outputs": [
    {
     "name": "stdout",
     "output_type": "stream",
     "text": [
      "apple\n",
      "banana\n",
      "cherry\n",
      "fig\n"
     ]
    }
   ],
   "source": [
    "l = [\"apple\",\"banana\",\"cherry\",\"fig\"]\n",
    "for i in l:\n",
    "    print(i)"
   ]
  },
  {
   "cell_type": "code",
   "execution_count": 8,
   "id": "f097237e-47dc-4fed-9d2b-ea079d2c99c0",
   "metadata": {
    "tags": []
   },
   "outputs": [
    {
     "name": "stdout",
     "output_type": "stream",
     "text": [
      "The elements in list:\n",
      "10\n",
      "20\n",
      "30\n",
      "40\n",
      "50\n"
     ]
    }
   ],
   "source": [
    "l = [10,20,30,40,50]\n",
    "print(\"The elements in list:\")\n",
    "for i in l:\n",
    "    print(i)"
   ]
  },
  {
   "cell_type": "code",
   "execution_count": 10,
   "id": "cbade132-5d87-4e4a-bc58-7d03727f69e6",
   "metadata": {
    "tags": []
   },
   "outputs": [
    {
     "name": "stdout",
     "output_type": "stream",
     "text": [
      "The elements in tuple:\n",
      "20\n",
      "40\n",
      "60\n",
      "80\n"
     ]
    }
   ],
   "source": [
    "t = (20,40,60,80)\n",
    "print(\"The elements in tuple:\")\n",
    "for i in t:\n",
    "    print(i)"
   ]
  },
  {
   "cell_type": "code",
   "execution_count": 12,
   "id": "b23d2bc5-c12c-4286-82c4-62318688908c",
   "metadata": {
    "tags": []
   },
   "outputs": [
    {
     "name": "stdout",
     "output_type": "stream",
     "text": [
      "The elements in set:\n",
      "abc\n",
      "def\n",
      "ghi\n"
     ]
    }
   ],
   "source": [
    "s = {'abc','def','ghi'}\n",
    "print(\"The elements in set:\")\n",
    "for i in s:\n",
    "    print(i)"
   ]
  },
  {
   "cell_type": "code",
   "execution_count": 14,
   "id": "f9edf072-1a0e-4e55-bad8-7f6d10bd74e1",
   "metadata": {
    "tags": []
   },
   "outputs": [
    {
     "name": "stdout",
     "output_type": "stream",
     "text": [
      "The characters in string:\n",
      "H\n",
      "e\n",
      "l\n",
      "l\n",
      "o\n"
     ]
    }
   ],
   "source": [
    "str = \"Hello\"\n",
    "print(\"The characters in string:\")\n",
    "for i in str:\n",
    "    print(i)"
   ]
  },
  {
   "cell_type": "code",
   "execution_count": 16,
   "id": "6726ccd8-1d93-4fbd-ad6d-7b7de52c6463",
   "metadata": {
    "tags": []
   },
   "outputs": [
    {
     "name": "stdout",
     "output_type": "stream",
     "text": [
      "1\n",
      "2\n",
      "3\n",
      "4\n"
     ]
    }
   ],
   "source": [
    "dict = {1:'Ten',2:'Twenty',3:'Thirty',4:'Forty'}\n",
    "for i in dict:\n",
    "    print(i)"
   ]
  },
  {
   "cell_type": "code",
   "execution_count": 18,
   "id": "d4236162-dff1-4270-acc1-c15b71f17562",
   "metadata": {
    "tags": []
   },
   "outputs": [
    {
     "name": "stdout",
     "output_type": "stream",
     "text": [
      "The elements in dictionary:\n",
      "1 : Ten\n",
      "2 : Twenty\n",
      "3 : Thirty\n",
      "4 : Forty\n"
     ]
    }
   ],
   "source": [
    "dict = {1:'Ten',2:'Twenty',3:'Thirty',4:'Forty'}\n",
    "print(\"The elements in dictionary:\")\n",
    "for i in dict:\n",
    "    print(i,\":\",dict[i])"
   ]
  },
  {
   "cell_type": "code",
   "execution_count": 34,
   "id": "6c124952-95a6-473a-9a90-03072438ab61",
   "metadata": {
    "tags": []
   },
   "outputs": [
    {
     "name": "stdout",
     "output_type": "stream",
     "text": [
      "0\n",
      "1\n",
      "2\n",
      "3\n",
      "4\n"
     ]
    }
   ],
   "source": [
    "for i in range(5):      # default 0\n",
    "    print(i)"
   ]
  },
  {
   "cell_type": "code",
   "execution_count": 32,
   "id": "b832722f-3e8f-471c-a2c4-1e6f57b7f812",
   "metadata": {
    "tags": []
   },
   "outputs": [
    {
     "name": "stdout",
     "output_type": "stream",
     "text": [
      "1\n",
      "2\n",
      "3\n",
      "4\n",
      "5\n"
     ]
    }
   ],
   "source": [
    "for i in range(1,6):    # start=1 end=6(6-1)\n",
    "    print(i)"
   ]
  },
  {
   "cell_type": "code",
   "execution_count": 28,
   "id": "52aecea0-5173-4461-93e9-d8b8ea6a46c2",
   "metadata": {
    "tags": []
   },
   "outputs": [
    {
     "name": "stdout",
     "output_type": "stream",
     "text": [
      "2\n",
      "4\n",
      "6\n",
      "8\n"
     ]
    }
   ],
   "source": [
    "for i in range(2,10,2):     # start=1 end=10 difference=2\n",
    "    print(i)"
   ]
  },
  {
   "cell_type": "code",
   "execution_count": 42,
   "id": "a0ae22d3-6d32-4067-8264-78fb8d6328b4",
   "metadata": {
    "tags": []
   },
   "outputs": [
    {
     "name": "stdin",
     "output_type": "stream",
     "text": [
      "Enter the number :  7\n"
     ]
    },
    {
     "name": "stdout",
     "output_type": "stream",
     "text": [
      "1 * 7 = 7\n",
      "2 * 7 = 14\n",
      "3 * 7 = 21\n",
      "4 * 7 = 28\n",
      "5 * 7 = 35\n",
      "6 * 7 = 42\n",
      "7 * 7 = 49\n",
      "8 * 7 = 56\n",
      "9 * 7 = 63\n",
      "10 * 7 = 70\n"
     ]
    }
   ],
   "source": [
    "# multiplication table\n",
    "\n",
    "n = int(input(\"Enter the number : \"))\n",
    "for i in range(1,11):\n",
    "    print(i,\"*\",n,\"=\",i*n)"
   ]
  },
  {
   "cell_type": "code",
   "execution_count": 38,
   "id": "63b94978-f2cb-4100-a13d-e4f4c5b65855",
   "metadata": {
    "tags": []
   },
   "outputs": [
    {
     "name": "stdout",
     "output_type": "stream",
     "text": [
      "1\n",
      "3\n",
      "5\n",
      "99\n",
      "55\n",
      "[1, 3, 5, 99, 55]\n"
     ]
    }
   ],
   "source": [
    "num_list = [1,3,5,6,99,134,55]\n",
    "l = []\n",
    "for i in num_list:\n",
    "    if i%2!=0:\n",
    "        l.append(i)\n",
    "        print(i)\n",
    "print(l)   "
   ]
  },
  {
   "cell_type": "code",
   "execution_count": 40,
   "id": "53470ceb-0161-4f13-a3db-6e826af6d7a1",
   "metadata": {
    "tags": []
   },
   "outputs": [
    {
     "name": "stdout",
     "output_type": "stream",
     "text": [
      "1 is an odd number.\n",
      "3 is an odd number.\n",
      "5 is an odd number.\n",
      "6 is an even number.\n",
      "99 is an odd number.\n",
      "134 is an even number.\n",
      "55 is an odd number.\n"
     ]
    }
   ],
   "source": [
    "num_list = [1,3,5,6,99,134,55]\n",
    "for i in num_list:\n",
    "    if i%2 == 0:\n",
    "        print(i,\"is an even number.\")\n",
    "    else:\n",
    "        print(i,\"is an odd number.\")"
   ]
  },
  {
   "cell_type": "code",
   "execution_count": 19,
   "id": "971a1909-ab2b-48c6-95f9-bc361333ff79",
   "metadata": {},
   "outputs": [
    {
     "name": "stdin",
     "output_type": "stream",
     "text": [
      "Enter a number:  56746\n"
     ]
    },
    {
     "name": "stdout",
     "output_type": "stream",
     "text": [
      "5\n"
     ]
    }
   ],
   "source": [
    "# Count of number\n",
    "\n",
    "try:\n",
    "    num = int(input(\"Enter a number: \"))\n",
    "    num_str = str(num)\n",
    "    count = len(num_str)\n",
    "    print(count)\n",
    "except ValueError:\n",
    "    print(\"Invalid input! Please enter a valid integer.\")"
   ]
  },
  {
   "cell_type": "code",
   "execution_count": 5,
   "id": "5984be1d-ab31-4ec6-8202-a3d91e68df06",
   "metadata": {
    "tags": []
   },
   "outputs": [
    {
     "name": "stdout",
     "output_type": "stream",
     "text": [
      "1\n",
      "2\n",
      "3\n",
      "4\n",
      "5\n",
      "6\n",
      "7\n",
      "8\n",
      "9\n"
     ]
    }
   ],
   "source": [
    "# While Loop\n",
    "\n",
    "i = 1\n",
    "while(i<10):\n",
    "    print(i)\n",
    "    i += 1"
   ]
  },
  {
   "cell_type": "code",
   "execution_count": 3,
   "id": "75962bc8-1ed9-4cb3-ba26-4473dc2f37ce",
   "metadata": {
    "tags": []
   },
   "outputs": [
    {
     "name": "stdout",
     "output_type": "stream",
     "text": [
      "While loop\n",
      "While loop\n",
      "While loop\n"
     ]
    }
   ],
   "source": [
    "c = 0\n",
    "while(c<3):\n",
    "    print(\"While loop\")\n",
    "    c += 1      #c value updated c=c+1"
   ]
  },
  {
   "cell_type": "code",
   "execution_count": 1,
   "id": "f9f0b6b3-cde7-41e9-8eb8-a2bbe54c99a0",
   "metadata": {},
   "outputs": [],
   "source": [
    "# While True:\n",
    "    # This loop will run forever\n",
    "    # print(\"This is an infinite loop\")"
   ]
  },
  {
   "cell_type": "code",
   "execution_count": 1,
   "id": "ec45098a-879a-4b5c-ac54-f454299098d2",
   "metadata": {},
   "outputs": [
    {
     "name": "stdout",
     "output_type": "stream",
     "text": [
      "This loop will terminate after 5 iterations\n",
      "This loop will terminate after 5 iterations\n",
      "This loop will terminate after 5 iterations\n",
      "This loop will terminate after 5 iterations\n",
      "This loop will terminate after 5 iterations\n"
     ]
    }
   ],
   "source": [
    "i = 0\n",
    "while i < 5:\n",
    "    print(\"This loop will terminate after 5 iterations\")\n",
    "    i += 1"
   ]
  },
  {
   "cell_type": "code",
   "execution_count": 3,
   "id": "4746ef2b-fadc-4ebc-9a51-91412db1db03",
   "metadata": {},
   "outputs": [],
   "source": [
    "#i = 0\n",
    "#while i < 5:\n",
    "    # i is never incremented, so this loop will run forever\n",
    "    #print(\"This is an infinite loop\")"
   ]
  },
  {
   "cell_type": "code",
   "execution_count": 9,
   "id": "8ed85ff0-0912-4f0d-ab6c-5b75a3a6f5fb",
   "metadata": {},
   "outputs": [
    {
     "name": "stdout",
     "output_type": "stream",
     "text": [
      "1\n",
      "2\n",
      "3\n",
      "4\n",
      "5\n",
      "i is no longer less than 6\n"
     ]
    }
   ],
   "source": [
    "# While loop with else\n",
    "\n",
    "i = 1\n",
    "while i < 6:\n",
    "  print(i)\n",
    "  i += 1\n",
    "else:\n",
    "  print(\"i is no longer less than 6\")"
   ]
  },
  {
   "cell_type": "code",
   "execution_count": 23,
   "id": "2292dcf7-1da4-4540-a24c-be529875b65e",
   "metadata": {
    "tags": []
   },
   "outputs": [
    {
     "name": "stdout",
     "output_type": "stream",
     "text": [
      "1\n",
      "3\n",
      "5\n",
      "99\n",
      "55\n"
     ]
    }
   ],
   "source": [
    "num_list = [1,3,5,6,99,134,55]\n",
    "for i in num_list:\n",
    "    if i%2!=0:\n",
    "        print(i)"
   ]
  },
  {
   "cell_type": "code",
   "execution_count": 15,
   "id": "6f95ee4a-4e17-4a19-b11a-534eecec1f99",
   "metadata": {
    "tags": []
   },
   "outputs": [
    {
     "name": "stdin",
     "output_type": "stream",
     "text": [
      "Enter the number 7\n"
     ]
    },
    {
     "name": "stdout",
     "output_type": "stream",
     "text": [
      "*\n",
      "**\n",
      "***\n",
      "****\n",
      "*****\n",
      "******\n",
      "*******\n"
     ]
    }
   ],
   "source": [
    "n = int(input(\"Enter the number\"))\n",
    "for i in range(n):\n",
    "    print(\"*\"*(i+1))"
   ]
  },
  {
   "cell_type": "code",
   "execution_count": 17,
   "id": "0b708f51-ff97-432e-b510-057b30ec37d9",
   "metadata": {
    "tags": []
   },
   "outputs": [
    {
     "name": "stdout",
     "output_type": "stream",
     "text": [
      "*******\n",
      "******\n",
      "*****\n",
      "****\n",
      "***\n",
      "**\n",
      "*\n"
     ]
    }
   ],
   "source": [
    "for i in range(n,0,-1):\n",
    "    print(\"*\"*i)"
   ]
  },
  {
   "cell_type": "code",
   "execution_count": 9,
   "id": "b383569a-b2c5-4e68-89d5-eea673890770",
   "metadata": {
    "tags": []
   },
   "outputs": [
    {
     "name": "stdin",
     "output_type": "stream",
     "text": [
      "Enter the number 5\n"
     ]
    },
    {
     "name": "stdout",
     "output_type": "stream",
     "text": [
      "*\n",
      "**\n",
      "***\n",
      "****\n",
      "*****\n",
      "*****\n",
      "****\n",
      "***\n",
      "**\n",
      "*\n"
     ]
    }
   ],
   "source": [
    "n = int(input(\"Enter the number\"))\n",
    "for i in range(n):\n",
    "    print(\"*\"*(i+1))\n",
    "for i in range(n,0,-1):\n",
    "    print(\"*\"*i) "
   ]
  },
  {
   "cell_type": "code",
   "execution_count": 23,
   "id": "52e928bf-ae9e-43d9-b974-e5181972dec1",
   "metadata": {
    "tags": []
   },
   "outputs": [
    {
     "name": "stdout",
     "output_type": "stream",
     "text": [
      "*****\n",
      "****\n",
      "***\n",
      "**\n",
      "*\n"
     ]
    }
   ],
   "source": [
    "for i in range(n):\n",
    "    print(\"*\"*(n-i))"
   ]
  },
  {
   "cell_type": "code",
   "execution_count": 25,
   "id": "bb414972-ffa0-4bab-8924-93e91c751ab8",
   "metadata": {
    "tags": []
   },
   "outputs": [
    {
     "name": "stdout",
     "output_type": "stream",
     "text": [
      "     *\n",
      "    **\n",
      "   ***\n",
      "  ****\n",
      " *****\n"
     ]
    }
   ],
   "source": [
    "for i in range(n):\n",
    "    print(\" \"*(n-i)+\"*\"*(i+1))"
   ]
  },
  {
   "cell_type": "code",
   "execution_count": 27,
   "id": "c2311fff-d67e-4159-8974-4be554f8db9c",
   "metadata": {
    "tags": []
   },
   "outputs": [
    {
     "name": "stdout",
     "output_type": "stream",
     "text": [
      "******\n",
      " *****\n",
      "  ****\n",
      "   ***\n",
      "    **\n",
      "     *\n"
     ]
    }
   ],
   "source": [
    "for i in range(n,-1,-1):\n",
    "    print(\" \"*(n-i)+\"*\"*(i+1))"
   ]
  },
  {
   "cell_type": "code",
   "execution_count": 29,
   "id": "519bbc3f-024c-4720-ac87-344ce7c13e14",
   "metadata": {
    "tags": []
   },
   "outputs": [
    {
     "name": "stdout",
     "output_type": "stream",
     "text": [
      "     *\n",
      "    **\n",
      "   ***\n",
      "  ****\n",
      " *****\n",
      "******\n",
      " *****\n",
      "  ****\n",
      "   ***\n",
      "    **\n",
      "     *\n"
     ]
    }
   ],
   "source": [
    "for i in range(n):\n",
    "    print(\" \"*(n-i)+\"*\"*(i+1))\n",
    "for i in range(n,-1,-1):\n",
    "    print(\" \"*(n-i)+\"*\"*(i+1))"
   ]
  },
  {
   "cell_type": "code",
   "execution_count": 31,
   "id": "cacc13c5-f0d3-4478-8bc9-f2b03af5ee67",
   "metadata": {
    "tags": []
   },
   "outputs": [
    {
     "name": "stdout",
     "output_type": "stream",
     "text": [
      "     * \n",
      "    * * \n",
      "   * * * \n",
      "  * * * * \n",
      " * * * * * \n",
      "* * * * * * \n",
      " * * * * * \n",
      "  * * * * \n",
      "   * * * \n",
      "    * * \n",
      "     * \n"
     ]
    }
   ],
   "source": [
    "for i in range(n):\n",
    "    print(\" \"*(n-i)+\"* \"*(i+1))\n",
    "for i in range(n,-1,-1):\n",
    "    print(\" \"*(n-i)+\"* \"*(i+1))"
   ]
  },
  {
   "cell_type": "code",
   "execution_count": 33,
   "id": "5f345288-06d5-4646-99ac-838bca58c4cb",
   "metadata": {
    "tags": []
   },
   "outputs": [
    {
     "name": "stdout",
     "output_type": "stream",
     "text": [
      "     *\n",
      "    ***\n",
      "   *****\n",
      "  *******\n",
      " *********\n"
     ]
    }
   ],
   "source": [
    "for i in range(n):\n",
    "    print(\" \"*(n-i)+\"*\"*((2*i)+1))"
   ]
  },
  {
   "cell_type": "code",
   "execution_count": 3,
   "id": "eabcfa0f-aa4e-480f-a558-5a0c650e142e",
   "metadata": {},
   "outputs": [
    {
     "name": "stdout",
     "output_type": "stream",
     "text": [
      "*       * \n",
      "* *   * * \n",
      "*   *   * \n",
      "*       * \n",
      "*       * \n"
     ]
    }
   ],
   "source": [
    "# M pattern\n",
    "\n",
    "row = 5\n",
    "for i in range(row):\n",
    "    for j in range(5):\n",
    "        if j == 0 or j == 4:\n",
    "            print(\"*\", end=\" \")\n",
    "        elif i == j and j < 3:\n",
    "            print(\"*\", end=\" \") \n",
    "        elif i+j == 4 and j > 1:\n",
    "            print(\"*\", end=\" \") \n",
    "        else:\n",
    "            print(\" \", end=\" \")\n",
    "    print()"
   ]
  },
  {
   "cell_type": "code",
   "execution_count": 5,
   "id": "49721177-7335-4d1e-9229-8eb1654b031f",
   "metadata": {},
   "outputs": [
    {
     "name": "stdout",
     "output_type": "stream",
     "text": [
      "*       * \n",
      "* *     * \n",
      "*   *   * \n",
      "*     * * \n",
      "*       * \n"
     ]
    }
   ],
   "source": [
    "# N pattern\n",
    "\n",
    "row = 5\n",
    "for i in range(row):\n",
    "    for j in range(5):\n",
    "        if j == 0 or j == 4:\n",
    "            print(\"*\", end=\" \")\n",
    "        elif i == j and j < 4:\n",
    "            print(\"*\", end=\" \") \n",
    "        else:\n",
    "            print(\" \", end=\" \")\n",
    "    print()"
   ]
  },
  {
   "cell_type": "code",
   "execution_count": 10,
   "id": "ce79b0be-f0af-483f-bc7b-9bf39e6b0048",
   "metadata": {
    "tags": []
   },
   "outputs": [
    {
     "data": {
      "text/plain": [
       "1"
      ]
     },
     "execution_count": 10,
     "metadata": {},
     "output_type": "execute_result"
    }
   ],
   "source": [
    "# 2*i+1\n",
    "(2*0)+1"
   ]
  },
  {
   "cell_type": "code",
   "execution_count": 37,
   "id": "a83f9f37-6603-4d8d-a440-6097c157c970",
   "metadata": {
    "tags": []
   },
   "outputs": [
    {
     "data": {
      "text/plain": [
       "3"
      ]
     },
     "execution_count": 37,
     "metadata": {},
     "output_type": "execute_result"
    }
   ],
   "source": [
    "(2*1)+1"
   ]
  },
  {
   "cell_type": "code",
   "execution_count": 39,
   "id": "f1f7e7c7-33eb-463b-bae2-ab12e8ac6571",
   "metadata": {
    "tags": []
   },
   "outputs": [
    {
     "data": {
      "text/plain": [
       "5"
      ]
     },
     "execution_count": 39,
     "metadata": {},
     "output_type": "execute_result"
    }
   ],
   "source": [
    "(2*2)+1"
   ]
  },
  {
   "cell_type": "code",
   "execution_count": 2,
   "id": "01ced79d-1f11-4fc3-978c-7557cbe94d82",
   "metadata": {},
   "outputs": [
    {
     "name": "stdin",
     "output_type": "stream",
     "text": [
      "Enter a number:  653\n"
     ]
    },
    {
     "name": "stdout",
     "output_type": "stream",
     "text": [
      "356\n"
     ]
    }
   ],
   "source": [
    "# to reverse a number\n",
    "\n",
    "num = int(input(\"Enter a number: \"))\n",
    "rev = 0\n",
    "while num > 0:\n",
    "    digit = num % 10\n",
    "    rev = (rev * 10) + digit\n",
    "    num = num // 10\n",
    "print(rev)"
   ]
  },
  {
   "cell_type": "code",
   "execution_count": 24,
   "id": "2e386c48-192e-4782-bcbb-d558399f6103",
   "metadata": {},
   "outputs": [
    {
     "name": "stdin",
     "output_type": "stream",
     "text": [
      "Enter a number:  153\n"
     ]
    },
    {
     "name": "stdout",
     "output_type": "stream",
     "text": [
      "153 is armstrong number\n"
     ]
    }
   ],
   "source": [
    "# to check if a number is Armstrong\n",
    "\n",
    "num = int(input(\"Enter a number: \"))\n",
    "digits = len(str(num))\n",
    "sum = 0\n",
    "for i in str(num):\n",
    "    sum += int(i) ** digits\n",
    "if sum == num:\n",
    "    print(f\"{num} is armstrong number\")\n",
    "else:\n",
    "    print(f\"{num} is not an armstrong number\")"
   ]
  },
  {
   "cell_type": "code",
   "execution_count": 26,
   "id": "acd9e0dc-9880-4837-b0ec-e397a39b7a05",
   "metadata": {},
   "outputs": [
    {
     "name": "stdin",
     "output_type": "stream",
     "text": [
      "Enter a number:  67\n"
     ]
    },
    {
     "name": "stdout",
     "output_type": "stream",
     "text": [
      "67 is a prime number\n"
     ]
    }
   ],
   "source": [
    "# to check if a number is prime\n",
    "\n",
    "n = int(input(\"Enter a number: \"))\n",
    "prime = True\n",
    "if n <= 1:\n",
    "    prime = False\n",
    "for i in range (2,n):\n",
    "    if n%i == 0:\n",
    "        prime = False\n",
    "        break\n",
    "if(prime==True):\n",
    "    print(f\"{n} is a prime number\")\n",
    "else:\n",
    "    print(f\"{n} is not a prime number\")"
   ]
  },
  {
   "cell_type": "code",
   "execution_count": 30,
   "id": "d46e4450-774d-48f6-9018-718f2e000b3e",
   "metadata": {},
   "outputs": [
    {
     "name": "stdin",
     "output_type": "stream",
     "text": [
      "Enter a number:  4\n"
     ]
    },
    {
     "name": "stdout",
     "output_type": "stream",
     "text": [
      "4!=  24\n"
     ]
    }
   ],
   "source": [
    "# to find the factorial of a number\n",
    "\n",
    "n = int(input(\"Enter a number: \"))\n",
    "fact = 1\n",
    "if(n==0):\n",
    "    fact = 1\n",
    "else:\n",
    "    for i in range(n,1,-1):\n",
    "        fact = fact*i\n",
    "print(f\"{n}!= \",fact)"
   ]
  },
  {
   "cell_type": "code",
   "execution_count": 32,
   "id": "212118f2-ec62-4e9c-b57f-0f630a16a1ad",
   "metadata": {},
   "outputs": [
    {
     "name": "stdin",
     "output_type": "stream",
     "text": [
      "Enter the value of N:  3\n"
     ]
    },
    {
     "name": "stdout",
     "output_type": "stream",
     "text": [
      "The sum of the series is: 1.8333333333333333\n"
     ]
    }
   ],
   "source": [
    "# to find the sum of the series 1 + 1/2 + 1/3 + ... + 1/N\n",
    "\n",
    "N = int(input(\"Enter the value of N: \"))\n",
    "sum = 0.0\n",
    "for i in range(1, N + 1):\n",
    "    sum += 1 / i\n",
    "print(\"The sum of the series is:\", sum)"
   ]
  },
  {
   "cell_type": "code",
   "execution_count": 36,
   "id": "9a442a8a-75dd-4d71-89a4-3d0d6ecc8f28",
   "metadata": {},
   "outputs": [
    {
     "name": "stdin",
     "output_type": "stream",
     "text": [
      "Enter the number of terms in the Fibonacci series:  10\n"
     ]
    },
    {
     "name": "stdout",
     "output_type": "stream",
     "text": [
      "Fibonacci Series:\n",
      "0 1 1 2 3 5 8 13 21 34 \n"
     ]
    }
   ],
   "source": [
    "# Python program to find Fibonacci series\n",
    "\n",
    "n = int(input(\"Enter the number of terms in the Fibonacci series: \"))\n",
    "a, b = 0, 1\n",
    "print(\"Fibonacci Series:\")\n",
    "for i in range(n):\n",
    "    print(a, end=\" \")\n",
    "    a, b = b, a + b \n",
    "print()"
   ]
  },
  {
   "cell_type": "code",
   "execution_count": 38,
   "id": "1925894a-63cd-41aa-ac9f-b45ac4ea6f0c",
   "metadata": {},
   "outputs": [
    {
     "name": "stdin",
     "output_type": "stream",
     "text": [
      "Enter the limit:  6\n"
     ]
    },
    {
     "name": "stdout",
     "output_type": "stream",
     "text": [
      "1.7180555555555557\n"
     ]
    }
   ],
   "source": [
    "# to find the sum of series 1/1! + 1/2! + 1/3! + ...1/N!\n",
    "\n",
    "n = int(input(\"Enter the limit: \"))\n",
    "fact = 1\n",
    "sum = 0.0\n",
    "if(n == 0):\n",
    "    fact = 1\n",
    "else:\n",
    "    for i in range(1,n+1):\n",
    "        fact = fact*i\n",
    "        sum += 1/fact\n",
    "print(sum)"
   ]
  },
  {
   "cell_type": "code",
   "execution_count": 40,
   "id": "3b1b54d9-031c-439e-bf91-2bcf2d5bfd44",
   "metadata": {},
   "outputs": [
    {
     "name": "stdin",
     "output_type": "stream",
     "text": [
      "Enter the limit:  7\n"
     ]
    },
    {
     "name": "stdout",
     "output_type": "stream",
     "text": [
      "3\n",
      "5\n",
      "5\n",
      "5\n",
      "7\n",
      "7\n",
      "7\n",
      "7\n",
      "7\n"
     ]
    }
   ],
   "source": [
    "# to print prime numbers within a limit\n",
    "\n",
    "limit = int(input(\"Enter the limit: \"))\n",
    "for i in range(2,limit+1):\n",
    "    for j in range(2,i):\n",
    "        if i%j == 0:\n",
    "            break\n",
    "        else:\n",
    "            print(i)"
   ]
  },
  {
   "cell_type": "code",
   "execution_count": 46,
   "id": "f38a0e9d-5063-45a7-bb7c-e7ca854d5fd1",
   "metadata": {},
   "outputs": [
    {
     "name": "stdin",
     "output_type": "stream",
     "text": [
      "Enter a limit:  20\n"
     ]
    },
    {
     "name": "stdout",
     "output_type": "stream",
     "text": [
      "1\n",
      "2\n",
      "3\n",
      "4\n",
      "5\n",
      "6\n",
      "7\n",
      "8\n",
      "9\n"
     ]
    }
   ],
   "source": [
    "# to print Armstrong numbers within a limit\n",
    "\n",
    "l = int(input(\"Enter a limit: \"))\n",
    "for i in range(1, l + 1):\n",
    "    sum = 0\n",
    "    num_of_digits = len(str(i))\n",
    "    for digit in str(i):\n",
    "        sum += int(digit) ** num_of_digits\n",
    "    if sum == i:\n",
    "        print(i)"
   ]
  },
  {
   "cell_type": "code",
   "execution_count": 5,
   "id": "160e7559-52ef-49b7-891c-c904bd95dc94",
   "metadata": {},
   "outputs": [
    {
     "name": "stdout",
     "output_type": "stream",
     "text": [
      "10\n",
      "9\n",
      "8\n",
      "7\n",
      "6\n",
      "5\n",
      "4\n",
      "3\n",
      "2\n",
      "1\n"
     ]
    }
   ],
   "source": [
    "for number in range(10, 0, -1):\n",
    "    print(number)"
   ]
  },
  {
   "cell_type": "code",
   "execution_count": 6,
   "id": "14b5892f-271b-4715-bd9a-2496e76b7d16",
   "metadata": {},
   "outputs": [
    {
     "name": "stdout",
     "output_type": "stream",
     "text": [
      "python ## # programming #anguage\n"
     ]
    }
   ],
   "source": [
    "string = \"python !$ @ programming !anguage\"\n",
    "result = \"\"\n",
    "for char in string:\n",
    "    if char.isalnum() or char == \" \":\n",
    "        result += char\n",
    "    else:\n",
    "        result += \"#\"\n",
    "print(result)"
   ]
  }
 ],
 "metadata": {
  "kernelspec": {
   "display_name": "Python [conda env:base]",
   "language": "python",
   "name": "conda-base-py"
  },
  "language_info": {
   "codemirror_mode": {
    "name": "ipython",
    "version": 3
   },
   "file_extension": ".py",
   "mimetype": "text/x-python",
   "name": "python",
   "nbconvert_exporter": "python",
   "pygments_lexer": "ipython3",
   "version": "3.12.7"
  }
 },
 "nbformat": 4,
 "nbformat_minor": 5
}
