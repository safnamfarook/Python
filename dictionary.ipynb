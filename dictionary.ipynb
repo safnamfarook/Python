{
 "cells": [
  {
   "cell_type": "code",
   "execution_count": 1,
   "id": "2f32d647-4ddf-4316-b205-15a47f9737b5",
   "metadata": {},
   "outputs": [
    {
     "name": "stdout",
     "output_type": "stream",
     "text": [
      "{'brand': 'Ford', 'model': 'Mustang', 'year': 1964}\n"
     ]
    }
   ],
   "source": [
    "thisdict = {\"brand\":\"Ford\", \"model\":\"Mustang\", \"year\":1964}\n",
    "print (thisdict)"
   ]
  },
  {
   "cell_type": "code",
   "execution_count": 7,
   "id": "0f71d268-490e-4dbc-9d20-97eb70d705d6",
   "metadata": {},
   "outputs": [
    {
     "name": "stdout",
     "output_type": "stream",
     "text": [
      "Mustang\n"
     ]
    }
   ],
   "source": [
    "x = thisdict[\"model\"]\n",
    "print (x)"
   ]
  },
  {
   "cell_type": "code",
   "execution_count": 9,
   "id": "673a9295-98e2-499d-9d9f-f2f884e2cace",
   "metadata": {},
   "outputs": [
    {
     "name": "stdout",
     "output_type": "stream",
     "text": [
      "1964\n"
     ]
    }
   ],
   "source": [
    "x = thisdict.get(\"year\")\n",
    "print (x)"
   ]
  },
  {
   "cell_type": "code",
   "execution_count": 11,
   "id": "62116e26-20bd-458f-b95d-072bbbc17e4c",
   "metadata": {},
   "outputs": [
    {
     "name": "stdout",
     "output_type": "stream",
     "text": [
      "{'brand': 'Ford', 'model': 'Mustang', 'year': 2018}\n"
     ]
    }
   ],
   "source": [
    "thisdict[\"year\"] = 2018\n",
    "print (thisdict)"
   ]
  },
  {
   "cell_type": "code",
   "execution_count": 15,
   "id": "423b0d21-5a94-4e5a-bcbc-6cd20c93bcba",
   "metadata": {},
   "outputs": [
    {
     "name": "stdout",
     "output_type": "stream",
     "text": [
      "Values:\n",
      "Ford\n",
      "Mustang\n",
      "2018\n"
     ]
    }
   ],
   "source": [
    "print (\"Values:\")\n",
    "for x in thisdict.values():\n",
    "    print (x)"
   ]
  },
  {
   "cell_type": "code",
   "execution_count": 17,
   "id": "9f038646-8666-4a9b-ac78-77f888e301fd",
   "metadata": {},
   "outputs": [
    {
     "name": "stdout",
     "output_type": "stream",
     "text": [
      "Keys and Values:\n",
      "brand Ford\n",
      "model Mustang\n",
      "year 2018\n"
     ]
    }
   ],
   "source": [
    "print (\"Keys and Values:\")\n",
    "for x,y in thisdict.items():\n",
    "    print (x,y)"
   ]
  },
  {
   "cell_type": "code",
   "execution_count": 32,
   "id": "10a8a047-a961-4fd0-a58a-7af7a404c09f",
   "metadata": {},
   "outputs": [
    {
     "name": "stdout",
     "output_type": "stream",
     "text": [
      "1.10\n",
      "2.20\n",
      "3.30\n"
     ]
    }
   ],
   "source": [
    "my_dict = {'a':10,'b':20,'c':30}\n",
    "for i, value in enumerate (my_dict.values(), start=1):\n",
    "    print (f\"{i}.{value}\")"
   ]
  },
  {
   "cell_type": "code",
   "execution_count": 39,
   "id": "408d3922-54c4-4ed9-abaa-d6c4898ed17c",
   "metadata": {},
   "outputs": [
    {
     "name": "stdout",
     "output_type": "stream",
     "text": [
      "{'name': 'ram', 'age': 12, 'place': 'calicut'}\n"
     ]
    }
   ],
   "source": [
    "d = {\"name\":\"ram\",\"age\":12,\"place\":\"calicut\"}\n",
    "print (d)"
   ]
  },
  {
   "cell_type": "code",
   "execution_count": 119,
   "id": "cd00fa46-4da6-4a6a-82f2-1d368f027f7f",
   "metadata": {},
   "outputs": [
    {
     "name": "stdout",
     "output_type": "stream",
     "text": [
      "{'stud_name': 'Tom', 'stud_age': 14, 'stud_place': 'Calicut'}\n"
     ]
    }
   ],
   "source": [
    "# For same key, the first key will be removed then result will be printed\n",
    "\n",
    "dict = {\"stud_name\":\"Tom\", \"stud_age\":14, \"stud_place\":\"Calicut\"}\n",
    "print (dict)"
   ]
  },
  {
   "cell_type": "code",
   "execution_count": 2,
   "id": "dfbf689e-6553-4ab6-b94b-6599c1b982a0",
   "metadata": {},
   "outputs": [
    {
     "name": "stdout",
     "output_type": "stream",
     "text": [
      "{'stud_name': 14, 'stud_place': 'Calicut'}\n"
     ]
    }
   ],
   "source": [
    "dict1 = {\"stud_name\":\"Tom\", \"stud_name\":14, \"stud_place\":\"Calicut\"}\n",
    "print (dict1)"
   ]
  },
  {
   "cell_type": "code",
   "execution_count": 51,
   "id": "b016db39-6ee5-4f6d-a5fb-63d43099d1f6",
   "metadata": {},
   "outputs": [
    {
     "name": "stdout",
     "output_type": "stream",
     "text": [
      "{'stud_name': 14, 'stud_age': 14, 'stud_place': 'Calicut'}\n"
     ]
    }
   ],
   "source": [
    "dict2 = {\"stud_name\":14, \"stud_age\":14, \"stud_place\":\"Calicut\"}\n",
    "print (dict2)"
   ]
  },
  {
   "cell_type": "code",
   "execution_count": 54,
   "id": "72ae8afb-6368-4c85-b087-8c922e834de4",
   "metadata": {},
   "outputs": [
    {
     "name": "stdout",
     "output_type": "stream",
     "text": [
      "{1: 'xyz', 2: 15, 3: 'abc'}\n"
     ]
    }
   ],
   "source": [
    "dict3 = {1:\"xyz\", 2:15, 3:\"abc\"} \n",
    "print (dict3)"
   ]
  },
  {
   "cell_type": "code",
   "execution_count": 57,
   "id": "fce812a7-3572-4e00-8215-3d762c32cb69",
   "metadata": {},
   "outputs": [
    {
     "data": {
      "text/plain": [
       "'Calicut'"
      ]
     },
     "execution_count": 57,
     "metadata": {},
     "output_type": "execute_result"
    }
   ],
   "source": [
    "dict[\"stud_place\"]"
   ]
  },
  {
   "cell_type": "code",
   "execution_count": 90,
   "id": "a0009460-881a-4cee-ad79-9b6df12c0298",
   "metadata": {},
   "outputs": [
    {
     "name": "stdout",
     "output_type": "stream",
     "text": [
      "{'stud_name': 'Tom', 'stud_age': 16, 'stud_place': 'Calicut'}\n"
     ]
    }
   ],
   "source": [
    "# Update a value in dictionary\n",
    "\n",
    "dict[\"stud_age\"] = 16\n",
    "print(dict)"
   ]
  },
  {
   "cell_type": "code",
   "execution_count": 92,
   "id": "5371984b-2bb0-4119-8c4a-96ce62749186",
   "metadata": {},
   "outputs": [
    {
     "name": "stdout",
     "output_type": "stream",
     "text": [
      "{'stud_name': 'Tom', 'stud_age': 16, 'stud_place': 'Calicut', 'stud_course': 'DS'}\n"
     ]
    }
   ],
   "source": [
    "# To add a key and value in dictionary\n",
    "\n",
    "dict[\"stud_course\"]= \"DS\"\n",
    "print (dict)"
   ]
  },
  {
   "cell_type": "code",
   "execution_count": 98,
   "id": "34f6f1d3-84d7-431b-9e92-52d53fce8689",
   "metadata": {},
   "outputs": [
    {
     "data": {
      "text/plain": [
       "{'stud_name': 'Tom', 'stud_place': 'Calicut'}"
      ]
     },
     "execution_count": 98,
     "metadata": {},
     "output_type": "execute_result"
    }
   ],
   "source": [
    "# Remove/Pop\n",
    "\n",
    "dict.pop(\"stud_age\")\n",
    "dict"
   ]
  },
  {
   "cell_type": "code",
   "execution_count": 100,
   "id": "2239cb97-e620-475e-b632-84953c35ef24",
   "metadata": {},
   "outputs": [
    {
     "data": {
      "text/plain": [
       "{'stud_name': 'Tom'}"
      ]
     },
     "execution_count": 100,
     "metadata": {},
     "output_type": "execute_result"
    }
   ],
   "source": [
    "# Popitem\n",
    "\n",
    "dict.popitem()\n",
    "dict"
   ]
  },
  {
   "cell_type": "code",
   "execution_count": 121,
   "id": "9b236457-a09d-49c6-b63d-d4c76753a811",
   "metadata": {},
   "outputs": [
    {
     "data": {
      "text/plain": [
       "{'stud_name': 'Tom', 'stud_age': 14}"
      ]
     },
     "execution_count": 121,
     "metadata": {},
     "output_type": "execute_result"
    }
   ],
   "source": [
    "# Delete\n",
    "\n",
    "del dict[\"stud_place\"]\n",
    "dict"
   ]
  },
  {
   "cell_type": "code",
   "execution_count": 131,
   "id": "5c8b60c5-0d83-482a-a06a-717536518e0f",
   "metadata": {},
   "outputs": [
    {
     "name": "stdout",
     "output_type": "stream",
     "text": [
      "{'stud_name': 'Tom', 'stud_age': 14, 'stud_place': 'Calicut'}\n",
      "{}\n"
     ]
    }
   ],
   "source": [
    "# Clear\n",
    "\n",
    "dict={\"stud_name\":\"Tom\",\"stud_age\":14,\"stud_place\":\"Calicut\"}\n",
    "print(dict)\n",
    "\n",
    "dict.clear()\n",
    "print(dict)"
   ]
  },
  {
   "cell_type": "code",
   "execution_count": 133,
   "id": "c7b3690a-9876-4b84-a502-a25b5d77fd1b",
   "metadata": {},
   "outputs": [],
   "source": [
    "# Delete entire dictionary\n",
    "\n",
    "del dict"
   ]
  },
  {
   "cell_type": "code",
   "execution_count": 136,
   "id": "24a242e4-196d-4af0-9547-674549a81ba1",
   "metadata": {},
   "outputs": [
    {
     "data": {
      "text/plain": [
       "{'name': None, 'age': None, 'place': None}"
      ]
     },
     "execution_count": 136,
     "metadata": {},
     "output_type": "execute_result"
    }
   ],
   "source": [
    "# Return a new dictionary with keys from seq and value equal to v (defaults to None).\n",
    "# dict.fromkeys(seq,[v])\n",
    "\n",
    "dict.fromkeys([\"name\",\"age\",\"place\"])"
   ]
  },
  {
   "cell_type": "code",
   "execution_count": 139,
   "id": "01704788-d7a4-4bb4-9b5f-b65d94fab12c",
   "metadata": {},
   "outputs": [
    {
     "data": {
      "text/plain": [
       "{'name': 1, 'age': 1}"
      ]
     },
     "execution_count": 139,
     "metadata": {},
     "output_type": "execute_result"
    }
   ],
   "source": [
    "dict.fromkeys([\"name\",\"age\"],1)"
   ]
  },
  {
   "cell_type": "code",
   "execution_count": 142,
   "id": "383c2c07-d0f8-4234-b4fc-20dd6ec5aa45",
   "metadata": {},
   "outputs": [
    {
     "name": "stdout",
     "output_type": "stream",
     "text": [
      "{1: None, 2: None, 3: None, 4: None, 5: None}\n",
      "[1, 2, 3, 4, 5]\n"
     ]
    }
   ],
   "source": [
    "# To get unique from list\n",
    "\n",
    "l=[1,2,3,4,5,5]\n",
    "print (dict.fromkeys(l))\n",
    "print (list(dict.fromkeys(l)))"
   ]
  },
  {
   "cell_type": "code",
   "execution_count": 145,
   "id": "4bcf030a-73a4-4187-a42b-f35e1d0dd040",
   "metadata": {},
   "outputs": [
    {
     "name": "stdout",
     "output_type": "stream",
     "text": [
      "ram\n",
      "{'name': 'ram'}\n"
     ]
    }
   ],
   "source": [
    "# If key is in the dictionary, return its value. If not, insert key with a value of d and return d (defaults to None).\n",
    "\n",
    "dict = {}\n",
    "print (dict.setdefault(\"name\",\"ram\"))\n",
    "print (dict)"
   ]
  },
  {
   "cell_type": "code",
   "execution_count": 148,
   "id": "5d452bb3-9f27-43d2-8f5e-ceff148571e8",
   "metadata": {},
   "outputs": [
    {
     "name": "stdout",
     "output_type": "stream",
     "text": [
      "{'name': 'Unknown'}\n",
      "Unknown\n"
     ]
    }
   ],
   "source": [
    "my_dict = {}\n",
    "# Use setdefault to ensure 'name' has a default value of 'Unknown'\n",
    "name_value = my_dict.setdefault('name', 'Unknown')\n",
    "\n",
    "# Print the dictionary and the returned value\n",
    "print(my_dict)  # Output: {'name': 'Unknown'}\n",
    "print(name_value)  # Output: 'Unknown'"
   ]
  },
  {
   "cell_type": "code",
   "execution_count": 151,
   "id": "06d520bc-64e3-4dcd-96e2-c0529eba0afc",
   "metadata": {},
   "outputs": [
    {
     "data": {
      "text/plain": [
       "{'a': 1, 'b': 2, 'c': 3, 'd': 4}"
      ]
     },
     "execution_count": 151,
     "metadata": {},
     "output_type": "execute_result"
    }
   ],
   "source": [
    "# Update the dictionary with the key/value pairs from other, overwriting existing keys.\n",
    "\n",
    "d1 = {\"a\":1,\"b\":2}\n",
    "d2 = {\"c\":3,\"d\":4}\n",
    "d1.update(d2)\n",
    "d1"
   ]
  },
  {
   "cell_type": "code",
   "execution_count": 182,
   "id": "2f921c1a-b185-43ae-a3f7-2ada34da3aeb",
   "metadata": {},
   "outputs": [
    {
     "data": {
      "text/plain": [
       "1"
      ]
     },
     "execution_count": 182,
     "metadata": {},
     "output_type": "execute_result"
    }
   ],
   "source": [
    "d1.get(\"a\")"
   ]
  },
  {
   "cell_type": "code",
   "execution_count": 157,
   "id": "9e43b812-11fd-4c9b-a004-74983c16966e",
   "metadata": {},
   "outputs": [
    {
     "data": {
      "text/plain": [
       "dict_items([('a', 1), ('b', 2), ('c', 3), ('d', 4)])"
      ]
     },
     "execution_count": 157,
     "metadata": {},
     "output_type": "execute_result"
    }
   ],
   "source": [
    "d1.items()"
   ]
  },
  {
   "cell_type": "code",
   "execution_count": 160,
   "id": "a49bbc20-f770-4028-8c25-cccfa2884220",
   "metadata": {},
   "outputs": [
    {
     "data": {
      "text/plain": [
       "dict_keys(['a', 'b', 'c', 'd'])"
      ]
     },
     "execution_count": 160,
     "metadata": {},
     "output_type": "execute_result"
    }
   ],
   "source": [
    "d1.keys()"
   ]
  },
  {
   "cell_type": "code",
   "execution_count": 163,
   "id": "ef405c2b-874a-4e05-ac53-2c5455601f2e",
   "metadata": {},
   "outputs": [
    {
     "data": {
      "text/plain": [
       "dict_values([1, 2, 3, 4])"
      ]
     },
     "execution_count": 163,
     "metadata": {},
     "output_type": "execute_result"
    }
   ],
   "source": [
    "d1.values()"
   ]
  },
  {
   "cell_type": "code",
   "execution_count": 184,
   "id": "fb28605a-11bb-43d2-9d6c-584ad1ec2d38",
   "metadata": {},
   "outputs": [
    {
     "data": {
      "text/plain": [
       "{'apple': 2, 'banana': 5, 'cherry': 8}"
      ]
     },
     "execution_count": 184,
     "metadata": {},
     "output_type": "execute_result"
    }
   ],
   "source": [
    "dict = {\"apple\":2, \"banana\":5, \"cherry\":8}\n",
    "dict"
   ]
  },
  {
   "cell_type": "code",
   "execution_count": 192,
   "id": "d882ef00-4ac7-4bc9-90d3-f965a626cd61",
   "metadata": {},
   "outputs": [
    {
     "name": "stdout",
     "output_type": "stream",
     "text": [
      "650\n"
     ]
    }
   ],
   "source": [
    "d = {'A':100,'B':250,'C':300}\n",
    "print(sum(d.values()))"
   ]
  },
  {
   "cell_type": "code",
   "execution_count": 198,
   "id": "e0b3e5c1-3b98-4094-9dc3-a90905140f1b",
   "metadata": {},
   "outputs": [
    {
     "data": {
      "text/plain": [
       "7500000"
      ]
     },
     "execution_count": 198,
     "metadata": {},
     "output_type": "execute_result"
    }
   ],
   "source": [
    "d = {'A':100,'B':250,'C':300}\n",
    "b = 1\n",
    "for i in d: \n",
    "    b = b*d[i]\n",
    "b"
   ]
  },
  {
   "cell_type": "code",
   "execution_count": 202,
   "id": "abdc4b9a-3f41-4d41-97ec-e2d0d1f5e8bd",
   "metadata": {},
   "outputs": [
    {
     "data": {
      "text/plain": [
       "{'apple': 2, 'cherry': 8}"
      ]
     },
     "execution_count": 202,
     "metadata": {},
     "output_type": "execute_result"
    }
   ],
   "source": [
    "dict = {\"apple\":2, \"banana\":5, \"cherry\":8}\n",
    "dict.pop(\"banana\")\n",
    "dict"
   ]
  },
  {
   "cell_type": "code",
   "execution_count": 3,
   "id": "7b59dce6-9c3d-4aae-9756-d086dd3494cf",
   "metadata": {},
   "outputs": [
    {
     "data": {
      "text/plain": [
       "{'a': 1, 'b': 2, 'c': 3}"
      ]
     },
     "execution_count": 3,
     "metadata": {},
     "output_type": "execute_result"
    }
   ],
   "source": [
    "keys = ['a', 'b', 'c']\n",
    "values = [1, 2, 3]\n",
    "dictionary = dict(zip(keys, values))\n",
    "dictionary"
   ]
  },
  {
   "cell_type": "code",
   "execution_count": 37,
   "id": "c61a42ef-72e2-48a5-9b67-1c509cce50ee",
   "metadata": {},
   "outputs": [
    {
     "data": {
      "text/plain": [
       "'Delhi'"
      ]
     },
     "execution_count": 37,
     "metadata": {},
     "output_type": "execute_result"
    }
   ],
   "source": [
    "patientDict = {\"clinic\":{\"patient\":{\"name\":\"Arun\",\"address\":{\"place1\":\"Delhi\",\"place2\":\"Bombay\"}}}}\n",
    "patientDict.get(\"clinic\").get(\"patient\").get(\"address\").get(\"place1\")"
   ]
  },
  {
   "cell_type": "code",
   "execution_count": 39,
   "id": "3c8ae707-0756-44f3-ae57-b31d4dba0a12",
   "metadata": {},
   "outputs": [
    {
     "name": "stdout",
     "output_type": "stream",
     "text": [
      "Yes\n"
     ]
    }
   ],
   "source": [
    "mydict = {'a': 10, 'b': 20, 'c': 30}\n",
    "check = 20\n",
    "if check in mydict.values():\n",
    "    print (\"Yes\")\n",
    "else:\n",
    "    print (\"No\")"
   ]
  },
  {
   "cell_type": "code",
   "execution_count": 52,
   "id": "44697e29-1b74-4f43-9f29-219292dc1e34",
   "metadata": {},
   "outputs": [
    {
     "data": {
      "text/plain": [
       "{'emp1': {'name': 'John', 'salary': 10000},\n",
       " 'emp2': {'name': 'Jack', 'salary': 30000},\n",
       " 'emp3': {'name': 'James', 'salary': 50000}}"
      ]
     },
     "execution_count": 52,
     "metadata": {},
     "output_type": "execute_result"
    }
   ],
   "source": [
    "employeeDict = {'emp1':{'name':'John','salary':10000},'emp2':{'name':'Jacob','salary':30000},'emp3':{'name':'James','salary':50000}}\n",
    "employeeDict['emp2']['name'] = 'Jack'\n",
    "employeeDict"
   ]
  },
  {
   "cell_type": "code",
   "execution_count": 54,
   "id": "4135fb19-5d48-4af3-bf3a-4f436ce18da6",
   "metadata": {},
   "outputs": [
    {
     "name": "stdout",
     "output_type": "stream",
     "text": [
      "{'a': 2, 'b': 2, 'c': 2}\n"
     ]
    }
   ],
   "source": [
    "keys = ['a', 'b', 'c']\n",
    "x = 2\n",
    "my_dict = {}\n",
    "\n",
    "for key in keys:\n",
    "    my_dict[key] = x\n",
    "print(my_dict)"
   ]
  },
  {
   "cell_type": "code",
   "execution_count": 58,
   "id": "8b493ad6-4c3f-4526-b3b9-afa868916362",
   "metadata": {},
   "outputs": [
    {
     "name": "stdout",
     "output_type": "stream",
     "text": [
      "{'nikhil': 1, 'akshat': 3}\n"
     ]
    }
   ],
   "source": [
    "test_dict = {'nikhil': 1, \"akash\": 2, 'akshat': 3, 'manjeet': 4}\n",
    "x = {key: test_dict[key] for key in test_dict.keys()\n",
    "\t& {'akshat', 'nikhil'}}\n",
    "print(x)"
   ]
  },
  {
   "cell_type": "code",
   "execution_count": 2,
   "id": "ebefc791-d2e9-4b8d-b1f6-5dbf71d4ca11",
   "metadata": {},
   "outputs": [
    {
     "name": "stdin",
     "output_type": "stream",
     "text": [
      "Enter your grade from A to F: B\n"
     ]
    },
    {
     "name": "stdout",
     "output_type": "stream",
     "text": [
      "The GPA for grade B is: 3.0\n"
     ]
    }
   ],
   "source": [
    "dict = {\n",
    "    \"A\": 4.0,\n",
    "    \"B\": 3.0,\n",
    "    \"C\": 2.0,\n",
    "    \"D\": 1.0,\n",
    "    \"F\": 0.0\n",
    "}\n",
    "grade = input(\"Enter your grade from A to F:\")\n",
    "if grade in dict:\n",
    "    print(f\"The GPA for grade {grade} is: {dict[grade]}\")\n",
    "else:\n",
    "    print(\"Invalid grade\")"
   ]
  }
 ],
 "metadata": {
  "kernelspec": {
   "display_name": "Python [conda env:base] *",
   "language": "python",
   "name": "conda-base-py"
  },
  "language_info": {
   "codemirror_mode": {
    "name": "ipython",
    "version": 3
   },
   "file_extension": ".py",
   "mimetype": "text/x-python",
   "name": "python",
   "nbconvert_exporter": "python",
   "pygments_lexer": "ipython3",
   "version": "3.11.5"
  }
 },
 "nbformat": 4,
 "nbformat_minor": 5
}
