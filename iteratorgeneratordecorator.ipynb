{
 "cells": [
  {
   "cell_type": "code",
   "execution_count": 8,
   "id": "6edbc073-b3c6-40a6-ab20-2a8a99ce36f8",
   "metadata": {
    "tags": []
   },
   "outputs": [
    {
     "name": "stdout",
     "output_type": "stream",
     "text": [
      "apple\n",
      "orange\n",
      "grapes\n"
     ]
    }
   ],
   "source": [
    "# Iterator\n",
    "# iter,next\n",
    "\n",
    "fruits = [\"apple\",\"orange\",\"grapes\"]\n",
    "x = iter(fruits)\n",
    "print(next(x))\n",
    "print(next(x))\n",
    "print(next(x))"
   ]
  },
  {
   "cell_type": "code",
   "execution_count": 12,
   "id": "50fd2c09-fe57-4e2a-bec6-969d49db9dcf",
   "metadata": {
    "tags": []
   },
   "outputs": [
    {
     "name": "stdout",
     "output_type": "stream",
     "text": [
      "0\n",
      "1\n",
      "2\n",
      "3\n",
      "4\n"
     ]
    }
   ],
   "source": [
    "# Generator\n",
    "\n",
    "def mygen(n):\n",
    "    value = 0\n",
    "    while value < n:\n",
    "        yield value          # Holding\n",
    "        value += 1      \n",
    "for i in mygen(5):\n",
    "    print(i)"
   ]
  },
  {
   "cell_type": "code",
   "execution_count": 14,
   "id": "981d2b66-9df1-4e39-aeb0-dbcff1b533cc",
   "metadata": {
    "tags": []
   },
   "outputs": [
    {
     "name": "stdout",
     "output_type": "stream",
     "text": [
      "HELLO\n"
     ]
    }
   ],
   "source": [
    "# Decorator\n",
    "\n",
    "def capital(fun):\n",
    "    def inner():\n",
    "        org = fun()                     # Call the original function\n",
    "        return org.upper()              # Modify the result to uppercase\n",
    "    return inner\n",
    "@capital\n",
    "def original():\n",
    "    return \"hello\"\n",
    "print(original())"
   ]
  },
  {
   "cell_type": "code",
   "execution_count": 16,
   "id": "0a16fede-510a-4fdd-ae89-926f720606e2",
   "metadata": {},
   "outputs": [
    {
     "name": "stdout",
     "output_type": "stream",
     "text": [
      "hello\n"
     ]
    }
   ],
   "source": [
    "def original():\n",
    "    return \"hello\"\n",
    "print(original())"
   ]
  }
 ],
 "metadata": {
  "kernelspec": {
   "display_name": "Python [conda env:base] *",
   "language": "python",
   "name": "conda-base-py"
  },
  "language_info": {
   "codemirror_mode": {
    "name": "ipython",
    "version": 3
   },
   "file_extension": ".py",
   "mimetype": "text/x-python",
   "name": "python",
   "nbconvert_exporter": "python",
   "pygments_lexer": "ipython3",
   "version": "3.11.5"
  }
 },
 "nbformat": 4,
 "nbformat_minor": 5
}
