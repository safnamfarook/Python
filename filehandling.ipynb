{
 "cells": [
  {
   "cell_type": "code",
   "execution_count": 5,
   "id": "b340f0db-3ece-4da8-b697-c2d89e7d5a57",
   "metadata": {},
   "outputs": [],
   "source": [
    "# Python provides several functions to work with files, allowing you to create, read, write, and append data.\n",
    "# Here are the common file modes:\n",
    "\n",
    "# 'r' – Read (default mode, file must exist)\n",
    "# 'w' – Write (creates file if it doesn’t exist; overwrites if it does)\n",
    "# 'a' – Append (creates file if it doesn’t exist; adds to end of file if it does)"
   ]
  },
  {
   "cell_type": "code",
   "execution_count": 30,
   "id": "5fd4d684-56e4-4062-b4d1-d556418862ac",
   "metadata": {
    "tags": []
   },
   "outputs": [],
   "source": [
    "# Creating a file\n",
    "\n",
    "file = open(\"Demo.txt\",\"x\")        # a demo text file is created"
   ]
  },
  {
   "cell_type": "code",
   "execution_count": 9,
   "id": "a99f1979-760d-46dc-98d6-2af3fa68c4c1",
   "metadata": {
    "tags": []
   },
   "outputs": [
    {
     "name": "stdout",
     "output_type": "stream",
     "text": [
      "<_io.TextIOWrapper name='Demo.txt' mode='r' encoding='UTF-8'>\n"
     ]
    }
   ],
   "source": [
    "file = open(\"Demo.txt\",\"r\")        # opens the file\n",
    "print(file)                        # prints the text file name and the mode operation"
   ]
  },
  {
   "cell_type": "code",
   "execution_count": 32,
   "id": "a1d12a80-5fe4-4145-a120-61665a7c7f81",
   "metadata": {
    "tags": []
   },
   "outputs": [
    {
     "data": {
      "text/plain": [
       "13"
      ]
     },
     "execution_count": 32,
     "metadata": {},
     "output_type": "execute_result"
    }
   ],
   "source": [
    "# Write operation\n",
    "# Append method\n",
    "\n",
    "file = open(\"Demo.txt\",\"a\")         # to append the text\n",
    "file.write(\"Get to know!!\")"
   ]
  },
  {
   "cell_type": "code",
   "execution_count": 13,
   "id": "a7a01a77-f46f-43f3-87e3-0260164c71ac",
   "metadata": {
    "tags": []
   },
   "outputs": [
    {
     "name": "stdout",
     "output_type": "stream",
     "text": [
      "Get to know!!\n"
     ]
    }
   ],
   "source": [
    "file = open(\"Demo.txt\",\"r\")         # to read the append file\n",
    "print(file.read())"
   ]
  },
  {
   "cell_type": "code",
   "execution_count": 34,
   "id": "51ca2c6c-1f3a-455e-8e67-d14a0d4e9006",
   "metadata": {},
   "outputs": [
    {
     "name": "stdout",
     "output_type": "stream",
     "text": [
      "Get t\n"
     ]
    }
   ],
   "source": [
    "file = open(\"Demo.txt\",\"r\") \n",
    "print(file.read(5))                 # prints the number of characters ie 5 characters to be displayed from the text"
   ]
  },
  {
   "cell_type": "code",
   "execution_count": 36,
   "id": "5288ed73-098a-4dee-8d77-e94d765d111a",
   "metadata": {
    "tags": []
   },
   "outputs": [
    {
     "name": "stdout",
     "output_type": "stream",
     "text": [
      "o know!!\n"
     ]
    }
   ],
   "source": [
    "print(file.readline())              # prints the first line from the text"
   ]
  },
  {
   "cell_type": "code",
   "execution_count": 38,
   "id": "ac4c9404-3fa6-4907-b0c2-d0d462765290",
   "metadata": {
    "tags": []
   },
   "outputs": [
    {
     "name": "stdout",
     "output_type": "stream",
     "text": [
      "Get to know!!\n"
     ]
    }
   ],
   "source": [
    "file = open(\"Demo.txt\",\"r\")\n",
    "print(file.readline())                # prints the nextline"
   ]
  },
  {
   "cell_type": "code",
   "execution_count": 40,
   "id": "0e9aa2ce-c2f1-4ca6-ac6c-35fb221365f5",
   "metadata": {
    "tags": []
   },
   "outputs": [],
   "source": [
    "file = open(\"Demo.txt\",\"r\")\n",
    "file.close()                          # close the file"
   ]
  },
  {
   "cell_type": "code",
   "execution_count": 42,
   "id": "ae901d34-7497-4f7c-9914-505756b9f811",
   "metadata": {
    "tags": []
   },
   "outputs": [
    {
     "name": "stdout",
     "output_type": "stream",
     "text": [
      "Get to know!!\n"
     ]
    }
   ],
   "source": [
    "f = open(\"Demo.txt\",\"r\")              # to read the append file\n",
    "print(f.read())"
   ]
  },
  {
   "cell_type": "code",
   "execution_count": 45,
   "id": "59eff21e-b82b-4117-8f26-26dc7a3d8688",
   "metadata": {
    "tags": []
   },
   "outputs": [
    {
     "name": "stdout",
     "output_type": "stream",
     "text": [
      "Oops, All contents are deleted!!!\n"
     ]
    }
   ],
   "source": [
    "# Write method\n",
    "\n",
    "f = open(\"Demo.txt\",\"w\")              # overwrite the contents in the text file\n",
    "f.write(\"Oops, All contents are deleted!!!\")\n",
    "\n",
    "f = open(\"Demo.txt\",\"r\")\n",
    "print(f.read())"
   ]
  },
  {
   "cell_type": "code",
   "execution_count": 86,
   "id": "e8c411fa-d182-44d0-a2f1-b05cdd356f6f",
   "metadata": {
    "tags": []
   },
   "outputs": [],
   "source": [
    "# Create a file\n",
    "\n",
    "f = open(\"python.txt\",\"x\")             # creating a file"
   ]
  },
  {
   "cell_type": "code",
   "execution_count": 88,
   "id": "37fc005a-cb08-430e-8369-611b8dfa1015",
   "metadata": {},
   "outputs": [
    {
     "data": {
      "text/plain": [
       "17"
      ]
     },
     "execution_count": 88,
     "metadata": {},
     "output_type": "execute_result"
    }
   ],
   "source": [
    "f = open(\"python.txt\",\"a\")\n",
    "f.write(\"Hi!! everyone....\")"
   ]
  },
  {
   "cell_type": "code",
   "execution_count": 90,
   "id": "4c012b22-f154-4d62-91a5-147a044df5e7",
   "metadata": {
    "tags": []
   },
   "outputs": [
    {
     "name": "stdout",
     "output_type": "stream",
     "text": [
      "Hi!! everyone....\n"
     ]
    }
   ],
   "source": [
    "f = open(\"python.txt\",\"r\")\n",
    "print(f.read())"
   ]
  },
  {
   "cell_type": "code",
   "execution_count": 92,
   "id": "e8d133a6-ead7-4cf4-8264-525429335219",
   "metadata": {
    "tags": []
   },
   "outputs": [
    {
     "data": {
      "text/plain": [
       "8"
      ]
     },
     "execution_count": 92,
     "metadata": {},
     "output_type": "execute_result"
    }
   ],
   "source": [
    "f = open(\"python.txt\",\"w\")\n",
    "f.write(\"Hello\\nhi\")"
   ]
  },
  {
   "cell_type": "code",
   "execution_count": 94,
   "id": "45bd25b6-53e7-46d0-bac7-24a4ab32e9bc",
   "metadata": {
    "tags": []
   },
   "outputs": [
    {
     "name": "stdout",
     "output_type": "stream",
     "text": [
      "Hello\n",
      "hi\n"
     ]
    }
   ],
   "source": [
    "f = open(\"python.txt\",\"r\")\n",
    "print(f.read())"
   ]
  },
  {
   "cell_type": "code",
   "execution_count": 67,
   "id": "7262295f-811e-49b1-a5e1-498ab41cb2de",
   "metadata": {
    "tags": []
   },
   "outputs": [
    {
     "data": {
      "text/plain": [
       "18"
      ]
     },
     "execution_count": 67,
     "metadata": {},
     "output_type": "execute_result"
    }
   ],
   "source": [
    "f = open(\"myfile.txt\",\"a\")              # creating a file using append method\n",
    "f.write(\"Hahahahahah.......\")"
   ]
  },
  {
   "cell_type": "code",
   "execution_count": 69,
   "id": "41aa1f7c-e2fe-477a-8696-a90582b7e9d7",
   "metadata": {
    "tags": []
   },
   "outputs": [
    {
     "name": "stdout",
     "output_type": "stream",
     "text": [
      "Hahahahahah.......\n"
     ]
    }
   ],
   "source": [
    "f = open(\"myfile.txt\",\"r\")\n",
    "print(f.read()) "
   ]
  },
  {
   "cell_type": "code",
   "execution_count": 71,
   "id": "ff61dc48-39ab-4bbb-8398-5ac6686d1caf",
   "metadata": {},
   "outputs": [
    {
     "data": {
      "text/plain": [
       "'/Users/safna/Desktop/DS'"
      ]
     },
     "execution_count": 71,
     "metadata": {},
     "output_type": "execute_result"
    }
   ],
   "source": [
    "# getcwd() - Get the present working directory\n",
    "\n",
    "import os\n",
    "os.getcwd()"
   ]
  },
  {
   "cell_type": "code",
   "execution_count": 99,
   "id": "9ea26d11-9b08-46dc-8946-1d072f550ae5",
   "metadata": {
    "tags": []
   },
   "outputs": [
    {
     "data": {
      "text/plain": [
       "['pythonpractice.ipynb',\n",
       " 'loopcontrollstatements.ipynb',\n",
       " 'tuple.ipynb',\n",
       " 'statistics module.ipynb',\n",
       " 'Demo.txt',\n",
       " '.DS_Store',\n",
       " 'set.ipynb',\n",
       " 'error_handling 2.ipynb',\n",
       " 'machinetest.ipynb',\n",
       " 'list.ipynb',\n",
       " 'operations.ipynb',\n",
       " 'errorhandling.ipynb',\n",
       " 'python.txt',\n",
       " 'dictionary.ipynb',\n",
       " 'functions.ipynb',\n",
       " 'randommodule.ipynb',\n",
       " 'loop.ipynb',\n",
       " 'decisionmakingstatements.ipynb',\n",
       " 'sample.py',\n",
       " 'file handling.ipynb',\n",
       " 'mathfunction.ipynb',\n",
       " 'myfile.txt',\n",
       " '.ipynb_checkpoints',\n",
       " 'stringfunctions.ipynb',\n",
       " 'typecasting.ipynb',\n",
       " 'patternprinting.ipynb',\n",
       " 'listcomprehension.ipynb']"
      ]
     },
     "execution_count": 99,
     "metadata": {},
     "output_type": "execute_result"
    }
   ],
   "source": [
    "#listdir() - List all the files and sub-directories inside a directory\n",
    "\n",
    "os.listdir()"
   ]
  },
  {
   "cell_type": "code",
   "execution_count": 102,
   "id": "e8c3ed49-b9f2-4f47-a158-21dcc9d73c7c",
   "metadata": {
    "tags": []
   },
   "outputs": [],
   "source": [
    "# delete a file\n",
    "\n",
    "fl = open(\"demofile.txt\",\"x\")           #create file demofile.txt"
   ]
  },
  {
   "cell_type": "code",
   "execution_count": 104,
   "id": "f51ff2e3-4665-4763-9dd8-b352530f76a1",
   "metadata": {},
   "outputs": [],
   "source": [
    "fl.close()"
   ]
  },
  {
   "cell_type": "code",
   "execution_count": 106,
   "id": "8c54536d-da7d-45cf-b583-d3190198cfa7",
   "metadata": {
    "tags": []
   },
   "outputs": [],
   "source": [
    "import os\n",
    "os.remove(\"demofile.txt\")"
   ]
  },
  {
   "cell_type": "code",
   "execution_count": 108,
   "id": "d9e87444-81fd-4093-b0c5-2c0254ce4254",
   "metadata": {
    "tags": []
   },
   "outputs": [
    {
     "name": "stdout",
     "output_type": "stream",
     "text": [
      "The file does not exist\n"
     ]
    }
   ],
   "source": [
    "import os                                # to check if the file exists and delete\n",
    "if os.path.exists(\"demofile.txt\"):\n",
    "    os.remove(\"demofile.txt\")\n",
    "else:\n",
    "    print(\"The file does not exist\")"
   ]
  },
  {
   "cell_type": "code",
   "execution_count": 128,
   "id": "22df085e-4a68-4628-85d6-1a629f2263c5",
   "metadata": {
    "tags": []
   },
   "outputs": [
    {
     "ename": "FileNotFoundError",
     "evalue": "[Errno 2] No such file or directory: 'safna'",
     "output_type": "error",
     "traceback": [
      "\u001b[0;31m---------------------------------------------------------------------------\u001b[0m",
      "\u001b[0;31mFileNotFoundError\u001b[0m                         Traceback (most recent call last)",
      "Cell \u001b[0;32mIn[128], line 4\u001b[0m\n\u001b[1;32m      1\u001b[0m \u001b[38;5;66;03m# Removes only when the directory is empty otherwise error\u001b[39;00m\n\u001b[1;32m      3\u001b[0m \u001b[38;5;28;01mimport\u001b[39;00m \u001b[38;5;21;01mos\u001b[39;00m\n\u001b[0;32m----> 4\u001b[0m os\u001b[38;5;241m.\u001b[39mrmdir(\u001b[38;5;124m\"\u001b[39m\u001b[38;5;124msafna\u001b[39m\u001b[38;5;124m\"\u001b[39m)\n",
      "\u001b[0;31mFileNotFoundError\u001b[0m: [Errno 2] No such file or directory: 'safna'"
     ]
    }
   ],
   "source": [
    "# Removes only when the directory is empty otherwise error\n",
    "\n",
    "import os\n",
    "os.rmdir(\"safna\")"
   ]
  },
  {
   "cell_type": "code",
   "execution_count": 136,
   "id": "fefff506-6b87-41e8-87cf-63ea25a10c83",
   "metadata": {},
   "outputs": [
    {
     "ename": "FileNotFoundError",
     "evalue": "[Errno 2] No such file or directory: 'safna'",
     "output_type": "error",
     "traceback": [
      "\u001b[0;31m---------------------------------------------------------------------------\u001b[0m",
      "\u001b[0;31mFileNotFoundError\u001b[0m                         Traceback (most recent call last)",
      "Cell \u001b[0;32mIn[136], line 4\u001b[0m\n\u001b[1;32m      1\u001b[0m \u001b[38;5;66;03m# Delete a non-empty directory\u001b[39;00m\n\u001b[1;32m      3\u001b[0m \u001b[38;5;28;01mimport\u001b[39;00m \u001b[38;5;21;01mshutil\u001b[39;00m\n\u001b[0;32m----> 4\u001b[0m shutil\u001b[38;5;241m.\u001b[39mrmtree(\u001b[38;5;124m\"\u001b[39m\u001b[38;5;124msafna\u001b[39m\u001b[38;5;124m\"\u001b[39m)\n\u001b[1;32m      5\u001b[0m \u001b[38;5;28mprint\u001b[39m(\u001b[38;5;124m\"\u001b[39m\u001b[38;5;124mNon-empty directory removed successfully\u001b[39m\u001b[38;5;124m\"\u001b[39m)\n",
      "File \u001b[0;32m~/anaconda3/lib/python3.11/shutil.py:722\u001b[0m, in \u001b[0;36mrmtree\u001b[0;34m(path, ignore_errors, onerror, dir_fd)\u001b[0m\n\u001b[1;32m    720\u001b[0m     orig_st \u001b[38;5;241m=\u001b[39m os\u001b[38;5;241m.\u001b[39mlstat(path, dir_fd\u001b[38;5;241m=\u001b[39mdir_fd)\n\u001b[1;32m    721\u001b[0m \u001b[38;5;28;01mexcept\u001b[39;00m \u001b[38;5;167;01mException\u001b[39;00m:\n\u001b[0;32m--> 722\u001b[0m     onerror(os\u001b[38;5;241m.\u001b[39mlstat, path, sys\u001b[38;5;241m.\u001b[39mexc_info())\n\u001b[1;32m    723\u001b[0m     \u001b[38;5;28;01mreturn\u001b[39;00m\n\u001b[1;32m    724\u001b[0m \u001b[38;5;28;01mtry\u001b[39;00m:\n",
      "File \u001b[0;32m~/anaconda3/lib/python3.11/shutil.py:720\u001b[0m, in \u001b[0;36mrmtree\u001b[0;34m(path, ignore_errors, onerror, dir_fd)\u001b[0m\n\u001b[1;32m    717\u001b[0m \u001b[38;5;66;03m# Note: To guard against symlink races, we use the standard\u001b[39;00m\n\u001b[1;32m    718\u001b[0m \u001b[38;5;66;03m# lstat()/open()/fstat() trick.\u001b[39;00m\n\u001b[1;32m    719\u001b[0m \u001b[38;5;28;01mtry\u001b[39;00m:\n\u001b[0;32m--> 720\u001b[0m     orig_st \u001b[38;5;241m=\u001b[39m os\u001b[38;5;241m.\u001b[39mlstat(path, dir_fd\u001b[38;5;241m=\u001b[39mdir_fd)\n\u001b[1;32m    721\u001b[0m \u001b[38;5;28;01mexcept\u001b[39;00m \u001b[38;5;167;01mException\u001b[39;00m:\n\u001b[1;32m    722\u001b[0m     onerror(os\u001b[38;5;241m.\u001b[39mlstat, path, sys\u001b[38;5;241m.\u001b[39mexc_info())\n",
      "\u001b[0;31mFileNotFoundError\u001b[0m: [Errno 2] No such file or directory: 'safna'"
     ]
    }
   ],
   "source": [
    "# Delete a non-empty directory\n",
    "\n",
    "import shutil\n",
    "shutil.rmtree(\"safna\")\n",
    "print(\"Non-empty directory removed successfully\")"
   ]
  },
  {
   "cell_type": "code",
   "execution_count": 138,
   "id": "80b3eb5b-031b-4b15-8ac9-fa4c878fc523",
   "metadata": {},
   "outputs": [
    {
     "data": {
      "text/plain": [
       "<function TextIOWrapper.close()>"
      ]
     },
     "execution_count": 138,
     "metadata": {},
     "output_type": "execute_result"
    }
   ],
   "source": [
    "f = open(\"example.txt\",\"x\")\n",
    "f.close"
   ]
  },
  {
   "cell_type": "code",
   "execution_count": 140,
   "id": "8ed9564f-3148-4341-83d6-651238777836",
   "metadata": {},
   "outputs": [
    {
     "name": "stdout",
     "output_type": "stream",
     "text": [
      "\n"
     ]
    }
   ],
   "source": [
    "# Using with Statement (Best Practice)\n",
    "# Using with automatically closes the file after the block is executed, even if an error occurs.\n",
    "\n",
    "with open(\"example.txt\", \"r\") as file:\n",
    "    content = file.read()\n",
    "    print(content)\n",
    "\n",
    "with open(\"example.txt\", \"w\") as file:\n",
    "    file.write(\"This is a new line\")"
   ]
  },
  {
   "cell_type": "markdown",
   "id": "2820c685-2e2f-482e-8fbd-fcec377d8a59",
   "metadata": {
    "tags": []
   },
   "source": [
    "***********************************************************"
   ]
  },
  {
   "cell_type": "code",
   "execution_count": 142,
   "id": "cbb36845-d440-49b5-9af4-a35d62191c9d",
   "metadata": {},
   "outputs": [
    {
     "name": "stdout",
     "output_type": "stream",
     "text": [
      "This is a new line\n"
     ]
    }
   ],
   "source": [
    "file = open(\"example.txt\", \"r\")\n",
    "content = file.read()\n",
    "print(content)\n",
    "file.close()"
   ]
  },
  {
   "cell_type": "code",
   "execution_count": 144,
   "id": "0cefc45e-24e9-4f2e-b43d-cf4df3045d33",
   "metadata": {},
   "outputs": [
    {
     "name": "stdout",
     "output_type": "stream",
     "text": [
      "['This is a new line']\n"
     ]
    }
   ],
   "source": [
    "file = open(\"example.txt\", \"r\")\n",
    "lines = file.readlines()\n",
    "print(lines)\n",
    "file.close()"
   ]
  },
  {
   "cell_type": "code",
   "execution_count": 146,
   "id": "afa853b2-2aa0-4271-a951-18d6c6db126e",
   "metadata": {},
   "outputs": [
    {
     "ename": "FileNotFoundError",
     "evalue": "[Errno 2] No such file or directory: 'path/to/your/file.txt'",
     "output_type": "error",
     "traceback": [
      "\u001b[0;31m---------------------------------------------------------------------------\u001b[0m",
      "\u001b[0;31mFileNotFoundError\u001b[0m                         Traceback (most recent call last)",
      "Cell \u001b[0;32mIn[146], line 12\u001b[0m\n\u001b[1;32m     10\u001b[0m \u001b[38;5;66;03m# Usage\u001b[39;00m\n\u001b[1;32m     11\u001b[0m file_path \u001b[38;5;241m=\u001b[39m \u001b[38;5;124m'\u001b[39m\u001b[38;5;124mpath/to/your/file.txt\u001b[39m\u001b[38;5;124m'\u001b[39m\n\u001b[0;32m---> 12\u001b[0m backup_and_delete(file_path)\n",
      "Cell \u001b[0;32mIn[146], line 6\u001b[0m, in \u001b[0;36mbackup_and_delete\u001b[0;34m(file_path)\u001b[0m\n\u001b[1;32m      4\u001b[0m \u001b[38;5;28;01mdef\u001b[39;00m \u001b[38;5;21mbackup_and_delete\u001b[39m(file_path):\n\u001b[1;32m      5\u001b[0m     backup_path \u001b[38;5;241m=\u001b[39m file_path \u001b[38;5;241m+\u001b[39m \u001b[38;5;124m\"\u001b[39m\u001b[38;5;124m.bak\u001b[39m\u001b[38;5;124m\"\u001b[39m\n\u001b[0;32m----> 6\u001b[0m     shutil\u001b[38;5;241m.\u001b[39mcopy(file_path, backup_path)  \u001b[38;5;66;03m# Create a backup\u001b[39;00m\n\u001b[1;32m      7\u001b[0m     os\u001b[38;5;241m.\u001b[39mremove(file_path)  \u001b[38;5;66;03m# Delete the original file\u001b[39;00m\n\u001b[1;32m      8\u001b[0m     \u001b[38;5;28mprint\u001b[39m(\u001b[38;5;124mf\u001b[39m\u001b[38;5;124m\"\u001b[39m\u001b[38;5;124mBackup created at \u001b[39m\u001b[38;5;132;01m{\u001b[39;00mbackup_path\u001b[38;5;132;01m}\u001b[39;00m\u001b[38;5;124m\"\u001b[39m)\n",
      "File \u001b[0;32m~/anaconda3/lib/python3.11/shutil.py:419\u001b[0m, in \u001b[0;36mcopy\u001b[0;34m(src, dst, follow_symlinks)\u001b[0m\n\u001b[1;32m    417\u001b[0m \u001b[38;5;28;01mif\u001b[39;00m os\u001b[38;5;241m.\u001b[39mpath\u001b[38;5;241m.\u001b[39misdir(dst):\n\u001b[1;32m    418\u001b[0m     dst \u001b[38;5;241m=\u001b[39m os\u001b[38;5;241m.\u001b[39mpath\u001b[38;5;241m.\u001b[39mjoin(dst, os\u001b[38;5;241m.\u001b[39mpath\u001b[38;5;241m.\u001b[39mbasename(src))\n\u001b[0;32m--> 419\u001b[0m copyfile(src, dst, follow_symlinks\u001b[38;5;241m=\u001b[39mfollow_symlinks)\n\u001b[1;32m    420\u001b[0m copymode(src, dst, follow_symlinks\u001b[38;5;241m=\u001b[39mfollow_symlinks)\n\u001b[1;32m    421\u001b[0m \u001b[38;5;28;01mreturn\u001b[39;00m dst\n",
      "File \u001b[0;32m~/anaconda3/lib/python3.11/shutil.py:256\u001b[0m, in \u001b[0;36mcopyfile\u001b[0;34m(src, dst, follow_symlinks)\u001b[0m\n\u001b[1;32m    254\u001b[0m     os\u001b[38;5;241m.\u001b[39msymlink(os\u001b[38;5;241m.\u001b[39mreadlink(src), dst)\n\u001b[1;32m    255\u001b[0m \u001b[38;5;28;01melse\u001b[39;00m:\n\u001b[0;32m--> 256\u001b[0m     \u001b[38;5;28;01mwith\u001b[39;00m \u001b[38;5;28mopen\u001b[39m(src, \u001b[38;5;124m'\u001b[39m\u001b[38;5;124mrb\u001b[39m\u001b[38;5;124m'\u001b[39m) \u001b[38;5;28;01mas\u001b[39;00m fsrc:\n\u001b[1;32m    257\u001b[0m         \u001b[38;5;28;01mtry\u001b[39;00m:\n\u001b[1;32m    258\u001b[0m             \u001b[38;5;28;01mwith\u001b[39;00m \u001b[38;5;28mopen\u001b[39m(dst, \u001b[38;5;124m'\u001b[39m\u001b[38;5;124mwb\u001b[39m\u001b[38;5;124m'\u001b[39m) \u001b[38;5;28;01mas\u001b[39;00m fdst:\n\u001b[1;32m    259\u001b[0m                 \u001b[38;5;66;03m# macOS\u001b[39;00m\n",
      "\u001b[0;31mFileNotFoundError\u001b[0m: [Errno 2] No such file or directory: 'path/to/your/file.txt'"
     ]
    }
   ],
   "source": [
    "import shutil\n",
    "import os\n",
    "\n",
    "def backup_and_delete(file_path):\n",
    "    backup_path = file_path + \".bak\"\n",
    "    shutil.copy(file_path, backup_path)  # Create a backup\n",
    "    os.remove(file_path)  # Delete the original file\n",
    "    print(f\"Backup created at {backup_path}\")\n",
    "\n",
    "# Usage\n",
    "file_path = 'path/to/your/file.txt'\n",
    "backup_and_delete(file_path)"
   ]
  },
  {
   "cell_type": "code",
   "execution_count": 189,
   "id": "ddd450db-272a-4798-81d7-957b0ce87fcf",
   "metadata": {},
   "outputs": [
    {
     "name": "stdout",
     "output_type": "stream",
     "text": [
      "safna\n"
     ]
    },
    {
     "ename": "ValueError",
     "evalue": "I/O operation on closed file.",
     "output_type": "error",
     "traceback": [
      "\u001b[0;31m---------------------------------------------------------------------------\u001b[0m",
      "\u001b[0;31mValueError\u001b[0m                                Traceback (most recent call last)",
      "Cell \u001b[0;32mIn[189], line 4\u001b[0m\n\u001b[1;32m      2\u001b[0m f\u001b[38;5;241m.\u001b[39mseek(\u001b[38;5;241m4\u001b[39m)\n\u001b[1;32m      3\u001b[0m \u001b[38;5;28mprint\u001b[39m(f\u001b[38;5;241m.\u001b[39mreadline())\n\u001b[0;32m----> 4\u001b[0m file\u001b[38;5;241m.\u001b[39mwrite(\u001b[38;5;124m'\u001b[39m\u001b[38;5;124msafna\u001b[39m\u001b[38;5;124m'\u001b[39m)\n\u001b[1;32m      5\u001b[0m f\u001b[38;5;241m.\u001b[39mclose()\n",
      "\u001b[0;31mValueError\u001b[0m: I/O operation on closed file."
     ]
    }
   ],
   "source": [
    "f = open(\"safna.txt\",\"r+\")\n",
    "f.seek(4)\n",
    "print(f.readline())\n",
    "file.write('safna')\n",
    "f.close()"
   ]
  },
  {
   "cell_type": "code",
   "execution_count": 191,
   "id": "6e1eef32-0e56-4c0d-a985-5a11757fcbf6",
   "metadata": {},
   "outputs": [
    {
     "name": "stdout",
     "output_type": "stream",
     "text": [
      "hai safna\n"
     ]
    }
   ],
   "source": [
    "f = open(\"safna.txt\", \"r+\")\n",
    "f.seek(4)  \n",
    "f.write(\"safna\")\n",
    "f.seek(0)\n",
    "print(f.read())"
   ]
  },
  {
   "cell_type": "code",
   "execution_count": 193,
   "id": "a391ea8f-0e3b-4685-a3c6-55ec0dee089c",
   "metadata": {},
   "outputs": [
    {
     "ename": "UnsupportedOperation",
     "evalue": "not readable",
     "output_type": "error",
     "traceback": [
      "\u001b[0;31m---------------------------------------------------------------------------\u001b[0m",
      "\u001b[0;31mUnsupportedOperation\u001b[0m                      Traceback (most recent call last)",
      "Cell \u001b[0;32mIn[193], line 4\u001b[0m\n\u001b[1;32m      2\u001b[0m f\u001b[38;5;241m.\u001b[39mwrite(\u001b[38;5;124m\"\u001b[39m\u001b[38;5;124mhai safna\u001b[39m\u001b[38;5;124m\"\u001b[39m)\n\u001b[1;32m      3\u001b[0m \u001b[38;5;66;03m# f.seek(5) \u001b[39;00m\n\u001b[0;32m----> 4\u001b[0m \u001b[38;5;28mprint\u001b[39m(f\u001b[38;5;241m.\u001b[39mread())\n\u001b[1;32m      5\u001b[0m f\u001b[38;5;241m.\u001b[39mclose()\n",
      "\u001b[0;31mUnsupportedOperation\u001b[0m: not readable"
     ]
    }
   ],
   "source": [
    "f = open(\"safna.txt\",\"w\")\n",
    "f.write(\"hai safna\")\n",
    "# f.seek(5) \n",
    "print(f.read())\n",
    "f.close()\n",
    "\n",
    "\n",
    "# f = open(\"safna.txt\", \"w\")\n",
    "# f.write(\"safna1\") \n",
    "# f.close()  \n",
    "\n",
    "# f = open(\"safna.txt\", \"r\")\n",
    "# print(f.read())  \n",
    "# f.close()  "
   ]
  },
  {
   "cell_type": "code",
   "execution_count": 160,
   "id": "bcab927c-f440-4bd5-8e1d-b6fd6670d05b",
   "metadata": {},
   "outputs": [],
   "source": [
    "f = open(\"Demo.txt\", \"w\")\n",
    "f.write(\"hai safna\")\n",
    "f.close()"
   ]
  },
  {
   "cell_type": "code",
   "execution_count": 211,
   "id": "ee3f3e76-48fc-46e4-8c45-a6bf00db2ece",
   "metadata": {},
   "outputs": [
    {
     "name": "stdout",
     "output_type": "stream",
     "text": [
      "hai\n",
      "hello\n",
      "welcome\n"
     ]
    }
   ],
   "source": [
    "f = open(\"exam.txt\",\"r\")\n",
    "print(f.read())"
   ]
  },
  {
   "cell_type": "code",
   "execution_count": 217,
   "id": "23bf3cc1-cfab-4d16-a19d-5f0496b1af89",
   "metadata": {},
   "outputs": [
    {
     "name": "stdout",
     "output_type": "stream",
     "text": [
      "hai\n"
     ]
    }
   ],
   "source": [
    "f = open(\"exam.txt\",\"r\")\n",
    "print(f.readline(3))"
   ]
  },
  {
   "cell_type": "code",
   "execution_count": 209,
   "id": "a1f7ab83-6dd1-4db0-8caf-87514506698b",
   "metadata": {},
   "outputs": [
    {
     "name": "stdout",
     "output_type": "stream",
     "text": [
      "hai\n",
      "\n",
      "hello\n",
      "\n",
      "welcome\n"
     ]
    }
   ],
   "source": [
    "f = open(\"exam.txt\",\"r\")\n",
    "print(f.readline())\n",
    "print(f.readline())\n",
    "print(f.readline())"
   ]
  },
  {
   "cell_type": "code",
   "execution_count": 252,
   "id": "e89f28e3-827d-4ef7-8124-c51ad48a8ba6",
   "metadata": {},
   "outputs": [],
   "source": [
    "f = open(\"exam.txt\",\"a\")\n",
    "f.write(\"Now we can add more content!\")\n",
    "f.close()"
   ]
  },
  {
   "cell_type": "code",
   "execution_count": 254,
   "id": "ca16b779-9048-45ef-96a9-e0bdff215d0e",
   "metadata": {},
   "outputs": [
    {
     "name": "stdout",
     "output_type": "stream",
     "text": [
      "hai\n",
      "hello\n",
      "welcome\n",
      "Now we can add more content!\n"
     ]
    }
   ],
   "source": [
    "f = open(\"exam.txt\",\"r\")\n",
    "print(f.read())"
   ]
  },
  {
   "cell_type": "code",
   "execution_count": 256,
   "id": "950e0339-347a-458d-9d9e-6dffd68a3093",
   "metadata": {},
   "outputs": [],
   "source": [
    "f = open(\"exam.txt\",\"w\")\n",
    "f.write(\"Yes.. I have deleted the content!\")\n",
    "f.close()"
   ]
  },
  {
   "cell_type": "code",
   "execution_count": 258,
   "id": "2b14c3c1-a861-4aa0-8a4c-af21d5e609b7",
   "metadata": {},
   "outputs": [
    {
     "name": "stdout",
     "output_type": "stream",
     "text": [
      "Yes.. I have deleted the content!\n"
     ]
    }
   ],
   "source": [
    "f = open(\"exam.txt\",\"r\")\n",
    "print(f.read())"
   ]
  },
  {
   "cell_type": "code",
   "execution_count": 260,
   "id": "cdb0b6e2-cbb7-425e-9a66-ed2e65554abd",
   "metadata": {},
   "outputs": [
    {
     "name": "stdout",
     "output_type": "stream",
     "text": [
      " have deleted the content!\n"
     ]
    }
   ],
   "source": [
    "f = open(\"exam.txt\",\"r\")\n",
    "f.seek(7)\n",
    "print(f.readline())"
   ]
  },
  {
   "cell_type": "code",
   "execution_count": 9,
   "id": "eb1088b6-e99c-4ead-b6ec-6987c096d647",
   "metadata": {},
   "outputs": [
    {
     "name": "stdout",
     "output_type": "stream",
     "text": [
      "Name of the file: exam.txt\n",
      "Read Line: Yes.. I have deleted the content!\n",
      "Curent Position: 33\n"
     ]
    }
   ],
   "source": [
    "f = open(\"exam.txt\",\"r\")\n",
    "print (\"Name of the file:\",f.name)\n",
    "line = f.readline()\n",
    "print (\"Read Line:\",line)\n",
    "pos = f.tell()\n",
    "print (\"Curent Position:\",pos)\n",
    "f.close()"
   ]
  },
  {
   "cell_type": "code",
   "execution_count": 13,
   "id": "d0b42367-f323-4be2-a946-acad874ee149",
   "metadata": {},
   "outputs": [
    {
     "name": "stdout",
     "output_type": "stream",
     "text": [
      "['deleted\\n', 'gd mng\\n', 'god is great']\n"
     ]
    }
   ],
   "source": [
    "def file_read(fname):\n",
    "    with open(fname) as f:\n",
    "        content_list = f.readlines()\n",
    "        print(content_list)\n",
    "file_read(\"hai.txt\")"
   ]
  },
  {
   "cell_type": "code",
   "execution_count": 17,
   "id": "16530837-c58c-463e-8534-e0115a66038e",
   "metadata": {},
   "outputs": [
    {
     "data": {
      "text/plain": [
       "'copy.txt'"
      ]
     },
     "execution_count": 17,
     "metadata": {},
     "output_type": "execute_result"
    }
   ],
   "source": [
    "from shutil import copyfile\n",
    "copyfile(\"hai.txt\",\"copy.txt\")"
   ]
  },
  {
   "cell_type": "code",
   "execution_count": 29,
   "id": "cd10b0b0-01d7-4e0c-8f19-e67ac82b0fc5",
   "metadata": {},
   "outputs": [
    {
     "name": "stdout",
     "output_type": "stream",
     "text": [
      "<class 'enumerate'>\n"
     ]
    }
   ],
   "source": [
    "days = {'Mon', 'Tue', 'Wed', 'Thu'}\n",
    "enum_days = enumerate(days)\n",
    "print (type(enum_days))"
   ]
  },
  {
   "cell_type": "code",
   "execution_count": 31,
   "id": "1f31a2b0-07fd-488a-8207-f93abf3a58fe",
   "metadata": {},
   "outputs": [
    {
     "name": "stdout",
     "output_type": "stream",
     "text": [
      "[(0, 'Thu'), (1, 'Wed'), (2, 'Mon'), (3, 'Tue')]\n"
     ]
    }
   ],
   "source": [
    "print (list(enum_days))"
   ]
  },
  {
   "cell_type": "code",
   "execution_count": 33,
   "id": "49771e80-28de-443f-8715-9ae7cc4095a4",
   "metadata": {},
   "outputs": [
    {
     "name": "stdout",
     "output_type": "stream",
     "text": [
      "[(5, 'Thu'), (6, 'Wed'), (7, 'Mon'), (8, 'Tue')]\n"
     ]
    }
   ],
   "source": [
    "enum_days = enumerate(days,5)\n",
    "print (list(enum_days))"
   ]
  },
  {
   "cell_type": "code",
   "execution_count": 35,
   "id": "3da06863-bfaa-4536-a1f9-a36d403096fb",
   "metadata": {},
   "outputs": [
    {
     "name": "stdout",
     "output_type": "stream",
     "text": [
      "(0, 'Thu')\n",
      "(1, 'Wed')\n",
      "(2, 'Mon')\n",
      "(3, 'Tue')\n"
     ]
    }
   ],
   "source": [
    "days = {'Mon', 'Tue', 'Wed', 'Thu'}\n",
    "for enum_days in enumerate(days):\n",
    "    print (enum_days)   "
   ]
  },
  {
   "cell_type": "code",
   "execution_count": 37,
   "id": "2cbaf4c4-4d78-4edd-bc79-93e2f0f2b8ca",
   "metadata": {},
   "outputs": [
    {
     "name": "stdout",
     "output_type": "stream",
     "text": [
      "5 Thu\n",
      "6 Wed\n",
      "7 Mon\n",
      "8 Tue\n"
     ]
    }
   ],
   "source": [
    "for count, enum_days in enumerate(days,5):\n",
    "    print (count, enum_days)"
   ]
  },
  {
   "cell_type": "code",
   "execution_count": 39,
   "id": "2c65f39f-4674-4d34-830f-8461f4185e97",
   "metadata": {},
   "outputs": [
    {
     "name": "stdout",
     "output_type": "stream",
     "text": [
      "Number of lines in the file: 3\n"
     ]
    }
   ],
   "source": [
    "def file_length(fname):\n",
    "    with open(fname) as f:\n",
    "        for i, val in enumerate(f):\n",
    "            pass\n",
    "    return i+1\n",
    "print(\"Number of lines in the file:\", file_length(\"hai.txt\"))"
   ]
  }
 ],
 "metadata": {
  "kernelspec": {
   "display_name": "Python [conda env:base] *",
   "language": "python",
   "name": "conda-base-py"
  },
  "language_info": {
   "codemirror_mode": {
    "name": "ipython",
    "version": 3
   },
   "file_extension": ".py",
   "mimetype": "text/x-python",
   "name": "python",
   "nbconvert_exporter": "python",
   "pygments_lexer": "ipython3",
   "version": "3.11.5"
  }
 },
 "nbformat": 4,
 "nbformat_minor": 5
}
